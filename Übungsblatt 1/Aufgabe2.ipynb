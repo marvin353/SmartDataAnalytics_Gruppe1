{
 "cells": [
  {
   "cell_type": "code",
   "execution_count": 1,
   "metadata": {},
   "outputs": [],
   "source": [
    "# Import required Packets\n",
    "import pandas as pd\n",
    "import numpy as np\n",
    "from collections import Counter\n",
    "import matplotlib.pyplot as plt\n",
    "import sklearn\n",
    "import statistics\n",
    "import math\n",
    "import seaborn as sns"
   ]
  },
  {
   "cell_type": "markdown",
   "metadata": {},
   "source": [
    "#### Counter provides a method defined as .most_common([n]). This method returns a list of two-items tuples with the n more common elements and their respective counts. If n is omitted or None, then .most_common() returns all of the elements.\n"
   ]
  },
  {
   "cell_type": "markdown",
   "metadata": {},
   "source": [
    "# a) "
   ]
  },
  {
   "cell_type": "code",
   "execution_count": 2,
   "metadata": {},
   "outputs": [],
   "source": [
    "#Load the Dataset from CSV files\n",
    "df = pd.read_csv('Bodyfat.csv')"
   ]
  },
  {
   "cell_type": "code",
   "execution_count": 3,
   "metadata": {
    "scrolled": true
   },
   "outputs": [
    {
     "data": {
      "text/html": [
       "<div>\n",
       "<style scoped>\n",
       "    .dataframe tbody tr th:only-of-type {\n",
       "        vertical-align: middle;\n",
       "    }\n",
       "\n",
       "    .dataframe tbody tr th {\n",
       "        vertical-align: top;\n",
       "    }\n",
       "\n",
       "    .dataframe thead th {\n",
       "        text-align: right;\n",
       "    }\n",
       "</style>\n",
       "<table border=\"1\" class=\"dataframe\">\n",
       "  <thead>\n",
       "    <tr style=\"text-align: right;\">\n",
       "      <th></th>\n",
       "      <th>Density</th>\n",
       "      <th>bodyfat</th>\n",
       "      <th>Age</th>\n",
       "      <th>Weight</th>\n",
       "      <th>Height</th>\n",
       "      <th>Neck</th>\n",
       "      <th>Chest</th>\n",
       "      <th>Abdomen</th>\n",
       "      <th>Hip</th>\n",
       "      <th>Thigh</th>\n",
       "      <th>Knee</th>\n",
       "      <th>Ankle</th>\n",
       "      <th>Biceps</th>\n",
       "      <th>Forearm</th>\n",
       "      <th>Wrist</th>\n",
       "    </tr>\n",
       "  </thead>\n",
       "  <tbody>\n",
       "    <tr>\n",
       "      <th>0</th>\n",
       "      <td>1.0708</td>\n",
       "      <td>12.3</td>\n",
       "      <td>23</td>\n",
       "      <td>154.25</td>\n",
       "      <td>67.75</td>\n",
       "      <td>36.2</td>\n",
       "      <td>93.1</td>\n",
       "      <td>85.2</td>\n",
       "      <td>94.5</td>\n",
       "      <td>59.0</td>\n",
       "      <td>37.3</td>\n",
       "      <td>21.9</td>\n",
       "      <td>32.0</td>\n",
       "      <td>27.4</td>\n",
       "      <td>17.1</td>\n",
       "    </tr>\n",
       "    <tr>\n",
       "      <th>1</th>\n",
       "      <td>1.0853</td>\n",
       "      <td>6.1</td>\n",
       "      <td>22</td>\n",
       "      <td>173.25</td>\n",
       "      <td>72.25</td>\n",
       "      <td>38.5</td>\n",
       "      <td>93.6</td>\n",
       "      <td>83.0</td>\n",
       "      <td>98.7</td>\n",
       "      <td>58.7</td>\n",
       "      <td>37.3</td>\n",
       "      <td>23.4</td>\n",
       "      <td>30.5</td>\n",
       "      <td>28.9</td>\n",
       "      <td>18.2</td>\n",
       "    </tr>\n",
       "    <tr>\n",
       "      <th>2</th>\n",
       "      <td>1.0414</td>\n",
       "      <td>25.3</td>\n",
       "      <td>22</td>\n",
       "      <td>154.00</td>\n",
       "      <td>66.25</td>\n",
       "      <td>34.0</td>\n",
       "      <td>95.8</td>\n",
       "      <td>87.9</td>\n",
       "      <td>99.2</td>\n",
       "      <td>59.6</td>\n",
       "      <td>38.9</td>\n",
       "      <td>24.0</td>\n",
       "      <td>28.8</td>\n",
       "      <td>25.2</td>\n",
       "      <td>16.6</td>\n",
       "    </tr>\n",
       "    <tr>\n",
       "      <th>3</th>\n",
       "      <td>1.0751</td>\n",
       "      <td>10.4</td>\n",
       "      <td>26</td>\n",
       "      <td>184.75</td>\n",
       "      <td>72.25</td>\n",
       "      <td>37.4</td>\n",
       "      <td>101.8</td>\n",
       "      <td>86.4</td>\n",
       "      <td>101.2</td>\n",
       "      <td>60.1</td>\n",
       "      <td>37.3</td>\n",
       "      <td>22.8</td>\n",
       "      <td>32.4</td>\n",
       "      <td>29.4</td>\n",
       "      <td>18.2</td>\n",
       "    </tr>\n",
       "    <tr>\n",
       "      <th>4</th>\n",
       "      <td>1.0340</td>\n",
       "      <td>28.7</td>\n",
       "      <td>24</td>\n",
       "      <td>184.25</td>\n",
       "      <td>71.25</td>\n",
       "      <td>34.4</td>\n",
       "      <td>97.3</td>\n",
       "      <td>100.0</td>\n",
       "      <td>101.9</td>\n",
       "      <td>63.2</td>\n",
       "      <td>42.2</td>\n",
       "      <td>24.0</td>\n",
       "      <td>32.2</td>\n",
       "      <td>27.7</td>\n",
       "      <td>17.7</td>\n",
       "    </tr>\n",
       "  </tbody>\n",
       "</table>\n",
       "</div>"
      ],
      "text/plain": [
       "   Density  bodyfat  Age  Weight  Height  Neck  Chest  Abdomen    Hip  Thigh  \\\n",
       "0   1.0708     12.3   23  154.25   67.75  36.2   93.1     85.2   94.5   59.0   \n",
       "1   1.0853      6.1   22  173.25   72.25  38.5   93.6     83.0   98.7   58.7   \n",
       "2   1.0414     25.3   22  154.00   66.25  34.0   95.8     87.9   99.2   59.6   \n",
       "3   1.0751     10.4   26  184.75   72.25  37.4  101.8     86.4  101.2   60.1   \n",
       "4   1.0340     28.7   24  184.25   71.25  34.4   97.3    100.0  101.9   63.2   \n",
       "\n",
       "   Knee  Ankle  Biceps  Forearm  Wrist  \n",
       "0  37.3   21.9    32.0     27.4   17.1  \n",
       "1  37.3   23.4    30.5     28.9   18.2  \n",
       "2  38.9   24.0    28.8     25.2   16.6  \n",
       "3  37.3   22.8    32.4     29.4   18.2  \n",
       "4  42.2   24.0    32.2     27.7   17.7  "
      ]
     },
     "execution_count": 3,
     "metadata": {},
     "output_type": "execute_result"
    }
   ],
   "source": [
    "df.head()"
   ]
  },
  {
   "cell_type": "code",
   "execution_count": 4,
   "metadata": {},
   "outputs": [
    {
     "data": {
      "text/plain": [
       "(252, 15)"
      ]
     },
     "execution_count": 4,
     "metadata": {},
     "output_type": "execute_result"
    }
   ],
   "source": [
    "df.shape"
   ]
  },
  {
   "cell_type": "code",
   "execution_count": 5,
   "metadata": {},
   "outputs": [],
   "source": [
    "# Durchschnitt:1 sum() / len()\n",
    "def mean1(df):\n",
    "    # get the number of columns\n",
    "    shape = df.shape\n",
    "    shape[1]\n",
    "    total = 0\n",
    "    mean_l = []\n",
    "    for i in df.iloc[:,0:shape[1]]:\n",
    "        total = sum(df[i])\n",
    "        mean = total / len(df[i])\n",
    "        mean_l.append(mean)\n",
    "    return mean_l"
   ]
  },
  {
   "cell_type": "code",
   "execution_count": 6,
   "metadata": {},
   "outputs": [
    {
     "data": {
      "text/plain": [
       "[1.055573809523809,\n",
       " 19.15079365079365,\n",
       " 44.88492063492063,\n",
       " 178.92440476190478,\n",
       " 70.14880952380952,\n",
       " 37.99206349206346,\n",
       " 100.82420634920639,\n",
       " 92.55595238095235,\n",
       " 99.90476190476186,\n",
       " 59.405952380952364,\n",
       " 38.59047619047622,\n",
       " 23.10238095238097,\n",
       " 32.273412698412706,\n",
       " 28.663888888888888,\n",
       " 18.229761904761904]"
      ]
     },
     "execution_count": 6,
     "metadata": {},
     "output_type": "execute_result"
    }
   ],
   "source": [
    "mean1(df)"
   ]
  },
  {
   "cell_type": "code",
   "execution_count": 7,
   "metadata": {},
   "outputs": [],
   "source": [
    "# Durchschnitt:2 statistics.mean()\n",
    "def mean2(df):\n",
    "    # get the number of columns\n",
    "    shape = df.shape\n",
    "    shape[1]\n",
    "    mean_l = []\n",
    "    for i in df.iloc[:,0:shape[1]]:\n",
    "        m = statistics.mean(df[i])\n",
    "        mean_l.append(m)\n",
    "    return mean_l"
   ]
  },
  {
   "cell_type": "code",
   "execution_count": 8,
   "metadata": {},
   "outputs": [
    {
     "data": {
      "text/plain": [
       "[1.0555738095238094,\n",
       " 19.150793650793652,\n",
       " 44.88492063492063,\n",
       " 178.92440476190475,\n",
       " 70.14880952380952,\n",
       " 37.992063492063494,\n",
       " 100.82420634920635,\n",
       " 92.55595238095238,\n",
       " 99.9047619047619,\n",
       " 59.40595238095238,\n",
       " 38.59047619047619,\n",
       " 23.10238095238095,\n",
       " 32.2734126984127,\n",
       " 28.663888888888888,\n",
       " 18.229761904761904]"
      ]
     },
     "execution_count": 8,
     "metadata": {},
     "output_type": "execute_result"
    }
   ],
   "source": [
    "mean2(df)"
   ]
  },
  {
   "cell_type": "markdown",
   "metadata": {},
   "source": [
    "### -----------------------------------------------------------------------------------"
   ]
  },
  {
   "cell_type": "code",
   "execution_count": 9,
   "metadata": {},
   "outputs": [],
   "source": [
    "# Median: sorted() odd number and even number\n",
    "def median1(df):\n",
    "    shape = df.shape\n",
    "    shape[1]\n",
    "    median_l = []\n",
    "    for i in df.iloc[:,0:shape[1]]:\n",
    "        df[i] = sorted(df[i])\n",
    "        if len(df[i]) % 2 != 0: # odd number\n",
    "            median = df.iloc[int(len(df[i])/2)]\n",
    "        else: # even number\n",
    "            median = df.iloc[int(len(df[i])/2) -1] + df.iloc[int(len(df[i])/2)]\n",
    "            median = median / 2\n",
    "    median_l.append(median)\n",
    "    return median_l"
   ]
  },
  {
   "cell_type": "code",
   "execution_count": 10,
   "metadata": {},
   "outputs": [
    {
     "data": {
      "text/plain": [
       "[Density      1.0549\n",
       " bodyfat     19.2000\n",
       " Age         43.0000\n",
       " Weight     176.5000\n",
       " Height      70.0000\n",
       " Neck        38.0000\n",
       " Chest       99.6500\n",
       " Abdomen     90.9500\n",
       " Hip         99.3000\n",
       " Thigh       59.0000\n",
       " Knee        38.5000\n",
       " Ankle       22.8000\n",
       " Biceps      32.0500\n",
       " Forearm     28.7000\n",
       " Wrist       18.3000\n",
       " dtype: float64]"
      ]
     },
     "execution_count": 10,
     "metadata": {},
     "output_type": "execute_result"
    }
   ],
   "source": [
    "median1(df)"
   ]
  },
  {
   "cell_type": "code",
   "execution_count": 11,
   "metadata": {},
   "outputs": [],
   "source": [
    "# Median: median()\n",
    "def median2(df):\n",
    "    shape = df.shape\n",
    "    shape[1]\n",
    "    median_l = []\n",
    "    for i in df.iloc[:,0:shape[1]]:\n",
    "        median = statistics.median(df[i])\n",
    "        median_l.append(median)\n",
    "    return median_l"
   ]
  },
  {
   "cell_type": "code",
   "execution_count": 12,
   "metadata": {},
   "outputs": [
    {
     "data": {
      "text/plain": [
       "[1.0549,\n",
       " 19.2,\n",
       " 43.0,\n",
       " 176.5,\n",
       " 70.0,\n",
       " 38.0,\n",
       " 99.65,\n",
       " 90.95,\n",
       " 99.3,\n",
       " 59.0,\n",
       " 38.5,\n",
       " 22.8,\n",
       " 32.05,\n",
       " 28.7,\n",
       " 18.3]"
      ]
     },
     "execution_count": 12,
     "metadata": {},
     "output_type": "execute_result"
    }
   ],
   "source": [
    "median2(df)"
   ]
  },
  {
   "cell_type": "markdown",
   "metadata": {},
   "source": [
    "### ----------------------------------------------------------------------------"
   ]
  },
  {
   "cell_type": "code",
   "execution_count": 13,
   "metadata": {},
   "outputs": [],
   "source": [
    "# Quantil: q1-25%, q2-50%, q3-75%\n",
    "def quantil1(df):\n",
    "    shape = df.shape\n",
    "    shape[1]\n",
    "    q1_l = []\n",
    "    q2_l = []\n",
    "    q3_l = []\n",
    "    for i in df.iloc[:,0:shape[1]]:\n",
    "        df[i] = sorted(df[i])\n",
    "        q1 = df.loc[len(df[i]) * 0.25,i]\n",
    "        q2 = df.loc[len(df[i]) * 0.5,i]\n",
    "        q3 = df.loc[len(df[i]) * 0.75,i]\n",
    "        q1_l.append(q1)\n",
    "        q2_l.append(q2)\n",
    "        q3_l.append(q3)\n",
    "    return [q1_l, \n",
    "            q2_l, \n",
    "            q3_l]"
   ]
  },
  {
   "cell_type": "code",
   "execution_count": 14,
   "metadata": {},
   "outputs": [
    {
     "data": {
      "text/plain": [
       "[[1.0414,\n",
       "  12.5,\n",
       "  36,\n",
       "  159.25,\n",
       "  68.25,\n",
       "  36.4,\n",
       "  94.4,\n",
       "  84.6,\n",
       "  95.5,\n",
       "  56.0,\n",
       "  37.0,\n",
       "  22.0,\n",
       "  30.2,\n",
       "  27.3,\n",
       "  17.6],\n",
       " [1.0549,\n",
       "  19.2,\n",
       "  43,\n",
       "  176.75,\n",
       "  70.0,\n",
       "  38.0,\n",
       "  99.7,\n",
       "  91.0,\n",
       "  99.3,\n",
       "  59.0,\n",
       "  38.5,\n",
       "  22.8,\n",
       "  32.1,\n",
       "  28.7,\n",
       "  18.3],\n",
       " [1.0704,\n",
       "  25.3,\n",
       "  54,\n",
       "  197.0,\n",
       "  72.25,\n",
       "  39.5,\n",
       "  105.6,\n",
       "  99.7,\n",
       "  103.6,\n",
       "  62.5,\n",
       "  40.0,\n",
       "  24.0,\n",
       "  34.4,\n",
       "  30.0,\n",
       "  18.8]]"
      ]
     },
     "execution_count": 14,
     "metadata": {},
     "output_type": "execute_result"
    }
   ],
   "source": [
    "quantil1(df)"
   ]
  },
  {
   "cell_type": "code",
   "execution_count": 15,
   "metadata": {},
   "outputs": [],
   "source": [
    "# Quantil: q1-25%, q2-50%, q3-75%\n",
    "def quantil2(df):\n",
    "    shape = df.shape\n",
    "    q1_l = []\n",
    "    q2_l = []\n",
    "    q3_l = []\n",
    "    for i in df.iloc[:,0:shape[1]]:\n",
    "        q1 = np.quantile(df[i], .25)\n",
    "        q2 = np.quantile(df[i], .50)\n",
    "        q3 = np.quantile(df[i], .75)\n",
    "        q1_l.append(q1)\n",
    "        q2_l.append(q2)\n",
    "        q3_l.append(q3)\n",
    "    return [q1_l, q2_l, q3_l]"
   ]
  },
  {
   "cell_type": "code",
   "execution_count": 16,
   "metadata": {
    "scrolled": false
   },
   "outputs": [
    {
     "data": {
      "text/plain": [
       "[[1.0414,\n",
       "  12.475,\n",
       "  35.75,\n",
       "  159.0,\n",
       "  68.25,\n",
       "  36.4,\n",
       "  94.35000000000001,\n",
       "  84.57499999999999,\n",
       "  95.5,\n",
       "  56.0,\n",
       "  36.975,\n",
       "  22.0,\n",
       "  30.2,\n",
       "  27.3,\n",
       "  17.6],\n",
       " [1.0549,\n",
       "  19.2,\n",
       "  43.0,\n",
       "  176.5,\n",
       "  70.0,\n",
       "  38.0,\n",
       "  99.65,\n",
       "  90.95,\n",
       "  99.3,\n",
       "  59.0,\n",
       "  38.5,\n",
       "  22.8,\n",
       "  32.05,\n",
       "  28.7,\n",
       "  18.3],\n",
       " [1.0704,\n",
       "  25.3,\n",
       "  54.0,\n",
       "  197.0,\n",
       "  72.25,\n",
       "  39.425,\n",
       "  105.375,\n",
       "  99.325,\n",
       "  103.525,\n",
       "  62.349999999999994,\n",
       "  39.925,\n",
       "  24.0,\n",
       "  34.324999999999996,\n",
       "  30.0,\n",
       "  18.8]]"
      ]
     },
     "execution_count": 16,
     "metadata": {},
     "output_type": "execute_result"
    }
   ],
   "source": [
    "quantil2(df)"
   ]
  },
  {
   "cell_type": "markdown",
   "metadata": {},
   "source": [
    "### -----------------------------------------------------------------------------"
   ]
  },
  {
   "cell_type": "code",
   "execution_count": 17,
   "metadata": {},
   "outputs": [],
   "source": [
    "# Modus most frequently occur mode() function statistics.mode() takes some data and returns its (first) mode\n",
    "def mode1(df):\n",
    "    l = []\n",
    "    for i in df:\n",
    "        if (len(set(df[i])) == len(df[i])):\n",
    "            num = -1\n",
    "            return num\n",
    "        else:\n",
    "            m = statistics.mode(df[i])\n",
    "            l.append(m)\n",
    "    return l"
   ]
  },
  {
   "cell_type": "code",
   "execution_count": 18,
   "metadata": {},
   "outputs": [
    {
     "data": {
      "text/plain": [
       "[1.061,\n",
       " 20.4,\n",
       " 40,\n",
       " 152.25,\n",
       " 71.5,\n",
       " 38.5,\n",
       " 99.1,\n",
       " 88.7,\n",
       " 98.3,\n",
       " 58.9,\n",
       " 39.0,\n",
       " 22.0,\n",
       " 30.5,\n",
       " 27.3,\n",
       " 18.8]"
      ]
     },
     "execution_count": 18,
     "metadata": {},
     "output_type": "execute_result"
    }
   ],
   "source": [
    "mode1(df) "
   ]
  },
  {
   "cell_type": "code",
   "execution_count": 19,
   "metadata": {},
   "outputs": [
    {
     "data": {
      "text/plain": [
       "22.5"
      ]
     },
     "execution_count": 19,
     "metadata": {},
     "output_type": "execute_result"
    }
   ],
   "source": [
    "# example\n",
    "q = [22.5, 22.6, 22.5, 22.6, 22.0, 22.0]\n",
    "statistics.mode(q)"
   ]
  },
  {
   "cell_type": "code",
   "execution_count": 20,
   "metadata": {},
   "outputs": [],
   "source": [
    "# multimode can return most common value \n",
    "def mode2(df):\n",
    "    l = []\n",
    "    for i in df:\n",
    "        if (len(set(df[i])) == len(df[i])):\n",
    "            num = -1\n",
    "            return num\n",
    "        else:\n",
    "            m = statistics.multimode(df[i])\n",
    "            l.append(m)\n",
    "    return l    "
   ]
  },
  {
   "cell_type": "code",
   "execution_count": 21,
   "metadata": {},
   "outputs": [
    {
     "data": {
      "text/plain": [
       "[[1.061],\n",
       " [20.4],\n",
       " [40],\n",
       " [152.25, 167.0, 168.0, 168.25, 170.75, 172.75, 177.25, 179.75, 184.25],\n",
       " [71.5],\n",
       " [38.5],\n",
       " [99.1, 102.7],\n",
       " [88.7, 89.7, 100.5],\n",
       " [98.3],\n",
       " [58.9],\n",
       " [39.0],\n",
       " [22.0, 22.5, 22.6],\n",
       " [30.5, 31.6],\n",
       " [27.3, 29.6, 29.8],\n",
       " [18.8]]"
      ]
     },
     "execution_count": 21,
     "metadata": {},
     "output_type": "execute_result"
    }
   ],
   "source": [
    "mode2(df)"
   ]
  },
  {
   "cell_type": "code",
   "execution_count": 22,
   "metadata": {},
   "outputs": [],
   "source": [
    "# The Counter class provides a method defined as .most_common([n]). This method returns a list of two-items tuples with the n more common elements and their respective counts. If n is omitted or None, then .most_common() returns all of the elements.\n",
    "def mode3(df):\n",
    "    mode_l = []\n",
    "    for i in df:\n",
    "        c = Counter(df[i])\n",
    "        l = [k for k, v in c.items() if v == c.most_common(1)[0][1]]\n",
    "        mode_l.append(l)\n",
    "    return mode_l"
   ]
  },
  {
   "cell_type": "code",
   "execution_count": 23,
   "metadata": {},
   "outputs": [
    {
     "data": {
      "text/plain": [
       "[[1.061],\n",
       " [20.4],\n",
       " [40],\n",
       " [152.25, 167.0, 168.0, 168.25, 170.75, 172.75, 177.25, 179.75, 184.25],\n",
       " [71.5],\n",
       " [38.5],\n",
       " [99.1, 102.7],\n",
       " [88.7, 89.7, 100.5],\n",
       " [98.3],\n",
       " [58.9],\n",
       " [39.0],\n",
       " [22.0, 22.5, 22.6],\n",
       " [30.5, 31.6],\n",
       " [27.3, 29.6, 29.8],\n",
       " [18.8]]"
      ]
     },
     "execution_count": 23,
     "metadata": {},
     "output_type": "execute_result"
    }
   ],
   "source": [
    "mode3(df)"
   ]
  },
  {
   "cell_type": "markdown",
   "metadata": {},
   "source": [
    "### ---------------------------------------------------------------------------------- "
   ]
  },
  {
   "cell_type": "code",
   "execution_count": 24,
   "metadata": {},
   "outputs": [],
   "source": [
    "# max - min\n",
    "def span(df):\n",
    "    l_span = []\n",
    "    for x in df:\n",
    "        l_max = max(df[x])\n",
    "        l_min = min(df[x])\n",
    "        span = l_max - l_min\n",
    "        l_span.append(span)\n",
    "    return l_span"
   ]
  },
  {
   "cell_type": "code",
   "execution_count": 25,
   "metadata": {},
   "outputs": [
    {
     "data": {
      "text/plain": [
       "[0.1139,\n",
       " 47.5,\n",
       " 59,\n",
       " 244.64999999999998,\n",
       " 48.25,\n",
       " 20.1,\n",
       " 56.89999999999999,\n",
       " 78.69999999999999,\n",
       " 62.69999999999999,\n",
       " 40.099999999999994,\n",
       " 16.1,\n",
       " 14.799999999999997,\n",
       " 20.2,\n",
       " 13.899999999999999,\n",
       " 5.599999999999998]"
      ]
     },
     "execution_count": 25,
     "metadata": {},
     "output_type": "execute_result"
    }
   ],
   "source": [
    "span(df)"
   ]
  },
  {
   "cell_type": "markdown",
   "metadata": {},
   "source": [
    "### ----------------------------------------------------------------------------------"
   ]
  },
  {
   "cell_type": "markdown",
   "metadata": {},
   "source": [
    "### möglich Visualisierung"
   ]
  },
  {
   "cell_type": "code",
   "execution_count": 26,
   "metadata": {},
   "outputs": [
    {
     "data": {
      "text/html": [
       "<div>\n",
       "<style scoped>\n",
       "    .dataframe tbody tr th:only-of-type {\n",
       "        vertical-align: middle;\n",
       "    }\n",
       "\n",
       "    .dataframe tbody tr th {\n",
       "        vertical-align: top;\n",
       "    }\n",
       "\n",
       "    .dataframe thead th {\n",
       "        text-align: right;\n",
       "    }\n",
       "</style>\n",
       "<table border=\"1\" class=\"dataframe\">\n",
       "  <thead>\n",
       "    <tr style=\"text-align: right;\">\n",
       "      <th></th>\n",
       "      <th>Density</th>\n",
       "      <th>bodyfat</th>\n",
       "      <th>Age</th>\n",
       "      <th>Weight</th>\n",
       "      <th>Height</th>\n",
       "      <th>Neck</th>\n",
       "      <th>Chest</th>\n",
       "      <th>Abdomen</th>\n",
       "      <th>Hip</th>\n",
       "      <th>Thigh</th>\n",
       "      <th>Knee</th>\n",
       "      <th>Ankle</th>\n",
       "      <th>Biceps</th>\n",
       "      <th>Forearm</th>\n",
       "      <th>Wrist</th>\n",
       "    </tr>\n",
       "  </thead>\n",
       "  <tbody>\n",
       "    <tr>\n",
       "      <th>count</th>\n",
       "      <td>252.000000</td>\n",
       "      <td>252.000000</td>\n",
       "      <td>252.000000</td>\n",
       "      <td>252.000000</td>\n",
       "      <td>252.000000</td>\n",
       "      <td>252.000000</td>\n",
       "      <td>252.000000</td>\n",
       "      <td>252.000000</td>\n",
       "      <td>252.000000</td>\n",
       "      <td>252.000000</td>\n",
       "      <td>252.000000</td>\n",
       "      <td>252.000000</td>\n",
       "      <td>252.000000</td>\n",
       "      <td>252.000000</td>\n",
       "      <td>252.000000</td>\n",
       "    </tr>\n",
       "    <tr>\n",
       "      <th>mean</th>\n",
       "      <td>1.055574</td>\n",
       "      <td>19.150794</td>\n",
       "      <td>44.884921</td>\n",
       "      <td>178.924405</td>\n",
       "      <td>70.148810</td>\n",
       "      <td>37.992063</td>\n",
       "      <td>100.824206</td>\n",
       "      <td>92.555952</td>\n",
       "      <td>99.904762</td>\n",
       "      <td>59.405952</td>\n",
       "      <td>38.590476</td>\n",
       "      <td>23.102381</td>\n",
       "      <td>32.273413</td>\n",
       "      <td>28.663889</td>\n",
       "      <td>18.229762</td>\n",
       "    </tr>\n",
       "    <tr>\n",
       "      <th>std</th>\n",
       "      <td>0.019031</td>\n",
       "      <td>8.368740</td>\n",
       "      <td>12.602040</td>\n",
       "      <td>29.389160</td>\n",
       "      <td>3.662856</td>\n",
       "      <td>2.430913</td>\n",
       "      <td>8.430476</td>\n",
       "      <td>10.783077</td>\n",
       "      <td>7.164058</td>\n",
       "      <td>5.249952</td>\n",
       "      <td>2.411805</td>\n",
       "      <td>1.694893</td>\n",
       "      <td>3.021274</td>\n",
       "      <td>2.020691</td>\n",
       "      <td>0.933585</td>\n",
       "    </tr>\n",
       "    <tr>\n",
       "      <th>min</th>\n",
       "      <td>0.995000</td>\n",
       "      <td>0.000000</td>\n",
       "      <td>22.000000</td>\n",
       "      <td>118.500000</td>\n",
       "      <td>29.500000</td>\n",
       "      <td>31.100000</td>\n",
       "      <td>79.300000</td>\n",
       "      <td>69.400000</td>\n",
       "      <td>85.000000</td>\n",
       "      <td>47.200000</td>\n",
       "      <td>33.000000</td>\n",
       "      <td>19.100000</td>\n",
       "      <td>24.800000</td>\n",
       "      <td>21.000000</td>\n",
       "      <td>15.800000</td>\n",
       "    </tr>\n",
       "    <tr>\n",
       "      <th>25%</th>\n",
       "      <td>1.041400</td>\n",
       "      <td>12.475000</td>\n",
       "      <td>35.750000</td>\n",
       "      <td>159.000000</td>\n",
       "      <td>68.250000</td>\n",
       "      <td>36.400000</td>\n",
       "      <td>94.350000</td>\n",
       "      <td>84.575000</td>\n",
       "      <td>95.500000</td>\n",
       "      <td>56.000000</td>\n",
       "      <td>36.975000</td>\n",
       "      <td>22.000000</td>\n",
       "      <td>30.200000</td>\n",
       "      <td>27.300000</td>\n",
       "      <td>17.600000</td>\n",
       "    </tr>\n",
       "    <tr>\n",
       "      <th>50%</th>\n",
       "      <td>1.054900</td>\n",
       "      <td>19.200000</td>\n",
       "      <td>43.000000</td>\n",
       "      <td>176.500000</td>\n",
       "      <td>70.000000</td>\n",
       "      <td>38.000000</td>\n",
       "      <td>99.650000</td>\n",
       "      <td>90.950000</td>\n",
       "      <td>99.300000</td>\n",
       "      <td>59.000000</td>\n",
       "      <td>38.500000</td>\n",
       "      <td>22.800000</td>\n",
       "      <td>32.050000</td>\n",
       "      <td>28.700000</td>\n",
       "      <td>18.300000</td>\n",
       "    </tr>\n",
       "    <tr>\n",
       "      <th>75%</th>\n",
       "      <td>1.070400</td>\n",
       "      <td>25.300000</td>\n",
       "      <td>54.000000</td>\n",
       "      <td>197.000000</td>\n",
       "      <td>72.250000</td>\n",
       "      <td>39.425000</td>\n",
       "      <td>105.375000</td>\n",
       "      <td>99.325000</td>\n",
       "      <td>103.525000</td>\n",
       "      <td>62.350000</td>\n",
       "      <td>39.925000</td>\n",
       "      <td>24.000000</td>\n",
       "      <td>34.325000</td>\n",
       "      <td>30.000000</td>\n",
       "      <td>18.800000</td>\n",
       "    </tr>\n",
       "    <tr>\n",
       "      <th>max</th>\n",
       "      <td>1.108900</td>\n",
       "      <td>47.500000</td>\n",
       "      <td>81.000000</td>\n",
       "      <td>363.150000</td>\n",
       "      <td>77.750000</td>\n",
       "      <td>51.200000</td>\n",
       "      <td>136.200000</td>\n",
       "      <td>148.100000</td>\n",
       "      <td>147.700000</td>\n",
       "      <td>87.300000</td>\n",
       "      <td>49.100000</td>\n",
       "      <td>33.900000</td>\n",
       "      <td>45.000000</td>\n",
       "      <td>34.900000</td>\n",
       "      <td>21.400000</td>\n",
       "    </tr>\n",
       "  </tbody>\n",
       "</table>\n",
       "</div>"
      ],
      "text/plain": [
       "          Density     bodyfat         Age      Weight      Height        Neck  \\\n",
       "count  252.000000  252.000000  252.000000  252.000000  252.000000  252.000000   \n",
       "mean     1.055574   19.150794   44.884921  178.924405   70.148810   37.992063   \n",
       "std      0.019031    8.368740   12.602040   29.389160    3.662856    2.430913   \n",
       "min      0.995000    0.000000   22.000000  118.500000   29.500000   31.100000   \n",
       "25%      1.041400   12.475000   35.750000  159.000000   68.250000   36.400000   \n",
       "50%      1.054900   19.200000   43.000000  176.500000   70.000000   38.000000   \n",
       "75%      1.070400   25.300000   54.000000  197.000000   72.250000   39.425000   \n",
       "max      1.108900   47.500000   81.000000  363.150000   77.750000   51.200000   \n",
       "\n",
       "            Chest     Abdomen         Hip       Thigh        Knee       Ankle  \\\n",
       "count  252.000000  252.000000  252.000000  252.000000  252.000000  252.000000   \n",
       "mean   100.824206   92.555952   99.904762   59.405952   38.590476   23.102381   \n",
       "std      8.430476   10.783077    7.164058    5.249952    2.411805    1.694893   \n",
       "min     79.300000   69.400000   85.000000   47.200000   33.000000   19.100000   \n",
       "25%     94.350000   84.575000   95.500000   56.000000   36.975000   22.000000   \n",
       "50%     99.650000   90.950000   99.300000   59.000000   38.500000   22.800000   \n",
       "75%    105.375000   99.325000  103.525000   62.350000   39.925000   24.000000   \n",
       "max    136.200000  148.100000  147.700000   87.300000   49.100000   33.900000   \n",
       "\n",
       "           Biceps     Forearm       Wrist  \n",
       "count  252.000000  252.000000  252.000000  \n",
       "mean    32.273413   28.663889   18.229762  \n",
       "std      3.021274    2.020691    0.933585  \n",
       "min     24.800000   21.000000   15.800000  \n",
       "25%     30.200000   27.300000   17.600000  \n",
       "50%     32.050000   28.700000   18.300000  \n",
       "75%     34.325000   30.000000   18.800000  \n",
       "max     45.000000   34.900000   21.400000  "
      ]
     },
     "execution_count": 26,
     "metadata": {},
     "output_type": "execute_result"
    }
   ],
   "source": [
    "df.describe()"
   ]
  },
  {
   "cell_type": "code",
   "execution_count": 27,
   "metadata": {},
   "outputs": [
    {
     "data": {
      "text/html": [
       "<div>\n",
       "<style scoped>\n",
       "    .dataframe tbody tr th:only-of-type {\n",
       "        vertical-align: middle;\n",
       "    }\n",
       "\n",
       "    .dataframe tbody tr th {\n",
       "        vertical-align: top;\n",
       "    }\n",
       "\n",
       "    .dataframe thead th {\n",
       "        text-align: right;\n",
       "    }\n",
       "</style>\n",
       "<table border=\"1\" class=\"dataframe\">\n",
       "  <thead>\n",
       "    <tr style=\"text-align: right;\">\n",
       "      <th></th>\n",
       "      <th>Density</th>\n",
       "      <th>bodyfat</th>\n",
       "      <th>Age</th>\n",
       "      <th>Weight</th>\n",
       "      <th>Height</th>\n",
       "      <th>Neck</th>\n",
       "      <th>Chest</th>\n",
       "      <th>Abdomen</th>\n",
       "      <th>Hip</th>\n",
       "      <th>Thigh</th>\n",
       "      <th>Knee</th>\n",
       "      <th>Ankle</th>\n",
       "      <th>Biceps</th>\n",
       "      <th>Forearm</th>\n",
       "      <th>Wrist</th>\n",
       "    </tr>\n",
       "  </thead>\n",
       "  <tbody>\n",
       "    <tr>\n",
       "      <th>count</th>\n",
       "      <td>252.000000</td>\n",
       "      <td>252.000000</td>\n",
       "      <td>252.000000</td>\n",
       "      <td>252.000000</td>\n",
       "      <td>252.000000</td>\n",
       "      <td>252.000000</td>\n",
       "      <td>252.000000</td>\n",
       "      <td>252.000000</td>\n",
       "      <td>252.000000</td>\n",
       "      <td>252.000000</td>\n",
       "      <td>252.000000</td>\n",
       "      <td>252.000000</td>\n",
       "      <td>252.000000</td>\n",
       "      <td>252.000000</td>\n",
       "      <td>252.000000</td>\n",
       "    </tr>\n",
       "    <tr>\n",
       "      <th>mean</th>\n",
       "      <td>1.055574</td>\n",
       "      <td>19.150794</td>\n",
       "      <td>44.884921</td>\n",
       "      <td>178.924405</td>\n",
       "      <td>70.148810</td>\n",
       "      <td>37.992063</td>\n",
       "      <td>100.824206</td>\n",
       "      <td>92.555952</td>\n",
       "      <td>99.904762</td>\n",
       "      <td>59.405952</td>\n",
       "      <td>38.590476</td>\n",
       "      <td>23.102381</td>\n",
       "      <td>32.273413</td>\n",
       "      <td>28.663889</td>\n",
       "      <td>18.229762</td>\n",
       "    </tr>\n",
       "    <tr>\n",
       "      <th>std</th>\n",
       "      <td>0.019031</td>\n",
       "      <td>8.368740</td>\n",
       "      <td>12.602040</td>\n",
       "      <td>29.389160</td>\n",
       "      <td>3.662856</td>\n",
       "      <td>2.430913</td>\n",
       "      <td>8.430476</td>\n",
       "      <td>10.783077</td>\n",
       "      <td>7.164058</td>\n",
       "      <td>5.249952</td>\n",
       "      <td>2.411805</td>\n",
       "      <td>1.694893</td>\n",
       "      <td>3.021274</td>\n",
       "      <td>2.020691</td>\n",
       "      <td>0.933585</td>\n",
       "    </tr>\n",
       "    <tr>\n",
       "      <th>min</th>\n",
       "      <td>0.995000</td>\n",
       "      <td>0.000000</td>\n",
       "      <td>22.000000</td>\n",
       "      <td>118.500000</td>\n",
       "      <td>29.500000</td>\n",
       "      <td>31.100000</td>\n",
       "      <td>79.300000</td>\n",
       "      <td>69.400000</td>\n",
       "      <td>85.000000</td>\n",
       "      <td>47.200000</td>\n",
       "      <td>33.000000</td>\n",
       "      <td>19.100000</td>\n",
       "      <td>24.800000</td>\n",
       "      <td>21.000000</td>\n",
       "      <td>15.800000</td>\n",
       "    </tr>\n",
       "    <tr>\n",
       "      <th>25%</th>\n",
       "      <td>1.041400</td>\n",
       "      <td>12.475000</td>\n",
       "      <td>35.750000</td>\n",
       "      <td>159.000000</td>\n",
       "      <td>68.250000</td>\n",
       "      <td>36.400000</td>\n",
       "      <td>94.350000</td>\n",
       "      <td>84.575000</td>\n",
       "      <td>95.500000</td>\n",
       "      <td>56.000000</td>\n",
       "      <td>36.975000</td>\n",
       "      <td>22.000000</td>\n",
       "      <td>30.200000</td>\n",
       "      <td>27.300000</td>\n",
       "      <td>17.600000</td>\n",
       "    </tr>\n",
       "    <tr>\n",
       "      <th>50%</th>\n",
       "      <td>1.054900</td>\n",
       "      <td>19.200000</td>\n",
       "      <td>43.000000</td>\n",
       "      <td>176.500000</td>\n",
       "      <td>70.000000</td>\n",
       "      <td>38.000000</td>\n",
       "      <td>99.650000</td>\n",
       "      <td>90.950000</td>\n",
       "      <td>99.300000</td>\n",
       "      <td>59.000000</td>\n",
       "      <td>38.500000</td>\n",
       "      <td>22.800000</td>\n",
       "      <td>32.050000</td>\n",
       "      <td>28.700000</td>\n",
       "      <td>18.300000</td>\n",
       "    </tr>\n",
       "    <tr>\n",
       "      <th>75%</th>\n",
       "      <td>1.070400</td>\n",
       "      <td>25.300000</td>\n",
       "      <td>54.000000</td>\n",
       "      <td>197.000000</td>\n",
       "      <td>72.250000</td>\n",
       "      <td>39.425000</td>\n",
       "      <td>105.375000</td>\n",
       "      <td>99.325000</td>\n",
       "      <td>103.525000</td>\n",
       "      <td>62.350000</td>\n",
       "      <td>39.925000</td>\n",
       "      <td>24.000000</td>\n",
       "      <td>34.325000</td>\n",
       "      <td>30.000000</td>\n",
       "      <td>18.800000</td>\n",
       "    </tr>\n",
       "    <tr>\n",
       "      <th>max</th>\n",
       "      <td>1.108900</td>\n",
       "      <td>47.500000</td>\n",
       "      <td>81.000000</td>\n",
       "      <td>363.150000</td>\n",
       "      <td>77.750000</td>\n",
       "      <td>51.200000</td>\n",
       "      <td>136.200000</td>\n",
       "      <td>148.100000</td>\n",
       "      <td>147.700000</td>\n",
       "      <td>87.300000</td>\n",
       "      <td>49.100000</td>\n",
       "      <td>33.900000</td>\n",
       "      <td>45.000000</td>\n",
       "      <td>34.900000</td>\n",
       "      <td>21.400000</td>\n",
       "    </tr>\n",
       "    <tr>\n",
       "      <th>mode</th>\n",
       "      <td>1.061000</td>\n",
       "      <td>20.400000</td>\n",
       "      <td>40.000000</td>\n",
       "      <td>152.250000</td>\n",
       "      <td>71.500000</td>\n",
       "      <td>38.500000</td>\n",
       "      <td>99.100000</td>\n",
       "      <td>88.700000</td>\n",
       "      <td>98.300000</td>\n",
       "      <td>58.900000</td>\n",
       "      <td>39.000000</td>\n",
       "      <td>22.000000</td>\n",
       "      <td>30.500000</td>\n",
       "      <td>27.300000</td>\n",
       "      <td>18.800000</td>\n",
       "    </tr>\n",
       "  </tbody>\n",
       "</table>\n",
       "</div>"
      ],
      "text/plain": [
       "          Density     bodyfat         Age      Weight      Height        Neck  \\\n",
       "count  252.000000  252.000000  252.000000  252.000000  252.000000  252.000000   \n",
       "mean     1.055574   19.150794   44.884921  178.924405   70.148810   37.992063   \n",
       "std      0.019031    8.368740   12.602040   29.389160    3.662856    2.430913   \n",
       "min      0.995000    0.000000   22.000000  118.500000   29.500000   31.100000   \n",
       "25%      1.041400   12.475000   35.750000  159.000000   68.250000   36.400000   \n",
       "50%      1.054900   19.200000   43.000000  176.500000   70.000000   38.000000   \n",
       "75%      1.070400   25.300000   54.000000  197.000000   72.250000   39.425000   \n",
       "max      1.108900   47.500000   81.000000  363.150000   77.750000   51.200000   \n",
       "mode     1.061000   20.400000   40.000000  152.250000   71.500000   38.500000   \n",
       "\n",
       "            Chest     Abdomen         Hip       Thigh        Knee       Ankle  \\\n",
       "count  252.000000  252.000000  252.000000  252.000000  252.000000  252.000000   \n",
       "mean   100.824206   92.555952   99.904762   59.405952   38.590476   23.102381   \n",
       "std      8.430476   10.783077    7.164058    5.249952    2.411805    1.694893   \n",
       "min     79.300000   69.400000   85.000000   47.200000   33.000000   19.100000   \n",
       "25%     94.350000   84.575000   95.500000   56.000000   36.975000   22.000000   \n",
       "50%     99.650000   90.950000   99.300000   59.000000   38.500000   22.800000   \n",
       "75%    105.375000   99.325000  103.525000   62.350000   39.925000   24.000000   \n",
       "max    136.200000  148.100000  147.700000   87.300000   49.100000   33.900000   \n",
       "mode    99.100000   88.700000   98.300000   58.900000   39.000000   22.000000   \n",
       "\n",
       "           Biceps     Forearm       Wrist  \n",
       "count  252.000000  252.000000  252.000000  \n",
       "mean    32.273413   28.663889   18.229762  \n",
       "std      3.021274    2.020691    0.933585  \n",
       "min     24.800000   21.000000   15.800000  \n",
       "25%     30.200000   27.300000   17.600000  \n",
       "50%     32.050000   28.700000   18.300000  \n",
       "75%     34.325000   30.000000   18.800000  \n",
       "max     45.000000   34.900000   21.400000  \n",
       "mode    30.500000   27.300000   18.800000  "
      ]
     },
     "metadata": {},
     "output_type": "display_data"
    },
    {
     "name": "stdout",
     "output_type": "stream",
     "text": [
      "8\n"
     ]
    }
   ],
   "source": [
    "# add new list(mode) into describetable and change it name.\n",
    "dt = df.describe()\n",
    "cnt = dt.count()[0]\n",
    "dt.loc[len(dt)] = mode1(df)\n",
    "dt = dt.rename(index = {cnt:'mode'})\n",
    "display(dt)\n",
    "print(cnt)"
   ]
  },
  {
   "cell_type": "code",
   "execution_count": 28,
   "metadata": {
    "scrolled": true
   },
   "outputs": [
    {
     "data": {
      "text/html": [
       "<div>\n",
       "<style scoped>\n",
       "    .dataframe tbody tr th:only-of-type {\n",
       "        vertical-align: middle;\n",
       "    }\n",
       "\n",
       "    .dataframe tbody tr th {\n",
       "        vertical-align: top;\n",
       "    }\n",
       "\n",
       "    .dataframe thead th {\n",
       "        text-align: right;\n",
       "    }\n",
       "</style>\n",
       "<table border=\"1\" class=\"dataframe\">\n",
       "  <thead>\n",
       "    <tr style=\"text-align: right;\">\n",
       "      <th></th>\n",
       "      <th>Density</th>\n",
       "      <th>bodyfat</th>\n",
       "      <th>Age</th>\n",
       "      <th>Weight</th>\n",
       "      <th>Height</th>\n",
       "      <th>Neck</th>\n",
       "      <th>Chest</th>\n",
       "      <th>Abdomen</th>\n",
       "      <th>Hip</th>\n",
       "      <th>Thigh</th>\n",
       "      <th>Knee</th>\n",
       "      <th>Ankle</th>\n",
       "      <th>Biceps</th>\n",
       "      <th>Forearm</th>\n",
       "      <th>Wrist</th>\n",
       "    </tr>\n",
       "  </thead>\n",
       "  <tbody>\n",
       "    <tr>\n",
       "      <th>mean</th>\n",
       "      <td>1.055574</td>\n",
       "      <td>19.150794</td>\n",
       "      <td>44.884921</td>\n",
       "      <td>178.924405</td>\n",
       "      <td>70.14881</td>\n",
       "      <td>37.992063</td>\n",
       "      <td>100.824206</td>\n",
       "      <td>92.555952</td>\n",
       "      <td>99.904762</td>\n",
       "      <td>59.405952</td>\n",
       "      <td>38.590476</td>\n",
       "      <td>23.102381</td>\n",
       "      <td>32.273413</td>\n",
       "      <td>28.663889</td>\n",
       "      <td>18.229762</td>\n",
       "    </tr>\n",
       "    <tr>\n",
       "      <th>min</th>\n",
       "      <td>0.995000</td>\n",
       "      <td>0.000000</td>\n",
       "      <td>22.000000</td>\n",
       "      <td>118.500000</td>\n",
       "      <td>29.50000</td>\n",
       "      <td>31.100000</td>\n",
       "      <td>79.300000</td>\n",
       "      <td>69.400000</td>\n",
       "      <td>85.000000</td>\n",
       "      <td>47.200000</td>\n",
       "      <td>33.000000</td>\n",
       "      <td>19.100000</td>\n",
       "      <td>24.800000</td>\n",
       "      <td>21.000000</td>\n",
       "      <td>15.800000</td>\n",
       "    </tr>\n",
       "    <tr>\n",
       "      <th>25%</th>\n",
       "      <td>1.041400</td>\n",
       "      <td>12.475000</td>\n",
       "      <td>35.750000</td>\n",
       "      <td>159.000000</td>\n",
       "      <td>68.25000</td>\n",
       "      <td>36.400000</td>\n",
       "      <td>94.350000</td>\n",
       "      <td>84.575000</td>\n",
       "      <td>95.500000</td>\n",
       "      <td>56.000000</td>\n",
       "      <td>36.975000</td>\n",
       "      <td>22.000000</td>\n",
       "      <td>30.200000</td>\n",
       "      <td>27.300000</td>\n",
       "      <td>17.600000</td>\n",
       "    </tr>\n",
       "    <tr>\n",
       "      <th>50%</th>\n",
       "      <td>1.054900</td>\n",
       "      <td>19.200000</td>\n",
       "      <td>43.000000</td>\n",
       "      <td>176.500000</td>\n",
       "      <td>70.00000</td>\n",
       "      <td>38.000000</td>\n",
       "      <td>99.650000</td>\n",
       "      <td>90.950000</td>\n",
       "      <td>99.300000</td>\n",
       "      <td>59.000000</td>\n",
       "      <td>38.500000</td>\n",
       "      <td>22.800000</td>\n",
       "      <td>32.050000</td>\n",
       "      <td>28.700000</td>\n",
       "      <td>18.300000</td>\n",
       "    </tr>\n",
       "    <tr>\n",
       "      <th>75%</th>\n",
       "      <td>1.070400</td>\n",
       "      <td>25.300000</td>\n",
       "      <td>54.000000</td>\n",
       "      <td>197.000000</td>\n",
       "      <td>72.25000</td>\n",
       "      <td>39.425000</td>\n",
       "      <td>105.375000</td>\n",
       "      <td>99.325000</td>\n",
       "      <td>103.525000</td>\n",
       "      <td>62.350000</td>\n",
       "      <td>39.925000</td>\n",
       "      <td>24.000000</td>\n",
       "      <td>34.325000</td>\n",
       "      <td>30.000000</td>\n",
       "      <td>18.800000</td>\n",
       "    </tr>\n",
       "    <tr>\n",
       "      <th>max</th>\n",
       "      <td>1.108900</td>\n",
       "      <td>47.500000</td>\n",
       "      <td>81.000000</td>\n",
       "      <td>363.150000</td>\n",
       "      <td>77.75000</td>\n",
       "      <td>51.200000</td>\n",
       "      <td>136.200000</td>\n",
       "      <td>148.100000</td>\n",
       "      <td>147.700000</td>\n",
       "      <td>87.300000</td>\n",
       "      <td>49.100000</td>\n",
       "      <td>33.900000</td>\n",
       "      <td>45.000000</td>\n",
       "      <td>34.900000</td>\n",
       "      <td>21.400000</td>\n",
       "    </tr>\n",
       "    <tr>\n",
       "      <th>mode</th>\n",
       "      <td>1.061000</td>\n",
       "      <td>20.400000</td>\n",
       "      <td>40.000000</td>\n",
       "      <td>152.250000</td>\n",
       "      <td>71.50000</td>\n",
       "      <td>38.500000</td>\n",
       "      <td>99.100000</td>\n",
       "      <td>88.700000</td>\n",
       "      <td>98.300000</td>\n",
       "      <td>58.900000</td>\n",
       "      <td>39.000000</td>\n",
       "      <td>22.000000</td>\n",
       "      <td>30.500000</td>\n",
       "      <td>27.300000</td>\n",
       "      <td>18.800000</td>\n",
       "    </tr>\n",
       "  </tbody>\n",
       "</table>\n",
       "</div>"
      ],
      "text/plain": [
       "       Density    bodyfat        Age      Weight    Height       Neck  \\\n",
       "mean  1.055574  19.150794  44.884921  178.924405  70.14881  37.992063   \n",
       "min   0.995000   0.000000  22.000000  118.500000  29.50000  31.100000   \n",
       "25%   1.041400  12.475000  35.750000  159.000000  68.25000  36.400000   \n",
       "50%   1.054900  19.200000  43.000000  176.500000  70.00000  38.000000   \n",
       "75%   1.070400  25.300000  54.000000  197.000000  72.25000  39.425000   \n",
       "max   1.108900  47.500000  81.000000  363.150000  77.75000  51.200000   \n",
       "mode  1.061000  20.400000  40.000000  152.250000  71.50000  38.500000   \n",
       "\n",
       "           Chest     Abdomen         Hip      Thigh       Knee      Ankle  \\\n",
       "mean  100.824206   92.555952   99.904762  59.405952  38.590476  23.102381   \n",
       "min    79.300000   69.400000   85.000000  47.200000  33.000000  19.100000   \n",
       "25%    94.350000   84.575000   95.500000  56.000000  36.975000  22.000000   \n",
       "50%    99.650000   90.950000   99.300000  59.000000  38.500000  22.800000   \n",
       "75%   105.375000   99.325000  103.525000  62.350000  39.925000  24.000000   \n",
       "max   136.200000  148.100000  147.700000  87.300000  49.100000  33.900000   \n",
       "mode   99.100000   88.700000   98.300000  58.900000  39.000000  22.000000   \n",
       "\n",
       "         Biceps    Forearm      Wrist  \n",
       "mean  32.273413  28.663889  18.229762  \n",
       "min   24.800000  21.000000  15.800000  \n",
       "25%   30.200000  27.300000  17.600000  \n",
       "50%   32.050000  28.700000  18.300000  \n",
       "75%   34.325000  30.000000  18.800000  \n",
       "max   45.000000  34.900000  21.400000  \n",
       "mode  30.500000  27.300000  18.800000  "
      ]
     },
     "execution_count": 28,
     "metadata": {},
     "output_type": "execute_result"
    }
   ],
   "source": [
    "# delete the row of count and std\n",
    "dt = dt.drop(['count','std'])\n",
    "dt"
   ]
  },
  {
   "cell_type": "code",
   "execution_count": 29,
   "metadata": {},
   "outputs": [
    {
     "data": {
      "text/html": [
       "<div>\n",
       "<style scoped>\n",
       "    .dataframe tbody tr th:only-of-type {\n",
       "        vertical-align: middle;\n",
       "    }\n",
       "\n",
       "    .dataframe tbody tr th {\n",
       "        vertical-align: top;\n",
       "    }\n",
       "\n",
       "    .dataframe thead th {\n",
       "        text-align: right;\n",
       "    }\n",
       "</style>\n",
       "<table border=\"1\" class=\"dataframe\">\n",
       "  <thead>\n",
       "    <tr style=\"text-align: right;\">\n",
       "      <th></th>\n",
       "      <th>Density</th>\n",
       "      <th>bodyfat</th>\n",
       "      <th>Age</th>\n",
       "      <th>Weight</th>\n",
       "      <th>Height</th>\n",
       "      <th>Neck</th>\n",
       "      <th>Chest</th>\n",
       "      <th>Abdomen</th>\n",
       "      <th>Hip</th>\n",
       "      <th>Thigh</th>\n",
       "      <th>Knee</th>\n",
       "      <th>Ankle</th>\n",
       "      <th>Biceps</th>\n",
       "      <th>Forearm</th>\n",
       "      <th>Wrist</th>\n",
       "    </tr>\n",
       "  </thead>\n",
       "  <tbody>\n",
       "    <tr>\n",
       "      <th>mean</th>\n",
       "      <td>1.055574</td>\n",
       "      <td>19.150794</td>\n",
       "      <td>44.884921</td>\n",
       "      <td>178.924405</td>\n",
       "      <td>70.14881</td>\n",
       "      <td>37.992063</td>\n",
       "      <td>100.824206</td>\n",
       "      <td>92.555952</td>\n",
       "      <td>99.904762</td>\n",
       "      <td>59.405952</td>\n",
       "      <td>38.590476</td>\n",
       "      <td>23.102381</td>\n",
       "      <td>32.273413</td>\n",
       "      <td>28.663889</td>\n",
       "      <td>18.229762</td>\n",
       "    </tr>\n",
       "    <tr>\n",
       "      <th>min</th>\n",
       "      <td>0.995000</td>\n",
       "      <td>0.000000</td>\n",
       "      <td>22.000000</td>\n",
       "      <td>118.500000</td>\n",
       "      <td>29.50000</td>\n",
       "      <td>31.100000</td>\n",
       "      <td>79.300000</td>\n",
       "      <td>69.400000</td>\n",
       "      <td>85.000000</td>\n",
       "      <td>47.200000</td>\n",
       "      <td>33.000000</td>\n",
       "      <td>19.100000</td>\n",
       "      <td>24.800000</td>\n",
       "      <td>21.000000</td>\n",
       "      <td>15.800000</td>\n",
       "    </tr>\n",
       "    <tr>\n",
       "      <th>25%</th>\n",
       "      <td>1.041400</td>\n",
       "      <td>12.475000</td>\n",
       "      <td>35.750000</td>\n",
       "      <td>159.000000</td>\n",
       "      <td>68.25000</td>\n",
       "      <td>36.400000</td>\n",
       "      <td>94.350000</td>\n",
       "      <td>84.575000</td>\n",
       "      <td>95.500000</td>\n",
       "      <td>56.000000</td>\n",
       "      <td>36.975000</td>\n",
       "      <td>22.000000</td>\n",
       "      <td>30.200000</td>\n",
       "      <td>27.300000</td>\n",
       "      <td>17.600000</td>\n",
       "    </tr>\n",
       "    <tr>\n",
       "      <th>50%</th>\n",
       "      <td>1.054900</td>\n",
       "      <td>19.200000</td>\n",
       "      <td>43.000000</td>\n",
       "      <td>176.500000</td>\n",
       "      <td>70.00000</td>\n",
       "      <td>38.000000</td>\n",
       "      <td>99.650000</td>\n",
       "      <td>90.950000</td>\n",
       "      <td>99.300000</td>\n",
       "      <td>59.000000</td>\n",
       "      <td>38.500000</td>\n",
       "      <td>22.800000</td>\n",
       "      <td>32.050000</td>\n",
       "      <td>28.700000</td>\n",
       "      <td>18.300000</td>\n",
       "    </tr>\n",
       "    <tr>\n",
       "      <th>75%</th>\n",
       "      <td>1.070400</td>\n",
       "      <td>25.300000</td>\n",
       "      <td>54.000000</td>\n",
       "      <td>197.000000</td>\n",
       "      <td>72.25000</td>\n",
       "      <td>39.425000</td>\n",
       "      <td>105.375000</td>\n",
       "      <td>99.325000</td>\n",
       "      <td>103.525000</td>\n",
       "      <td>62.350000</td>\n",
       "      <td>39.925000</td>\n",
       "      <td>24.000000</td>\n",
       "      <td>34.325000</td>\n",
       "      <td>30.000000</td>\n",
       "      <td>18.800000</td>\n",
       "    </tr>\n",
       "    <tr>\n",
       "      <th>max</th>\n",
       "      <td>1.108900</td>\n",
       "      <td>47.500000</td>\n",
       "      <td>81.000000</td>\n",
       "      <td>363.150000</td>\n",
       "      <td>77.75000</td>\n",
       "      <td>51.200000</td>\n",
       "      <td>136.200000</td>\n",
       "      <td>148.100000</td>\n",
       "      <td>147.700000</td>\n",
       "      <td>87.300000</td>\n",
       "      <td>49.100000</td>\n",
       "      <td>33.900000</td>\n",
       "      <td>45.000000</td>\n",
       "      <td>34.900000</td>\n",
       "      <td>21.400000</td>\n",
       "    </tr>\n",
       "    <tr>\n",
       "      <th>mode</th>\n",
       "      <td>1.061000</td>\n",
       "      <td>20.400000</td>\n",
       "      <td>40.000000</td>\n",
       "      <td>152.250000</td>\n",
       "      <td>71.50000</td>\n",
       "      <td>38.500000</td>\n",
       "      <td>99.100000</td>\n",
       "      <td>88.700000</td>\n",
       "      <td>98.300000</td>\n",
       "      <td>58.900000</td>\n",
       "      <td>39.000000</td>\n",
       "      <td>22.000000</td>\n",
       "      <td>30.500000</td>\n",
       "      <td>27.300000</td>\n",
       "      <td>18.800000</td>\n",
       "    </tr>\n",
       "    <tr>\n",
       "      <th>span</th>\n",
       "      <td>0.113900</td>\n",
       "      <td>47.500000</td>\n",
       "      <td>59.000000</td>\n",
       "      <td>244.650000</td>\n",
       "      <td>48.25000</td>\n",
       "      <td>20.100000</td>\n",
       "      <td>56.900000</td>\n",
       "      <td>78.700000</td>\n",
       "      <td>62.700000</td>\n",
       "      <td>40.100000</td>\n",
       "      <td>16.100000</td>\n",
       "      <td>14.800000</td>\n",
       "      <td>20.200000</td>\n",
       "      <td>13.900000</td>\n",
       "      <td>5.600000</td>\n",
       "    </tr>\n",
       "  </tbody>\n",
       "</table>\n",
       "</div>"
      ],
      "text/plain": [
       "       Density    bodyfat        Age      Weight    Height       Neck  \\\n",
       "mean  1.055574  19.150794  44.884921  178.924405  70.14881  37.992063   \n",
       "min   0.995000   0.000000  22.000000  118.500000  29.50000  31.100000   \n",
       "25%   1.041400  12.475000  35.750000  159.000000  68.25000  36.400000   \n",
       "50%   1.054900  19.200000  43.000000  176.500000  70.00000  38.000000   \n",
       "75%   1.070400  25.300000  54.000000  197.000000  72.25000  39.425000   \n",
       "max   1.108900  47.500000  81.000000  363.150000  77.75000  51.200000   \n",
       "mode  1.061000  20.400000  40.000000  152.250000  71.50000  38.500000   \n",
       "span  0.113900  47.500000  59.000000  244.650000  48.25000  20.100000   \n",
       "\n",
       "           Chest     Abdomen         Hip      Thigh       Knee      Ankle  \\\n",
       "mean  100.824206   92.555952   99.904762  59.405952  38.590476  23.102381   \n",
       "min    79.300000   69.400000   85.000000  47.200000  33.000000  19.100000   \n",
       "25%    94.350000   84.575000   95.500000  56.000000  36.975000  22.000000   \n",
       "50%    99.650000   90.950000   99.300000  59.000000  38.500000  22.800000   \n",
       "75%   105.375000   99.325000  103.525000  62.350000  39.925000  24.000000   \n",
       "max   136.200000  148.100000  147.700000  87.300000  49.100000  33.900000   \n",
       "mode   99.100000   88.700000   98.300000  58.900000  39.000000  22.000000   \n",
       "span   56.900000   78.700000   62.700000  40.100000  16.100000  14.800000   \n",
       "\n",
       "         Biceps    Forearm      Wrist  \n",
       "mean  32.273413  28.663889  18.229762  \n",
       "min   24.800000  21.000000  15.800000  \n",
       "25%   30.200000  27.300000  17.600000  \n",
       "50%   32.050000  28.700000  18.300000  \n",
       "75%   34.325000  30.000000  18.800000  \n",
       "max   45.000000  34.900000  21.400000  \n",
       "mode  30.500000  27.300000  18.800000  \n",
       "span  20.200000  13.900000   5.600000  "
      ]
     },
     "metadata": {},
     "output_type": "display_data"
    }
   ],
   "source": [
    "# add the row of Spannweite\n",
    "cnt = dt.count()[0]\n",
    "span = dt.loc['max'] - dt.loc['min']\n",
    "dt.loc[len(dt)] = span\n",
    "dt = dt.rename(index = {cnt:'span'})\n",
    "display(dt)"
   ]
  },
  {
   "cell_type": "markdown",
   "metadata": {},
   "source": [
    "# welche Information liefern diese Stastiken über die Daten.\n",
    "example:durch mean können wir wissen, ob die Daten unseres Körper ordnen.\n",
    "In mathematics, we have to come across a large set of data. To get valuable information about this large set of data, we get help from measures of central tendency. The measures of central tendency provide us with statistical information about this set of information. Mean, median, mode and range are known as four primary measures of central tendency. \n"
   ]
  },
  {
   "cell_type": "markdown",
   "metadata": {},
   "source": [
    "# b)"
   ]
  },
  {
   "cell_type": "code",
   "execution_count": 30,
   "metadata": {},
   "outputs": [],
   "source": [
    "# todo: you should also add some description for this two Statistik\n",
    "def var1(df):\n",
    "    l = []\n",
    "    for x in df:\n",
    "        m = statistics.variance(df[x])\n",
    "        l.append(m)\n",
    "    return l"
   ]
  },
  {
   "cell_type": "code",
   "execution_count": 31,
   "metadata": {},
   "outputs": [
    {
     "data": {
      "text/plain": [
       "[0.00036219548662492856,\n",
       " 70.03581610067666,\n",
       " 158.81140517295896,\n",
       " 863.722718767786,\n",
       " 13.416512521343199,\n",
       " 5.909339151331183,\n",
       " 71.07291769430215,\n",
       " 116.27474530449629,\n",
       " 51.32372225384177,\n",
       " 27.561996300512234,\n",
       " 5.816801365964713,\n",
       " 2.872663631189528,\n",
       " 9.12809507999747,\n",
       " 4.083192784417885,\n",
       " 0.8715808195788275]"
      ]
     },
     "execution_count": 31,
     "metadata": {},
     "output_type": "execute_result"
    }
   ],
   "source": [
    "var1(df)"
   ]
  },
  {
   "cell_type": "code",
   "execution_count": 32,
   "metadata": {},
   "outputs": [],
   "source": [
    "# Step 1: Find the mean.\n",
    "# Step 2: For each data point, find the square of its distance to the mean.\n",
    "# Step 3: Sum the values from Step 2.\n",
    "# Step 4: Divide by the number of data points.\n",
    "def var2(df):\n",
    "    l = []\n",
    "    for x in df:\n",
    "        s_distance = []\n",
    "        mean = statistics.mean(df[x])\n",
    "        for i in df[x]:\n",
    "            d = (i-mean)**2\n",
    "            s_distance.append(d)\n",
    "        s = sum(s_distance)\n",
    "        var = s / len(df[x])\n",
    "        l.append(var)\n",
    "    return l"
   ]
  },
  {
   "cell_type": "code",
   "execution_count": 33,
   "metadata": {},
   "outputs": [
    {
     "data": {
      "text/plain": [
       "[0.0003607582029478457,\n",
       " 69.7578961955152,\n",
       " 158.18120118417744,\n",
       " 860.2952476615649,\n",
       " 13.363272392290252,\n",
       " 5.8858893927941525,\n",
       " 70.79088230662636,\n",
       " 115.81333758503402,\n",
       " 51.12005668934236,\n",
       " 27.45262329931969,\n",
       " 5.7937188208616766,\n",
       " 2.8612641723356025,\n",
       " 9.091872480473674,\n",
       " 4.066989638447978,\n",
       " 0.8681221655328782]"
      ]
     },
     "execution_count": 33,
     "metadata": {},
     "output_type": "execute_result"
    }
   ],
   "source": [
    "var2(df)"
   ]
  },
  {
   "cell_type": "markdown",
   "metadata": {},
   "source": [
    "### ------------------------------------------------------------------------------------"
   ]
  },
  {
   "cell_type": "code",
   "execution_count": 34,
   "metadata": {},
   "outputs": [],
   "source": [
    "# standard Deviation\n",
    "def sd1(df):\n",
    "    l = []\n",
    "    for x in df:\n",
    "        m = np.std(df[x])\n",
    "        l.append(m)\n",
    "    return l"
   ]
  },
  {
   "cell_type": "code",
   "execution_count": 35,
   "metadata": {},
   "outputs": [
    {
     "data": {
      "text/plain": [
       "[0.018993635853828662,\n",
       " 8.352119263726737,\n",
       " 12.57701082070686,\n",
       " 29.33079009610148,\n",
       " 3.655580992440224,\n",
       " 2.4260851989973786,\n",
       " 8.413731770541913,\n",
       " 10.76166054031784,\n",
       " 7.149829137073306,\n",
       " 5.239525102461072,\n",
       " 2.407014503666664,\n",
       " 1.6915271716220233,\n",
       " 3.0152732016309356,\n",
       " 2.0166778717603777,\n",
       " 0.9317307366041319]"
      ]
     },
     "execution_count": 35,
     "metadata": {},
     "output_type": "execute_result"
    }
   ],
   "source": [
    "sd1(df)"
   ]
  },
  {
   "cell_type": "code",
   "execution_count": 36,
   "metadata": {},
   "outputs": [],
   "source": [
    "# Step 1: Find the mean.\n",
    "# Step 2: For each data point, find the square of its distance to the mean.\n",
    "# Step 3: Sum the values from Step 2.\n",
    "# Step 4: Divide by the number of data points.\n",
    "# Step 5: Take the square root.\n",
    "def sd2(df):\n",
    "    l = []\n",
    "    for x in df:\n",
    "        s_distance = []\n",
    "        mean = statistics.mean(df[x])\n",
    "        for i in df[x]:\n",
    "            d = (i-mean)**2\n",
    "            s_distance.append(d)\n",
    "        s = sum(s_distance)\n",
    "        var = s / len(df[x])\n",
    "        sd = math.sqrt(var)\n",
    "        l.append(sd)\n",
    "    return l"
   ]
  },
  {
   "cell_type": "code",
   "execution_count": 37,
   "metadata": {},
   "outputs": [
    {
     "data": {
      "text/plain": [
       "[0.018993635853828662,\n",
       " 8.352119263726735,\n",
       " 12.57701082070686,\n",
       " 29.330790096101484,\n",
       " 3.655580992440224,\n",
       " 2.426085198997379,\n",
       " 8.413731770541913,\n",
       " 10.761660540317838,\n",
       " 7.1498291370733025,\n",
       " 5.23952510246107,\n",
       " 2.407014503666664,\n",
       " 1.6915271716220235,\n",
       " 3.0152732016309356,\n",
       " 2.0166778717603804,\n",
       " 0.9317307366041319]"
      ]
     },
     "execution_count": 37,
     "metadata": {},
     "output_type": "execute_result"
    }
   ],
   "source": [
    "sd2(df)"
   ]
  },
  {
   "cell_type": "markdown",
   "metadata": {},
   "source": [
    "### ----------------------------------------------------------------------------------"
   ]
  },
  {
   "cell_type": "code",
   "execution_count": 38,
   "metadata": {},
   "outputs": [
    {
     "data": {
      "text/html": [
       "<div>\n",
       "<style scoped>\n",
       "    .dataframe tbody tr th:only-of-type {\n",
       "        vertical-align: middle;\n",
       "    }\n",
       "\n",
       "    .dataframe tbody tr th {\n",
       "        vertical-align: top;\n",
       "    }\n",
       "\n",
       "    .dataframe thead th {\n",
       "        text-align: right;\n",
       "    }\n",
       "</style>\n",
       "<table border=\"1\" class=\"dataframe\">\n",
       "  <thead>\n",
       "    <tr style=\"text-align: right;\">\n",
       "      <th></th>\n",
       "      <th>Density</th>\n",
       "      <th>bodyfat</th>\n",
       "      <th>Age</th>\n",
       "      <th>Weight</th>\n",
       "      <th>Height</th>\n",
       "      <th>Neck</th>\n",
       "      <th>Chest</th>\n",
       "      <th>Abdomen</th>\n",
       "      <th>Hip</th>\n",
       "      <th>Thigh</th>\n",
       "      <th>Knee</th>\n",
       "      <th>Ankle</th>\n",
       "      <th>Biceps</th>\n",
       "      <th>Forearm</th>\n",
       "      <th>Wrist</th>\n",
       "    </tr>\n",
       "  </thead>\n",
       "  <tbody>\n",
       "    <tr>\n",
       "      <th>mean</th>\n",
       "      <td>1.055574</td>\n",
       "      <td>19.150794</td>\n",
       "      <td>44.884921</td>\n",
       "      <td>178.924405</td>\n",
       "      <td>70.148810</td>\n",
       "      <td>37.992063</td>\n",
       "      <td>100.824206</td>\n",
       "      <td>92.555952</td>\n",
       "      <td>99.904762</td>\n",
       "      <td>59.405952</td>\n",
       "      <td>38.590476</td>\n",
       "      <td>23.102381</td>\n",
       "      <td>32.273413</td>\n",
       "      <td>28.663889</td>\n",
       "      <td>18.229762</td>\n",
       "    </tr>\n",
       "    <tr>\n",
       "      <th>min</th>\n",
       "      <td>0.995000</td>\n",
       "      <td>0.000000</td>\n",
       "      <td>22.000000</td>\n",
       "      <td>118.500000</td>\n",
       "      <td>29.500000</td>\n",
       "      <td>31.100000</td>\n",
       "      <td>79.300000</td>\n",
       "      <td>69.400000</td>\n",
       "      <td>85.000000</td>\n",
       "      <td>47.200000</td>\n",
       "      <td>33.000000</td>\n",
       "      <td>19.100000</td>\n",
       "      <td>24.800000</td>\n",
       "      <td>21.000000</td>\n",
       "      <td>15.800000</td>\n",
       "    </tr>\n",
       "    <tr>\n",
       "      <th>25%</th>\n",
       "      <td>1.041400</td>\n",
       "      <td>12.475000</td>\n",
       "      <td>35.750000</td>\n",
       "      <td>159.000000</td>\n",
       "      <td>68.250000</td>\n",
       "      <td>36.400000</td>\n",
       "      <td>94.350000</td>\n",
       "      <td>84.575000</td>\n",
       "      <td>95.500000</td>\n",
       "      <td>56.000000</td>\n",
       "      <td>36.975000</td>\n",
       "      <td>22.000000</td>\n",
       "      <td>30.200000</td>\n",
       "      <td>27.300000</td>\n",
       "      <td>17.600000</td>\n",
       "    </tr>\n",
       "    <tr>\n",
       "      <th>50%</th>\n",
       "      <td>1.054900</td>\n",
       "      <td>19.200000</td>\n",
       "      <td>43.000000</td>\n",
       "      <td>176.500000</td>\n",
       "      <td>70.000000</td>\n",
       "      <td>38.000000</td>\n",
       "      <td>99.650000</td>\n",
       "      <td>90.950000</td>\n",
       "      <td>99.300000</td>\n",
       "      <td>59.000000</td>\n",
       "      <td>38.500000</td>\n",
       "      <td>22.800000</td>\n",
       "      <td>32.050000</td>\n",
       "      <td>28.700000</td>\n",
       "      <td>18.300000</td>\n",
       "    </tr>\n",
       "    <tr>\n",
       "      <th>75%</th>\n",
       "      <td>1.070400</td>\n",
       "      <td>25.300000</td>\n",
       "      <td>54.000000</td>\n",
       "      <td>197.000000</td>\n",
       "      <td>72.250000</td>\n",
       "      <td>39.425000</td>\n",
       "      <td>105.375000</td>\n",
       "      <td>99.325000</td>\n",
       "      <td>103.525000</td>\n",
       "      <td>62.350000</td>\n",
       "      <td>39.925000</td>\n",
       "      <td>24.000000</td>\n",
       "      <td>34.325000</td>\n",
       "      <td>30.000000</td>\n",
       "      <td>18.800000</td>\n",
       "    </tr>\n",
       "    <tr>\n",
       "      <th>max</th>\n",
       "      <td>1.108900</td>\n",
       "      <td>47.500000</td>\n",
       "      <td>81.000000</td>\n",
       "      <td>363.150000</td>\n",
       "      <td>77.750000</td>\n",
       "      <td>51.200000</td>\n",
       "      <td>136.200000</td>\n",
       "      <td>148.100000</td>\n",
       "      <td>147.700000</td>\n",
       "      <td>87.300000</td>\n",
       "      <td>49.100000</td>\n",
       "      <td>33.900000</td>\n",
       "      <td>45.000000</td>\n",
       "      <td>34.900000</td>\n",
       "      <td>21.400000</td>\n",
       "    </tr>\n",
       "    <tr>\n",
       "      <th>mode</th>\n",
       "      <td>1.061000</td>\n",
       "      <td>20.400000</td>\n",
       "      <td>40.000000</td>\n",
       "      <td>152.250000</td>\n",
       "      <td>71.500000</td>\n",
       "      <td>38.500000</td>\n",
       "      <td>99.100000</td>\n",
       "      <td>88.700000</td>\n",
       "      <td>98.300000</td>\n",
       "      <td>58.900000</td>\n",
       "      <td>39.000000</td>\n",
       "      <td>22.000000</td>\n",
       "      <td>30.500000</td>\n",
       "      <td>27.300000</td>\n",
       "      <td>18.800000</td>\n",
       "    </tr>\n",
       "    <tr>\n",
       "      <th>span</th>\n",
       "      <td>0.113900</td>\n",
       "      <td>47.500000</td>\n",
       "      <td>59.000000</td>\n",
       "      <td>244.650000</td>\n",
       "      <td>48.250000</td>\n",
       "      <td>20.100000</td>\n",
       "      <td>56.900000</td>\n",
       "      <td>78.700000</td>\n",
       "      <td>62.700000</td>\n",
       "      <td>40.100000</td>\n",
       "      <td>16.100000</td>\n",
       "      <td>14.800000</td>\n",
       "      <td>20.200000</td>\n",
       "      <td>13.900000</td>\n",
       "      <td>5.600000</td>\n",
       "    </tr>\n",
       "    <tr>\n",
       "      <th>var</th>\n",
       "      <td>0.000361</td>\n",
       "      <td>69.757896</td>\n",
       "      <td>158.181201</td>\n",
       "      <td>860.295248</td>\n",
       "      <td>13.363272</td>\n",
       "      <td>5.885889</td>\n",
       "      <td>70.790882</td>\n",
       "      <td>115.813338</td>\n",
       "      <td>51.120057</td>\n",
       "      <td>27.452623</td>\n",
       "      <td>5.793719</td>\n",
       "      <td>2.861264</td>\n",
       "      <td>9.091872</td>\n",
       "      <td>4.066990</td>\n",
       "      <td>0.868122</td>\n",
       "    </tr>\n",
       "  </tbody>\n",
       "</table>\n",
       "</div>"
      ],
      "text/plain": [
       "       Density    bodyfat         Age      Weight     Height       Neck  \\\n",
       "mean  1.055574  19.150794   44.884921  178.924405  70.148810  37.992063   \n",
       "min   0.995000   0.000000   22.000000  118.500000  29.500000  31.100000   \n",
       "25%   1.041400  12.475000   35.750000  159.000000  68.250000  36.400000   \n",
       "50%   1.054900  19.200000   43.000000  176.500000  70.000000  38.000000   \n",
       "75%   1.070400  25.300000   54.000000  197.000000  72.250000  39.425000   \n",
       "max   1.108900  47.500000   81.000000  363.150000  77.750000  51.200000   \n",
       "mode  1.061000  20.400000   40.000000  152.250000  71.500000  38.500000   \n",
       "span  0.113900  47.500000   59.000000  244.650000  48.250000  20.100000   \n",
       "var   0.000361  69.757896  158.181201  860.295248  13.363272   5.885889   \n",
       "\n",
       "           Chest     Abdomen         Hip      Thigh       Knee      Ankle  \\\n",
       "mean  100.824206   92.555952   99.904762  59.405952  38.590476  23.102381   \n",
       "min    79.300000   69.400000   85.000000  47.200000  33.000000  19.100000   \n",
       "25%    94.350000   84.575000   95.500000  56.000000  36.975000  22.000000   \n",
       "50%    99.650000   90.950000   99.300000  59.000000  38.500000  22.800000   \n",
       "75%   105.375000   99.325000  103.525000  62.350000  39.925000  24.000000   \n",
       "max   136.200000  148.100000  147.700000  87.300000  49.100000  33.900000   \n",
       "mode   99.100000   88.700000   98.300000  58.900000  39.000000  22.000000   \n",
       "span   56.900000   78.700000   62.700000  40.100000  16.100000  14.800000   \n",
       "var    70.790882  115.813338   51.120057  27.452623   5.793719   2.861264   \n",
       "\n",
       "         Biceps    Forearm      Wrist  \n",
       "mean  32.273413  28.663889  18.229762  \n",
       "min   24.800000  21.000000  15.800000  \n",
       "25%   30.200000  27.300000  17.600000  \n",
       "50%   32.050000  28.700000  18.300000  \n",
       "75%   34.325000  30.000000  18.800000  \n",
       "max   45.000000  34.900000  21.400000  \n",
       "mode  30.500000  27.300000  18.800000  \n",
       "span  20.200000  13.900000   5.600000  \n",
       "var    9.091872   4.066990   0.868122  "
      ]
     },
     "metadata": {},
     "output_type": "display_data"
    }
   ],
   "source": [
    "# visualisieren var\n",
    "cnt = dt.count()[0]\n",
    "dt.loc[len(dt)] = var2(df)\n",
    "dt = dt.rename(index = {cnt:'var'})\n",
    "display(dt)"
   ]
  },
  {
   "cell_type": "code",
   "execution_count": 39,
   "metadata": {},
   "outputs": [
    {
     "data": {
      "text/html": [
       "<div>\n",
       "<style scoped>\n",
       "    .dataframe tbody tr th:only-of-type {\n",
       "        vertical-align: middle;\n",
       "    }\n",
       "\n",
       "    .dataframe tbody tr th {\n",
       "        vertical-align: top;\n",
       "    }\n",
       "\n",
       "    .dataframe thead th {\n",
       "        text-align: right;\n",
       "    }\n",
       "</style>\n",
       "<table border=\"1\" class=\"dataframe\">\n",
       "  <thead>\n",
       "    <tr style=\"text-align: right;\">\n",
       "      <th></th>\n",
       "      <th>Density</th>\n",
       "      <th>bodyfat</th>\n",
       "      <th>Age</th>\n",
       "      <th>Weight</th>\n",
       "      <th>Height</th>\n",
       "      <th>Neck</th>\n",
       "      <th>Chest</th>\n",
       "      <th>Abdomen</th>\n",
       "      <th>Hip</th>\n",
       "      <th>Thigh</th>\n",
       "      <th>Knee</th>\n",
       "      <th>Ankle</th>\n",
       "      <th>Biceps</th>\n",
       "      <th>Forearm</th>\n",
       "      <th>Wrist</th>\n",
       "    </tr>\n",
       "  </thead>\n",
       "  <tbody>\n",
       "    <tr>\n",
       "      <th>mean</th>\n",
       "      <td>1.055574</td>\n",
       "      <td>19.150794</td>\n",
       "      <td>44.884921</td>\n",
       "      <td>178.924405</td>\n",
       "      <td>70.148810</td>\n",
       "      <td>37.992063</td>\n",
       "      <td>100.824206</td>\n",
       "      <td>92.555952</td>\n",
       "      <td>99.904762</td>\n",
       "      <td>59.405952</td>\n",
       "      <td>38.590476</td>\n",
       "      <td>23.102381</td>\n",
       "      <td>32.273413</td>\n",
       "      <td>28.663889</td>\n",
       "      <td>18.229762</td>\n",
       "    </tr>\n",
       "    <tr>\n",
       "      <th>min</th>\n",
       "      <td>0.995000</td>\n",
       "      <td>0.000000</td>\n",
       "      <td>22.000000</td>\n",
       "      <td>118.500000</td>\n",
       "      <td>29.500000</td>\n",
       "      <td>31.100000</td>\n",
       "      <td>79.300000</td>\n",
       "      <td>69.400000</td>\n",
       "      <td>85.000000</td>\n",
       "      <td>47.200000</td>\n",
       "      <td>33.000000</td>\n",
       "      <td>19.100000</td>\n",
       "      <td>24.800000</td>\n",
       "      <td>21.000000</td>\n",
       "      <td>15.800000</td>\n",
       "    </tr>\n",
       "    <tr>\n",
       "      <th>25%</th>\n",
       "      <td>1.041400</td>\n",
       "      <td>12.475000</td>\n",
       "      <td>35.750000</td>\n",
       "      <td>159.000000</td>\n",
       "      <td>68.250000</td>\n",
       "      <td>36.400000</td>\n",
       "      <td>94.350000</td>\n",
       "      <td>84.575000</td>\n",
       "      <td>95.500000</td>\n",
       "      <td>56.000000</td>\n",
       "      <td>36.975000</td>\n",
       "      <td>22.000000</td>\n",
       "      <td>30.200000</td>\n",
       "      <td>27.300000</td>\n",
       "      <td>17.600000</td>\n",
       "    </tr>\n",
       "    <tr>\n",
       "      <th>50%</th>\n",
       "      <td>1.054900</td>\n",
       "      <td>19.200000</td>\n",
       "      <td>43.000000</td>\n",
       "      <td>176.500000</td>\n",
       "      <td>70.000000</td>\n",
       "      <td>38.000000</td>\n",
       "      <td>99.650000</td>\n",
       "      <td>90.950000</td>\n",
       "      <td>99.300000</td>\n",
       "      <td>59.000000</td>\n",
       "      <td>38.500000</td>\n",
       "      <td>22.800000</td>\n",
       "      <td>32.050000</td>\n",
       "      <td>28.700000</td>\n",
       "      <td>18.300000</td>\n",
       "    </tr>\n",
       "    <tr>\n",
       "      <th>75%</th>\n",
       "      <td>1.070400</td>\n",
       "      <td>25.300000</td>\n",
       "      <td>54.000000</td>\n",
       "      <td>197.000000</td>\n",
       "      <td>72.250000</td>\n",
       "      <td>39.425000</td>\n",
       "      <td>105.375000</td>\n",
       "      <td>99.325000</td>\n",
       "      <td>103.525000</td>\n",
       "      <td>62.350000</td>\n",
       "      <td>39.925000</td>\n",
       "      <td>24.000000</td>\n",
       "      <td>34.325000</td>\n",
       "      <td>30.000000</td>\n",
       "      <td>18.800000</td>\n",
       "    </tr>\n",
       "    <tr>\n",
       "      <th>max</th>\n",
       "      <td>1.108900</td>\n",
       "      <td>47.500000</td>\n",
       "      <td>81.000000</td>\n",
       "      <td>363.150000</td>\n",
       "      <td>77.750000</td>\n",
       "      <td>51.200000</td>\n",
       "      <td>136.200000</td>\n",
       "      <td>148.100000</td>\n",
       "      <td>147.700000</td>\n",
       "      <td>87.300000</td>\n",
       "      <td>49.100000</td>\n",
       "      <td>33.900000</td>\n",
       "      <td>45.000000</td>\n",
       "      <td>34.900000</td>\n",
       "      <td>21.400000</td>\n",
       "    </tr>\n",
       "    <tr>\n",
       "      <th>mode</th>\n",
       "      <td>1.061000</td>\n",
       "      <td>20.400000</td>\n",
       "      <td>40.000000</td>\n",
       "      <td>152.250000</td>\n",
       "      <td>71.500000</td>\n",
       "      <td>38.500000</td>\n",
       "      <td>99.100000</td>\n",
       "      <td>88.700000</td>\n",
       "      <td>98.300000</td>\n",
       "      <td>58.900000</td>\n",
       "      <td>39.000000</td>\n",
       "      <td>22.000000</td>\n",
       "      <td>30.500000</td>\n",
       "      <td>27.300000</td>\n",
       "      <td>18.800000</td>\n",
       "    </tr>\n",
       "    <tr>\n",
       "      <th>span</th>\n",
       "      <td>0.113900</td>\n",
       "      <td>47.500000</td>\n",
       "      <td>59.000000</td>\n",
       "      <td>244.650000</td>\n",
       "      <td>48.250000</td>\n",
       "      <td>20.100000</td>\n",
       "      <td>56.900000</td>\n",
       "      <td>78.700000</td>\n",
       "      <td>62.700000</td>\n",
       "      <td>40.100000</td>\n",
       "      <td>16.100000</td>\n",
       "      <td>14.800000</td>\n",
       "      <td>20.200000</td>\n",
       "      <td>13.900000</td>\n",
       "      <td>5.600000</td>\n",
       "    </tr>\n",
       "    <tr>\n",
       "      <th>var</th>\n",
       "      <td>0.000361</td>\n",
       "      <td>69.757896</td>\n",
       "      <td>158.181201</td>\n",
       "      <td>860.295248</td>\n",
       "      <td>13.363272</td>\n",
       "      <td>5.885889</td>\n",
       "      <td>70.790882</td>\n",
       "      <td>115.813338</td>\n",
       "      <td>51.120057</td>\n",
       "      <td>27.452623</td>\n",
       "      <td>5.793719</td>\n",
       "      <td>2.861264</td>\n",
       "      <td>9.091872</td>\n",
       "      <td>4.066990</td>\n",
       "      <td>0.868122</td>\n",
       "    </tr>\n",
       "    <tr>\n",
       "      <th>sd</th>\n",
       "      <td>0.018994</td>\n",
       "      <td>8.352119</td>\n",
       "      <td>12.577011</td>\n",
       "      <td>29.330790</td>\n",
       "      <td>3.655581</td>\n",
       "      <td>2.426085</td>\n",
       "      <td>8.413732</td>\n",
       "      <td>10.761661</td>\n",
       "      <td>7.149829</td>\n",
       "      <td>5.239525</td>\n",
       "      <td>2.407015</td>\n",
       "      <td>1.691527</td>\n",
       "      <td>3.015273</td>\n",
       "      <td>2.016678</td>\n",
       "      <td>0.931731</td>\n",
       "    </tr>\n",
       "  </tbody>\n",
       "</table>\n",
       "</div>"
      ],
      "text/plain": [
       "       Density    bodyfat         Age      Weight     Height       Neck  \\\n",
       "mean  1.055574  19.150794   44.884921  178.924405  70.148810  37.992063   \n",
       "min   0.995000   0.000000   22.000000  118.500000  29.500000  31.100000   \n",
       "25%   1.041400  12.475000   35.750000  159.000000  68.250000  36.400000   \n",
       "50%   1.054900  19.200000   43.000000  176.500000  70.000000  38.000000   \n",
       "75%   1.070400  25.300000   54.000000  197.000000  72.250000  39.425000   \n",
       "max   1.108900  47.500000   81.000000  363.150000  77.750000  51.200000   \n",
       "mode  1.061000  20.400000   40.000000  152.250000  71.500000  38.500000   \n",
       "span  0.113900  47.500000   59.000000  244.650000  48.250000  20.100000   \n",
       "var   0.000361  69.757896  158.181201  860.295248  13.363272   5.885889   \n",
       "sd    0.018994   8.352119   12.577011   29.330790   3.655581   2.426085   \n",
       "\n",
       "           Chest     Abdomen         Hip      Thigh       Knee      Ankle  \\\n",
       "mean  100.824206   92.555952   99.904762  59.405952  38.590476  23.102381   \n",
       "min    79.300000   69.400000   85.000000  47.200000  33.000000  19.100000   \n",
       "25%    94.350000   84.575000   95.500000  56.000000  36.975000  22.000000   \n",
       "50%    99.650000   90.950000   99.300000  59.000000  38.500000  22.800000   \n",
       "75%   105.375000   99.325000  103.525000  62.350000  39.925000  24.000000   \n",
       "max   136.200000  148.100000  147.700000  87.300000  49.100000  33.900000   \n",
       "mode   99.100000   88.700000   98.300000  58.900000  39.000000  22.000000   \n",
       "span   56.900000   78.700000   62.700000  40.100000  16.100000  14.800000   \n",
       "var    70.790882  115.813338   51.120057  27.452623   5.793719   2.861264   \n",
       "sd      8.413732   10.761661    7.149829   5.239525   2.407015   1.691527   \n",
       "\n",
       "         Biceps    Forearm      Wrist  \n",
       "mean  32.273413  28.663889  18.229762  \n",
       "min   24.800000  21.000000  15.800000  \n",
       "25%   30.200000  27.300000  17.600000  \n",
       "50%   32.050000  28.700000  18.300000  \n",
       "75%   34.325000  30.000000  18.800000  \n",
       "max   45.000000  34.900000  21.400000  \n",
       "mode  30.500000  27.300000  18.800000  \n",
       "span  20.200000  13.900000   5.600000  \n",
       "var    9.091872   4.066990   0.868122  \n",
       "sd     3.015273   2.016678   0.931731  "
      ]
     },
     "metadata": {},
     "output_type": "display_data"
    }
   ],
   "source": [
    "# visualisieren sd\n",
    "cnt = dt.count()[0]\n",
    "dt.loc[len(dt)] = sd1(df)\n",
    "dt = dt.rename(index = {cnt:'sd'})\n",
    "display(dt)"
   ]
  },
  {
   "cell_type": "markdown",
   "metadata": {},
   "source": [
    "# c) "
   ]
  },
  {
   "cell_type": "markdown",
   "metadata": {},
   "source": [
    "# Ausreißer\n",
    "was sind Ausreißer: An outlier is a value or point that differs substantially from the rest of the data.\n",
    "wie können sie entstehen:1.Code for missing data(Numeric values,String values,Dates,Names) 2.Data entry/recording errors(Typos: If someone is manually entering data, it can be easy to record something incorrectly.Incorrect units: If different people are recording data, sometimes the information could have been recorded correctly, but a different unit of measure is used. Identifying these types of errors typically requires some knowledge of the expected range of values of values and can be trickier to identify.)\n"
   ]
  },
  {
   "cell_type": "markdown",
   "metadata": {},
   "source": [
    "# d) "
   ]
  },
  {
   "cell_type": "markdown",
   "metadata": {},
   "source": [
    "## robust: Median und Quantil"
   ]
  },
  {
   "cell_type": "markdown",
   "metadata": {},
   "source": [
    "Median"
   ]
  },
  {
   "cell_type": "code",
   "execution_count": 40,
   "metadata": {},
   "outputs": [],
   "source": [
    "l1 = [156, 146, 136, 167 ,177]\n",
    "l2 = [156, 146, 136, 167 ,257]"
   ]
  },
  {
   "cell_type": "code",
   "execution_count": 41,
   "metadata": {},
   "outputs": [
    {
     "data": {
      "text/plain": [
       "156"
      ]
     },
     "execution_count": 41,
     "metadata": {},
     "output_type": "execute_result"
    }
   ],
   "source": [
    "statistics.median(l1)"
   ]
  },
  {
   "cell_type": "code",
   "execution_count": 42,
   "metadata": {},
   "outputs": [
    {
     "data": {
      "text/plain": [
       "156"
      ]
     },
     "execution_count": 42,
     "metadata": {},
     "output_type": "execute_result"
    }
   ],
   "source": [
    "statistics.median(l2)"
   ]
  },
  {
   "cell_type": "markdown",
   "metadata": {},
   "source": [
    "Quantil(.25, .75)"
   ]
  },
  {
   "cell_type": "code",
   "execution_count": 43,
   "metadata": {},
   "outputs": [
    {
     "data": {
      "text/plain": [
       "146.0"
      ]
     },
     "execution_count": 43,
     "metadata": {},
     "output_type": "execute_result"
    }
   ],
   "source": [
    "np.quantile(l1, .25)"
   ]
  },
  {
   "cell_type": "code",
   "execution_count": 44,
   "metadata": {},
   "outputs": [
    {
     "data": {
      "text/plain": [
       "167.0"
      ]
     },
     "execution_count": 44,
     "metadata": {},
     "output_type": "execute_result"
    }
   ],
   "source": [
    "np.quantile(l1, .75)"
   ]
  },
  {
   "cell_type": "code",
   "execution_count": 45,
   "metadata": {},
   "outputs": [
    {
     "data": {
      "text/plain": [
       "146.0"
      ]
     },
     "execution_count": 45,
     "metadata": {},
     "output_type": "execute_result"
    }
   ],
   "source": [
    "np.quantile(l2, .25)"
   ]
  },
  {
   "cell_type": "code",
   "execution_count": 46,
   "metadata": {},
   "outputs": [
    {
     "data": {
      "text/plain": [
       "167.0"
      ]
     },
     "execution_count": 46,
     "metadata": {},
     "output_type": "execute_result"
    }
   ],
   "source": [
    "np.quantile(l2, .75)"
   ]
  },
  {
   "cell_type": "markdown",
   "metadata": {},
   "source": [
    "## nicht robust: Mean, Spannweite, Modus, Standardabweichung, Varianz"
   ]
  },
  {
   "cell_type": "markdown",
   "metadata": {},
   "source": [
    "Mean"
   ]
  },
  {
   "cell_type": "code",
   "execution_count": 47,
   "metadata": {},
   "outputs": [
    {
     "data": {
      "text/plain": [
       "156.4"
      ]
     },
     "execution_count": 47,
     "metadata": {},
     "output_type": "execute_result"
    }
   ],
   "source": [
    "statistics.mean(l1)"
   ]
  },
  {
   "cell_type": "code",
   "execution_count": 48,
   "metadata": {},
   "outputs": [
    {
     "data": {
      "text/plain": [
       "172.4"
      ]
     },
     "execution_count": 48,
     "metadata": {},
     "output_type": "execute_result"
    }
   ],
   "source": [
    "statistics.mean(l2)"
   ]
  },
  {
   "cell_type": "markdown",
   "metadata": {},
   "source": [
    "Spannweite"
   ]
  },
  {
   "cell_type": "code",
   "execution_count": 49,
   "metadata": {},
   "outputs": [
    {
     "data": {
      "text/plain": [
       "41"
      ]
     },
     "execution_count": 49,
     "metadata": {},
     "output_type": "execute_result"
    }
   ],
   "source": [
    "max(l1) - min(l1)"
   ]
  },
  {
   "cell_type": "code",
   "execution_count": 50,
   "metadata": {},
   "outputs": [
    {
     "data": {
      "text/plain": [
       "121"
      ]
     },
     "execution_count": 50,
     "metadata": {},
     "output_type": "execute_result"
    }
   ],
   "source": [
    "max(l2) - min(l2)"
   ]
  },
  {
   "cell_type": "markdown",
   "metadata": {},
   "source": [
    "Modus"
   ]
  },
  {
   "cell_type": "code",
   "execution_count": 51,
   "metadata": {},
   "outputs": [],
   "source": [
    "l3 = [156, 146, 136, 167 ,177, 177]\n",
    "l4 = [156, 146, 136, 167 ,177, 256]\n",
    "l5 = [156, 146, 136, 167 ,177, 288]"
   ]
  },
  {
   "cell_type": "code",
   "execution_count": 52,
   "metadata": {},
   "outputs": [
    {
     "data": {
      "text/plain": [
       "177"
      ]
     },
     "execution_count": 52,
     "metadata": {},
     "output_type": "execute_result"
    }
   ],
   "source": [
    "statistics.mode(l3)"
   ]
  },
  {
   "cell_type": "code",
   "execution_count": 53,
   "metadata": {},
   "outputs": [
    {
     "data": {
      "text/plain": [
       "156"
      ]
     },
     "execution_count": 53,
     "metadata": {},
     "output_type": "execute_result"
    }
   ],
   "source": [
    "statistics.mode(l4)"
   ]
  },
  {
   "cell_type": "markdown",
   "metadata": {},
   "source": [
    "Standardabweichung"
   ]
  },
  {
   "cell_type": "code",
   "execution_count": 54,
   "metadata": {},
   "outputs": [
    {
     "data": {
      "text/plain": [
       "14.568459081179451"
      ]
     },
     "execution_count": 54,
     "metadata": {},
     "output_type": "execute_result"
    }
   ],
   "source": [
    "np.std(l1)"
   ]
  },
  {
   "cell_type": "code",
   "execution_count": 55,
   "metadata": {},
   "outputs": [
    {
     "data": {
      "text/plain": [
       "43.53665122629438"
      ]
     },
     "execution_count": 55,
     "metadata": {},
     "output_type": "execute_result"
    }
   ],
   "source": [
    "np.std(l2)"
   ]
  },
  {
   "cell_type": "markdown",
   "metadata": {},
   "source": [
    "Varianz"
   ]
  },
  {
   "cell_type": "code",
   "execution_count": 56,
   "metadata": {},
   "outputs": [
    {
     "data": {
      "text/plain": [
       "265.3"
      ]
     },
     "execution_count": 56,
     "metadata": {},
     "output_type": "execute_result"
    }
   ],
   "source": [
    "statistics.variance(l1)"
   ]
  },
  {
   "cell_type": "code",
   "execution_count": 57,
   "metadata": {},
   "outputs": [
    {
     "data": {
      "text/plain": [
       "2369.3"
      ]
     },
     "execution_count": 57,
     "metadata": {},
     "output_type": "execute_result"
    }
   ],
   "source": [
    "statistics.variance(l2)"
   ]
  },
  {
   "cell_type": "markdown",
   "metadata": {},
   "source": [
    "# e)"
   ]
  },
  {
   "cell_type": "markdown",
   "metadata": {},
   "source": [
    "# eine Beispiele machen\n",
    "Sometimes, the typical ranges of a value are known. For example, when measuring blood pressure, your doctor likely has a good idea of what is considered to be within the normal blood pressure range. If they were looking at the values above, they would identify that all of the values that are highlighted orange indicate high blood pressure. As a result, they may advise some course of action.\n",
    "\n",
    "In this case, “outliers”, or important variations are defined by existing knowledge that establishes the normal range. It might be the case that you know the ranges that you are expecting from your data. If you identify points that fall outside this range, these may be worth additional investigation."
   ]
  },
  {
   "cell_type": "markdown",
   "metadata": {},
   "source": [
    "#  f)"
   ]
  },
  {
   "cell_type": "code",
   "execution_count": 96,
   "metadata": {},
   "outputs": [],
   "source": [
    "# greater than Q3+1.5(interquartile Range) or lower than Q1-1.5(interquartile Range)\n",
    "def outliers1(df):\n",
    "    z = []\n",
    "    for x in df:\n",
    "        l = []\n",
    "        q1 = np.quantile(df[x], .25)\n",
    "        q3 = np.quantile(df[x], .75)\n",
    "        for i in df[x]:\n",
    "            if (i < q1 - 1.5*(q3-q1) or i > q3 + 1.5*(q3-q1)):\n",
    "                l.append(i)\n",
    "        z.append(l)\n",
    "    return z"
   ]
  },
  {
   "cell_type": "code",
   "execution_count": 98,
   "metadata": {},
   "outputs": [
    {
     "data": {
      "text/plain": [
       "[[0.995],\n",
       " [47.5],\n",
       " [],\n",
       " [262.75, 363.15],\n",
       " [29.5],\n",
       " [31.1, 31.5, 51.2],\n",
       " [128.3, 136.2],\n",
       " [122.1, 126.2, 148.1],\n",
       " [116.1, 125.6, 147.7],\n",
       " [72.5, 72.9, 74.4, 87.3],\n",
       " [45.0, 46.0, 49.1],\n",
       " [29.6, 33.7, 33.9],\n",
       " [45.0],\n",
       " [21.0, 22.0, 23.1, 23.1, 34.9],\n",
       " [15.8, 20.9, 21.4, 21.4]]"
      ]
     },
     "execution_count": 98,
     "metadata": {},
     "output_type": "execute_result"
    }
   ],
   "source": [
    "outliers1(df)"
   ]
  },
  {
   "cell_type": "code",
   "execution_count": 99,
   "metadata": {},
   "outputs": [],
   "source": [
    "def outliers2(df):\n",
    "    \"\"\"\n",
    "    data: pandas.DataFrame\n",
    "    \"\"\"\n",
    "    data_np = df.to_numpy()\n",
    "    q1 = np.quantile(data_np, 0.25, axis=0)\n",
    "    q3 = np.quantile(data_np, 0.75, axis=0)\n",
    "    diff = q3 - q1\n",
    "    outliers = data_np * np.logical_or((data_np < q1 - 1.5 * diff), (data_np > q3 + 1.5 * diff))\n",
    "    \n",
    "    dst_dict = {}\n",
    "    for i_col, key in enumerate(list(df.columns)):\n",
    "        column = outliers[:, i_col]\n",
    "        dst_dict[key] = column[np.nonzero(column)]\n",
    "    return dst_dict"
   ]
  },
  {
   "cell_type": "code",
   "execution_count": 100,
   "metadata": {},
   "outputs": [
    {
     "data": {
      "text/plain": [
       "{'Density': array([0.995]),\n",
       " 'bodyfat': array([47.5]),\n",
       " 'Age': array([], dtype=float64),\n",
       " 'Weight': array([262.75, 363.15]),\n",
       " 'Height': array([29.5]),\n",
       " 'Neck': array([31.1, 31.5, 51.2]),\n",
       " 'Chest': array([128.3, 136.2]),\n",
       " 'Abdomen': array([122.1, 126.2, 148.1]),\n",
       " 'Hip': array([116.1, 125.6, 147.7]),\n",
       " 'Thigh': array([72.5, 72.9, 74.4, 87.3]),\n",
       " 'Knee': array([45. , 46. , 49.1]),\n",
       " 'Ankle': array([29.6, 33.7, 33.9]),\n",
       " 'Biceps': array([45.]),\n",
       " 'Forearm': array([21. , 22. , 23.1, 23.1, 34.9]),\n",
       " 'Wrist': array([15.8, 20.9, 21.4, 21.4])}"
      ]
     },
     "execution_count": 100,
     "metadata": {},
     "output_type": "execute_result"
    }
   ],
   "source": [
    "outliers2(df)"
   ]
  },
  {
   "cell_type": "code",
   "execution_count": 101,
   "metadata": {},
   "outputs": [
    {
     "data": {
      "text/plain": [
       "<AxesSubplot:xlabel='Wrist'>"
      ]
     },
     "execution_count": 101,
     "metadata": {},
     "output_type": "execute_result"
    },
    {
     "data": {
      "image/png": "[encoded data removed]",
      "text/plain": [
       "<Figure size 432x288 with 1 Axes>"
      ]
     },
     "metadata": {
      "needs_background": "light"
     },
     "output_type": "display_data"
    }
   ],
   "source": [
    "sns.boxplot(data=df, x = df['Wrist'])"
   ]
  },
  {
   "cell_type": "markdown",
   "metadata": {},
   "source": [
    "### ----------------------------------------------------------------------------------------- "
   ]
  },
  {
   "cell_type": "markdown",
   "metadata": {},
   "source": [
    "# g)"
   ]
  },
  {
   "cell_type": "markdown",
   "metadata": {},
   "source": [
    "### 1.Tippfehler und offensichtliche Messfehler löschen\n",
    "Zunächst solltest Du einen Datencheck machen. Dazu berechnest Du die deskriptiven Maße (insbesondere Minimum und Maximum) Deiner metrischen Parameter und prüfst, ob alle Werte sinnvolle Werte sind. Anhand von Minimum und Maximum würdest Du erkennen, wenn es offensichtliche Messfehler (unmögliche Werte) oder Tippfehler in den Daten gibt, z.B. ein Patientenalter von 130. Diese Werte würdest Du entweder direkt löschen oder, wenn Du die Möglichkeit hast, verbesserst Du die Eingabe z.B. über eine Ansicht der Patientenakten.\n",
    "bodyfat: min 0.00000%\n",
    "Height: 29.500000 Zoll = 74.93 cm(wegen minage ist 22)"
   ]
  },
  {
   "cell_type": "markdown",
   "metadata": {},
   "source": [
    "### 2. Ungewöhnliche Werte ausschließen\n",
    "Wenn Du im nächsten Schritt immer noch ungewöhnliche Werte hast (ungewöhnlich hoch oder niedrig), ohne, dass diese Werte offensichtlich als Tipp- oder Messfehler bezeichnet werden können, betrachtest Du den Fall (Patient, Objekt), bei dem dieser Wert auftritt. Eventuell kannst Du diesen Fall als ungewöhnlichen Fall identifizieren, der nicht in Deine Stichprobe (also nicht in die Grundgesamtheit) passt. Das könnte zum Beispiel dann sein, wenn dieser extreme Wert bei einem Patienten auftritt, der bei genauerer Betrachtung seine Medikamente nicht eingenommen hat. Dann passt dieser Patient nicht in Deine Grundgesamtheit und Du schließt den Patient komplett aus der Analyse aus."
   ]
  },
  {
   "cell_type": "markdown",
   "metadata": {},
   "source": [
    "### 3. Verteilung prüfen und eventuell transformieren\n",
    "Nun prüfst Du die Verteilung Deines Parameters. Zeigt sich eine Schiefe, so kannst Du Transformationen ausprobieren, um die Daten mit Hilfe der Transformation in eine annähernde Normalverteilung zu überführen. Dadurch können auch extreme Werte an die Daten angenähert werden, so dass Du nach der Transformation keine oder zumindest weniger Ausreißer hast."
   ]
  },
  {
   "cell_type": "markdown",
   "metadata": {},
   "source": [
    "### 4. Nicht-parametrische Methoden oder Bootstrapping verwenden\n",
    "Wenn Du diese Schritte gegangen bist und immer noch Ausreißer hast, so wirst Du keine Methode verwenden können, die eine Normalverteilung voraussetzt. Denn mit Ausreißern sind Deine Daten nicht normalverteilt und die parametrischen Methoden werden durch Ausreißer beeinflusst: das Ergebnis ist nicht verlässlich.\n",
    "\n",
    "Wenn Du eine einfache Analyse rechnest (z.B. einfacher Lageunterschied oder Korrelation), so kannst Du als Analysemethode die nicht-parameterische Methode wählen, die keine Normalverteilung voraussetzt und robust auf Ausreißer reagiert.\n",
    "\n",
    "Wenn Du eine komplexere Analyse rechnest (z.B. ein mehrfaktorielles Design), dann gibt es meist keine nicht-parametrische Alternative. Dann kannst Du aber Deine ausgewählte Methode (z.B. ANOVA) zusätzlich mit Bootstrapping rechnen. Die Ergebnisse des Bootstrappings reagieren robust auf Ausreißer und sind demnach verlässlich, auch wenn Ausreißer in den Daten vorliegen."
   ]
  },
  {
   "cell_type": "markdown",
   "metadata": {},
   "source": [
    "### 5. Ausreißer aufgrund großer Residuen nach Daumenregel ausschließen\n",
    "Zudem gibt es für manche Methoden Daumenregeln, nach denen Du Dich in der Untersuchung der Ausreißer richten kannst und nach denen Du auch zu große Ausreißer ausschließen kannst. Dabei ist es wichtig, dass es hier immer um die Ausreißer in einem Modell geht, das heißt, es werden nicht die Messwerte selbst betrachtet sondern die Residuen – die Abweichungen vom Modell.\n",
    "\n",
    "Eine solche Daumenregel gibt es zum Beispiel für die lineare Regression. Hier soll es keine standardisierten Residuen größer als 3 oder kleiner als -3 geben. Es dürfen höchstens 1 % der standardisierten Residuen größer als 2,5 oder kleiner als -2,5 sein. Und nur 5 % dürfen größer als 2 oder kleiner als -2 sein. (Field, 2013)\n",
    "\n",
    "Alle Fälle, deren Residuen aus diesen Bereichen heraus fallen, kannst Du anhand dieser Regel aus der Analyse heraus nehmen und das Modell nochmals rechnen."
   ]
  },
  {
   "cell_type": "markdown",
   "metadata": {},
   "source": [
    "#### Ich möchte hier nur Height = 29.5 löschen. andere outlier möchte ich nicht löschen, weil besondere Körperdaten ein ungewöhnliches Signal eines Menschen zeigen können."
   ]
  },
  {
   "cell_type": "markdown",
   "metadata": {},
   "source": [
    "# h)\n",
    "1. Wenn alle normale Feature einer Daten zwischen 0 bis 1 liegen, komme ein Ausreißer 20. Vorher mean ist 0.5 auf, jetzt mean ist viele mehr als 0.5. Wenn ohne dieser Ausreißer, wird unser Model die Richtigkeit der Prognose erhöhen.\n",
    "2. Angenommen, dass eine Patient 140 Blutdruck als Ausreißer (normale Blutdruck zwischen 80-120)hat. Wenn wir solche Ausreißer löschen, können wir nicht Krankheit richtig vorhersagen."
   ]
  }
 ],
 "metadata": {
  "kernelspec": {
   "display_name": "Python 3",
   "language": "python",
   "name": "python3"
  },
  "language_info": {
   "codemirror_mode": {
    "name": "ipython",
    "version": 3
   },
   "file_extension": ".py",
   "mimetype": "text/x-python",
   "name": "python",
   "nbconvert_exporter": "python",
   "pygments_lexer": "ipython3",
   "version": "3.8.5"
  }
 },
 "nbformat": 4,
 "nbformat_minor": 4
}
