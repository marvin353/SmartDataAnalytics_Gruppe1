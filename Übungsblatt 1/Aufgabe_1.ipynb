{
 "cells": [
  {
   "cell_type": "markdown",
   "metadata": {
    "collapsed": true,
    "pycharm": {
     "name": "#%% md\n"
    }
   },
   "source": [
    "# Aufgabe 1\n",
    "## a)\n",
    "Grundsätzlich vergleicht man Algorithmen und Modelle um diejenigen mit der besten Performance zu finden.\n",
    "Durch Variation der Hyperparameter entstehen aus den selben Algorithmen teilweise höchst unterschiedliche Modelle welche dann über verschiedene Performance Metriken miteinander Verglichen werden können.\n",
    "\n",
    "## b)\n",
    "Reproduzierbarkeit ist die Fähigkeit (auch für andere Personen) einen Prozess so auszuführen, dass das selbe Ergebniss wieder erzeugt werden kann.\n",
    "Im maschinellen Lernen bedeutet Reproduzierbarkeit in der Lage zu sein einen machine learning workfolw so nachbilden zu können, dass die selben Resultate wie in der ursprünglichen Arbeit ertzeugt werden können und man aus dem Modell die selben Schlussfolgerungen ziehen kann.\n",
    "\n",
    "## c)\n",
    "Um Reproduzierbarkeit und Vergleichbarkeit zu gewährleisten, muss der Datensatz öffentlich bekannt und zugänglich sein. Außerdem muss das Vorgehen beim Preprocessing und die Konfiguration des Models und der Hyperparameter, sowie alle verwendeten Wekzeuge, Tools und Pakete inklusive Versionsnummern und die verwendete Umgebung genau in einer Spezifikation niedergeschrieben sein. Sollte an manchen Stellen, wie z.B. bei der Aufteilung des Datensatzes in Trainings- und Testset, Zufall verwendet worden sein, so muss ein random state gesetzt und bekanntgegeben werden.\n",
    "\n"
   ]
  }
 ],
 "metadata": {
  "kernelspec": {
   "display_name": "Python 3",
   "language": "python",
   "name": "python3"
  },
  "language_info": {
   "codemirror_mode": {
    "name": "ipython",
    "version": 2
   },
   "file_extension": ".py",
   "mimetype": "text/x-python",
   "name": "python",
   "nbconvert_exporter": "python",
   "pygments_lexer": "ipython2",
   "version": "2.7.6"
  },
  "pycharm": {
   "stem_cell": {
    "cell_type": "raw",
    "source": [],
    "metadata": {
     "collapsed": false
    }
   }
  }
 },
 "nbformat": 4,
 "nbformat_minor": 0
}