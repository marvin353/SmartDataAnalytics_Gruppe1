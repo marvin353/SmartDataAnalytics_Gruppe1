{
 "cells": [
  {
   "cell_type": "markdown",
   "metadata": {
    "collapsed": true,
    "pycharm": {
     "name": "#%% md\n"
    }
   },
   "source": [
    "# Aufgabe 2 - CNN\n"
   ]
  },
  {
   "cell_type": "code",
   "execution_count": 1,
   "outputs": [],
   "source": [
    "# import the necessary packages\n",
    "from sklearn.preprocessing import LabelBinarizer\n",
    "from sklearn.metrics import classification_report\n",
    "from tensorflow.keras.models import Sequential\n",
    "from tensorflow.keras.layers import Dense, Conv2D, Flatten, MaxPooling2D\n",
    "from tensorflow.keras.optimizers import SGD\n",
    "from tensorflow.keras.datasets import mnist\n",
    "import matplotlib.pyplot as plt\n",
    "import numpy as np\n"
   ],
   "metadata": {
    "collapsed": false,
    "pycharm": {
     "name": "#%%\n"
    }
   }
  },
  {
   "cell_type": "markdown",
   "source": [
    "## Variablen"
   ],
   "metadata": {
    "collapsed": false,
    "pycharm": {
     "name": "#%% md\n"
    }
   }
  },
  {
   "cell_type": "code",
   "execution_count": 2,
   "outputs": [],
   "source": [
    "epochs = 20\n",
    "batch_size = 128\n",
    "sgd = SGD(0.01)\n"
   ],
   "metadata": {
    "collapsed": false,
    "pycharm": {
     "name": "#%%\n"
    }
   }
  },
  {
   "cell_type": "markdown",
   "source": [
    "## Dataset"
   ],
   "metadata": {
    "collapsed": false
   }
  },
  {
   "cell_type": "code",
   "execution_count": 3,
   "outputs": [
    {
     "name": "stdout",
     "output_type": "stream",
     "text": [
      "[INFO] accessing MNIST...\n"
     ]
    }
   ],
   "source": [
    "# Grab the MNIST dataset\n",
    "# The dataset is already split into train and test set (with distribution train:60k to test:10k)\n",
    "print(\"[INFO] accessing MNIST...\")\n",
    "((train_X, train_y), (test_X, test_y)) = mnist.load_data()\n",
    "\n",
    "# Each image in the MNIST dataset is represented as a 28x28x1\n",
    "# Flatten the images from 28x28 pixels to list with length 784 to be able to apply it to standart feed forward neural network\n",
    "#train_X = train_X.reshape((train_X.shape[0], 28 * 28 * 1))\n",
    "#test_X = test_X.reshape((test_X.shape[0], 28 * 28 * 1))\n",
    "train_X = train_X.reshape(train_X.shape[0], 28, 28, 1)\n",
    "test_X = test_X.reshape(test_X.shape[0], 28, 28, 1)\n",
    "\n",
    "# Scale data to the range of [0, 1]\n",
    "train_X = train_X.astype(\"float32\") / 255.0\n",
    "test_X = test_X.astype(\"float32\") / 255.0\n",
    "\n",
    "# Perform one-hot-encoding to convert the labels from integers to vectors\n",
    "lb = LabelBinarizer()\n",
    "train_y = lb.fit_transform(train_y)\n",
    "test_y = lb.transform(test_y)\n"
   ],
   "metadata": {
    "collapsed": false,
    "pycharm": {
     "name": "#%%\n"
    }
   }
  },
  {
   "cell_type": "markdown",
   "source": [
    "## a) Netzwerk"
   ],
   "metadata": {
    "collapsed": false
   }
  },
  {
   "cell_type": "code",
   "execution_count": 10,
   "outputs": [],
   "source": [
    "model = Sequential()\n",
    "model.add(Conv2D(32, kernel_size=3, activation='relu', input_shape=(28,28,1)))\n",
    "#1\n",
    "model.add(Conv2D(32, kernel_size=3, activation='relu'))\n",
    "#model.add(MaxPooling2D(pool_size=(2,2)))\n",
    "#2\n",
    "model.add(Conv2D(32, kernel_size=3, activation='relu'))\n",
    "#model.add(MaxPooling2D(pool_size=(2,2)))\n",
    "#3\n",
    "model.add(Conv2D(32, kernel_size=3, activation='relu'))\n",
    "#model.add(MaxPooling2D(pool_size=(2,2)))\n",
    "#4\n",
    "model.add(Conv2D(32, kernel_size=3, activation='relu'))\n",
    "model.add(MaxPooling2D(pool_size=(2,2)))\n",
    "#5\n",
    "model.add(Conv2D(32, kernel_size=3, activation='relu'))\n",
    "#model.add(MaxPooling2D(pool_size=(2,2)))\n",
    "#6\n",
    "model.add(Conv2D(32, kernel_size=3, activation='relu'))\n",
    "model.add(MaxPooling2D(pool_size=(2,2)))\n",
    "\n",
    "\n",
    "model.add(Flatten())\n",
    "model.add(Dense(10, activation=\"softmax\"))"
   ],
   "metadata": {
    "collapsed": false,
    "pycharm": {
     "name": "#%%\n"
    }
   }
  },
  {
   "cell_type": "markdown",
   "source": [
    "## b) Training"
   ],
   "metadata": {
    "collapsed": false
   }
  },
  {
   "cell_type": "code",
   "execution_count": 11,
   "outputs": [
    {
     "name": "stdout",
     "output_type": "stream",
     "text": [
      "[INFO] training network...\n",
      "Epoch 1/20\n",
      "469/469 - 121s - loss: 1.8820 - accuracy: 0.3862 - val_loss: 0.6182 - val_accuracy: 0.8012\n",
      "Epoch 2/20\n",
      "469/469 - 104s - loss: 0.3561 - accuracy: 0.8903 - val_loss: 0.2562 - val_accuracy: 0.9208\n",
      "Epoch 3/20\n",
      "469/469 - 104s - loss: 0.2078 - accuracy: 0.9358 - val_loss: 0.1826 - val_accuracy: 0.9406\n",
      "Epoch 4/20\n",
      "469/469 - 103s - loss: 0.1591 - accuracy: 0.9512 - val_loss: 0.1391 - val_accuracy: 0.9571\n",
      "Epoch 5/20\n",
      "469/469 - 105s - loss: 0.1342 - accuracy: 0.9590 - val_loss: 0.1308 - val_accuracy: 0.9601\n",
      "Epoch 6/20\n",
      "469/469 - 105s - loss: 0.1172 - accuracy: 0.9644 - val_loss: 0.1053 - val_accuracy: 0.9676\n",
      "Epoch 7/20\n",
      "469/469 - 106s - loss: 0.1078 - accuracy: 0.9674 - val_loss: 0.1066 - val_accuracy: 0.9673\n",
      "Epoch 8/20\n",
      "469/469 - 105s - loss: 0.0966 - accuracy: 0.9698 - val_loss: 0.0872 - val_accuracy: 0.9726\n",
      "Epoch 9/20\n",
      "469/469 - 107s - loss: 0.0890 - accuracy: 0.9728 - val_loss: 0.0828 - val_accuracy: 0.9750\n",
      "Epoch 10/20\n",
      "469/469 - 105s - loss: 0.0827 - accuracy: 0.9749 - val_loss: 0.0867 - val_accuracy: 0.9738\n",
      "Epoch 11/20\n",
      "469/469 - 105s - loss: 0.0777 - accuracy: 0.9760 - val_loss: 0.0808 - val_accuracy: 0.9759\n",
      "Epoch 12/20\n",
      "469/469 - 104s - loss: 0.0724 - accuracy: 0.9782 - val_loss: 0.0807 - val_accuracy: 0.9746\n",
      "Epoch 13/20\n",
      "469/469 - 105s - loss: 0.0687 - accuracy: 0.9785 - val_loss: 0.0665 - val_accuracy: 0.9796\n",
      "Epoch 14/20\n",
      "469/469 - 108s - loss: 0.0645 - accuracy: 0.9802 - val_loss: 0.0773 - val_accuracy: 0.9767\n",
      "Epoch 15/20\n",
      "469/469 - 115s - loss: 0.0620 - accuracy: 0.9808 - val_loss: 0.0670 - val_accuracy: 0.9806\n",
      "Epoch 16/20\n",
      "469/469 - 111s - loss: 0.0584 - accuracy: 0.9819 - val_loss: 0.0653 - val_accuracy: 0.9810\n",
      "Epoch 17/20\n",
      "469/469 - 113s - loss: 0.0560 - accuracy: 0.9829 - val_loss: 0.0653 - val_accuracy: 0.9796\n",
      "Epoch 18/20\n",
      "469/469 - 112s - loss: 0.0537 - accuracy: 0.9834 - val_loss: 0.0585 - val_accuracy: 0.9819\n",
      "Epoch 19/20\n",
      "469/469 - 116s - loss: 0.0515 - accuracy: 0.9841 - val_loss: 0.0592 - val_accuracy: 0.9819\n",
      "Epoch 20/20\n",
      "469/469 - 111s - loss: 0.0499 - accuracy: 0.9846 - val_loss: 0.0645 - val_accuracy: 0.9803\n"
     ]
    }
   ],
   "source": [
    "# train the model using SGD and categorical crossentropy\n",
    "print(\"[INFO] training network...\")\n",
    "epochs = 20\n",
    "sgd = SGD(0.01)\n",
    "model.compile(loss=\"categorical_crossentropy\", optimizer=sgd, metrics=[\"accuracy\"])\n",
    "H = model.fit(train_X, train_y, validation_data=(test_X, test_y), epochs=epochs, batch_size=128, verbose=2)"
   ],
   "metadata": {
    "collapsed": false,
    "pycharm": {
     "name": "#%%\n"
    }
   }
  },
  {
   "cell_type": "markdown",
   "source": [
    "## c) Evaluation"
   ],
   "metadata": {
    "collapsed": false,
    "pycharm": {
     "name": "#%% md\n"
    }
   }
  },
  {
   "cell_type": "code",
   "execution_count": 6,
   "outputs": [
    {
     "name": "stdout",
     "output_type": "stream",
     "text": [
      "[INFO] evaluating network...\n",
      "              precision    recall  f1-score   support\n",
      "\n",
      "           0       0.98      0.99      0.99       980\n",
      "           1       0.99      0.99      0.99      1135\n",
      "           2       0.98      0.98      0.98      1032\n",
      "           3       0.97      0.99      0.98      1010\n",
      "           4       0.98      0.99      0.98       982\n",
      "           5       0.98      0.98      0.98       892\n",
      "           6       0.99      0.97      0.98       958\n",
      "           7       0.97      0.99      0.98      1028\n",
      "           8       0.99      0.97      0.98       974\n",
      "           9       0.99      0.97      0.98      1009\n",
      "\n",
      "    accuracy                           0.98     10000\n",
      "   macro avg       0.98      0.98      0.98     10000\n",
      "weighted avg       0.98      0.98      0.98     10000\n",
      "\n"
     ]
    }
   ],
   "source": [
    "# Evaluate the network\n",
    "print(\"[INFO] evaluating network...\")\n",
    "predictions = model.predict(test_X, batch_size=128)\n",
    "print(classification_report(test_y.argmax(axis=1),\n",
    "\tpredictions.argmax(axis=1),\n",
    "\ttarget_names=[str(x) for x in lb.classes_]))"
   ],
   "metadata": {
    "collapsed": false,
    "pycharm": {
     "name": "#%%\n"
    }
   }
  },
  {
   "cell_type": "code",
   "execution_count": 12,
   "outputs": [
    {
     "data": {
      "text/plain": "<Figure size 432x288 with 1 Axes>",
      "image/png": "[encoded data removed]"
     },
     "metadata": {},
     "output_type": "display_data"
    },
    {
     "data": {
      "text/plain": "<Figure size 432x288 with 1 Axes>",
      "image/png": "[encoded data removed]"
     },
     "metadata": {},
     "output_type": "display_data"
    }
   ],
   "source": [
    "# plot the training accuracy\n",
    "plt.style.use(\"ggplot\")\n",
    "plt.figure()\n",
    "plt.plot(np.arange(0, epochs), H.history[\"accuracy\"], label=\"train_acc\")\n",
    "plt.plot(np.arange(0, epochs), H.history[\"val_accuracy\"], label=\"val_acc\")\n",
    "plt.title(\"Training Accuracy\")\n",
    "plt.xlabel(\"Epoch #\")\n",
    "plt.ylabel(\"Accuracy\")\n",
    "plt.legend(bbox_to_anchor=(0.995,1.02), loc=\"upper left\", ncol=1)\n",
    "plt.show()\n",
    "\n",
    "# plot the training loss\n",
    "plt.plot(np.arange(0, epochs), H.history[\"loss\"], label=\"train_loss\")\n",
    "plt.plot(np.arange(0, epochs), H.history[\"val_loss\"], label=\"val_loss\")\n",
    "plt.title(\"Training Loss\")\n",
    "plt.xlabel(\"Epoch #\")\n",
    "plt.ylabel(\"Loss\")\n",
    "plt.legend(bbox_to_anchor=(0.995,1.02), loc=\"upper left\", ncol=1)\n",
    "plt.show()"
   ],
   "metadata": {
    "collapsed": false,
    "pycharm": {
     "name": "#%%\n"
    }
   }
  },
  {
   "cell_type": "markdown",
   "source": [
    "Beschreibung c)\n",
    "\n",
    "## d) ANN vs. CNN\n",
    "Im Vergleich zum ANN aus Aufgabe 1 hat das CNN hier eine weitaus bessere Performance. Beim einfachen ANN haben wir eine Accuracy von ca. 90% erreicht, woohingegen wir hier einen Wert von ca. 98% erreichen.\n",
    "Grund hierfür ist, dass das CNN durch seine Beschaffenheit besser in der LAge ist mit Bilddaten umzugehen. Wir haben hier die Möglichkeit dem Netzwerk das Bild als ganzes zu übergeben, sodass die Zusammenhänge innerhalb der 2-dimensoinalen Eingabe bestehen bleiben, wohingegen es beim ANN notwendig ist das Bild zeilenweise aneinander zu fügen, um einen eindimensionalen Vektor zu bekommen, welcher von der Input Schicht des ANN angenommen werden kann.\n"
   ],
   "metadata": {
    "collapsed": false
   }
  },
  {
   "cell_type": "markdown",
   "source": [
    "## e)\n",
    "#### Grundaufbau des Netzes:\n",
    "- Activation Function: Rectified Linear Unit (ReLU), da das Netzwerk für diese Funktion in der vorherigne Teilaufgabe eine gute Performance aufwies.\n",
    "- Convolutional Filter Size: 3x3\n",
    "- Neuronen Conv2D: 32\n",
    "- Pooling: MaxPooling mit 2x2 Matrix\n",
    "- Netzwerk zu Beginn: Conv2D-Conv2D-MaxPooling-Flatten-Dense\n",
    "- Fortschreitende Erweiterung der Komplexität: Sukkzesives Hinzufügen von Conv2D + MaxPooling Layer\n",
    "\n",
    "Fehlt noch"
   ],
   "metadata": {
    "collapsed": false,
    "pycharm": {
     "name": "#%% md\n"
    }
   }
  },
  {
   "cell_type": "code",
   "execution_count": 20,
   "outputs": [],
   "source": [
    "def make_model(layers):\n",
    "\tmodel = Sequential()\n",
    "\tmodel.add(Conv2D(32, kernel_size=3, activation='relu', input_shape=(28,28,1)))\n",
    "\tfor layer in layers:\n",
    "\t\tmodel.add(Conv2D(layer, kernel_size=3, activation='relu'))\n",
    "\t\tmodel.add(MaxPooling2D(pool_size=(2,2)))\n",
    "\tmodel.add(Flatten())\n",
    "\tmodel.add(Dense(10, activation=\"softmax\"))\n",
    "\treturn model"
   ],
   "metadata": {
    "collapsed": false,
    "pycharm": {
     "name": "#%%\n"
    }
   }
  },
  {
   "cell_type": "code",
   "execution_count": 21,
   "outputs": [
    {
     "name": "stdout",
     "output_type": "stream",
     "text": [
      "[INFO] training network...\n",
      "[]\n",
      "Epoch 1/20\n",
      "235/235 - 8s - loss: 1.0602 - accuracy: 0.7751 - val_loss: 0.4506 - val_accuracy: 0.8789\n",
      "Epoch 2/20\n",
      "235/235 - 8s - loss: 0.4151 - accuracy: 0.8844 - val_loss: 0.3608 - val_accuracy: 0.8977\n",
      "Epoch 3/20\n",
      "235/235 - 6s - loss: 0.3618 - accuracy: 0.8972 - val_loss: 0.3296 - val_accuracy: 0.9080\n",
      "Epoch 4/20\n",
      "235/235 - 6s - loss: 0.3392 - accuracy: 0.9034 - val_loss: 0.3133 - val_accuracy: 0.9132\n",
      "Epoch 5/20\n",
      "235/235 - 6s - loss: 0.3246 - accuracy: 0.9071 - val_loss: 0.3047 - val_accuracy: 0.9144\n",
      "Epoch 6/20\n",
      "235/235 - 6s - loss: 0.3145 - accuracy: 0.9108 - val_loss: 0.2942 - val_accuracy: 0.9184\n",
      "Epoch 7/20\n",
      "235/235 - 6s - loss: 0.3071 - accuracy: 0.9130 - val_loss: 0.2920 - val_accuracy: 0.9185\n",
      "Epoch 8/20\n",
      "235/235 - 6s - loss: 0.3010 - accuracy: 0.9149 - val_loss: 0.2845 - val_accuracy: 0.9198\n",
      "Epoch 9/20\n",
      "235/235 - 6s - loss: 0.2965 - accuracy: 0.9165 - val_loss: 0.2830 - val_accuracy: 0.9194\n",
      "Epoch 10/20\n",
      "235/235 - 6s - loss: 0.2923 - accuracy: 0.9168 - val_loss: 0.2849 - val_accuracy: 0.9184\n",
      "Epoch 11/20\n",
      "235/235 - 7s - loss: 0.2892 - accuracy: 0.9189 - val_loss: 0.2836 - val_accuracy: 0.9205\n",
      "Epoch 12/20\n",
      "235/235 - 6s - loss: 0.2864 - accuracy: 0.9189 - val_loss: 0.2781 - val_accuracy: 0.9208\n",
      "Epoch 13/20\n",
      "235/235 - 6s - loss: 0.2840 - accuracy: 0.9199 - val_loss: 0.2752 - val_accuracy: 0.9201\n",
      "Epoch 14/20\n",
      "235/235 - 6s - loss: 0.2817 - accuracy: 0.9203 - val_loss: 0.2722 - val_accuracy: 0.9236\n",
      "Epoch 15/20\n",
      "235/235 - 6s - loss: 0.2797 - accuracy: 0.9209 - val_loss: 0.2759 - val_accuracy: 0.9211\n",
      "Epoch 16/20\n",
      "235/235 - 6s - loss: 0.2776 - accuracy: 0.9216 - val_loss: 0.2749 - val_accuracy: 0.9225\n",
      "Epoch 17/20\n",
      "235/235 - 6s - loss: 0.2757 - accuracy: 0.9226 - val_loss: 0.2683 - val_accuracy: 0.9244\n",
      "Epoch 18/20\n",
      "235/235 - 6s - loss: 0.2739 - accuracy: 0.9228 - val_loss: 0.2685 - val_accuracy: 0.9228\n",
      "Epoch 19/20\n",
      "235/235 - 6s - loss: 0.2723 - accuracy: 0.9237 - val_loss: 0.2693 - val_accuracy: 0.9219\n",
      "Epoch 20/20\n",
      "235/235 - 6s - loss: 0.2701 - accuracy: 0.9238 - val_loss: 0.2636 - val_accuracy: 0.9239\n",
      "[32]\n",
      "Epoch 1/20\n",
      "235/235 - 33s - loss: 1.3011 - accuracy: 0.6627 - val_loss: 0.4284 - val_accuracy: 0.8764\n",
      "Epoch 2/20\n",
      "235/235 - 34s - loss: 0.3878 - accuracy: 0.8863 - val_loss: 0.3648 - val_accuracy: 0.8884\n",
      "Epoch 3/20\n",
      "235/235 - 34s - loss: 0.3463 - accuracy: 0.8974 - val_loss: 0.3245 - val_accuracy: 0.9044\n",
      "Epoch 4/20\n",
      "235/235 - 34s - loss: 0.3289 - accuracy: 0.9037 - val_loss: 0.3190 - val_accuracy: 0.9071\n",
      "Epoch 5/20\n",
      "235/235 - 34s - loss: 0.3162 - accuracy: 0.9077 - val_loss: 0.3018 - val_accuracy: 0.9140\n",
      "Epoch 6/20\n",
      "235/235 - 34s - loss: 0.3077 - accuracy: 0.9100 - val_loss: 0.3132 - val_accuracy: 0.9089\n",
      "Epoch 7/20\n",
      "235/235 - 34s - loss: 0.2977 - accuracy: 0.9133 - val_loss: 0.2825 - val_accuracy: 0.9188\n",
      "Epoch 8/20\n",
      "235/235 - 34s - loss: 0.2884 - accuracy: 0.9160 - val_loss: 0.2949 - val_accuracy: 0.9154\n",
      "Epoch 9/20\n",
      "235/235 - 34s - loss: 0.2799 - accuracy: 0.9190 - val_loss: 0.2717 - val_accuracy: 0.9239\n",
      "Epoch 10/20\n",
      "235/235 - 34s - loss: 0.2689 - accuracy: 0.9227 - val_loss: 0.2532 - val_accuracy: 0.9285\n",
      "Epoch 11/20\n",
      "235/235 - 34s - loss: 0.2575 - accuracy: 0.9264 - val_loss: 0.2441 - val_accuracy: 0.9306\n",
      "Epoch 12/20\n",
      "235/235 - 34s - loss: 0.2463 - accuracy: 0.9291 - val_loss: 0.2297 - val_accuracy: 0.9364\n",
      "Epoch 13/20\n",
      "235/235 - 34s - loss: 0.2351 - accuracy: 0.9329 - val_loss: 0.2234 - val_accuracy: 0.9353\n",
      "Epoch 14/20\n",
      "235/235 - 34s - loss: 0.2217 - accuracy: 0.9367 - val_loss: 0.2194 - val_accuracy: 0.9401\n",
      "Epoch 15/20\n",
      "235/235 - 34s - loss: 0.2077 - accuracy: 0.9413 - val_loss: 0.2013 - val_accuracy: 0.9418\n",
      "Epoch 16/20\n",
      "235/235 - 34s - loss: 0.1951 - accuracy: 0.9446 - val_loss: 0.1840 - val_accuracy: 0.9494\n",
      "Epoch 17/20\n",
      "235/235 - 34s - loss: 0.1821 - accuracy: 0.9491 - val_loss: 0.1711 - val_accuracy: 0.9529\n",
      "Epoch 18/20\n",
      "235/235 - 34s - loss: 0.1691 - accuracy: 0.9529 - val_loss: 0.1628 - val_accuracy: 0.9542\n",
      "Epoch 19/20\n",
      "235/235 - 34s - loss: 0.1583 - accuracy: 0.9558 - val_loss: 0.1491 - val_accuracy: 0.9565\n",
      "Epoch 20/20\n",
      "235/235 - 37s - loss: 0.1473 - accuracy: 0.9592 - val_loss: 0.1336 - val_accuracy: 0.9626\n",
      "[32, 32]\n",
      "Epoch 1/20\n",
      "235/235 - 41s - loss: 1.9278 - accuracy: 0.3958 - val_loss: 0.7629 - val_accuracy: 0.7514\n",
      "Epoch 2/20\n",
      "235/235 - 40s - loss: 0.5470 - accuracy: 0.8263 - val_loss: 0.3599 - val_accuracy: 0.8949\n",
      "Epoch 3/20\n",
      "235/235 - 40s - loss: 0.3348 - accuracy: 0.9004 - val_loss: 0.2607 - val_accuracy: 0.9250\n",
      "Epoch 4/20\n",
      "235/235 - 40s - loss: 0.2584 - accuracy: 0.9239 - val_loss: 0.2126 - val_accuracy: 0.9383\n",
      "Epoch 5/20\n",
      "235/235 - 39s - loss: 0.2113 - accuracy: 0.9374 - val_loss: 0.1758 - val_accuracy: 0.9490\n",
      "Epoch 6/20\n",
      "235/235 - 40s - loss: 0.1790 - accuracy: 0.9476 - val_loss: 0.1668 - val_accuracy: 0.9498\n",
      "Epoch 7/20\n",
      "235/235 - 40s - loss: 0.1574 - accuracy: 0.9543 - val_loss: 0.1451 - val_accuracy: 0.9580\n",
      "Epoch 8/20\n",
      "235/235 - 39s - loss: 0.1405 - accuracy: 0.9590 - val_loss: 0.1287 - val_accuracy: 0.9612\n",
      "Epoch 9/20\n",
      "235/235 - 40s - loss: 0.1283 - accuracy: 0.9621 - val_loss: 0.1212 - val_accuracy: 0.9646\n",
      "Epoch 10/20\n",
      "235/235 - 40s - loss: 0.1183 - accuracy: 0.9653 - val_loss: 0.1110 - val_accuracy: 0.9632\n",
      "Epoch 11/20\n",
      "235/235 - 42s - loss: 0.1098 - accuracy: 0.9677 - val_loss: 0.1041 - val_accuracy: 0.9670\n",
      "Epoch 12/20\n",
      "235/235 - 39s - loss: 0.1041 - accuracy: 0.9689 - val_loss: 0.0904 - val_accuracy: 0.9719\n",
      "Epoch 13/20\n",
      "235/235 - 39s - loss: 0.0981 - accuracy: 0.9713 - val_loss: 0.0937 - val_accuracy: 0.9725\n",
      "Epoch 14/20\n",
      "235/235 - 40s - loss: 0.0939 - accuracy: 0.9724 - val_loss: 0.0832 - val_accuracy: 0.9732\n",
      "Epoch 15/20\n",
      "235/235 - 39s - loss: 0.0895 - accuracy: 0.9736 - val_loss: 0.0945 - val_accuracy: 0.9717\n",
      "Epoch 16/20\n",
      "235/235 - 39s - loss: 0.0858 - accuracy: 0.9743 - val_loss: 0.0958 - val_accuracy: 0.9705\n",
      "Epoch 17/20\n",
      "235/235 - 39s - loss: 0.0825 - accuracy: 0.9755 - val_loss: 0.0852 - val_accuracy: 0.9739\n",
      "Epoch 18/20\n",
      "235/235 - 39s - loss: 0.0795 - accuracy: 0.9761 - val_loss: 0.0702 - val_accuracy: 0.9783\n",
      "Epoch 19/20\n",
      "235/235 - 39s - loss: 0.0768 - accuracy: 0.9775 - val_loss: 0.0710 - val_accuracy: 0.9770\n",
      "Epoch 20/20\n",
      "235/235 - 39s - loss: 0.0740 - accuracy: 0.9783 - val_loss: 0.0610 - val_accuracy: 0.9815\n",
      "[32, 32, 32]\n",
      "Epoch 1/20\n",
      "235/235 - 45s - loss: 2.2830 - accuracy: 0.1514 - val_loss: 2.2510 - val_accuracy: 0.2178\n",
      "Epoch 2/20\n",
      "235/235 - 44s - loss: 1.9576 - accuracy: 0.4165 - val_loss: 1.0559 - val_accuracy: 0.6926\n",
      "Epoch 3/20\n",
      "235/235 - 45s - loss: 0.6315 - accuracy: 0.8118 - val_loss: 0.7145 - val_accuracy: 0.7503\n",
      "Epoch 4/20\n",
      "235/235 - 44s - loss: 0.3327 - accuracy: 0.9017 - val_loss: 0.2616 - val_accuracy: 0.9235\n",
      "Epoch 5/20\n",
      "235/235 - 44s - loss: 0.2469 - accuracy: 0.9263 - val_loss: 0.2174 - val_accuracy: 0.9324\n",
      "Epoch 6/20\n",
      "235/235 - 45s - loss: 0.2110 - accuracy: 0.9375 - val_loss: 0.2195 - val_accuracy: 0.9364\n",
      "Epoch 7/20\n",
      "235/235 - 45s - loss: 0.1843 - accuracy: 0.9445 - val_loss: 0.2282 - val_accuracy: 0.9280\n",
      "Epoch 8/20\n",
      "235/235 - 44s - loss: 0.1681 - accuracy: 0.9502 - val_loss: 0.1666 - val_accuracy: 0.9472\n",
      "Epoch 9/20\n",
      "235/235 - 44s - loss: 0.1540 - accuracy: 0.9548 - val_loss: 0.1532 - val_accuracy: 0.9538\n",
      "Epoch 10/20\n",
      "235/235 - 45s - loss: 0.1417 - accuracy: 0.9574 - val_loss: 0.1356 - val_accuracy: 0.9594\n",
      "Epoch 11/20\n",
      "235/235 - 44s - loss: 0.1355 - accuracy: 0.9600 - val_loss: 0.1300 - val_accuracy: 0.9605\n",
      "Epoch 12/20\n",
      "235/235 - 44s - loss: 0.1273 - accuracy: 0.9621 - val_loss: 0.1671 - val_accuracy: 0.9467\n",
      "Epoch 13/20\n",
      "235/235 - 46s - loss: 0.1215 - accuracy: 0.9640 - val_loss: 0.1365 - val_accuracy: 0.9580\n",
      "Epoch 14/20\n",
      "235/235 - 44s - loss: 0.1163 - accuracy: 0.9652 - val_loss: 0.1339 - val_accuracy: 0.9588\n",
      "Epoch 15/20\n",
      "235/235 - 46s - loss: 0.1115 - accuracy: 0.9663 - val_loss: 0.1264 - val_accuracy: 0.9590\n",
      "Epoch 16/20\n",
      "235/235 - 45s - loss: 0.1070 - accuracy: 0.9685 - val_loss: 0.1173 - val_accuracy: 0.9647\n",
      "Epoch 17/20\n",
      "235/235 - 45s - loss: 0.1020 - accuracy: 0.9698 - val_loss: 0.1064 - val_accuracy: 0.9680\n",
      "Epoch 18/20\n",
      "235/235 - 45s - loss: 0.0989 - accuracy: 0.9704 - val_loss: 0.1016 - val_accuracy: 0.9672\n",
      "Epoch 19/20\n",
      "235/235 - 47s - loss: 0.0946 - accuracy: 0.9717 - val_loss: 0.1067 - val_accuracy: 0.9671\n",
      "Epoch 20/20\n",
      "235/235 - 45s - loss: 0.0935 - accuracy: 0.9715 - val_loss: 0.1228 - val_accuracy: 0.9624\n",
      "[32, 32, 32, 32]\n"
     ]
    },
    {
     "ename": "ValueError",
     "evalue": "Negative dimension size caused by subtracting 3 from 1 for '{{node conv2d_16/Conv2D}} = Conv2D[T=DT_FLOAT, data_format=\"NHWC\", dilations=[1, 1, 1, 1], explicit_paddings=[], padding=\"VALID\", strides=[1, 1, 1, 1], use_cudnn_on_gpu=true](Placeholder, conv2d_16/Conv2D/ReadVariableOp)' with input shapes: [?,1,1,32], [3,3,32,32].",
     "output_type": "error",
     "traceback": [
      "\u001B[0;31m---------------------------------------------------------------------------\u001B[0m",
      "\u001B[0;31mInvalidArgumentError\u001B[0m                      Traceback (most recent call last)",
      "\u001B[0;32m/Library/Python/3.8/site-packages/tensorflow/python/framework/ops.py\u001B[0m in \u001B[0;36m_create_c_op\u001B[0;34m(graph, node_def, inputs, control_inputs, op_def)\u001B[0m\n\u001B[1;32m   1879\u001B[0m   \u001B[0;32mtry\u001B[0m\u001B[0;34m:\u001B[0m\u001B[0;34m\u001B[0m\u001B[0;34m\u001B[0m\u001B[0m\n\u001B[0;32m-> 1880\u001B[0;31m     \u001B[0mc_op\u001B[0m \u001B[0;34m=\u001B[0m \u001B[0mpywrap_tf_session\u001B[0m\u001B[0;34m.\u001B[0m\u001B[0mTF_FinishOperation\u001B[0m\u001B[0;34m(\u001B[0m\u001B[0mop_desc\u001B[0m\u001B[0;34m)\u001B[0m\u001B[0;34m\u001B[0m\u001B[0;34m\u001B[0m\u001B[0m\n\u001B[0m\u001B[1;32m   1881\u001B[0m   \u001B[0;32mexcept\u001B[0m \u001B[0merrors\u001B[0m\u001B[0;34m.\u001B[0m\u001B[0mInvalidArgumentError\u001B[0m \u001B[0;32mas\u001B[0m \u001B[0me\u001B[0m\u001B[0;34m:\u001B[0m\u001B[0;34m\u001B[0m\u001B[0;34m\u001B[0m\u001B[0m\n",
      "\u001B[0;31mInvalidArgumentError\u001B[0m: Negative dimension size caused by subtracting 3 from 1 for '{{node conv2d_16/Conv2D}} = Conv2D[T=DT_FLOAT, data_format=\"NHWC\", dilations=[1, 1, 1, 1], explicit_paddings=[], padding=\"VALID\", strides=[1, 1, 1, 1], use_cudnn_on_gpu=true](Placeholder, conv2d_16/Conv2D/ReadVariableOp)' with input shapes: [?,1,1,32], [3,3,32,32].",
      "\nDuring handling of the above exception, another exception occurred:\n",
      "\u001B[0;31mValueError\u001B[0m                                Traceback (most recent call last)",
      "\u001B[0;32m<ipython-input-21-dfc0211e20f5>\u001B[0m in \u001B[0;36m<module>\u001B[0;34m\u001B[0m\n\u001B[1;32m      8\u001B[0m         \u001B[0mlayers_local\u001B[0m \u001B[0;34m=\u001B[0m \u001B[0mlayers\u001B[0m\u001B[0;34m[\u001B[0m\u001B[0;36m0\u001B[0m\u001B[0;34m:\u001B[0m\u001B[0mi\u001B[0m\u001B[0;34m]\u001B[0m\u001B[0;34m\u001B[0m\u001B[0;34m\u001B[0m\u001B[0m\n\u001B[1;32m      9\u001B[0m         \u001B[0mprint\u001B[0m\u001B[0;34m(\u001B[0m\u001B[0mlayers_local\u001B[0m\u001B[0;34m)\u001B[0m\u001B[0;34m\u001B[0m\u001B[0;34m\u001B[0m\u001B[0m\n\u001B[0;32m---> 10\u001B[0;31m         \u001B[0mmodel\u001B[0m \u001B[0;34m=\u001B[0m \u001B[0mmake_model\u001B[0m\u001B[0;34m(\u001B[0m\u001B[0mlayers_local\u001B[0m\u001B[0;34m)\u001B[0m\u001B[0;34m\u001B[0m\u001B[0;34m\u001B[0m\u001B[0m\n\u001B[0m\u001B[1;32m     11\u001B[0m         \u001B[0mmodel\u001B[0m\u001B[0;34m.\u001B[0m\u001B[0mcompile\u001B[0m\u001B[0;34m(\u001B[0m\u001B[0mloss\u001B[0m\u001B[0;34m=\u001B[0m\u001B[0;34m\"categorical_crossentropy\"\u001B[0m\u001B[0;34m,\u001B[0m \u001B[0moptimizer\u001B[0m\u001B[0;34m=\u001B[0m\u001B[0msgd\u001B[0m\u001B[0;34m,\u001B[0m \u001B[0mmetrics\u001B[0m\u001B[0;34m=\u001B[0m\u001B[0;34m[\u001B[0m\u001B[0;34m\"accuracy\"\u001B[0m\u001B[0;34m]\u001B[0m\u001B[0;34m)\u001B[0m\u001B[0;34m\u001B[0m\u001B[0;34m\u001B[0m\u001B[0m\n\u001B[1;32m     12\u001B[0m         \u001B[0mH\u001B[0m \u001B[0;34m=\u001B[0m \u001B[0mmodel\u001B[0m\u001B[0;34m.\u001B[0m\u001B[0mfit\u001B[0m\u001B[0;34m(\u001B[0m\u001B[0mtrain_X\u001B[0m\u001B[0;34m,\u001B[0m \u001B[0mtrain_y\u001B[0m\u001B[0;34m,\u001B[0m \u001B[0mvalidation_data\u001B[0m\u001B[0;34m=\u001B[0m\u001B[0;34m(\u001B[0m\u001B[0mtest_X\u001B[0m\u001B[0;34m,\u001B[0m \u001B[0mtest_y\u001B[0m\u001B[0;34m)\u001B[0m\u001B[0;34m,\u001B[0m \u001B[0mepochs\u001B[0m\u001B[0;34m=\u001B[0m\u001B[0mepochs\u001B[0m\u001B[0;34m,\u001B[0m \u001B[0mbatch_size\u001B[0m\u001B[0;34m=\u001B[0m\u001B[0;36m256\u001B[0m\u001B[0;34m,\u001B[0m \u001B[0mverbose\u001B[0m\u001B[0;34m=\u001B[0m\u001B[0;36m2\u001B[0m\u001B[0;34m)\u001B[0m\u001B[0;34m\u001B[0m\u001B[0;34m\u001B[0m\u001B[0m\n",
      "\u001B[0;32m<ipython-input-20-810de9fa8f3b>\u001B[0m in \u001B[0;36mmake_model\u001B[0;34m(layers)\u001B[0m\n\u001B[1;32m      3\u001B[0m         \u001B[0mmodel\u001B[0m\u001B[0;34m.\u001B[0m\u001B[0madd\u001B[0m\u001B[0;34m(\u001B[0m\u001B[0mConv2D\u001B[0m\u001B[0;34m(\u001B[0m\u001B[0;36m32\u001B[0m\u001B[0;34m,\u001B[0m \u001B[0mkernel_size\u001B[0m\u001B[0;34m=\u001B[0m\u001B[0;36m3\u001B[0m\u001B[0;34m,\u001B[0m \u001B[0mactivation\u001B[0m\u001B[0;34m=\u001B[0m\u001B[0;34m'relu'\u001B[0m\u001B[0;34m,\u001B[0m \u001B[0minput_shape\u001B[0m\u001B[0;34m=\u001B[0m\u001B[0;34m(\u001B[0m\u001B[0;36m28\u001B[0m\u001B[0;34m,\u001B[0m\u001B[0;36m28\u001B[0m\u001B[0;34m,\u001B[0m\u001B[0;36m1\u001B[0m\u001B[0;34m)\u001B[0m\u001B[0;34m)\u001B[0m\u001B[0;34m)\u001B[0m\u001B[0;34m\u001B[0m\u001B[0;34m\u001B[0m\u001B[0m\n\u001B[1;32m      4\u001B[0m         \u001B[0;32mfor\u001B[0m \u001B[0mlayer\u001B[0m \u001B[0;32min\u001B[0m \u001B[0mlayers\u001B[0m\u001B[0;34m:\u001B[0m\u001B[0;34m\u001B[0m\u001B[0;34m\u001B[0m\u001B[0m\n\u001B[0;32m----> 5\u001B[0;31m                 \u001B[0mmodel\u001B[0m\u001B[0;34m.\u001B[0m\u001B[0madd\u001B[0m\u001B[0;34m(\u001B[0m\u001B[0mConv2D\u001B[0m\u001B[0;34m(\u001B[0m\u001B[0mlayer\u001B[0m\u001B[0;34m,\u001B[0m \u001B[0mkernel_size\u001B[0m\u001B[0;34m=\u001B[0m\u001B[0;36m3\u001B[0m\u001B[0;34m,\u001B[0m \u001B[0mactivation\u001B[0m\u001B[0;34m=\u001B[0m\u001B[0;34m'relu'\u001B[0m\u001B[0;34m)\u001B[0m\u001B[0;34m)\u001B[0m\u001B[0;34m\u001B[0m\u001B[0;34m\u001B[0m\u001B[0m\n\u001B[0m\u001B[1;32m      6\u001B[0m                 \u001B[0mmodel\u001B[0m\u001B[0;34m.\u001B[0m\u001B[0madd\u001B[0m\u001B[0;34m(\u001B[0m\u001B[0mMaxPooling2D\u001B[0m\u001B[0;34m(\u001B[0m\u001B[0mpool_size\u001B[0m\u001B[0;34m=\u001B[0m\u001B[0;34m(\u001B[0m\u001B[0;36m2\u001B[0m\u001B[0;34m,\u001B[0m\u001B[0;36m2\u001B[0m\u001B[0;34m)\u001B[0m\u001B[0;34m)\u001B[0m\u001B[0;34m)\u001B[0m\u001B[0;34m\u001B[0m\u001B[0;34m\u001B[0m\u001B[0m\n\u001B[1;32m      7\u001B[0m         \u001B[0mmodel\u001B[0m\u001B[0;34m.\u001B[0m\u001B[0madd\u001B[0m\u001B[0;34m(\u001B[0m\u001B[0mFlatten\u001B[0m\u001B[0;34m(\u001B[0m\u001B[0;34m)\u001B[0m\u001B[0;34m)\u001B[0m\u001B[0;34m\u001B[0m\u001B[0;34m\u001B[0m\u001B[0m\n",
      "\u001B[0;32m/Library/Python/3.8/site-packages/tensorflow/python/training/tracking/base.py\u001B[0m in \u001B[0;36m_method_wrapper\u001B[0;34m(self, *args, **kwargs)\u001B[0m\n\u001B[1;32m    520\u001B[0m     \u001B[0mself\u001B[0m\u001B[0;34m.\u001B[0m\u001B[0m_self_setattr_tracking\u001B[0m \u001B[0;34m=\u001B[0m \u001B[0;32mFalse\u001B[0m  \u001B[0;31m# pylint: disable=protected-access\u001B[0m\u001B[0;34m\u001B[0m\u001B[0;34m\u001B[0m\u001B[0m\n\u001B[1;32m    521\u001B[0m     \u001B[0;32mtry\u001B[0m\u001B[0;34m:\u001B[0m\u001B[0;34m\u001B[0m\u001B[0;34m\u001B[0m\u001B[0m\n\u001B[0;32m--> 522\u001B[0;31m       \u001B[0mresult\u001B[0m \u001B[0;34m=\u001B[0m \u001B[0mmethod\u001B[0m\u001B[0;34m(\u001B[0m\u001B[0mself\u001B[0m\u001B[0;34m,\u001B[0m \u001B[0;34m*\u001B[0m\u001B[0margs\u001B[0m\u001B[0;34m,\u001B[0m \u001B[0;34m**\u001B[0m\u001B[0mkwargs\u001B[0m\u001B[0;34m)\u001B[0m\u001B[0;34m\u001B[0m\u001B[0;34m\u001B[0m\u001B[0m\n\u001B[0m\u001B[1;32m    523\u001B[0m     \u001B[0;32mfinally\u001B[0m\u001B[0;34m:\u001B[0m\u001B[0;34m\u001B[0m\u001B[0;34m\u001B[0m\u001B[0m\n\u001B[1;32m    524\u001B[0m       \u001B[0mself\u001B[0m\u001B[0;34m.\u001B[0m\u001B[0m_self_setattr_tracking\u001B[0m \u001B[0;34m=\u001B[0m \u001B[0mprevious_value\u001B[0m  \u001B[0;31m# pylint: disable=protected-access\u001B[0m\u001B[0;34m\u001B[0m\u001B[0;34m\u001B[0m\u001B[0m\n",
      "\u001B[0;32m/Library/Python/3.8/site-packages/tensorflow/python/keras/engine/sequential.py\u001B[0m in \u001B[0;36madd\u001B[0;34m(self, layer)\u001B[0m\n\u001B[1;32m    226\u001B[0m       \u001B[0;31m# If the model is being built continuously on top of an input layer:\u001B[0m\u001B[0;34m\u001B[0m\u001B[0;34m\u001B[0m\u001B[0;34m\u001B[0m\u001B[0m\n\u001B[1;32m    227\u001B[0m       \u001B[0;31m# refresh its output.\u001B[0m\u001B[0;34m\u001B[0m\u001B[0;34m\u001B[0m\u001B[0;34m\u001B[0m\u001B[0m\n\u001B[0;32m--> 228\u001B[0;31m       \u001B[0moutput_tensor\u001B[0m \u001B[0;34m=\u001B[0m \u001B[0mlayer\u001B[0m\u001B[0;34m(\u001B[0m\u001B[0mself\u001B[0m\u001B[0;34m.\u001B[0m\u001B[0moutputs\u001B[0m\u001B[0;34m[\u001B[0m\u001B[0;36m0\u001B[0m\u001B[0;34m]\u001B[0m\u001B[0;34m)\u001B[0m\u001B[0;34m\u001B[0m\u001B[0;34m\u001B[0m\u001B[0m\n\u001B[0m\u001B[1;32m    229\u001B[0m       \u001B[0;32mif\u001B[0m \u001B[0mlen\u001B[0m\u001B[0;34m(\u001B[0m\u001B[0mnest\u001B[0m\u001B[0;34m.\u001B[0m\u001B[0mflatten\u001B[0m\u001B[0;34m(\u001B[0m\u001B[0moutput_tensor\u001B[0m\u001B[0;34m)\u001B[0m\u001B[0;34m)\u001B[0m \u001B[0;34m!=\u001B[0m \u001B[0;36m1\u001B[0m\u001B[0;34m:\u001B[0m\u001B[0;34m\u001B[0m\u001B[0;34m\u001B[0m\u001B[0m\n\u001B[1;32m    230\u001B[0m         \u001B[0;32mraise\u001B[0m \u001B[0mValueError\u001B[0m\u001B[0;34m(\u001B[0m\u001B[0mSINGLE_LAYER_OUTPUT_ERROR_MSG\u001B[0m\u001B[0;34m)\u001B[0m\u001B[0;34m\u001B[0m\u001B[0;34m\u001B[0m\u001B[0m\n",
      "\u001B[0;32m/Library/Python/3.8/site-packages/tensorflow/python/keras/engine/base_layer.py\u001B[0m in \u001B[0;36m__call__\u001B[0;34m(self, *args, **kwargs)\u001B[0m\n\u001B[1;32m    967\u001B[0m     \u001B[0;31m# >> model = tf.keras.Model(inputs, outputs)\u001B[0m\u001B[0;34m\u001B[0m\u001B[0;34m\u001B[0m\u001B[0;34m\u001B[0m\u001B[0m\n\u001B[1;32m    968\u001B[0m     \u001B[0;32mif\u001B[0m \u001B[0m_in_functional_construction_mode\u001B[0m\u001B[0;34m(\u001B[0m\u001B[0mself\u001B[0m\u001B[0;34m,\u001B[0m \u001B[0minputs\u001B[0m\u001B[0;34m,\u001B[0m \u001B[0margs\u001B[0m\u001B[0;34m,\u001B[0m \u001B[0mkwargs\u001B[0m\u001B[0;34m,\u001B[0m \u001B[0minput_list\u001B[0m\u001B[0;34m)\u001B[0m\u001B[0;34m:\u001B[0m\u001B[0;34m\u001B[0m\u001B[0;34m\u001B[0m\u001B[0m\n\u001B[0;32m--> 969\u001B[0;31m       return self._functional_construction_call(inputs, args, kwargs,\n\u001B[0m\u001B[1;32m    970\u001B[0m                                                 input_list)\n\u001B[1;32m    971\u001B[0m \u001B[0;34m\u001B[0m\u001B[0m\n",
      "\u001B[0;32m/Library/Python/3.8/site-packages/tensorflow/python/keras/engine/base_layer.py\u001B[0m in \u001B[0;36m_functional_construction_call\u001B[0;34m(self, inputs, args, kwargs, input_list)\u001B[0m\n\u001B[1;32m   1105\u001B[0m         layer=self, inputs=inputs, build_graph=True, training=training_value):\n\u001B[1;32m   1106\u001B[0m       \u001B[0;31m# Check input assumptions set after layer building, e.g. input shape.\u001B[0m\u001B[0;34m\u001B[0m\u001B[0;34m\u001B[0m\u001B[0;34m\u001B[0m\u001B[0m\n\u001B[0;32m-> 1107\u001B[0;31m       outputs = self._keras_tensor_symbolic_call(\n\u001B[0m\u001B[1;32m   1108\u001B[0m           inputs, input_masks, args, kwargs)\n\u001B[1;32m   1109\u001B[0m \u001B[0;34m\u001B[0m\u001B[0m\n",
      "\u001B[0;32m/Library/Python/3.8/site-packages/tensorflow/python/keras/engine/base_layer.py\u001B[0m in \u001B[0;36m_keras_tensor_symbolic_call\u001B[0;34m(self, inputs, input_masks, args, kwargs)\u001B[0m\n\u001B[1;32m    838\u001B[0m       \u001B[0;32mreturn\u001B[0m \u001B[0mnest\u001B[0m\u001B[0;34m.\u001B[0m\u001B[0mmap_structure\u001B[0m\u001B[0;34m(\u001B[0m\u001B[0mkeras_tensor\u001B[0m\u001B[0;34m.\u001B[0m\u001B[0mKerasTensor\u001B[0m\u001B[0;34m,\u001B[0m \u001B[0moutput_signature\u001B[0m\u001B[0;34m)\u001B[0m\u001B[0;34m\u001B[0m\u001B[0;34m\u001B[0m\u001B[0m\n\u001B[1;32m    839\u001B[0m     \u001B[0;32melse\u001B[0m\u001B[0;34m:\u001B[0m\u001B[0;34m\u001B[0m\u001B[0;34m\u001B[0m\u001B[0m\n\u001B[0;32m--> 840\u001B[0;31m       \u001B[0;32mreturn\u001B[0m \u001B[0mself\u001B[0m\u001B[0;34m.\u001B[0m\u001B[0m_infer_output_signature\u001B[0m\u001B[0;34m(\u001B[0m\u001B[0minputs\u001B[0m\u001B[0;34m,\u001B[0m \u001B[0margs\u001B[0m\u001B[0;34m,\u001B[0m \u001B[0mkwargs\u001B[0m\u001B[0;34m,\u001B[0m \u001B[0minput_masks\u001B[0m\u001B[0;34m)\u001B[0m\u001B[0;34m\u001B[0m\u001B[0;34m\u001B[0m\u001B[0m\n\u001B[0m\u001B[1;32m    841\u001B[0m \u001B[0;34m\u001B[0m\u001B[0m\n\u001B[1;32m    842\u001B[0m   \u001B[0;32mdef\u001B[0m \u001B[0m_infer_output_signature\u001B[0m\u001B[0;34m(\u001B[0m\u001B[0mself\u001B[0m\u001B[0;34m,\u001B[0m \u001B[0minputs\u001B[0m\u001B[0;34m,\u001B[0m \u001B[0margs\u001B[0m\u001B[0;34m,\u001B[0m \u001B[0mkwargs\u001B[0m\u001B[0;34m,\u001B[0m \u001B[0minput_masks\u001B[0m\u001B[0;34m)\u001B[0m\u001B[0;34m:\u001B[0m\u001B[0;34m\u001B[0m\u001B[0;34m\u001B[0m\u001B[0m\n",
      "\u001B[0;32m/Library/Python/3.8/site-packages/tensorflow/python/keras/engine/base_layer.py\u001B[0m in \u001B[0;36m_infer_output_signature\u001B[0;34m(self, inputs, args, kwargs, input_masks)\u001B[0m\n\u001B[1;32m    878\u001B[0m           \u001B[0mself\u001B[0m\u001B[0;34m.\u001B[0m\u001B[0m_maybe_build\u001B[0m\u001B[0;34m(\u001B[0m\u001B[0minputs\u001B[0m\u001B[0;34m)\u001B[0m\u001B[0;34m\u001B[0m\u001B[0;34m\u001B[0m\u001B[0m\n\u001B[1;32m    879\u001B[0m           \u001B[0minputs\u001B[0m \u001B[0;34m=\u001B[0m \u001B[0mself\u001B[0m\u001B[0;34m.\u001B[0m\u001B[0m_maybe_cast_inputs\u001B[0m\u001B[0;34m(\u001B[0m\u001B[0minputs\u001B[0m\u001B[0;34m)\u001B[0m\u001B[0;34m\u001B[0m\u001B[0;34m\u001B[0m\u001B[0m\n\u001B[0;32m--> 880\u001B[0;31m           \u001B[0moutputs\u001B[0m \u001B[0;34m=\u001B[0m \u001B[0mcall_fn\u001B[0m\u001B[0;34m(\u001B[0m\u001B[0minputs\u001B[0m\u001B[0;34m,\u001B[0m \u001B[0;34m*\u001B[0m\u001B[0margs\u001B[0m\u001B[0;34m,\u001B[0m \u001B[0;34m**\u001B[0m\u001B[0mkwargs\u001B[0m\u001B[0;34m)\u001B[0m\u001B[0;34m\u001B[0m\u001B[0;34m\u001B[0m\u001B[0m\n\u001B[0m\u001B[1;32m    881\u001B[0m \u001B[0;34m\u001B[0m\u001B[0m\n\u001B[1;32m    882\u001B[0m         \u001B[0mself\u001B[0m\u001B[0;34m.\u001B[0m\u001B[0m_handle_activity_regularization\u001B[0m\u001B[0;34m(\u001B[0m\u001B[0minputs\u001B[0m\u001B[0;34m,\u001B[0m \u001B[0moutputs\u001B[0m\u001B[0;34m)\u001B[0m\u001B[0;34m\u001B[0m\u001B[0;34m\u001B[0m\u001B[0m\n",
      "\u001B[0;32m/Library/Python/3.8/site-packages/tensorflow/python/keras/layers/convolutional.py\u001B[0m in \u001B[0;36mcall\u001B[0;34m(self, inputs)\u001B[0m\n\u001B[1;32m    247\u001B[0m       \u001B[0minputs\u001B[0m \u001B[0;34m=\u001B[0m \u001B[0marray_ops\u001B[0m\u001B[0;34m.\u001B[0m\u001B[0mpad\u001B[0m\u001B[0;34m(\u001B[0m\u001B[0minputs\u001B[0m\u001B[0;34m,\u001B[0m \u001B[0mself\u001B[0m\u001B[0;34m.\u001B[0m\u001B[0m_compute_causal_padding\u001B[0m\u001B[0;34m(\u001B[0m\u001B[0minputs\u001B[0m\u001B[0;34m)\u001B[0m\u001B[0;34m)\u001B[0m\u001B[0;34m\u001B[0m\u001B[0;34m\u001B[0m\u001B[0m\n\u001B[1;32m    248\u001B[0m \u001B[0;34m\u001B[0m\u001B[0m\n\u001B[0;32m--> 249\u001B[0;31m     \u001B[0moutputs\u001B[0m \u001B[0;34m=\u001B[0m \u001B[0mself\u001B[0m\u001B[0;34m.\u001B[0m\u001B[0m_convolution_op\u001B[0m\u001B[0;34m(\u001B[0m\u001B[0minputs\u001B[0m\u001B[0;34m,\u001B[0m \u001B[0mself\u001B[0m\u001B[0;34m.\u001B[0m\u001B[0mkernel\u001B[0m\u001B[0;34m)\u001B[0m\u001B[0;34m\u001B[0m\u001B[0;34m\u001B[0m\u001B[0m\n\u001B[0m\u001B[1;32m    250\u001B[0m \u001B[0;34m\u001B[0m\u001B[0m\n\u001B[1;32m    251\u001B[0m     \u001B[0;32mif\u001B[0m \u001B[0mself\u001B[0m\u001B[0;34m.\u001B[0m\u001B[0muse_bias\u001B[0m\u001B[0;34m:\u001B[0m\u001B[0;34m\u001B[0m\u001B[0;34m\u001B[0m\u001B[0m\n",
      "\u001B[0;32m/Library/Python/3.8/site-packages/tensorflow/python/util/dispatch.py\u001B[0m in \u001B[0;36mwrapper\u001B[0;34m(*args, **kwargs)\u001B[0m\n\u001B[1;32m    204\u001B[0m     \u001B[0;34m\"\"\"Call target, and fall back on dispatchers if there is a TypeError.\"\"\"\u001B[0m\u001B[0;34m\u001B[0m\u001B[0;34m\u001B[0m\u001B[0m\n\u001B[1;32m    205\u001B[0m     \u001B[0;32mtry\u001B[0m\u001B[0;34m:\u001B[0m\u001B[0;34m\u001B[0m\u001B[0;34m\u001B[0m\u001B[0m\n\u001B[0;32m--> 206\u001B[0;31m       \u001B[0;32mreturn\u001B[0m \u001B[0mtarget\u001B[0m\u001B[0;34m(\u001B[0m\u001B[0;34m*\u001B[0m\u001B[0margs\u001B[0m\u001B[0;34m,\u001B[0m \u001B[0;34m**\u001B[0m\u001B[0mkwargs\u001B[0m\u001B[0;34m)\u001B[0m\u001B[0;34m\u001B[0m\u001B[0;34m\u001B[0m\u001B[0m\n\u001B[0m\u001B[1;32m    207\u001B[0m     \u001B[0;32mexcept\u001B[0m \u001B[0;34m(\u001B[0m\u001B[0mTypeError\u001B[0m\u001B[0;34m,\u001B[0m \u001B[0mValueError\u001B[0m\u001B[0;34m)\u001B[0m\u001B[0;34m:\u001B[0m\u001B[0;34m\u001B[0m\u001B[0;34m\u001B[0m\u001B[0m\n\u001B[1;32m    208\u001B[0m       \u001B[0;31m# Note: convert_to_eager_tensor currently raises a ValueError, not a\u001B[0m\u001B[0;34m\u001B[0m\u001B[0;34m\u001B[0m\u001B[0;34m\u001B[0m\u001B[0m\n",
      "\u001B[0;32m/Library/Python/3.8/site-packages/tensorflow/python/ops/nn_ops.py\u001B[0m in \u001B[0;36mconvolution_v2\u001B[0;34m(input, filters, strides, padding, data_format, dilations, name)\u001B[0m\n\u001B[1;32m   1010\u001B[0m     \u001B[0mdilations\u001B[0m\u001B[0;34m=\u001B[0m\u001B[0;32mNone\u001B[0m\u001B[0;34m,\u001B[0m\u001B[0;34m\u001B[0m\u001B[0;34m\u001B[0m\u001B[0m\n\u001B[1;32m   1011\u001B[0m     name=None):\n\u001B[0;32m-> 1012\u001B[0;31m   return convolution_internal(\n\u001B[0m\u001B[1;32m   1013\u001B[0m       \u001B[0minput\u001B[0m\u001B[0;34m,\u001B[0m  \u001B[0;31m# pylint: disable=redefined-builtin\u001B[0m\u001B[0;34m\u001B[0m\u001B[0;34m\u001B[0m\u001B[0m\n\u001B[1;32m   1014\u001B[0m       \u001B[0mfilters\u001B[0m\u001B[0;34m,\u001B[0m\u001B[0;34m\u001B[0m\u001B[0;34m\u001B[0m\u001B[0m\n",
      "\u001B[0;32m/Library/Python/3.8/site-packages/tensorflow/python/ops/nn_ops.py\u001B[0m in \u001B[0;36mconvolution_internal\u001B[0;34m(input, filters, strides, padding, data_format, dilations, name, call_from_convolution, num_spatial_dims)\u001B[0m\n\u001B[1;32m   1140\u001B[0m         \u001B[0mop\u001B[0m \u001B[0;34m=\u001B[0m \u001B[0mconv1d\u001B[0m\u001B[0;34m\u001B[0m\u001B[0;34m\u001B[0m\u001B[0m\n\u001B[1;32m   1141\u001B[0m \u001B[0;34m\u001B[0m\u001B[0m\n\u001B[0;32m-> 1142\u001B[0;31m       return op(\n\u001B[0m\u001B[1;32m   1143\u001B[0m           \u001B[0minput\u001B[0m\u001B[0;34m,\u001B[0m\u001B[0;34m\u001B[0m\u001B[0;34m\u001B[0m\u001B[0m\n\u001B[1;32m   1144\u001B[0m           \u001B[0mfilters\u001B[0m\u001B[0;34m,\u001B[0m\u001B[0;34m\u001B[0m\u001B[0;34m\u001B[0m\u001B[0m\n",
      "\u001B[0;32m/Library/Python/3.8/site-packages/tensorflow/python/ops/nn_ops.py\u001B[0m in \u001B[0;36m_conv2d_expanded_batch\u001B[0;34m(input, filters, strides, padding, data_format, dilations, name)\u001B[0m\n\u001B[1;32m   2594\u001B[0m     \u001B[0;31m# We avoid calling squeeze_batch_dims to reduce extra python function\u001B[0m\u001B[0;34m\u001B[0m\u001B[0;34m\u001B[0m\u001B[0;34m\u001B[0m\u001B[0m\n\u001B[1;32m   2595\u001B[0m     \u001B[0;31m# call slowdown in eager mode.  This branch doesn't require reshapes.\u001B[0m\u001B[0;34m\u001B[0m\u001B[0;34m\u001B[0m\u001B[0;34m\u001B[0m\u001B[0m\n\u001B[0;32m-> 2596\u001B[0;31m     return gen_nn_ops.conv2d(\n\u001B[0m\u001B[1;32m   2597\u001B[0m         \u001B[0minput\u001B[0m\u001B[0;34m,\u001B[0m\u001B[0;34m\u001B[0m\u001B[0;34m\u001B[0m\u001B[0m\n\u001B[1;32m   2598\u001B[0m         \u001B[0mfilter\u001B[0m\u001B[0;34m=\u001B[0m\u001B[0mfilters\u001B[0m\u001B[0;34m,\u001B[0m\u001B[0;34m\u001B[0m\u001B[0;34m\u001B[0m\u001B[0m\n",
      "\u001B[0;32m/Library/Python/3.8/site-packages/tensorflow/python/ops/gen_nn_ops.py\u001B[0m in \u001B[0;36mconv2d\u001B[0;34m(input, filter, strides, padding, use_cudnn_on_gpu, explicit_paddings, data_format, dilations, name)\u001B[0m\n\u001B[1;32m    967\u001B[0m         \"'conv2d' Op, not %r.\" % dilations)\n\u001B[1;32m    968\u001B[0m   \u001B[0mdilations\u001B[0m \u001B[0;34m=\u001B[0m \u001B[0;34m[\u001B[0m\u001B[0m_execute\u001B[0m\u001B[0;34m.\u001B[0m\u001B[0mmake_int\u001B[0m\u001B[0;34m(\u001B[0m\u001B[0m_i\u001B[0m\u001B[0;34m,\u001B[0m \u001B[0;34m\"dilations\"\u001B[0m\u001B[0;34m)\u001B[0m \u001B[0;32mfor\u001B[0m \u001B[0m_i\u001B[0m \u001B[0;32min\u001B[0m \u001B[0mdilations\u001B[0m\u001B[0;34m]\u001B[0m\u001B[0;34m\u001B[0m\u001B[0;34m\u001B[0m\u001B[0m\n\u001B[0;32m--> 969\u001B[0;31m   _, _, _op, _outputs = _op_def_library._apply_op_helper(\n\u001B[0m\u001B[1;32m    970\u001B[0m         \u001B[0;34m\"Conv2D\"\u001B[0m\u001B[0;34m,\u001B[0m \u001B[0minput\u001B[0m\u001B[0;34m=\u001B[0m\u001B[0minput\u001B[0m\u001B[0;34m,\u001B[0m \u001B[0mfilter\u001B[0m\u001B[0;34m=\u001B[0m\u001B[0mfilter\u001B[0m\u001B[0;34m,\u001B[0m \u001B[0mstrides\u001B[0m\u001B[0;34m=\u001B[0m\u001B[0mstrides\u001B[0m\u001B[0;34m,\u001B[0m\u001B[0;34m\u001B[0m\u001B[0;34m\u001B[0m\u001B[0m\n\u001B[1;32m    971\u001B[0m                   \u001B[0mpadding\u001B[0m\u001B[0;34m=\u001B[0m\u001B[0mpadding\u001B[0m\u001B[0;34m,\u001B[0m \u001B[0muse_cudnn_on_gpu\u001B[0m\u001B[0;34m=\u001B[0m\u001B[0muse_cudnn_on_gpu\u001B[0m\u001B[0;34m,\u001B[0m\u001B[0;34m\u001B[0m\u001B[0;34m\u001B[0m\u001B[0m\n",
      "\u001B[0;32m/Library/Python/3.8/site-packages/tensorflow/python/framework/op_def_library.py\u001B[0m in \u001B[0;36m_apply_op_helper\u001B[0;34m(op_type_name, name, **keywords)\u001B[0m\n\u001B[1;32m    746\u001B[0m       \u001B[0;31m# Add Op to graph\u001B[0m\u001B[0;34m\u001B[0m\u001B[0;34m\u001B[0m\u001B[0;34m\u001B[0m\u001B[0m\n\u001B[1;32m    747\u001B[0m       \u001B[0;31m# pylint: disable=protected-access\u001B[0m\u001B[0;34m\u001B[0m\u001B[0;34m\u001B[0m\u001B[0;34m\u001B[0m\u001B[0m\n\u001B[0;32m--> 748\u001B[0;31m       op = g._create_op_internal(op_type_name, inputs, dtypes=None,\n\u001B[0m\u001B[1;32m    749\u001B[0m                                  \u001B[0mname\u001B[0m\u001B[0;34m=\u001B[0m\u001B[0mscope\u001B[0m\u001B[0;34m,\u001B[0m \u001B[0minput_types\u001B[0m\u001B[0;34m=\u001B[0m\u001B[0minput_types\u001B[0m\u001B[0;34m,\u001B[0m\u001B[0;34m\u001B[0m\u001B[0;34m\u001B[0m\u001B[0m\n\u001B[1;32m    750\u001B[0m                                  attrs=attr_protos, op_def=op_def)\n",
      "\u001B[0;32m/Library/Python/3.8/site-packages/tensorflow/python/framework/func_graph.py\u001B[0m in \u001B[0;36m_create_op_internal\u001B[0;34m(self, op_type, inputs, dtypes, input_types, name, attrs, op_def, compute_device)\u001B[0m\n\u001B[1;32m    597\u001B[0m       \u001B[0minp\u001B[0m \u001B[0;34m=\u001B[0m \u001B[0mself\u001B[0m\u001B[0;34m.\u001B[0m\u001B[0mcapture\u001B[0m\u001B[0;34m(\u001B[0m\u001B[0minp\u001B[0m\u001B[0;34m)\u001B[0m\u001B[0;34m\u001B[0m\u001B[0;34m\u001B[0m\u001B[0m\n\u001B[1;32m    598\u001B[0m       \u001B[0mcaptured_inputs\u001B[0m\u001B[0;34m.\u001B[0m\u001B[0mappend\u001B[0m\u001B[0;34m(\u001B[0m\u001B[0minp\u001B[0m\u001B[0;34m)\u001B[0m\u001B[0;34m\u001B[0m\u001B[0;34m\u001B[0m\u001B[0m\n\u001B[0;32m--> 599\u001B[0;31m     return super(FuncGraph, self)._create_op_internal(  # pylint: disable=protected-access\n\u001B[0m\u001B[1;32m    600\u001B[0m         \u001B[0mop_type\u001B[0m\u001B[0;34m,\u001B[0m \u001B[0mcaptured_inputs\u001B[0m\u001B[0;34m,\u001B[0m \u001B[0mdtypes\u001B[0m\u001B[0;34m,\u001B[0m \u001B[0minput_types\u001B[0m\u001B[0;34m,\u001B[0m \u001B[0mname\u001B[0m\u001B[0;34m,\u001B[0m \u001B[0mattrs\u001B[0m\u001B[0;34m,\u001B[0m \u001B[0mop_def\u001B[0m\u001B[0;34m,\u001B[0m\u001B[0;34m\u001B[0m\u001B[0;34m\u001B[0m\u001B[0m\n\u001B[1;32m    601\u001B[0m         compute_device)\n",
      "\u001B[0;32m/Library/Python/3.8/site-packages/tensorflow/python/framework/ops.py\u001B[0m in \u001B[0;36m_create_op_internal\u001B[0;34m(self, op_type, inputs, dtypes, input_types, name, attrs, op_def, compute_device)\u001B[0m\n\u001B[1;32m   3555\u001B[0m     \u001B[0;31m# Session.run call cannot occur between creating and mutating the op.\u001B[0m\u001B[0;34m\u001B[0m\u001B[0;34m\u001B[0m\u001B[0;34m\u001B[0m\u001B[0m\n\u001B[1;32m   3556\u001B[0m     \u001B[0;32mwith\u001B[0m \u001B[0mself\u001B[0m\u001B[0;34m.\u001B[0m\u001B[0m_mutation_lock\u001B[0m\u001B[0;34m(\u001B[0m\u001B[0;34m)\u001B[0m\u001B[0;34m:\u001B[0m\u001B[0;34m\u001B[0m\u001B[0;34m\u001B[0m\u001B[0m\n\u001B[0;32m-> 3557\u001B[0;31m       ret = Operation(\n\u001B[0m\u001B[1;32m   3558\u001B[0m           \u001B[0mnode_def\u001B[0m\u001B[0;34m,\u001B[0m\u001B[0;34m\u001B[0m\u001B[0;34m\u001B[0m\u001B[0m\n\u001B[1;32m   3559\u001B[0m           \u001B[0mself\u001B[0m\u001B[0;34m,\u001B[0m\u001B[0;34m\u001B[0m\u001B[0;34m\u001B[0m\u001B[0m\n",
      "\u001B[0;32m/Library/Python/3.8/site-packages/tensorflow/python/framework/ops.py\u001B[0m in \u001B[0;36m__init__\u001B[0;34m(self, node_def, g, inputs, output_types, control_inputs, input_types, original_op, op_def)\u001B[0m\n\u001B[1;32m   2039\u001B[0m       \u001B[0;32mif\u001B[0m \u001B[0mop_def\u001B[0m \u001B[0;32mis\u001B[0m \u001B[0;32mNone\u001B[0m\u001B[0;34m:\u001B[0m\u001B[0;34m\u001B[0m\u001B[0;34m\u001B[0m\u001B[0m\n\u001B[1;32m   2040\u001B[0m         \u001B[0mop_def\u001B[0m \u001B[0;34m=\u001B[0m \u001B[0mself\u001B[0m\u001B[0;34m.\u001B[0m\u001B[0m_graph\u001B[0m\u001B[0;34m.\u001B[0m\u001B[0m_get_op_def\u001B[0m\u001B[0;34m(\u001B[0m\u001B[0mnode_def\u001B[0m\u001B[0;34m.\u001B[0m\u001B[0mop\u001B[0m\u001B[0;34m)\u001B[0m\u001B[0;34m\u001B[0m\u001B[0;34m\u001B[0m\u001B[0m\n\u001B[0;32m-> 2041\u001B[0;31m       self._c_op = _create_c_op(self._graph, node_def, inputs,\n\u001B[0m\u001B[1;32m   2042\u001B[0m                                 control_input_ops, op_def)\n\u001B[1;32m   2043\u001B[0m       \u001B[0mname\u001B[0m \u001B[0;34m=\u001B[0m \u001B[0mcompat\u001B[0m\u001B[0;34m.\u001B[0m\u001B[0mas_str\u001B[0m\u001B[0;34m(\u001B[0m\u001B[0mnode_def\u001B[0m\u001B[0;34m.\u001B[0m\u001B[0mname\u001B[0m\u001B[0;34m)\u001B[0m\u001B[0;34m\u001B[0m\u001B[0;34m\u001B[0m\u001B[0m\n",
      "\u001B[0;32m/Library/Python/3.8/site-packages/tensorflow/python/framework/ops.py\u001B[0m in \u001B[0;36m_create_c_op\u001B[0;34m(graph, node_def, inputs, control_inputs, op_def)\u001B[0m\n\u001B[1;32m   1881\u001B[0m   \u001B[0;32mexcept\u001B[0m \u001B[0merrors\u001B[0m\u001B[0;34m.\u001B[0m\u001B[0mInvalidArgumentError\u001B[0m \u001B[0;32mas\u001B[0m \u001B[0me\u001B[0m\u001B[0;34m:\u001B[0m\u001B[0;34m\u001B[0m\u001B[0;34m\u001B[0m\u001B[0m\n\u001B[1;32m   1882\u001B[0m     \u001B[0;31m# Convert to ValueError for backwards compatibility.\u001B[0m\u001B[0;34m\u001B[0m\u001B[0;34m\u001B[0m\u001B[0;34m\u001B[0m\u001B[0m\n\u001B[0;32m-> 1883\u001B[0;31m     \u001B[0;32mraise\u001B[0m \u001B[0mValueError\u001B[0m\u001B[0;34m(\u001B[0m\u001B[0mstr\u001B[0m\u001B[0;34m(\u001B[0m\u001B[0me\u001B[0m\u001B[0;34m)\u001B[0m\u001B[0;34m)\u001B[0m\u001B[0;34m\u001B[0m\u001B[0;34m\u001B[0m\u001B[0m\n\u001B[0m\u001B[1;32m   1884\u001B[0m \u001B[0;34m\u001B[0m\u001B[0m\n\u001B[1;32m   1885\u001B[0m   \u001B[0;32mreturn\u001B[0m \u001B[0mc_op\u001B[0m\u001B[0;34m\u001B[0m\u001B[0;34m\u001B[0m\u001B[0m\n",
      "\u001B[0;31mValueError\u001B[0m: Negative dimension size caused by subtracting 3 from 1 for '{{node conv2d_16/Conv2D}} = Conv2D[T=DT_FLOAT, data_format=\"NHWC\", dilations=[1, 1, 1, 1], explicit_paddings=[], padding=\"VALID\", strides=[1, 1, 1, 1], use_cudnn_on_gpu=true](Placeholder, conv2d_16/Conv2D/ReadVariableOp)' with input shapes: [?,1,1,32], [3,3,32,32]."
     ]
    }
   ],
   "source": [
    "# train the model using SGD\n",
    "print(\"[INFO] training network...\")\n",
    "\n",
    "layers = [32,32,32,32,32,32,32]\n",
    "histories = []\n",
    "\n",
    "for i in range(len(layers)+1):\n",
    "\tlayers_local = layers[0:i]\n",
    "\tprint(layers_local)\n",
    "\tmodel = make_model(layers_local)\n",
    "\tmodel.compile(loss=\"categorical_crossentropy\", optimizer=sgd, metrics=[\"accuracy\"])\n",
    "\tH = model.fit(train_X, train_y, validation_data=(test_X, test_y), epochs=epochs, batch_size=256, verbose=2)\n",
    "\thistories.append(H)"
   ],
   "metadata": {
    "collapsed": false,
    "pycharm": {
     "name": "#%%\n"
    }
   }
  },
  {
   "cell_type": "code",
   "execution_count": 22,
   "outputs": [
    {
     "data": {
      "text/plain": "<Figure size 432x288 with 1 Axes>",
      "image/png": "[encoded data removed]"
     },
     "metadata": {},
     "output_type": "display_data"
    }
   ],
   "source": [
    "# plot the training accuracy\n",
    "cmap = plt.get_cmap('gist_rainbow')\n",
    "colors = [cmap(i) for i in np.linspace(0, 1, len(layers))]\n",
    "\n",
    "plt.style.use(\"ggplot\")\n",
    "plt.figure()\n",
    "i = 0\n",
    "for history in histories:\n",
    "\tplt.plot(np.arange(0, epochs), history.history[\"accuracy\"], color=colors[i], label=\"train_acc_\" + str(i))\n",
    "\tplt.plot(np.arange(0, epochs), history.history[\"val_accuracy\"], color=colors[i], label=\"val_acc_\" + str(i), linestyle=\"dotted\")\n",
    "\ti += 1\n",
    "plt.title(\"Training Accuracy\")\n",
    "plt.xlabel(\"Epoch #\")\n",
    "plt.ylabel(\"Accuracy\")\n",
    "plt.legend(bbox_to_anchor=(0.995,1.02), loc=\"upper left\", ncol=2)\n",
    "plt.show()"
   ],
   "metadata": {
    "collapsed": false,
    "pycharm": {
     "name": "#%%\n"
    }
   }
  },
  {
   "cell_type": "markdown",
   "source": [
    "## f) As we said before, CNNs are good at image data. What could be the reasons behind this?\n",
    "\n",
    "Um zu verstehen warum CNNs so gut mit Bilddaten umgehen können, müssen wir zunächst betrachten wie Bilder überhaupt maschinell repräsentiert sind. Im Gegensatz zur menschlichen Wahrnehmung eines Bildes, wo das Bild als Ganzes mit konkreten Formen und Mustern wahrgenommen wird, sieht eine Maschine lediglich eine Matrix mit Zahlen welche die einzelnen Pixel repräsentieren.\n",
    "\n",
    "![Bildpixel Matrixdarstellung](Bilder/pixel.png)\n",
    "\n",
    "Die Aufgabe des Neuronalen Netzes, sei es ein CNN oder ANN, ist es nun anhand dieser Matrix, und des vorgegebenen Labels Rückschlüsse auf den Inhalt des Bildes zu ziehen.\n",
    "\n",
    "Wenn wir nun genauer auf die Architekturen der neuronalen Netze eingehen, wird schnell ersichtlich, dass das CNN eindeutig im Vorteil ist.\n",
    "\n",
    "Die grundlegende Architektur eines ANN ist in folgendem Bild illustriert:\n",
    "\n",
    "![ANN](Bilder/ann.png)\n",
    "\n",
    "Man beachte, dass dieses Netzwerk im Grunde aus drei Schichten aufgebaut ist. Den Eingang, die Schicht welche die Daten annimmt, stellt das Input Layer dar. Die anschließende Weiterleitung der Daten erfolgt über die Hidden Layers. Schließlich gelangen die Daten zum Output Layer wo dann die Ausgabe erzeugt wird. Wenn wir nun die Form der Daten, welche hier durch die einzelnen Schichten gereicht werden, genauer betrachtet, stellen wir fest, dass es sich hier um einen Vektor der Form 1xn handelt.\n",
    "\n",
    "Das „Problem“ das wir nun mit Bilddaten haben, ist dass diese, wenn man sie als Matrix betrachtet, eben nicht der Form 1xn, sondern vielmehr der Form mxn, bzw. nxn für quadratische Bilder, entsprechen. \n",
    "\n",
    "Würden wir nun ein ANN verwenden, so währe eine Transformation des Bildes notwendig. Aus der mxn Matrix müssten wir zunächst einen Vektor der Form 1xn erzeugen. Dieses Vorgehen wird „Flattening“ genant und ist im folgenden illustriert:\n",
    "\n",
    "1 2 3\n",
    "\n",
    "4 5 6        —>        1 2 3 4 5 6 7 8 9\n",
    "\n",
    "7 8 9\n",
    "\n",
    "Die Verwendung von Bilddaten in ANNs ist somit grundsätzlich möglich, das Flattening bringt jedoch Probleme mit sich, welche sich durchaus negativ auf die Performance eines solchen Modells auswirken werden.\n",
    "Durch das Flattening sind ANNs folglich nicht mehr in der Lage, Objekte in einem Bild unabhängig von der Position des Objekts im Bild zu erkennen. Das gleiche Objekt an einer anderen Position im Bild hätte einen völlig anderen Input-Vektor und würde somit nicht mehr, oder nur sehr erschwert, als gleichartig erkannt werden. \n",
    "Ein weiteres Problem ergibt sich wenn wir nun einmal annehmen, dass die Bilder die wir klassifizieren wollen, nicht wie z.B. beim MNIST Datensatz 28x28 Pixel haben, sondern es sich um Bilder der Größe 1000x1000 Pixel handelt. Der Input-Vektor der 28x28 Pixel Bilder hätte eine Länge von 784, was noch durchaus vertretbar wäre. Der Vektor der Bilder mit 1000x1000 Pixel hätte eine Länge von 1000000, was bedeutet, dass das Input Layer ebenfalls 1000000 Neuronen beinhalten müsste. Das Netzwerk wäre damit direkt extrem groß, was jedoch dem grundlegenden Ziel, die Netzwerke möglichst klein und wenig komplex zu halten, widerspricht.\n",
    "\n",
    "Nun stellt sich die Frage wie denn anhand von Bilddaten erfolgversprechend mit Methoden aus dem Bereich des Deep Learning Klassifizierungsaufgaben durchgeführt werden können. Da ANNs aufgrund ihrer Beschaffenheit nur bedingt geeignet sind um mit Bilddaten zu arbeiten betrachten wir im Folgenden Convolutional Neural Networks (CNN).\n",
    "\n",
    "Ein CNN besteht im wesentlichen aus Filtern (genannt Convolutional Layer) und Aggregations-Schichten (genannt Pooling Layer), die sich abwechselnd wiederholen, und am Ende aus einer oder mehreren Schichten von „normalen“ vollständig verbundenen Neuronen (genannt Dense oder auch Fully Connected Layer).\n",
    "\n",
    "![CNN](Bilder/cnn.png)\n",
    " \n",
    "Der große Unterschied vom CNN gegenüber dem ANN ist, das wir hier eine Kombination aus Convolutional und Pooling Layers, gefolgt von einem Fully Connected Netzwerk, den Dense Layers verwenden. Innerhalb dieser Schichten wie das Eingabe Datum, gefaltet und damit Features extrahiert, sowie durch Pooling in seiner Größe reduziert. Auch sind die Neuronen des CNN in den Convolutional Layers so angeordnet, dass grundsätzlich die Eingabe von mehrdimensionalen Daten und insbesondere von 2-dimensionale Eingaben wie z.B. Bildern, unterstützt wird. \n",
    "\n",
    "#### Convolutional Layers\n",
    "Die Convolutional Layers übernehmen dabei die Faltungsaufgabe, indem die Eingabematrix, also die Bilddaten, mit einer Filtermatrix verrechnet werden. Mit Hilfe einer kleineren Filtermatrix, deren Größe vorab auf z.B. 3x3 Pixel definiert wurde, wird die Faltung berechnet, welche dann als neue Matrix den Output darstellt (und ggf. den Input des folgenden Convolutional Layers). Da verschiedene Filtermatrizen verwendet werden können, ist es möglich durch mehrmalige Anwendung unterschiedliche Features zu extrahieren. \n",
    "\n",
    "![Convolutional Layer](Bilder/filter.png)\n",
    "\n",
    "#### Pooling Layers\n",
    "In der Regel folgt auf ein Convolutional ein Pooling Layer. Der Pooling Layer aggregiert die Ergebnisse von Convolutional Layern, indem jeweils nur das stärkste Signal weiter gegeben wird. Bei einem MaxPooling Layer wird z.B. immer der höchste Wert einer Kernel-Matrix verwendet und alle anderen werden verworfen. Die von einem 2 x 2 Kernel erstellten vier Matrix Ergebnisse werden so auf nur eine Zahl (die höchste der vier) reduziert. Das Pooling dient dazu, nur die relevantesten Signale an die nächsten Schichten weiter zu geben, eine abstraktere Repräsentation des Inhalts zu erreichen und die Anzahl der Parameter eines Netzes zu reduzieren.\n",
    "\n",
    "![Pooling Layer](Bilder/pooling.png)\n",
    "\n",
    "#### Dense Layers\n",
    "Beim Fully Connected Layer oder Dense Layer handelt es sich um eine normale neuronale Netzstruktur, bei der alle Neuronen mit allen Inputs und allen Outputs verbunden sind. Um den Matrix-Output der Convolutional- und Pooling-Layer in einen Dense Layer speisen zu können, muss hier zunächst die Flattening Operation ausgeführt werden. Flattening ist hier, im Gegensatz zum ANN, problemlos möglich, da die Output-Signale der Filter-Schichten unabhängig von der Position eines Objektes sind und daher sind zwar keine Positionsmerkmale mehr vorhanden sind, dafür aber ortsunabhängige Objektinformationen.\n",
    "\n",
    "### Zusammenfassung\n",
    "Abschließende kann man nun zusammenfassen, dass durch die Anwendung von Filtermatrizen zum erzeugen von Faltungen, die Reduktion der Daten bzw. des Netzwerks durch Pooling und die geschickte Anordnung der Neuronen in den vorderen Schichten, CNNs in der Lagen sind die Zusammenhänge innerhalb der Bilddaten zu erkennen und damit hervorragend geeignet sind um auf solchen Daten Klassifizierungsaufgaben auszuführen.\n",
    "\n",
    "\n",
    "## j) What is batch normalization? \n",
    "Batch Normalization ist die Anwendung einer Normalisierungstechnik auf die Eingabewerte der Hidden Layers. Im Gegensatz zur Normalisierung wird Batch Normalization nicht zu Beginn auf die Rohdaten, sondern eben für jedes Hidden Layer auf die Eingabedaten angewendet, bevor diese in die Aktivierungsfunktion gegeben werden.\n",
    "\n",
    "Grundsätzlich wird Batch Normalization verwendet um die Konvergenzrate und damit die Geschwindigkeit beim Training zu erhöhen, indem der Covariate Shift reduziert wird.\n",
    "\n",
    "Die Idee ist, dass selbst wenn sich die Werte der Eingaben der Hidden Layers ändern, der Mittelwert und ihre Standardabweichung immer noch fast gleich bleiben, wodurch der Covariate Shift reduziert wird. Dies schwächt die Kopplung zwischen den Parametern der vorherigen Schicht und denen der folgenden Schichten, wodurch ermöglicht wird, dass jede Schicht des Netzwerks unabhängiger voneinander, sozusagen für sich selbst lernt. Dadurch wird der Lernprozess beschleunigt.\n",
    "\n",
    "Ein weiterer Vorteil von Batch Normalization besteht darin, dass es als Regularisierung fungiert. Jeder Mini-batch wird mit seinem Mittelwert und seiner Standardabweichung skaliert. Dies führt zu einem gewissen Rauschen in jeder Ebene und bietet einen Regularisierungseffekt.\n",
    "\n",
    "Zusammengefasst dient Batch Normalization bei ANNs und CNNs dem Zweck das Training zu beschleunigen und dabei die Ergebnisse die, in Bezug auf die Genauigkeit des Modells, erzielt werden können auch noch zu verbessern.\n",
    "\n",
    "\n",
    "## g) What is regularization?\n",
    "Ein verbreitetes Problem beim Training von neuronalen Netzen ist Overfitting. Was Overfitting genau ist haben wir in Aufgabe 1 f) bereits beschrieben. \n",
    "\n",
    "Im folgenden betrachten wir Regularisierung, eine Möglichkeit wie man dem Problem des Overfittings entgegen wirken kann und gehen dabei auf drei konkrete Regularisierungsmethoden ein.\n",
    "\n",
    "### Dropout\n",
    "Dropout ist eine Methode zur Reduzierung von Overfitting. Dabei wird das Modell gezwungen, mehrere unabhängige Darstellungen der gleichen Daten zu lernen, indem zufällig während der Lernphase Neuronen in den Hidden Layers deaktiviert werden. Der Grad des Dropouts wird in der Regel durch einen Hyperparameter definiert, welcher angibt wie viele der Neuronen deaktiviert werden sollen. Der so angegebene Anteil der zu deaktivierenden Neuronen gilt dann durchgängig für alle Iterationen, es werden jedoch pro Iteration immer andere, zufällig ausgewählte, Neuronen deaktiviert.\n",
    "Die Regularisierungsmethode Dropout ist in folgendem Bild noch einmal für ein einfaches Feed Forward Netzwerk dargestellt:\n",
    "\n",
    "![Dropout](Bilder/dropout.png)\n",
    "\n",
    "### Data Augmentation\n",
    "Das Ziel von Data Augmentation ist es einen bestehenden Datensatz zu erweitern, ohne konkret neue Daten sammeln zu müssen. In vielen Fällen ist dies nicht ohne Weiteres möglich. Dies gilt jedoch für z.B. Bilddaten nicht. Es ist möglich Variationen des Bildes durch Anwendung verschiedener Filtertechniken zu erzeugen. So wird das Bild z.B. skaliert, rotiert, gespiegelt, verschoben, etc., um letztendlich möglichst viele Variationen des Bildes und damit einen künstlich vergrößerten Datensatz zu bekommen.\n",
    "\n",
    "![Data Augmentation](Bilder/data_augmentation.png)\n",
    "\n",
    "### Early Stopping\n",
    "Bei Early Stopping geht es darum das Training dann, ggf. vorzeitig, zu beenden, sobald erkannt wird dass Overfitting eintritt. Dazu wird ein Teil des Trainingsdatensatzes als Validation Set verwendet und während des Trainings der Fehler von diesem Validation Set berechnet. Sollte der Fehler auf dem Validation Set ein Minimum durchschreiten, also für folgende Interaktionen des Trainings wieder größer werden, so wird angenommen, dass Overfitting eintritt und der Trainingsprozess beendet.\n",
    "\n",
    "![Early Stopping](Bilder/data_augmentation.png)\n",
    "\n",
    "## h) Contrastive loss"
   ],
   "metadata": {
    "collapsed": false,
    "pycharm": {
     "name": "#%% md\n"
    }
   }
  },
  {
   "cell_type": "code",
   "execution_count": null,
   "outputs": [],
   "source": [],
   "metadata": {
    "collapsed": false,
    "pycharm": {
     "name": "#%%\n"
    }
   }
  }
 ],
 "metadata": {
  "language_info": {
   "codemirror_mode": {
    "name": "ipython",
    "version": 2
   },
   "file_extension": ".py",
   "mimetype": "text/x-python",
   "name": "python",
   "nbconvert_exporter": "python",
   "pygments_lexer": "ipython2",
   "version": "2.7.6"
  },
  "kernelspec": {
   "name": "pycharm-b2f51384",
   "language": "python",
   "display_name": "PyCharm (SmartDataAnalytics_Gruppe1)"
  }
 },
 "nbformat": 4,
 "nbformat_minor": 0
}