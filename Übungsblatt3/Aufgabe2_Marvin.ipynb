{
 "cells": [
  {
   "cell_type": "markdown",
   "metadata": {
    "collapsed": true,
    "pycharm": {
     "name": "#%% md\n"
    }
   },
   "source": [
    "# Aufgabe 2 - CNN\n"
   ]
  },
  {
   "cell_type": "code",
   "execution_count": 2,
   "outputs": [],
   "source": [
    "# import the necessary packages\n",
    "from sklearn.preprocessing import LabelBinarizer\n",
    "from sklearn.metrics import classification_report\n",
    "from tensorflow.keras.models import Sequential\n",
    "from tensorflow.keras.layers import Dense, Conv2D, Flatten, MaxPooling2D\n",
    "from tensorflow.keras.optimizers import SGD\n",
    "from tensorflow.keras.datasets import mnist\n",
    "import matplotlib.pyplot as plt\n",
    "import numpy as np\n"
   ],
   "metadata": {
    "collapsed": false,
    "pycharm": {
     "name": "#%%\n"
    }
   }
  },
  {
   "cell_type": "markdown",
   "source": [
    "## Variablen"
   ],
   "metadata": {
    "collapsed": false,
    "pycharm": {
     "name": "#%% md\n"
    }
   }
  },
  {
   "cell_type": "code",
   "execution_count": 3,
   "outputs": [],
   "source": [
    "epochs = 20\n",
    "batch_size = 128\n",
    "sgd = SGD(0.01)\n"
   ],
   "metadata": {
    "collapsed": false,
    "pycharm": {
     "name": "#%%\n"
    }
   }
  },
  {
   "cell_type": "markdown",
   "source": [
    "## Dataset"
   ],
   "metadata": {
    "collapsed": false
   }
  },
  {
   "cell_type": "code",
   "execution_count": 4,
   "outputs": [
    {
     "name": "stdout",
     "output_type": "stream",
     "text": [
      "[INFO] accessing MNIST...\n"
     ]
    }
   ],
   "source": [
    "# Grab the MNIST dataset\n",
    "# The dataset is already split into train and test set (with distribution train:60k to test:10k)\n",
    "print(\"[INFO] accessing MNIST...\")\n",
    "((train_X, train_y), (test_X, test_y)) = mnist.load_data()\n",
    "\n",
    "# Each image in the MNIST dataset is represented as a 28x28x1\n",
    "# Flatten the images from 28x28 pixels to list with length 784 to be able to apply it to standart feed forward neural network\n",
    "#train_X = train_X.reshape((train_X.shape[0], 28 * 28 * 1))\n",
    "#test_X = test_X.reshape((test_X.shape[0], 28 * 28 * 1))\n",
    "train_X = train_X.reshape(train_X.shape[0], 28, 28, 1)\n",
    "test_X = test_X.reshape(test_X.shape[0], 28, 28, 1)\n",
    "\n",
    "# Scale data to the range of [0, 1]\n",
    "train_X = train_X.astype(\"float32\") / 255.0\n",
    "test_X = test_X.astype(\"float32\") / 255.0\n",
    "\n",
    "# Perform one-hot-encoding to convert the labels from integers to vectors\n",
    "lb = LabelBinarizer()\n",
    "train_y = lb.fit_transform(train_y)\n",
    "test_y = lb.transform(test_y)\n"
   ],
   "metadata": {
    "collapsed": false,
    "pycharm": {
     "name": "#%%\n"
    }
   }
  },
  {
   "cell_type": "markdown",
   "source": [
    "## a) Netzwerk"
   ],
   "metadata": {
    "collapsed": false
   }
  },
  {
   "cell_type": "code",
   "execution_count": 19,
   "outputs": [],
   "source": [
    "model = Sequential()\n",
    "model.add(Conv2D(32, kernel_size=3, activation='relu', input_shape=(28,28,1)))\n",
    "model.add(Conv2D(32, kernel_size=3, activation='relu'))\n",
    "model.add(MaxPooling2D(pool_size=(2,2)))\n",
    "model.add(Flatten())\n",
    "model.add(Dense(10, activation=\"softmax\"))"
   ],
   "metadata": {
    "collapsed": false,
    "pycharm": {
     "name": "#%%\n"
    }
   }
  },
  {
   "cell_type": "markdown",
   "source": [
    "## b) Training"
   ],
   "metadata": {
    "collapsed": false
   }
  },
  {
   "cell_type": "code",
   "execution_count": 20,
   "outputs": [
    {
     "name": "stdout",
     "output_type": "stream",
     "text": [
      "[INFO] training network...\n",
      "Epoch 1/20\n",
      "469/469 - 45s - loss: 0.8532 - accuracy: 0.7608 - val_loss: 0.3449 - val_accuracy: 0.9006\n",
      "Epoch 2/20\n",
      "469/469 - 55s - loss: 0.3478 - accuracy: 0.8967 - val_loss: 0.3107 - val_accuracy: 0.9120\n",
      "Epoch 3/20\n",
      "469/469 - 44s - loss: 0.3222 - accuracy: 0.9050 - val_loss: 0.3054 - val_accuracy: 0.9113\n",
      "Epoch 4/20\n",
      "469/469 - 48s - loss: 0.3045 - accuracy: 0.9102 - val_loss: 0.2847 - val_accuracy: 0.9175\n",
      "Epoch 5/20\n",
      "469/469 - 45s - loss: 0.2861 - accuracy: 0.9172 - val_loss: 0.2648 - val_accuracy: 0.9250\n",
      "Epoch 6/20\n",
      "469/469 - 42s - loss: 0.2668 - accuracy: 0.9226 - val_loss: 0.2376 - val_accuracy: 0.9317\n",
      "Epoch 7/20\n",
      "469/469 - 36s - loss: 0.2419 - accuracy: 0.9301 - val_loss: 0.2163 - val_accuracy: 0.9400\n",
      "Epoch 8/20\n",
      "469/469 - 37s - loss: 0.2146 - accuracy: 0.9387 - val_loss: 0.1898 - val_accuracy: 0.9463\n",
      "Epoch 9/20\n",
      "469/469 - 36s - loss: 0.1877 - accuracy: 0.9474 - val_loss: 0.1701 - val_accuracy: 0.9523\n",
      "Epoch 10/20\n",
      "469/469 - 36s - loss: 0.1621 - accuracy: 0.9536 - val_loss: 0.1454 - val_accuracy: 0.9608\n",
      "Epoch 11/20\n",
      "469/469 - 35s - loss: 0.1406 - accuracy: 0.9607 - val_loss: 0.1269 - val_accuracy: 0.9636\n",
      "Epoch 12/20\n",
      "469/469 - 35s - loss: 0.1235 - accuracy: 0.9661 - val_loss: 0.1119 - val_accuracy: 0.9685\n",
      "Epoch 13/20\n",
      "469/469 - 35s - loss: 0.1111 - accuracy: 0.9689 - val_loss: 0.0996 - val_accuracy: 0.9716\n",
      "Epoch 14/20\n",
      "469/469 - 35s - loss: 0.1009 - accuracy: 0.9720 - val_loss: 0.0969 - val_accuracy: 0.9734\n",
      "Epoch 15/20\n",
      "469/469 - 35s - loss: 0.0930 - accuracy: 0.9739 - val_loss: 0.0866 - val_accuracy: 0.9746\n",
      "Epoch 16/20\n",
      "469/469 - 36s - loss: 0.0871 - accuracy: 0.9759 - val_loss: 0.0784 - val_accuracy: 0.9764\n",
      "Epoch 17/20\n",
      "469/469 - 35s - loss: 0.0816 - accuracy: 0.9771 - val_loss: 0.0753 - val_accuracy: 0.9773\n",
      "Epoch 18/20\n",
      "469/469 - 35s - loss: 0.0774 - accuracy: 0.9782 - val_loss: 0.0717 - val_accuracy: 0.9782\n",
      "Epoch 19/20\n",
      "469/469 - 35s - loss: 0.0739 - accuracy: 0.9788 - val_loss: 0.0682 - val_accuracy: 0.9791\n",
      "Epoch 20/20\n",
      "469/469 - 35s - loss: 0.0707 - accuracy: 0.9797 - val_loss: 0.0687 - val_accuracy: 0.9791\n"
     ]
    }
   ],
   "source": [
    "# train the model using SGD and categorical crossentropy\n",
    "print(\"[INFO] training network...\")\n",
    "epochs = 20\n",
    "sgd = SGD(0.01)\n",
    "model.compile(loss=\"categorical_crossentropy\", optimizer=sgd, metrics=[\"accuracy\"])\n",
    "H = model.fit(train_X, train_y, validation_data=(test_X, test_y), epochs=epochs, batch_size=128, verbose=2)"
   ],
   "metadata": {
    "collapsed": false,
    "pycharm": {
     "name": "#%%\n"
    }
   }
  },
  {
   "cell_type": "markdown",
   "source": [
    "## c) Evaluation"
   ],
   "metadata": {
    "collapsed": false,
    "pycharm": {
     "name": "#%% md\n"
    }
   }
  },
  {
   "cell_type": "code",
   "execution_count": 21,
   "outputs": [
    {
     "name": "stdout",
     "output_type": "stream",
     "text": [
      "[INFO] evaluating network...\n",
      "              precision    recall  f1-score   support\n",
      "\n",
      "           0       0.97      0.99      0.98       980\n",
      "           1       0.99      0.99      0.99      1135\n",
      "           2       0.97      0.98      0.97      1032\n",
      "           3       0.97      0.99      0.98      1010\n",
      "           4       0.99      0.98      0.99       982\n",
      "           5       0.98      0.99      0.98       892\n",
      "           6       0.99      0.98      0.99       958\n",
      "           7       0.98      0.97      0.97      1028\n",
      "           8       0.97      0.97      0.97       974\n",
      "           9       0.98      0.96      0.97      1009\n",
      "\n",
      "    accuracy                           0.98     10000\n",
      "   macro avg       0.98      0.98      0.98     10000\n",
      "weighted avg       0.98      0.98      0.98     10000\n",
      "\n"
     ]
    }
   ],
   "source": [
    "# Evaluate the network\n",
    "print(\"[INFO] evaluating network...\")\n",
    "predictions = model.predict(test_X, batch_size=128)\n",
    "print(classification_report(test_y.argmax(axis=1),\n",
    "\tpredictions.argmax(axis=1),\n",
    "\ttarget_names=[str(x) for x in lb.classes_]))"
   ],
   "metadata": {
    "collapsed": false,
    "pycharm": {
     "name": "#%%\n"
    }
   }
  },
  {
   "cell_type": "code",
   "execution_count": 22,
   "outputs": [
    {
     "data": {
      "text/plain": "<Figure size 432x288 with 1 Axes>",
      "image/png": "[encoded data removed]"
     },
     "metadata": {},
     "output_type": "display_data"
    },
    {
     "data": {
      "text/plain": "<Figure size 432x288 with 1 Axes>",
      "image/png": "[encoded data removed]"
     },
     "metadata": {},
     "output_type": "display_data"
    }
   ],
   "source": [
    "# plot the training accuracy\n",
    "plt.style.use(\"ggplot\")\n",
    "plt.figure()\n",
    "plt.plot(np.arange(0, epochs), H.history[\"accuracy\"], label=\"train_acc\")\n",
    "plt.plot(np.arange(0, epochs), H.history[\"val_accuracy\"], label=\"val_acc\")\n",
    "plt.title(\"Training Accuracy\")\n",
    "plt.xlabel(\"Epoch #\")\n",
    "plt.ylabel(\"Accuracy\")\n",
    "plt.legend(bbox_to_anchor=(0.995,1.02), loc=\"upper left\", ncol=1)\n",
    "plt.show()\n",
    "\n",
    "# plot the training loss\n",
    "plt.plot(np.arange(0, epochs), H.history[\"loss\"], label=\"train_loss\")\n",
    "plt.plot(np.arange(0, epochs), H.history[\"val_loss\"], label=\"val_loss\")\n",
    "plt.title(\"Training Loss\")\n",
    "plt.xlabel(\"Epoch #\")\n",
    "plt.ylabel(\"Loss\")\n",
    "plt.legend(bbox_to_anchor=(0.995,1.02), loc=\"upper left\", ncol=1)\n",
    "plt.show()"
   ],
   "metadata": {
    "collapsed": false,
    "pycharm": {
     "name": "#%%\n"
    }
   }
  },
  {
   "cell_type": "markdown",
   "source": [
    "Beschreibung c)\n",
    "\n",
    "## d) ANN vs. CNN\n",
    "Im Vergleich zum ANN aus Aufgabe 1 hat das CNN hier eine weitaus bessere Performance. Beim einfachen ANN haben wir eine Accuracy von ca. 90% erreicht, woohingegen wir hier einen Wert von ca. 98% erreichen.\n",
    "Grund hierfür ist, dass das CNN durch seine Beschaffenheit besser in der LAge ist mit Bilddaten umzugehen. Wir haben hier die Möglichkeit dem Netzwerk das Bild als ganzes zu übergeben, sodass die Zusammenhänge innerhalb der 2-dimensoinalen Eingabe bestehen bleiben, wohingegen es beim ANN notwendig ist das Bild zeilenweise aneinander zu fügen, um einen eindimensionalen Vektor zu bekommen, welcher von der Input Schicht des ANN angenommen werden kann.\n"
   ],
   "metadata": {
    "collapsed": false
   }
  },
  {
   "cell_type": "markdown",
   "source": [
    "## e)\n",
    "#### Grundaufbau des Netzes:\n",
    "- Activation Function: Rectified Linear Unit (ReLU), da das Netzwerk für diese Funktion in der vorherigne Teilaufgabe eine gute Performance aufwies.\n",
    "- Convolutional Filter Size: 3x3\n",
    "- Neuronen Conv2D: 32\n",
    "- Pooling: MaxPooling mit 2x2 Matrix\n",
    "- Netzwerk zu Beginn: Conv2D-Conv2D-MaxPooling-Flatten-Dense\n",
    "- Fortschreitende Erweiterung der Komplexität: Sukkzesives Hinzufügen von Conv2D + MaxPooling Layer\n",
    "\n",
    "Fehlt noch"
   ],
   "metadata": {
    "collapsed": false,
    "pycharm": {
     "name": "#%% md\n"
    }
   }
  },
  {
   "cell_type": "code",
   "execution_count": 25,
   "outputs": [],
   "source": [
    "def make_model(layers):\n",
    "\tmodel = Sequential()\n",
    "\tmodel.add(Conv2D(32, kernel_size=3, activation='relu', input_shape=(28,28,1)))\n",
    "\tfor layer in layers:\n",
    "\t\tmodel.add(Conv2D(layer, kernel_size=3, activation='relu'))\n",
    "\t\tmodel.add(MaxPooling2D(pool_size=(2,2)))\n",
    "\tmodel.add(Flatten())\n",
    "\tmodel.add(Dense(10, activation=\"softmax\"))\n",
    "\treturn model"
   ],
   "metadata": {
    "collapsed": false,
    "pycharm": {
     "name": "#%%\n"
    }
   }
  },
  {
   "cell_type": "code",
   "execution_count": null,
   "outputs": [
    {
     "name": "stdout",
     "output_type": "stream",
     "text": [
      "[INFO] training network...\n",
      "[]\n",
      "Epoch 1/20\n",
      "235/235 - 8s - loss: 0.9926 - accuracy: 0.7829 - val_loss: 0.4354 - val_accuracy: 0.8833\n",
      "Epoch 2/20\n",
      "235/235 - 7s - loss: 0.4065 - accuracy: 0.8869 - val_loss: 0.3546 - val_accuracy: 0.9017\n",
      "Epoch 3/20\n",
      "235/235 - 6s - loss: 0.3572 - accuracy: 0.8976 - val_loss: 0.3286 - val_accuracy: 0.9061\n",
      "Epoch 4/20\n",
      "235/235 - 6s - loss: 0.3350 - accuracy: 0.9044 - val_loss: 0.3091 - val_accuracy: 0.9138\n",
      "Epoch 5/20\n",
      "235/235 - 6s - loss: 0.3211 - accuracy: 0.9089 - val_loss: 0.3022 - val_accuracy: 0.9145\n",
      "Epoch 6/20\n",
      "235/235 - 6s - loss: 0.3113 - accuracy: 0.9121 - val_loss: 0.2952 - val_accuracy: 0.9163\n",
      "Epoch 7/20\n",
      "235/235 - 6s - loss: 0.3043 - accuracy: 0.9135 - val_loss: 0.2943 - val_accuracy: 0.9151\n",
      "Epoch 8/20\n",
      "235/235 - 6s - loss: 0.2987 - accuracy: 0.9156 - val_loss: 0.2861 - val_accuracy: 0.9196\n",
      "Epoch 9/20\n",
      "235/235 - 7s - loss: 0.2944 - accuracy: 0.9168 - val_loss: 0.2849 - val_accuracy: 0.9178\n",
      "Epoch 10/20\n",
      "235/235 - 7s - loss: 0.2903 - accuracy: 0.9178 - val_loss: 0.2787 - val_accuracy: 0.9207\n",
      "Epoch 11/20\n",
      "235/235 - 6s - loss: 0.2871 - accuracy: 0.9193 - val_loss: 0.2851 - val_accuracy: 0.9194\n",
      "Epoch 12/20\n",
      "235/235 - 6s - loss: 0.2845 - accuracy: 0.9197 - val_loss: 0.2752 - val_accuracy: 0.9222\n",
      "Epoch 13/20\n",
      "235/235 - 6s - loss: 0.2820 - accuracy: 0.9208 - val_loss: 0.2723 - val_accuracy: 0.9221\n",
      "Epoch 14/20\n",
      "235/235 - 6s - loss: 0.2794 - accuracy: 0.9217 - val_loss: 0.2751 - val_accuracy: 0.9219\n",
      "Epoch 15/20\n",
      "235/235 - 6s - loss: 0.2772 - accuracy: 0.9225 - val_loss: 0.2706 - val_accuracy: 0.9221\n",
      "Epoch 16/20\n",
      "235/235 - 6s - loss: 0.2750 - accuracy: 0.9229 - val_loss: 0.2702 - val_accuracy: 0.9230\n",
      "Epoch 17/20\n",
      "235/235 - 6s - loss: 0.2726 - accuracy: 0.9235 - val_loss: 0.2672 - val_accuracy: 0.9241\n",
      "Epoch 18/20\n",
      "235/235 - 6s - loss: 0.2704 - accuracy: 0.9238 - val_loss: 0.2650 - val_accuracy: 0.9247\n",
      "Epoch 19/20\n",
      "235/235 - 6s - loss: 0.2684 - accuracy: 0.9248 - val_loss: 0.2639 - val_accuracy: 0.9247\n",
      "Epoch 20/20\n",
      "235/235 - 6s - loss: 0.2665 - accuracy: 0.9251 - val_loss: 0.2628 - val_accuracy: 0.9268\n",
      "[32]\n",
      "Epoch 1/20\n",
      "235/235 - 35s - loss: 1.3364 - accuracy: 0.6513 - val_loss: 0.4246 - val_accuracy: 0.8797\n",
      "Epoch 2/20\n",
      "235/235 - 35s - loss: 0.3911 - accuracy: 0.8856 - val_loss: 0.3534 - val_accuracy: 0.8964\n",
      "Epoch 3/20\n",
      "235/235 - 35s - loss: 0.3492 - accuracy: 0.8977 - val_loss: 0.3173 - val_accuracy: 0.9063\n",
      "Epoch 4/20\n",
      "235/235 - 35s - loss: 0.3311 - accuracy: 0.9022 - val_loss: 0.3287 - val_accuracy: 0.9078\n",
      "Epoch 5/20\n",
      "235/235 - 35s - loss: 0.3202 - accuracy: 0.9063 - val_loss: 0.3064 - val_accuracy: 0.9101\n",
      "Epoch 6/20\n",
      "235/235 - 34s - loss: 0.3092 - accuracy: 0.9097 - val_loss: 0.3385 - val_accuracy: 0.9006\n",
      "Epoch 7/20\n",
      "235/235 - 35s - loss: 0.3016 - accuracy: 0.9121 - val_loss: 0.2955 - val_accuracy: 0.9121\n",
      "Epoch 8/20\n",
      "235/235 - 34s - loss: 0.2916 - accuracy: 0.9149 - val_loss: 0.2693 - val_accuracy: 0.9222\n",
      "Epoch 9/20\n",
      "235/235 - 35s - loss: 0.2832 - accuracy: 0.9175 - val_loss: 0.2786 - val_accuracy: 0.9182\n",
      "Epoch 10/20\n",
      "235/235 - 35s - loss: 0.2729 - accuracy: 0.9210 - val_loss: 0.2706 - val_accuracy: 0.9216\n",
      "Epoch 11/20\n",
      "235/235 - 34s - loss: 0.2638 - accuracy: 0.9239 - val_loss: 0.2471 - val_accuracy: 0.9279\n",
      "Epoch 12/20\n",
      "235/235 - 34s - loss: 0.2524 - accuracy: 0.9278 - val_loss: 0.2534 - val_accuracy: 0.9241\n",
      "Epoch 13/20\n",
      "235/235 - 34s - loss: 0.2411 - accuracy: 0.9306 - val_loss: 0.2290 - val_accuracy: 0.9336\n",
      "Epoch 14/20\n",
      "235/235 - 34s - loss: 0.2269 - accuracy: 0.9354 - val_loss: 0.2118 - val_accuracy: 0.9379\n",
      "Epoch 15/20\n",
      "235/235 - 34s - loss: 0.2142 - accuracy: 0.9391 - val_loss: 0.2072 - val_accuracy: 0.9386\n",
      "Epoch 16/20\n",
      "235/235 - 34s - loss: 0.2001 - accuracy: 0.9432 - val_loss: 0.1821 - val_accuracy: 0.9468\n",
      "Epoch 17/20\n",
      "235/235 - 34s - loss: 0.1858 - accuracy: 0.9476 - val_loss: 0.1745 - val_accuracy: 0.9493\n",
      "Epoch 18/20\n",
      "235/235 - 34s - loss: 0.1725 - accuracy: 0.9515 - val_loss: 0.1790 - val_accuracy: 0.9498\n",
      "Epoch 19/20\n",
      "235/235 - 37s - loss: 0.1599 - accuracy: 0.9552 - val_loss: 0.1522 - val_accuracy: 0.9592\n",
      "Epoch 20/20\n",
      "235/235 - 36s - loss: 0.1482 - accuracy: 0.9585 - val_loss: 0.1424 - val_accuracy: 0.9627\n",
      "[32, 32]\n",
      "Epoch 1/20\n",
      "235/235 - 39s - loss: 2.0906 - accuracy: 0.3465 - val_loss: 1.1175 - val_accuracy: 0.7309\n",
      "Epoch 2/20\n",
      "235/235 - 38s - loss: 0.5602 - accuracy: 0.8332 - val_loss: 0.3688 - val_accuracy: 0.8873\n",
      "Epoch 3/20\n",
      "235/235 - 38s - loss: 0.3141 - accuracy: 0.9047 - val_loss: 0.2552 - val_accuracy: 0.9235\n",
      "Epoch 4/20\n",
      "235/235 - 37s - loss: 0.2378 - accuracy: 0.9304 - val_loss: 0.2363 - val_accuracy: 0.9234\n",
      "Epoch 5/20\n",
      "235/235 - 38s - loss: 0.1944 - accuracy: 0.9422 - val_loss: 0.1621 - val_accuracy: 0.9525\n",
      "Epoch 6/20\n",
      "235/235 - 37s - loss: 0.1642 - accuracy: 0.9518 - val_loss: 0.1409 - val_accuracy: 0.9568\n",
      "Epoch 7/20\n",
      "235/235 - 37s - loss: 0.1433 - accuracy: 0.9583 - val_loss: 0.1312 - val_accuracy: 0.9609\n",
      "Epoch 8/20\n",
      "235/235 - 37s - loss: 0.1283 - accuracy: 0.9624 - val_loss: 0.1259 - val_accuracy: 0.9605\n",
      "Epoch 9/20\n",
      "235/235 - 37s - loss: 0.1171 - accuracy: 0.9651 - val_loss: 0.1006 - val_accuracy: 0.9705\n",
      "Epoch 10/20\n",
      "235/235 - 37s - loss: 0.1085 - accuracy: 0.9682 - val_loss: 0.0941 - val_accuracy: 0.9720\n",
      "Epoch 11/20\n",
      "235/235 - 40s - loss: 0.1015 - accuracy: 0.9702 - val_loss: 0.0954 - val_accuracy: 0.9691\n",
      "Epoch 12/20\n",
      "235/235 - 38s - loss: 0.0954 - accuracy: 0.9714 - val_loss: 0.0855 - val_accuracy: 0.9734\n",
      "Epoch 13/20\n",
      "235/235 - 37s - loss: 0.0905 - accuracy: 0.9731 - val_loss: 0.0852 - val_accuracy: 0.9740\n",
      "Epoch 14/20\n",
      "235/235 - 38s - loss: 0.0863 - accuracy: 0.9739 - val_loss: 0.0765 - val_accuracy: 0.9774\n",
      "Epoch 15/20\n",
      "235/235 - 37s - loss: 0.0824 - accuracy: 0.9753 - val_loss: 0.0764 - val_accuracy: 0.9760\n",
      "Epoch 16/20\n",
      "235/235 - 37s - loss: 0.0799 - accuracy: 0.9759 - val_loss: 0.0742 - val_accuracy: 0.9769\n",
      "Epoch 17/20\n",
      "235/235 - 37s - loss: 0.0767 - accuracy: 0.9765 - val_loss: 0.0672 - val_accuracy: 0.9790\n",
      "Epoch 18/20\n",
      "235/235 - 37s - loss: 0.0746 - accuracy: 0.9774 - val_loss: 0.0711 - val_accuracy: 0.9771\n",
      "Epoch 19/20\n",
      "235/235 - 37s - loss: 0.0728 - accuracy: 0.9780 - val_loss: 0.0678 - val_accuracy: 0.9782\n",
      "Epoch 20/20\n",
      "235/235 - 37s - loss: 0.0703 - accuracy: 0.9793 - val_loss: 0.0608 - val_accuracy: 0.9799\n",
      "[32, 32, 32]\n",
      "Epoch 1/20\n",
      "235/235 - 43s - loss: 2.2764 - accuracy: 0.1869 - val_loss: 2.2252 - val_accuracy: 0.2717\n",
      "Epoch 2/20\n",
      "235/235 - 42s - loss: 1.6803 - accuracy: 0.5159 - val_loss: 1.0082 - val_accuracy: 0.7292\n",
      "Epoch 3/20\n",
      "235/235 - 42s - loss: 0.5063 - accuracy: 0.8500 - val_loss: 0.3520 - val_accuracy: 0.8908\n",
      "Epoch 4/20\n",
      "235/235 - 42s - loss: 0.3080 - accuracy: 0.9069 - val_loss: 0.2992 - val_accuracy: 0.9075\n",
      "Epoch 5/20\n",
      "235/235 - 42s - loss: 0.2437 - accuracy: 0.9257 - val_loss: 0.2080 - val_accuracy: 0.9362\n",
      "Epoch 6/20\n",
      "235/235 - 44s - loss: 0.2094 - accuracy: 0.9359 - val_loss: 0.1932 - val_accuracy: 0.9418\n",
      "Epoch 7/20\n",
      "235/235 - 45s - loss: 0.1872 - accuracy: 0.9429 - val_loss: 0.2004 - val_accuracy: 0.9392\n",
      "Epoch 8/20\n",
      "235/235 - 61s - loss: 0.1693 - accuracy: 0.9481 - val_loss: 0.1632 - val_accuracy: 0.9480\n",
      "Epoch 9/20\n"
     ]
    }
   ],
   "source": [
    "# train the model using SGD\n",
    "print(\"[INFO] training network...\")\n",
    "\n",
    "layers = [32,32,32,32,32,32,32]\n",
    "histories = []\n",
    "\n",
    "for i in range(len(layers)+1):\n",
    "\tlayers_local = layers[0:i]\n",
    "\tprint(layers_local)\n",
    "\tmodel = make_model(layers_local)\n",
    "\tmodel.compile(loss=\"categorical_crossentropy\", optimizer=sgd, metrics=[\"accuracy\"])\n",
    "\tH = model.fit(train_X, train_y, validation_data=(test_X, test_y), epochs=epochs, batch_size=256, verbose=2)\n",
    "\thistories.append(H)"
   ],
   "metadata": {
    "collapsed": false,
    "pycharm": {
     "name": "#%%\n",
     "is_executing": true
    }
   }
  },
  {
   "cell_type": "code",
   "execution_count": 5,
   "outputs": [
    {
     "ename": "NameError",
     "evalue": "name 'layers' is not defined",
     "output_type": "error",
     "traceback": [
      "\u001B[0;31m---------------------------------------------------------------------------\u001B[0m",
      "\u001B[0;31mNameError\u001B[0m                                 Traceback (most recent call last)",
      "\u001B[0;32m<ipython-input-5-81753d2eec13>\u001B[0m in \u001B[0;36m<module>\u001B[0;34m\u001B[0m\n\u001B[1;32m      1\u001B[0m \u001B[0;31m# plot the training accuracy\u001B[0m\u001B[0;34m\u001B[0m\u001B[0;34m\u001B[0m\u001B[0;34m\u001B[0m\u001B[0m\n\u001B[1;32m      2\u001B[0m \u001B[0mcmap\u001B[0m \u001B[0;34m=\u001B[0m \u001B[0mplt\u001B[0m\u001B[0;34m.\u001B[0m\u001B[0mget_cmap\u001B[0m\u001B[0;34m(\u001B[0m\u001B[0;34m'gist_rainbow'\u001B[0m\u001B[0;34m)\u001B[0m\u001B[0;34m\u001B[0m\u001B[0;34m\u001B[0m\u001B[0m\n\u001B[0;32m----> 3\u001B[0;31m \u001B[0mcolors\u001B[0m \u001B[0;34m=\u001B[0m \u001B[0;34m[\u001B[0m\u001B[0mcmap\u001B[0m\u001B[0;34m(\u001B[0m\u001B[0mi\u001B[0m\u001B[0;34m)\u001B[0m \u001B[0;32mfor\u001B[0m \u001B[0mi\u001B[0m \u001B[0;32min\u001B[0m \u001B[0mnp\u001B[0m\u001B[0;34m.\u001B[0m\u001B[0mlinspace\u001B[0m\u001B[0;34m(\u001B[0m\u001B[0;36m0\u001B[0m\u001B[0;34m,\u001B[0m \u001B[0;36m1\u001B[0m\u001B[0;34m,\u001B[0m \u001B[0mlen\u001B[0m\u001B[0;34m(\u001B[0m\u001B[0mlayers\u001B[0m\u001B[0;34m)\u001B[0m\u001B[0;34m)\u001B[0m\u001B[0;34m]\u001B[0m\u001B[0;34m\u001B[0m\u001B[0;34m\u001B[0m\u001B[0m\n\u001B[0m\u001B[1;32m      4\u001B[0m \u001B[0;34m\u001B[0m\u001B[0m\n\u001B[1;32m      5\u001B[0m \u001B[0mplt\u001B[0m\u001B[0;34m.\u001B[0m\u001B[0mstyle\u001B[0m\u001B[0;34m.\u001B[0m\u001B[0muse\u001B[0m\u001B[0;34m(\u001B[0m\u001B[0;34m\"ggplot\"\u001B[0m\u001B[0;34m)\u001B[0m\u001B[0;34m\u001B[0m\u001B[0;34m\u001B[0m\u001B[0m\n",
      "\u001B[0;31mNameError\u001B[0m: name 'layers' is not defined"
     ]
    }
   ],
   "source": [
    "# plot the training accuracy\n",
    "cmap = plt.get_cmap('gist_rainbow')\n",
    "colors = [cmap(i) for i in np.linspace(0, 1, len(layers))]\n",
    "\n",
    "plt.style.use(\"ggplot\")\n",
    "plt.figure()\n",
    "i = 0\n",
    "for history in histories:\n",
    "\tplt.plot(np.arange(0, epochs), history.history[\"accuracy\"], color=colors[i], label=\"train_acc_\" + str(i))\n",
    "\tplt.plot(np.arange(0, epochs), history.history[\"val_accuracy\"], color=colors[i], label=\"val_acc_\" + str(i), linestyle=\"dotted\")\n",
    "\ti += 1\n",
    "plt.title(\"Training Accuracy\")\n",
    "plt.xlabel(\"Epoch #\")\n",
    "plt.ylabel(\"Accuracy\")\n",
    "plt.legend(bbox_to_anchor=(0.995,1.02), loc=\"upper left\", ncol=2)\n",
    "plt.show()"
   ],
   "metadata": {
    "collapsed": false,
    "pycharm": {
     "name": "#%%\n"
    }
   }
  },
  {
   "cell_type": "markdown",
   "source": [
    "## f) As we said before, CNNs are good at image data. What could be the reasons behind this?\n",
    "\n",
    "Um zu verstehen warum CNNs so gut mit Bilddaten umgehen können, müssen wir zunächst betrachten wie Bilder überhaupt maschinell repräsentiert sind. Im Gegensatz zur menschlichen Wahrnehmung eines Bildes, wo das Bild als Ganzes mit konkreten Formen und Mustern wahrgenommen wird, sieht eine Maschine lediglich eine Matrix mit Zahlen welche die einzelnen Pixel repräsentieren.\n",
    "\n",
    "![Bildpixel Matrixdarstellung](Bilder/pixel.png)\n",
    "\n",
    "Die Aufgabe des Neuronalen Netzes, sei es ein CNN oder ANN, ist es nun anhand dieser Matrix, und des vorgegebenen Labels Rückschlüsse auf den Inhalt des Bildes zu ziehen.\n",
    "\n",
    "Wenn wir nun genauer auf die Architekturen der neuronalen Netze eingehen, wird schnell ersichtlich, dass das CNN eindeutig im Vorteil ist.\n",
    "\n",
    "Die grundlegende Architektur eines ANN ist in folgendem Bild illustriert:\n",
    "\n",
    "![ANN](Bilder/ann.png)\n",
    "\n",
    "Man beachte, dass dieses Netzwerk im Grunde aus drei Schichten aufgebaut ist. Den Eingang, die Schicht welche die Daten annimmt, stellt das Input Layer dar. Die anschließende Weiterleitung der Daten erfolgt über die Hidden Layers. Schließlich gelangen die Daten zum Output Layer wo dann die Ausgabe erzeugt wird. Wenn wir nun die Form der Daten, welche hier durch die einzelnen Schichten gereicht werden, genauer betrachtet, stellen wir fest, dass es sich hier um einen Vektor der Form 1xn handelt.\n",
    "\n",
    "Das „Problem“ das wir nun mit Bilddaten haben, ist dass diese, wenn man sie als Matrix betrachtet, eben nicht der Form 1xn, sondern vielmehr der Form mxn, bzw. nxn für quadratische Bilder, entsprechen. \n",
    "\n",
    "Würden wir nun ein ANN verwenden, so währe eine Transformation des Bildes notwendig. Aus der mxn Matrix müssten wir zunächst einen Vektor der Form 1xn erzeugen. Dieses Vorgehen wird „Flattening“ genant und ist im folgenden illustriert:\n",
    "\n",
    "1 2 3\n",
    "\n",
    "4 5 6        —>        1 2 3 4 5 6 7 8 9\n",
    "\n",
    "7 8 9\n",
    "\n",
    "Die Verwendung von Bilddaten in ANNs ist somit grundsätzlich möglich, das Flattening bringt jedoch Probleme mit sich, welche sich durchaus negativ auf die Performance eines solchen Modells auswirken werden.\n",
    "Durch das Flattening sind ANNs folglich nicht mehr in der Lage, Objekte in einem Bild unabhängig von der Position des Objekts im Bild zu erkennen. Das gleiche Objekt an einer anderen Position im Bild hätte einen völlig anderen Input-Vektor und würde somit nicht mehr, oder nur sehr erschwert, als gleichartig erkannt werden. \n",
    "Ein weiteres Problem ergibt sich wenn wir nun einmal annehmen, dass die Bilder die wir klassifizieren wollen, nicht wie z.B. beim MNIST Datensatz 28x28 Pixel haben, sondern es sich um Bilder der Größe 1000x1000 Pixel handelt. Der Input-Vektor der 28x28 Pixel Bilder hätte eine Länge von 784, was noch durchaus vertretbar wäre. Der Vektor der Bilder mit 1000x1000 Pixel hätte eine Länge von 1000000, was bedeutet, dass das Input Layer ebenfalls 1000000 Neuronen beinhalten müsste. Das Netzwerk wäre damit direkt extrem groß, was jedoch dem grundlegenden Ziel, die Netzwerke möglichst klein und wenig komplex zu halten, widerspricht.\n",
    "\n",
    "Nun stellt sich die Frage wie denn anhand von Bilddaten erfolgversprechend mit Methoden aus dem Bereich des Deep Learning Klassifizierungsaufgaben durchgeführt werden können. Da ANNs aufgrund ihrer Beschaffenheit nur bedingt geeignet sind um mit Bilddaten zu arbeiten betrachten wir im Folgenden Convolutional Neural Networks (CNN).\n",
    "\n",
    "Ein CNN besteht im wesentlichen aus Filtern (genannt Convolutional Layer) und Aggregations-Schichten (genannt Pooling Layer), die sich abwechselnd wiederholen, und am Ende aus einer oder mehreren Schichten von „normalen“ vollständig verbundenen Neuronen (genannt Dense oder auch Fully Connected Layer).\n",
    "\n",
    "![CNN](Bilder/cnn.png)\n",
    " \n",
    "Der große Unterschied vom CNN gegenüber dem ANN ist, das wir hier eine Kombination aus Convolutional und Pooling Layers, gefolgt von einem Fully Connected Netzwerk, den Dense Layers verwenden. Innerhalb dieser Schichten wie das Eingabe Datum, gefaltet und damit Features extrahiert, sowie durch Pooling in seiner Größe reduziert. Auch sind die Neuronen des CNN in den Convolutional Layers so angeordnet, dass grundsätzlich die Eingabe von mehrdimensionalen Daten und insbesondere von 2-dimensionale Eingaben wie z.B. Bildern, unterstützt wird. \n",
    "\n",
    "#### Convolutional Layers\n",
    "Die Convolutional Layers übernehmen dabei die Faltungsaufgabe, indem die Eingabematrix, also die Bilddaten, mit einer Filtermatrix verrechnet werden. Mit Hilfe einer kleineren Filtermatrix, deren Größe vorab auf z.B. 3x3 Pixel definiert wurde, wird die Faltung berechnet, welche dann als neue Matrix den Output darstellt (und ggf. den Input des folgenden Convolutional Layers). Da verschiedene Filtermatrizen verwendet werden können, ist es möglich durch mehrmalige Anwendung unterschiedliche Features zu extrahieren. \n",
    "\n",
    "![Convolutional Layer](Bilder/filter.png)\n",
    "\n",
    "#### Pooling Layers\n",
    "In der Regel folgt auf ein Convolutional ein Pooling Layer. Der Pooling Layer aggregiert die Ergebnisse von Convolutional Layern, indem jeweils nur das stärkste Signal weiter gegeben wird. Bei einem MaxPooling Layer wird z.B. immer der höchste Wert einer Kernel-Matrix verwendet und alle anderen werden verworfen. Die von einem 2 x 2 Kernel erstellten vier Matrix Ergebnisse werden so auf nur eine Zahl (die höchste der vier) reduziert. Das Pooling dient dazu, nur die relevantesten Signale an die nächsten Schichten weiter zu geben, eine abstraktere Repräsentation des Inhalts zu erreichen und die Anzahl der Parameter eines Netzes zu reduzieren.\n",
    "\n",
    "![Pooling Layer](Bilder/pooling.png)\n",
    "\n",
    "#### Dense Layers\n",
    "Beim Fully Connected Layer oder Dense Layer handelt es sich um eine normale neuronale Netzstruktur, bei der alle Neuronen mit allen Inputs und allen Outputs verbunden sind. Um den Matrix-Output der Convolutional- und Pooling-Layer in einen Dense Layer speisen zu können, muss hier zunächst die Flattening Operation ausgeführt werden. Flattening ist hier, im Gegensatz zum ANN, problemlos möglich, da die Output-Signale der Filter-Schichten unabhängig von der Position eines Objektes sind und daher sind zwar keine Positionsmerkmale mehr vorhanden sind, dafür aber ortsunabhängige Objektinformationen.\n",
    "\n",
    "### Zusammenfassung\n",
    "Abschließende kann man nun zusammenfassen, dass durch die Anwendung von Filtermatrizen zum erzeugen von Faltungen, die Reduktion der Daten bzw. des Netzwerks durch Pooling und die geschickte Anordnung der Neuronen in den vorderen Schichten, CNNs in der Lagen sind die Zusammenhänge innerhalb der Bilddaten zu erkennen und damit hervorragend geeignet sind um auf solchen Daten Klassifizierungsaufgaben auszuführen.\n",
    "\n",
    "\n",
    "## j) What is batch normalization? \n",
    "Batch Normalization ist die Anwendung einer Normalisierungstechnik auf die Eingabewerte der Hidden Layers. Im Gegensatz zur Normalisierung wird Batch Normalization nicht zu Beginn auf die Rohdaten, sondern eben für jedes Hidden Layer auf die Eingabedaten angewendet, bevor diese in die Aktivierungsfunktion gegeben werden.\n",
    "\n",
    "Grundsätzlich wird Batch Normalization verwendet um die Konvergenzrate und damit die Geschwindigkeit beim Training zu erhöhen, indem der Covariate Shift reduziert wird.\n",
    "\n",
    "Die Idee ist, dass selbst wenn sich die Werte der Eingaben der Hidden Layers ändern, der Mittelwert und ihre Standardabweichung immer noch fast gleich bleiben, wodurch der Covariate Shift reduziert wird. Dies schwächt die Kopplung zwischen den Parametern der vorherigen Schicht und denen der folgenden Schichten, wodurch ermöglicht wird, dass jede Schicht des Netzwerks unabhängiger voneinander, sozusagen für sich selbst lernt. Dadurch wird der Lernprozess beschleunigt.\n",
    "\n",
    "Ein weiterer Vorteil von Batch Normalization besteht darin, dass es als Regularisierung fungiert. Jeder Mini-batch wird mit seinem Mittelwert und seiner Standardabweichung skaliert. Dies führt zu einem gewissen Rauschen in jeder Ebene und bietet einen Regularisierungseffekt.\n",
    "\n",
    "Zusammengefasst dient Batch Normalization bei ANNs und CNNs dem Zweck das Training zu beschleunigen und dabei die Ergebnisse die, in Bezug auf die Genauigkeit des Modells, erzielt werden können auch noch zu verbessern.\n",
    "\n",
    "\n",
    "## g) What is regularization?\n",
    "Ein verbreitetes Problem beim Training von neuronalen Netzen ist Overfitting. Was Overfitting genau ist haben wir in Aufgabe 1 f) bereits beschrieben. \n",
    "\n",
    "Im folgenden betrachten wir Regularisierung, eine Möglichkeit wie man dem Problem des Overfittings entgegen wirken kann und gehen dabei auf drei konkrete Regularisierungsmethoden ein.\n",
    "\n",
    "### Dropout\n",
    "Dropout ist eine Methode zur Reduzierung von Overfitting. Dabei wird das Modell gezwungen, mehrere unabhängige Darstellungen der gleichen Daten zu lernen, indem zufällig während der Lernphase Neuronen in den Hidden Layers deaktiviert werden. Der Grad des Dropouts wird in der Regel durch einen Hyperparameter definiert, welcher angibt wie viele der Neuronen deaktiviert werden sollen. Der so angegebene Anteil der zu deaktivierenden Neuronen gilt dann durchgängig für alle Iterationen, es werden jedoch pro Iteration immer andere, zufällig ausgewählte, Neuronen deaktiviert.\n",
    "Die Regularisierungsmethode Dropout ist in folgendem Bild noch einmal für ein einfaches Feed Forward Netzwerk dargestellt:\n",
    "\n",
    "![Dropout](Bilder/dropout.png)\n",
    "\n",
    "### Data Augmentation\n",
    "Das Ziel von Data Augmentation ist es einen bestehenden Datensatz zu erweitern, ohne konkret neue Daten sammeln zu müssen. In vielen Fällen ist dies nicht ohne Weiteres möglich. Dies gilt jedoch für z.B. Bilddaten nicht. Es ist möglich Variationen des Bildes durch Anwendung verschiedener Filtertechniken zu erzeugen. So wird das Bild z.B. skaliert, rotiert, gespiegelt, verschoben, etc., um letztendlich möglichst viele Variationen des Bildes und damit einen künstlich vergrößerten Datensatz zu bekommen.\n",
    "\n",
    "![Data Augmentation](Bilder/data_augmentation.png)\n",
    "\n",
    "### Early Stopping\n",
    "Bei Early Stopping geht es darum das Training dann, ggf. vorzeitig, zu beenden, sobald erkannt wird dass Overfitting eintritt. Dazu wird ein Teil des Trainingsdatensatzes als Validation Set verwendet und während des Trainings der Fehler von diesem Validation Set berechnet. Sollte der Fehler auf dem Validation Set ein Minimum durchschreiten, also für folgende Interaktionen des Trainings wieder größer werden, so wird angenommen, dass Overfitting eintritt und der Trainingsprozess beendet.\n",
    "\n",
    "![Early Stopping](Bilder/data_augmentation.png)\n",
    "\n",
    "## h) Contrastive loss"
   ],
   "metadata": {
    "collapsed": false,
    "pycharm": {
     "name": "#%% md\n"
    }
   }
  },
  {
   "cell_type": "code",
   "execution_count": null,
   "outputs": [],
   "source": [],
   "metadata": {
    "collapsed": false,
    "pycharm": {
     "name": "#%%\n"
    }
   }
  }
 ],
 "metadata": {
  "language_info": {
   "codemirror_mode": {
    "name": "ipython",
    "version": 2
   },
   "file_extension": ".py",
   "mimetype": "text/x-python",
   "name": "python",
   "nbconvert_exporter": "python",
   "pygments_lexer": "ipython2",
   "version": "2.7.6"
  },
  "kernelspec": {
   "name": "pycharm-b2f51384",
   "language": "python",
   "display_name": "PyCharm (SmartDataAnalytics_Gruppe1)"
  }
 },
 "nbformat": 4,
 "nbformat_minor": 0
}