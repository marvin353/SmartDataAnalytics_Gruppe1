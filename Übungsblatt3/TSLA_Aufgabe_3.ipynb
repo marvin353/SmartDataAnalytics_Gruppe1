{
 "cells": [
  {
   "cell_type": "code",
   "execution_count": 1,
   "metadata": {},
   "outputs": [],
   "source": [
    "# Import required library modules\n",
    "import yfinance as yf\n",
    "import pandas as pd\n",
    "import numpy as np"
   ]
  },
  {
   "cell_type": "markdown",
   "metadata": {},
   "source": [
    "##  a)"
   ]
  },
  {
   "cell_type": "code",
   "execution_count": 2,
   "metadata": {},
   "outputs": [
    {
     "name": "stdout",
     "output_type": "stream",
     "text": [
      "[*********************100%***********************]  1 of 1 completed\n"
     ]
    }
   ],
   "source": [
    "data = yf.download('TSLA', start = '2020-01-01', end = '2021-05-31')"
   ]
  },
  {
   "cell_type": "code",
   "execution_count": 3,
   "metadata": {},
   "outputs": [
    {
     "data": {
      "text/html": [
       "<div>\n",
       "<style scoped>\n",
       "    .dataframe tbody tr th:only-of-type {\n",
       "        vertical-align: middle;\n",
       "    }\n",
       "\n",
       "    .dataframe tbody tr th {\n",
       "        vertical-align: top;\n",
       "    }\n",
       "\n",
       "    .dataframe thead th {\n",
       "        text-align: right;\n",
       "    }\n",
       "</style>\n",
       "<table border=\"1\" class=\"dataframe\">\n",
       "  <thead>\n",
       "    <tr style=\"text-align: right;\">\n",
       "      <th></th>\n",
       "      <th>Open</th>\n",
       "      <th>High</th>\n",
       "      <th>Low</th>\n",
       "      <th>Close</th>\n",
       "      <th>Adj Close</th>\n",
       "      <th>Volume</th>\n",
       "    </tr>\n",
       "    <tr>\n",
       "      <th>Date</th>\n",
       "      <th></th>\n",
       "      <th></th>\n",
       "      <th></th>\n",
       "      <th></th>\n",
       "      <th></th>\n",
       "      <th></th>\n",
       "    </tr>\n",
       "  </thead>\n",
       "  <tbody>\n",
       "    <tr>\n",
       "      <th>2019-12-31</th>\n",
       "      <td>81.000000</td>\n",
       "      <td>84.258003</td>\n",
       "      <td>80.416000</td>\n",
       "      <td>83.666000</td>\n",
       "      <td>83.666000</td>\n",
       "      <td>51428500</td>\n",
       "    </tr>\n",
       "    <tr>\n",
       "      <th>2020-01-02</th>\n",
       "      <td>84.900002</td>\n",
       "      <td>86.139999</td>\n",
       "      <td>84.342003</td>\n",
       "      <td>86.052002</td>\n",
       "      <td>86.052002</td>\n",
       "      <td>47660500</td>\n",
       "    </tr>\n",
       "    <tr>\n",
       "      <th>2020-01-03</th>\n",
       "      <td>88.099998</td>\n",
       "      <td>90.800003</td>\n",
       "      <td>87.384003</td>\n",
       "      <td>88.601997</td>\n",
       "      <td>88.601997</td>\n",
       "      <td>88892500</td>\n",
       "    </tr>\n",
       "    <tr>\n",
       "      <th>2020-01-06</th>\n",
       "      <td>88.094002</td>\n",
       "      <td>90.311996</td>\n",
       "      <td>88.000000</td>\n",
       "      <td>90.307999</td>\n",
       "      <td>90.307999</td>\n",
       "      <td>50665000</td>\n",
       "    </tr>\n",
       "    <tr>\n",
       "      <th>2020-01-07</th>\n",
       "      <td>92.279999</td>\n",
       "      <td>94.325996</td>\n",
       "      <td>90.671997</td>\n",
       "      <td>93.811996</td>\n",
       "      <td>93.811996</td>\n",
       "      <td>89410500</td>\n",
       "    </tr>\n",
       "    <tr>\n",
       "      <th>...</th>\n",
       "      <td>...</td>\n",
       "      <td>...</td>\n",
       "      <td>...</td>\n",
       "      <td>...</td>\n",
       "      <td>...</td>\n",
       "      <td>...</td>\n",
       "    </tr>\n",
       "    <tr>\n",
       "      <th>2021-05-24</th>\n",
       "      <td>581.599976</td>\n",
       "      <td>614.479980</td>\n",
       "      <td>573.650024</td>\n",
       "      <td>606.440002</td>\n",
       "      <td>606.440002</td>\n",
       "      <td>34558100</td>\n",
       "    </tr>\n",
       "    <tr>\n",
       "      <th>2021-05-25</th>\n",
       "      <td>607.309998</td>\n",
       "      <td>613.989990</td>\n",
       "      <td>595.710022</td>\n",
       "      <td>604.690002</td>\n",
       "      <td>604.690002</td>\n",
       "      <td>28005900</td>\n",
       "    </tr>\n",
       "    <tr>\n",
       "      <th>2021-05-26</th>\n",
       "      <td>607.559998</td>\n",
       "      <td>626.169983</td>\n",
       "      <td>601.500000</td>\n",
       "      <td>619.130005</td>\n",
       "      <td>619.130005</td>\n",
       "      <td>28639300</td>\n",
       "    </tr>\n",
       "    <tr>\n",
       "      <th>2021-05-27</th>\n",
       "      <td>620.239990</td>\n",
       "      <td>631.130005</td>\n",
       "      <td>616.210022</td>\n",
       "      <td>630.849976</td>\n",
       "      <td>630.849976</td>\n",
       "      <td>26370600</td>\n",
       "    </tr>\n",
       "    <tr>\n",
       "      <th>2021-05-28</th>\n",
       "      <td>628.500000</td>\n",
       "      <td>635.590027</td>\n",
       "      <td>622.380005</td>\n",
       "      <td>625.219971</td>\n",
       "      <td>625.219971</td>\n",
       "      <td>22737000</td>\n",
       "    </tr>\n",
       "  </tbody>\n",
       "</table>\n",
       "<p>356 rows × 6 columns</p>\n",
       "</div>"
      ],
      "text/plain": [
       "                  Open        High         Low       Close   Adj Close  \\\n",
       "Date                                                                     \n",
       "2019-12-31   81.000000   84.258003   80.416000   83.666000   83.666000   \n",
       "2020-01-02   84.900002   86.139999   84.342003   86.052002   86.052002   \n",
       "2020-01-03   88.099998   90.800003   87.384003   88.601997   88.601997   \n",
       "2020-01-06   88.094002   90.311996   88.000000   90.307999   90.307999   \n",
       "2020-01-07   92.279999   94.325996   90.671997   93.811996   93.811996   \n",
       "...                ...         ...         ...         ...         ...   \n",
       "2021-05-24  581.599976  614.479980  573.650024  606.440002  606.440002   \n",
       "2021-05-25  607.309998  613.989990  595.710022  604.690002  604.690002   \n",
       "2021-05-26  607.559998  626.169983  601.500000  619.130005  619.130005   \n",
       "2021-05-27  620.239990  631.130005  616.210022  630.849976  630.849976   \n",
       "2021-05-28  628.500000  635.590027  622.380005  625.219971  625.219971   \n",
       "\n",
       "              Volume  \n",
       "Date                  \n",
       "2019-12-31  51428500  \n",
       "2020-01-02  47660500  \n",
       "2020-01-03  88892500  \n",
       "2020-01-06  50665000  \n",
       "2020-01-07  89410500  \n",
       "...              ...  \n",
       "2021-05-24  34558100  \n",
       "2021-05-25  28005900  \n",
       "2021-05-26  28639300  \n",
       "2021-05-27  26370600  \n",
       "2021-05-28  22737000  \n",
       "\n",
       "[356 rows x 6 columns]"
      ]
     },
     "execution_count": 3,
     "metadata": {},
     "output_type": "execute_result"
    }
   ],
   "source": [
    "data"
   ]
  },
  {
   "cell_type": "code",
   "execution_count": 4,
   "metadata": {},
   "outputs": [
    {
     "data": {
      "text/plain": [
       "Index(['Open', 'High', 'Low', 'Close', 'Adj Close', 'Volume'], dtype='object')"
      ]
     },
     "execution_count": 4,
     "metadata": {},
     "output_type": "execute_result"
    }
   ],
   "source": [
    "data.columns"
   ]
  },
  {
   "cell_type": "code",
   "execution_count": 33,
   "metadata": {
    "scrolled": true
   },
   "outputs": [
    {
     "data": {
      "text/plain": [
       "<AxesSubplot:title={'center':'Aktienpreis_TSLA'}, xlabel='Date'>"
      ]
     },
     "execution_count": 33,
     "metadata": {},
     "output_type": "execute_result"
    },
    {
     "data": {
      "image/png": "[encoded data removed]",
      "text/plain": [
       "<Figure size 432x288 with 1 Axes>"
      ]
     },
     "metadata": {
      "needs_background": "light"
     },
     "output_type": "display_data"
    }
   ],
   "source": [
    "y = data['Close']\n",
    "y.index = data.index\n",
    "\n",
    "y.plot(title = 'Aktienpreis_TSLA')"
   ]
  },
  {
   "cell_type": "markdown",
   "metadata": {},
   "source": [
    "##  b)"
   ]
  },
  {
   "cell_type": "code",
   "execution_count": 6,
   "metadata": {},
   "outputs": [],
   "source": [
    "# Convert Pandas series to numpy ndarray for further processing\n",
    "y = y.values"
   ]
  },
  {
   "cell_type": "code",
   "execution_count": 7,
   "metadata": {},
   "outputs": [
    {
     "name": "stdout",
     "output_type": "stream",
     "text": [
      "284\n"
     ]
    }
   ],
   "source": [
    "# Split data into trainning and testing using 80/20 ratio.\n",
    "training_size = int(y.size * 0.8)\n",
    "print(training_size)"
   ]
  },
  {
   "cell_type": "code",
   "execution_count": 8,
   "metadata": {},
   "outputs": [],
   "source": [
    "# Data normalization using training data's mean and standard deviation.\n",
    "# y is a ndarray now and its dimension is 1.\n",
    "training_mean = y[:training_size].mean()\n",
    "training_std = y[:training_size].std()\n",
    "# standarize the data\n",
    "y = (y-training_mean)/training_std"
   ]
  },
  {
   "cell_type": "code",
   "execution_count": 9,
   "metadata": {},
   "outputs": [],
   "source": [
    "# Define a function to prepare data.\n",
    "# The time series data are reorganized to form feature vectors and target values.\n",
    "# For example, let sHistory be 10. A datapoint as a target will have 10 immediately \n",
    "# previous 10 values in the time series for its feature vector. \n",
    "def data_preprocess(dataset, iStart, iEnd, sHistory):\n",
    "    data = []\n",
    "    target = []\n",
    "    # begin with sHistory to have historical data\n",
    "    iStart += sHistory\n",
    "    if iEnd is None:\n",
    "        iEnd = len(dataset)\n",
    "    for i in range(iStart, iEnd):\n",
    "        indices = range(i-sHistory, i)\n",
    "        data.append(np.reshape(dataset[indices], (sHistory, 1)))\n",
    "        target.append(dataset[i])\n",
    "    return np.array(data), np.array(target)"
   ]
  },
  {
   "cell_type": "code",
   "execution_count": 10,
   "metadata": {},
   "outputs": [],
   "source": [
    "# Let's define number of history data for training and split data into training nd testing datasets.\n",
    "past_history = 10\n",
    "xtrain, ytrain = data_preprocess(y, 0, training_size, past_history)\n",
    "xtest, ytest = data_preprocess(y, training_size, None, past_history)"
   ]
  },
  {
   "cell_type": "markdown",
   "metadata": {},
   "source": [
    "## c) LSTM"
   ]
  },
  {
   "cell_type": "code",
   "execution_count": 11,
   "metadata": {},
   "outputs": [],
   "source": [
    "# It's time to get Tensorflow library in and create an LSTM model.\n",
    "import tensorflow as tf\n",
    "# Setting seed to ensure reproducibility.\n",
    "tf.random.set_seed(8888)\n",
    "model = tf.keras.models.Sequential([\n",
    "  tf.keras.layers.LSTM(8, input_shape=xtrain.shape[-2:]),\n",
    "  tf.keras.layers.Dense(1)\n",
    "])"
   ]
  },
  {
   "cell_type": "code",
   "execution_count": 12,
   "metadata": {},
   "outputs": [
    {
     "name": "stdout",
     "output_type": "stream",
     "text": [
      "Model: \"sequential\"\n",
      "_________________________________________________________________\n",
      "Layer (type)                 Output Shape              Param #   \n",
      "=================================================================\n",
      "lstm (LSTM)                  (None, 8)                 320       \n",
      "_________________________________________________________________\n",
      "dense (Dense)                (None, 1)                 9         \n",
      "=================================================================\n",
      "Total params: 329\n",
      "Trainable params: 329\n",
      "Non-trainable params: 0\n",
      "_________________________________________________________________\n"
     ]
    }
   ],
   "source": [
    "model.summary()"
   ]
  },
  {
   "cell_type": "code",
   "execution_count": 13,
   "metadata": {},
   "outputs": [],
   "source": [
    "# Before taining, you need to configure the model for training.\n",
    "model.compile(optimizer='Adam',\n",
    "              loss='mse')"
   ]
  },
  {
   "cell_type": "code",
   "execution_count": 14,
   "metadata": {},
   "outputs": [],
   "source": [
    "BATCH_SIZE = 16\n",
    "BUFFER_SIZE = 10000\n",
    "\n",
    "p_train = tf.data.Dataset.from_tensor_slices((xtrain, ytrain))\n",
    "p_train = p_train.cache().shuffle(BUFFER_SIZE).batch(BATCH_SIZE).repeat()\n",
    "\n",
    "p_test = tf.data.Dataset.from_tensor_slices((xtest, ytest))\n",
    "p_test = p_test.batch(BATCH_SIZE).repeat()"
   ]
  },
  {
   "cell_type": "code",
   "execution_count": 15,
   "metadata": {},
   "outputs": [
    {
     "name": "stdout",
     "output_type": "stream",
     "text": [
      "Epoch 1/10\n",
      "200/200 [==============================] - 2s 4ms/step - loss: 0.1959 - val_loss: 0.1091\n",
      "Epoch 2/10\n",
      "200/200 [==============================] - 1s 3ms/step - loss: 0.0235 - val_loss: 0.0926\n",
      "Epoch 3/10\n",
      "200/200 [==============================] - 1s 3ms/step - loss: 0.0149 - val_loss: 0.0634\n",
      "Epoch 4/10\n",
      "200/200 [==============================] - 1s 3ms/step - loss: 0.0115 - val_loss: 0.0571\n",
      "Epoch 5/10\n",
      "200/200 [==============================] - 1s 3ms/step - loss: 0.0103 - val_loss: 0.0521\n",
      "Epoch 6/10\n",
      "200/200 [==============================] - 1s 3ms/step - loss: 0.0102 - val_loss: 0.0530\n",
      "Epoch 7/10\n",
      "200/200 [==============================] - 0s 2ms/step - loss: 0.0100 - val_loss: 0.0448\n",
      "Epoch 8/10\n",
      "200/200 [==============================] - 1s 3ms/step - loss: 0.0097 - val_loss: 0.0400\n",
      "Epoch 9/10\n",
      "200/200 [==============================] - 0s 2ms/step - loss: 0.0095 - val_loss: 0.0399\n",
      "Epoch 10/10\n",
      "200/200 [==============================] - 0s 2ms/step - loss: 0.0093 - val_loss: 0.0376\n"
     ]
    }
   ],
   "source": [
    "# For your model to be able to predict something, your need to train your model using training data.\n",
    "history = model.fit(p_train, epochs = 10, steps_per_epoch=200, validation_data=p_test, validation_steps=50)"
   ]
  },
  {
   "cell_type": "code",
   "execution_count": 16,
   "metadata": {},
   "outputs": [
    {
     "data": {
      "text/html": [
       "<div>\n",
       "<style scoped>\n",
       "    .dataframe tbody tr th:only-of-type {\n",
       "        vertical-align: middle;\n",
       "    }\n",
       "\n",
       "    .dataframe tbody tr th {\n",
       "        vertical-align: top;\n",
       "    }\n",
       "\n",
       "    .dataframe thead th {\n",
       "        text-align: right;\n",
       "    }\n",
       "</style>\n",
       "<table border=\"1\" class=\"dataframe\">\n",
       "  <thead>\n",
       "    <tr style=\"text-align: right;\">\n",
       "      <th></th>\n",
       "      <th>loss</th>\n",
       "      <th>val_loss</th>\n",
       "    </tr>\n",
       "  </thead>\n",
       "  <tbody>\n",
       "    <tr>\n",
       "      <th>0</th>\n",
       "      <td>0.195937</td>\n",
       "      <td>0.109054</td>\n",
       "    </tr>\n",
       "    <tr>\n",
       "      <th>1</th>\n",
       "      <td>0.023548</td>\n",
       "      <td>0.092555</td>\n",
       "    </tr>\n",
       "    <tr>\n",
       "      <th>2</th>\n",
       "      <td>0.014911</td>\n",
       "      <td>0.063442</td>\n",
       "    </tr>\n",
       "    <tr>\n",
       "      <th>3</th>\n",
       "      <td>0.011525</td>\n",
       "      <td>0.057103</td>\n",
       "    </tr>\n",
       "    <tr>\n",
       "      <th>4</th>\n",
       "      <td>0.010344</td>\n",
       "      <td>0.052069</td>\n",
       "    </tr>\n",
       "  </tbody>\n",
       "</table>\n",
       "</div>"
      ],
      "text/plain": [
       "       loss  val_loss\n",
       "0  0.195937  0.109054\n",
       "1  0.023548  0.092555\n",
       "2  0.014911  0.063442\n",
       "3  0.011525  0.057103\n",
       "4  0.010344  0.052069"
      ]
     },
     "execution_count": 16,
     "metadata": {},
     "output_type": "execute_result"
    }
   ],
   "source": [
    "# Convert training history to datafram for viewing and graphing.\n",
    "hist = pd.DataFrame(history.history)\n",
    "hist.head()"
   ]
  },
  {
   "cell_type": "code",
   "execution_count": 17,
   "metadata": {},
   "outputs": [
    {
     "data": {
      "text/plain": [
       "<AxesSubplot:>"
      ]
     },
     "execution_count": 17,
     "metadata": {},
     "output_type": "execute_result"
    },
    {
     "data": {
      "image/png": "[encoded data removed]",
      "text/plain": [
       "<Figure size 432x288 with 1 Axes>"
      ]
     },
     "metadata": {
      "needs_background": "light"
     },
     "output_type": "display_data"
    }
   ],
   "source": [
    "# Training errors with respect to ecochs.\n",
    "# loss: values of the cost function for training data.\n",
    "# val_loss: values of the cost function for cross-validation data.\n",
    "hist.plot()"
   ]
  },
  {
   "cell_type": "code",
   "execution_count": 18,
   "metadata": {},
   "outputs": [],
   "source": [
    "# For train\n",
    "# Now, we can predict stock values after model is trained. \n",
    "# We keep the predicted values and target vlaues for graphics later.\n",
    "# You may run on p_train or p_test to check the preformance.\n",
    "predicted_value_train = []\n",
    "y_orig = []\n",
    "count =0;\n",
    "for x, y in p_train.take(20):\n",
    "    y_orig.append(y[0].numpy())\n",
    "    t_pred= model.predict(x)\n",
    "    predicted_value_train.append(t_pred[0])"
   ]
  },
  {
   "cell_type": "code",
   "execution_count": 19,
   "metadata": {},
   "outputs": [
    {
     "data": {
      "text/plain": [
       "<AxesSubplot:>"
      ]
     },
     "execution_count": 19,
     "metadata": {},
     "output_type": "execute_result"
    },
    {
     "data": {
      "image/png": "[encoded data removed]",
      "text/plain": [
       "<Figure size 432x288 with 1 Axes>"
      ]
     },
     "metadata": {
      "needs_background": "light"
     },
     "output_type": "display_data"
    }
   ],
   "source": [
    "# Plot the predicted value and the target values together.\n",
    "y_pred_train = [predicted_value_train[i][0] for i in range(len(predicted_value_train))]\n",
    "result = pd.DataFrame({'predicted':y_pred_train, 'target':y_orig})\n",
    "result.plot()"
   ]
  },
  {
   "cell_type": "code",
   "execution_count": 20,
   "metadata": {},
   "outputs": [
    {
     "data": {
      "text/plain": [
       "0.2557027936077881"
      ]
     },
     "execution_count": 20,
     "metadata": {},
     "output_type": "execute_result"
    }
   ],
   "source": [
    "# Get the root mean squared error(RMSE)\n",
    "rmse_train = np.sqrt(np.mean(predicted_value_train - ytrain) ** 2)\n",
    "rmse_train"
   ]
  },
  {
   "cell_type": "code",
   "execution_count": 21,
   "metadata": {},
   "outputs": [],
   "source": [
    "# For Test\n",
    "# Now, we can predict stock values after model is trained. \n",
    "# We keep the predicted values and target vlaues for graphics later.\n",
    "# You may run on p_train or p_test to check the preformance.\n",
    "predicted_value_test = []\n",
    "y_orig = []\n",
    "count =0;\n",
    "for x, y in p_test.take(20):\n",
    "    y_orig.append(y[0].numpy())\n",
    "    t_pred= model.predict(x)\n",
    "    predicted_value_test.append(t_pred[0])"
   ]
  },
  {
   "cell_type": "code",
   "execution_count": 22,
   "metadata": {},
   "outputs": [
    {
     "data": {
      "text/plain": [
       "<AxesSubplot:>"
      ]
     },
     "execution_count": 22,
     "metadata": {},
     "output_type": "execute_result"
    },
    {
     "data": {
      "image/png": "[encoded data removed]",
      "text/plain": [
       "<Figure size 432x288 with 1 Axes>"
      ]
     },
     "metadata": {
      "needs_background": "light"
     },
     "output_type": "display_data"
    }
   ],
   "source": [
    "# Plot the predicted value and the target values together.\n",
    "y_pred_test = [predicted_value_test[i][0] for i in range(len(predicted_value_test))]\n",
    "result = pd.DataFrame({'predicted':y_pred_test, 'target':y_orig})\n",
    "result.plot()"
   ]
  },
  {
   "cell_type": "code",
   "execution_count": 23,
   "metadata": {},
   "outputs": [
    {
     "data": {
      "text/plain": [
       "0.2334152051289607"
      ]
     },
     "execution_count": 23,
     "metadata": {},
     "output_type": "execute_result"
    }
   ],
   "source": [
    "# Get the root mean squared error(RMSE)\n",
    "rmse_test = np.sqrt(np.mean(predicted_value_test - ytest) ** 2)\n",
    "rmse_test"
   ]
  },
  {
   "cell_type": "markdown",
   "metadata": {},
   "source": [
    "##  d)"
   ]
  },
  {
   "cell_type": "code",
   "execution_count": 24,
   "metadata": {},
   "outputs": [
    {
     "name": "stdout",
     "output_type": "stream",
     "text": [
      "Epoch 1/200\n",
      "20/20 [==============================] - 0s 5ms/step - loss: 0.0087 - val_loss: 0.0367\n",
      "Epoch 2/200\n",
      "20/20 [==============================] - 0s 5ms/step - loss: 0.0092 - val_loss: 0.0334\n",
      "Epoch 3/200\n",
      "20/20 [==============================] - 0s 4ms/step - loss: 0.0093 - val_loss: 0.0393\n",
      "Epoch 4/200\n",
      "20/20 [==============================] - 0s 5ms/step - loss: 0.0089 - val_loss: 0.0310\n",
      "Epoch 5/200\n",
      "20/20 [==============================] - 0s 4ms/step - loss: 0.0100 - val_loss: 0.0330\n",
      "Epoch 6/200\n",
      "20/20 [==============================] - 0s 4ms/step - loss: 0.0084 - val_loss: 0.0339\n",
      "Epoch 7/200\n",
      "20/20 [==============================] - 0s 4ms/step - loss: 0.0095 - val_loss: 0.0313\n",
      "Epoch 8/200\n",
      "20/20 [==============================] - 0s 5ms/step - loss: 0.0091 - val_loss: 0.0349\n",
      "Epoch 9/200\n",
      "20/20 [==============================] - 0s 5ms/step - loss: 0.0087 - val_loss: 0.0328\n",
      "Epoch 10/200\n",
      "20/20 [==============================] - 0s 5ms/step - loss: 0.0090 - val_loss: 0.0369\n",
      "Epoch 11/200\n",
      "20/20 [==============================] - 0s 5ms/step - loss: 0.0108 - val_loss: 0.0338\n",
      "Epoch 12/200\n",
      "20/20 [==============================] - 0s 5ms/step - loss: 0.0072 - val_loss: 0.0323\n",
      "Epoch 13/200\n",
      "20/20 [==============================] - 0s 5ms/step - loss: 0.0099 - val_loss: 0.0390\n",
      "Epoch 14/200\n",
      "20/20 [==============================] - 0s 4ms/step - loss: 0.0082 - val_loss: 0.0287\n",
      "Epoch 15/200\n",
      "20/20 [==============================] - 0s 4ms/step - loss: 0.0080 - val_loss: 0.0371\n",
      "Epoch 16/200\n",
      "20/20 [==============================] - 0s 4ms/step - loss: 0.0100 - val_loss: 0.0291\n",
      "Epoch 17/200\n",
      "20/20 [==============================] - 0s 4ms/step - loss: 0.0089 - val_loss: 0.0341\n",
      "Epoch 18/200\n",
      "20/20 [==============================] - 0s 4ms/step - loss: 0.0086 - val_loss: 0.0326\n",
      "Epoch 19/200\n",
      "20/20 [==============================] - 0s 4ms/step - loss: 0.0093 - val_loss: 0.0309\n",
      "Epoch 20/200\n",
      "20/20 [==============================] - 0s 5ms/step - loss: 0.0082 - val_loss: 0.0262\n",
      "Epoch 21/200\n",
      "20/20 [==============================] - 0s 4ms/step - loss: 0.0082 - val_loss: 0.0435\n",
      "Epoch 22/200\n",
      "20/20 [==============================] - 0s 4ms/step - loss: 0.0103 - val_loss: 0.0346\n",
      "Epoch 23/200\n",
      "20/20 [==============================] - 0s 4ms/step - loss: 0.0075 - val_loss: 0.0260\n",
      "Epoch 24/200\n",
      "20/20 [==============================] - 0s 5ms/step - loss: 0.0084 - val_loss: 0.0300\n",
      "Epoch 25/200\n",
      "20/20 [==============================] - 0s 5ms/step - loss: 0.0101 - val_loss: 0.0366\n",
      "Epoch 26/200\n",
      "20/20 [==============================] - 0s 4ms/step - loss: 0.0088 - val_loss: 0.0288\n",
      "Epoch 27/200\n",
      "20/20 [==============================] - 0s 4ms/step - loss: 0.0087 - val_loss: 0.0311\n",
      "Epoch 28/200\n",
      "20/20 [==============================] - 0s 4ms/step - loss: 0.0089 - val_loss: 0.0334\n",
      "Epoch 29/200\n",
      "20/20 [==============================] - 0s 4ms/step - loss: 0.0090 - val_loss: 0.0288\n",
      "Epoch 30/200\n",
      "20/20 [==============================] - 0s 4ms/step - loss: 0.0074 - val_loss: 0.0314\n",
      "Epoch 31/200\n",
      "20/20 [==============================] - 0s 4ms/step - loss: 0.0088 - val_loss: 0.0301\n",
      "Epoch 32/200\n",
      "20/20 [==============================] - 0s 5ms/step - loss: 0.0091 - val_loss: 0.0312\n",
      "Epoch 33/200\n",
      "20/20 [==============================] - 0s 5ms/step - loss: 0.0085 - val_loss: 0.0289\n",
      "Epoch 34/200\n",
      "20/20 [==============================] - 0s 5ms/step - loss: 0.0093 - val_loss: 0.0343\n",
      "Epoch 35/200\n",
      "20/20 [==============================] - 0s 5ms/step - loss: 0.0079 - val_loss: 0.0290\n",
      "Epoch 36/200\n",
      "20/20 [==============================] - 0s 5ms/step - loss: 0.0083 - val_loss: 0.0310\n",
      "Epoch 37/200\n",
      "20/20 [==============================] - 0s 5ms/step - loss: 0.0091 - val_loss: 0.0344\n",
      "Epoch 38/200\n",
      "20/20 [==============================] - 0s 5ms/step - loss: 0.0082 - val_loss: 0.0258\n",
      "Epoch 39/200\n",
      "20/20 [==============================] - 0s 5ms/step - loss: 0.0081 - val_loss: 0.0306\n",
      "Epoch 40/200\n",
      "20/20 [==============================] - 0s 5ms/step - loss: 0.0087 - val_loss: 0.0276\n",
      "Epoch 41/200\n",
      "20/20 [==============================] - 0s 5ms/step - loss: 0.0091 - val_loss: 0.0328\n",
      "Epoch 42/200\n",
      "20/20 [==============================] - 0s 5ms/step - loss: 0.0084 - val_loss: 0.0270\n",
      "Epoch 43/200\n",
      "20/20 [==============================] - 0s 4ms/step - loss: 0.0086 - val_loss: 0.0277\n",
      "Epoch 44/200\n",
      "20/20 [==============================] - 0s 4ms/step - loss: 0.0080 - val_loss: 0.0327\n",
      "Epoch 45/200\n",
      "20/20 [==============================] - 0s 4ms/step - loss: 0.0084 - val_loss: 0.0272\n",
      "Epoch 46/200\n",
      "20/20 [==============================] - 0s 4ms/step - loss: 0.0086 - val_loss: 0.0324\n",
      "Epoch 47/200\n",
      "20/20 [==============================] - 0s 4ms/step - loss: 0.0082 - val_loss: 0.0316\n",
      "Epoch 48/200\n",
      "20/20 [==============================] - 0s 4ms/step - loss: 0.0075 - val_loss: 0.0411\n",
      "Epoch 49/200\n",
      "20/20 [==============================] - 0s 5ms/step - loss: 0.0099 - val_loss: 0.0204\n",
      "Epoch 50/200\n",
      "20/20 [==============================] - 0s 5ms/step - loss: 0.0082 - val_loss: 0.0299\n",
      "Epoch 51/200\n",
      "20/20 [==============================] - 0s 5ms/step - loss: 0.0078 - val_loss: 0.0293\n",
      "Epoch 52/200\n",
      "20/20 [==============================] - 0s 5ms/step - loss: 0.0084 - val_loss: 0.0289\n",
      "Epoch 53/200\n",
      "20/20 [==============================] - 0s 4ms/step - loss: 0.0080 - val_loss: 0.0295\n",
      "Epoch 54/200\n",
      "20/20 [==============================] - 0s 4ms/step - loss: 0.0082 - val_loss: 0.0277\n",
      "Epoch 55/200\n",
      "20/20 [==============================] - 0s 5ms/step - loss: 0.0085 - val_loss: 0.0285\n",
      "Epoch 56/200\n",
      "20/20 [==============================] - 0s 4ms/step - loss: 0.0081 - val_loss: 0.0330\n",
      "Epoch 57/200\n",
      "20/20 [==============================] - 0s 4ms/step - loss: 0.0088 - val_loss: 0.0249\n",
      "Epoch 58/200\n",
      "20/20 [==============================] - 0s 4ms/step - loss: 0.0080 - val_loss: 0.0267\n",
      "Epoch 59/200\n",
      "20/20 [==============================] - 0s 4ms/step - loss: 0.0069 - val_loss: 0.0293\n",
      "Epoch 60/200\n",
      "20/20 [==============================] - 0s 4ms/step - loss: 0.0083 - val_loss: 0.0309\n",
      "Epoch 61/200\n",
      "20/20 [==============================] - 0s 4ms/step - loss: 0.0083 - val_loss: 0.0265\n",
      "Epoch 62/200\n",
      "20/20 [==============================] - 0s 4ms/step - loss: 0.0085 - val_loss: 0.0285\n",
      "Epoch 63/200\n",
      "20/20 [==============================] - 0s 4ms/step - loss: 0.0079 - val_loss: 0.0267\n",
      "Epoch 64/200\n",
      "20/20 [==============================] - 0s 4ms/step - loss: 0.0079 - val_loss: 0.0263\n",
      "Epoch 65/200\n",
      "20/20 [==============================] - 0s 4ms/step - loss: 0.0089 - val_loss: 0.0278\n",
      "Epoch 66/200\n",
      "20/20 [==============================] - 0s 4ms/step - loss: 0.0076 - val_loss: 0.0276\n",
      "Epoch 67/200\n",
      "20/20 [==============================] - 0s 5ms/step - loss: 0.0069 - val_loss: 0.0230\n",
      "Epoch 68/200\n",
      "20/20 [==============================] - 0s 4ms/step - loss: 0.0085 - val_loss: 0.0228\n",
      "Epoch 69/200\n",
      "20/20 [==============================] - 0s 4ms/step - loss: 0.0092 - val_loss: 0.0315\n",
      "Epoch 70/200\n",
      "20/20 [==============================] - 0s 5ms/step - loss: 0.0062 - val_loss: 0.0217\n",
      "Epoch 71/200\n",
      "20/20 [==============================] - 0s 5ms/step - loss: 0.0089 - val_loss: 0.0300\n",
      "Epoch 72/200\n",
      "20/20 [==============================] - 0s 5ms/step - loss: 0.0076 - val_loss: 0.0256\n",
      "Epoch 73/200\n",
      "20/20 [==============================] - 0s 5ms/step - loss: 0.0076 - val_loss: 0.0264\n",
      "Epoch 74/200\n",
      "20/20 [==============================] - 0s 5ms/step - loss: 0.0078 - val_loss: 0.0282\n",
      "Epoch 75/200\n",
      "20/20 [==============================] - 0s 5ms/step - loss: 0.0082 - val_loss: 0.0271\n",
      "Epoch 76/200\n",
      "20/20 [==============================] - 0s 4ms/step - loss: 0.0065 - val_loss: 0.0290\n",
      "Epoch 77/200\n",
      "20/20 [==============================] - 0s 4ms/step - loss: 0.0096 - val_loss: 0.0249\n",
      "Epoch 78/200\n",
      "20/20 [==============================] - 0s 4ms/step - loss: 0.0063 - val_loss: 0.0261\n",
      "Epoch 79/200\n",
      "20/20 [==============================] - 0s 4ms/step - loss: 0.0087 - val_loss: 0.0275\n",
      "Epoch 80/200\n",
      "20/20 [==============================] - 0s 4ms/step - loss: 0.0068 - val_loss: 0.0266\n",
      "Epoch 81/200\n",
      "20/20 [==============================] - 0s 4ms/step - loss: 0.0083 - val_loss: 0.0237\n",
      "Epoch 82/200\n",
      "20/20 [==============================] - 0s 4ms/step - loss: 0.0078 - val_loss: 0.0295\n",
      "Epoch 83/200\n"
     ]
    },
    {
     "name": "stdout",
     "output_type": "stream",
     "text": [
      "20/20 [==============================] - 0s 4ms/step - loss: 0.0083 - val_loss: 0.0272\n",
      "Epoch 84/200\n",
      "20/20 [==============================] - 0s 5ms/step - loss: 0.0073 - val_loss: 0.0297\n",
      "Epoch 85/200\n",
      "20/20 [==============================] - 0s 4ms/step - loss: 0.0083 - val_loss: 0.0186\n",
      "Epoch 86/200\n",
      "20/20 [==============================] - 0s 4ms/step - loss: 0.0079 - val_loss: 0.0307\n",
      "Epoch 87/200\n",
      "20/20 [==============================] - 0s 4ms/step - loss: 0.0067 - val_loss: 0.0227\n",
      "Epoch 88/200\n",
      "20/20 [==============================] - 0s 5ms/step - loss: 0.0074 - val_loss: 0.0241\n",
      "Epoch 89/200\n",
      "20/20 [==============================] - 0s 5ms/step - loss: 0.0078 - val_loss: 0.0267\n",
      "Epoch 90/200\n",
      "20/20 [==============================] - 0s 5ms/step - loss: 0.0075 - val_loss: 0.0246\n",
      "Epoch 91/200\n",
      "20/20 [==============================] - 0s 5ms/step - loss: 0.0074 - val_loss: 0.0264\n",
      "Epoch 92/200\n",
      "20/20 [==============================] - 0s 5ms/step - loss: 0.0075 - val_loss: 0.0248\n",
      "Epoch 93/200\n",
      "20/20 [==============================] - 0s 5ms/step - loss: 0.0082 - val_loss: 0.0211\n",
      "Epoch 94/200\n",
      "20/20 [==============================] - 0s 5ms/step - loss: 0.0065 - val_loss: 0.0207\n",
      "Epoch 95/200\n",
      "20/20 [==============================] - 0s 4ms/step - loss: 0.0078 - val_loss: 0.0214\n",
      "Epoch 96/200\n",
      "20/20 [==============================] - 0s 5ms/step - loss: 0.0071 - val_loss: 0.0252\n",
      "Epoch 97/200\n",
      "20/20 [==============================] - 0s 5ms/step - loss: 0.0083 - val_loss: 0.0227\n",
      "Epoch 98/200\n",
      "20/20 [==============================] - 0s 5ms/step - loss: 0.0075 - val_loss: 0.0270\n",
      "Epoch 99/200\n",
      "20/20 [==============================] - 0s 5ms/step - loss: 0.0075 - val_loss: 0.0239\n",
      "Epoch 100/200\n",
      "20/20 [==============================] - 0s 5ms/step - loss: 0.0072 - val_loss: 0.0259\n",
      "Epoch 101/200\n",
      "20/20 [==============================] - 0s 4ms/step - loss: 0.0075 - val_loss: 0.0258\n",
      "Epoch 102/200\n",
      "20/20 [==============================] - 0s 5ms/step - loss: 0.0082 - val_loss: 0.0298\n",
      "Epoch 103/200\n",
      "20/20 [==============================] - 0s 5ms/step - loss: 0.0077 - val_loss: 0.0226\n",
      "Epoch 104/200\n",
      "20/20 [==============================] - 0s 5ms/step - loss: 0.0066 - val_loss: 0.0215\n",
      "Epoch 105/200\n",
      "20/20 [==============================] - 0s 5ms/step - loss: 0.0078 - val_loss: 0.0246\n",
      "Epoch 106/200\n",
      "20/20 [==============================] - 0s 5ms/step - loss: 0.0068 - val_loss: 0.0268\n",
      "Epoch 107/200\n",
      "20/20 [==============================] - 0s 5ms/step - loss: 0.0077 - val_loss: 0.0234\n",
      "Epoch 108/200\n",
      "20/20 [==============================] - 0s 5ms/step - loss: 0.0068 - val_loss: 0.0236\n",
      "Epoch 109/200\n",
      "20/20 [==============================] - 0s 5ms/step - loss: 0.0070 - val_loss: 0.0232\n",
      "Epoch 110/200\n",
      "20/20 [==============================] - 0s 4ms/step - loss: 0.0071 - val_loss: 0.0425\n",
      "Epoch 111/200\n",
      "20/20 [==============================] - 0s 5ms/step - loss: 0.0085 - val_loss: 0.0229\n",
      "Epoch 112/200\n",
      "20/20 [==============================] - 0s 5ms/step - loss: 0.0070 - val_loss: 0.0251\n",
      "Epoch 113/200\n",
      "20/20 [==============================] - 0s 5ms/step - loss: 0.0076 - val_loss: 0.0244\n",
      "Epoch 114/200\n",
      "20/20 [==============================] - 0s 5ms/step - loss: 0.0070 - val_loss: 0.0217\n",
      "Epoch 115/200\n",
      "20/20 [==============================] - 0s 5ms/step - loss: 0.0069 - val_loss: 0.0244\n",
      "Epoch 116/200\n",
      "20/20 [==============================] - 0s 5ms/step - loss: 0.0073 - val_loss: 0.0267\n",
      "Epoch 117/200\n",
      "20/20 [==============================] - 0s 4ms/step - loss: 0.0068 - val_loss: 0.0228\n",
      "Epoch 118/200\n",
      "20/20 [==============================] - 0s 5ms/step - loss: 0.0066 - val_loss: 0.0233\n",
      "Epoch 119/200\n",
      "20/20 [==============================] - 0s 5ms/step - loss: 0.0079 - val_loss: 0.0250\n",
      "Epoch 120/200\n",
      "20/20 [==============================] - 0s 5ms/step - loss: 0.0060 - val_loss: 0.0216\n",
      "Epoch 121/200\n",
      "20/20 [==============================] - 0s 5ms/step - loss: 0.0078 - val_loss: 0.0210\n",
      "Epoch 122/200\n",
      "20/20 [==============================] - 0s 4ms/step - loss: 0.0063 - val_loss: 0.0271\n",
      "Epoch 123/200\n",
      "20/20 [==============================] - 0s 5ms/step - loss: 0.0073 - val_loss: 0.0272\n",
      "Epoch 124/200\n",
      "20/20 [==============================] - 0s 4ms/step - loss: 0.0070 - val_loss: 0.0199\n",
      "Epoch 125/200\n",
      "20/20 [==============================] - 0s 5ms/step - loss: 0.0072 - val_loss: 0.0246\n",
      "Epoch 126/200\n",
      "20/20 [==============================] - 0s 5ms/step - loss: 0.0069 - val_loss: 0.0214\n",
      "Epoch 127/200\n",
      "20/20 [==============================] - 0s 4ms/step - loss: 0.0071 - val_loss: 0.0234\n",
      "Epoch 128/200\n",
      "20/20 [==============================] - 0s 4ms/step - loss: 0.0074 - val_loss: 0.0209\n",
      "Epoch 129/200\n",
      "20/20 [==============================] - 0s 5ms/step - loss: 0.0071 - val_loss: 0.0174\n",
      "Epoch 130/200\n",
      "20/20 [==============================] - 0s 5ms/step - loss: 0.0064 - val_loss: 0.0237\n",
      "Epoch 131/200\n",
      "20/20 [==============================] - 0s 5ms/step - loss: 0.0074 - val_loss: 0.0217\n",
      "Epoch 132/200\n",
      "20/20 [==============================] - 0s 5ms/step - loss: 0.0067 - val_loss: 0.0227\n",
      "Epoch 133/200\n",
      "20/20 [==============================] - 0s 5ms/step - loss: 0.0060 - val_loss: 0.0235\n",
      "Epoch 134/200\n",
      "20/20 [==============================] - 0s 5ms/step - loss: 0.0071 - val_loss: 0.0199\n",
      "Epoch 135/200\n",
      "20/20 [==============================] - 0s 4ms/step - loss: 0.0075 - val_loss: 0.0282\n",
      "Epoch 136/200\n",
      "20/20 [==============================] - 0s 5ms/step - loss: 0.0067 - val_loss: 0.0211\n",
      "Epoch 137/200\n",
      "20/20 [==============================] - 0s 5ms/step - loss: 0.0072 - val_loss: 0.0211\n",
      "Epoch 138/200\n",
      "20/20 [==============================] - 0s 5ms/step - loss: 0.0068 - val_loss: 0.0173\n",
      "Epoch 139/200\n",
      "20/20 [==============================] - 0s 4ms/step - loss: 0.0068 - val_loss: 0.0269\n",
      "Epoch 140/200\n",
      "20/20 [==============================] - 0s 5ms/step - loss: 0.0069 - val_loss: 0.0239\n",
      "Epoch 141/200\n",
      "20/20 [==============================] - 0s 5ms/step - loss: 0.0067 - val_loss: 0.0228\n",
      "Epoch 142/200\n",
      "20/20 [==============================] - 0s 5ms/step - loss: 0.0067 - val_loss: 0.0236\n",
      "Epoch 143/200\n",
      "20/20 [==============================] - 0s 4ms/step - loss: 0.0064 - val_loss: 0.0205\n",
      "Epoch 144/200\n",
      "20/20 [==============================] - 0s 5ms/step - loss: 0.0069 - val_loss: 0.0248\n",
      "Epoch 145/200\n",
      "20/20 [==============================] - 0s 5ms/step - loss: 0.0077 - val_loss: 0.0214\n",
      "Epoch 146/200\n",
      "20/20 [==============================] - 0s 5ms/step - loss: 0.0063 - val_loss: 0.0212\n",
      "Epoch 147/200\n",
      "20/20 [==============================] - 0s 4ms/step - loss: 0.0067 - val_loss: 0.0269\n",
      "Epoch 148/200\n",
      "20/20 [==============================] - 0s 5ms/step - loss: 0.0076 - val_loss: 0.0221\n",
      "Epoch 149/200\n",
      "20/20 [==============================] - 0s 5ms/step - loss: 0.0052 - val_loss: 0.0206\n",
      "Epoch 150/200\n",
      "20/20 [==============================] - 0s 4ms/step - loss: 0.0072 - val_loss: 0.0249\n",
      "Epoch 151/200\n",
      "20/20 [==============================] - 0s 5ms/step - loss: 0.0064 - val_loss: 0.0205\n",
      "Epoch 152/200\n",
      "20/20 [==============================] - 0s 5ms/step - loss: 0.0071 - val_loss: 0.0256\n",
      "Epoch 153/200\n",
      "20/20 [==============================] - 0s 4ms/step - loss: 0.0062 - val_loss: 0.0209\n",
      "Epoch 154/200\n",
      "20/20 [==============================] - 0s 5ms/step - loss: 0.0065 - val_loss: 0.0235\n",
      "Epoch 155/200\n",
      "20/20 [==============================] - 0s 5ms/step - loss: 0.0070 - val_loss: 0.0246\n",
      "Epoch 156/200\n",
      "20/20 [==============================] - 0s 5ms/step - loss: 0.0060 - val_loss: 0.0253\n",
      "Epoch 157/200\n",
      "20/20 [==============================] - 0s 5ms/step - loss: 0.0063 - val_loss: 0.0183\n",
      "Epoch 158/200\n",
      "20/20 [==============================] - 0s 5ms/step - loss: 0.0067 - val_loss: 0.0288\n",
      "Epoch 159/200\n",
      "20/20 [==============================] - 0s 4ms/step - loss: 0.0066 - val_loss: 0.0157\n",
      "Epoch 160/200\n",
      "20/20 [==============================] - 0s 4ms/step - loss: 0.0064 - val_loss: 0.0220\n",
      "Epoch 161/200\n",
      "20/20 [==============================] - 0s 5ms/step - loss: 0.0067 - val_loss: 0.0231\n",
      "Epoch 162/200\n",
      "20/20 [==============================] - 0s 4ms/step - loss: 0.0067 - val_loss: 0.0197\n",
      "Epoch 163/200\n",
      "20/20 [==============================] - 0s 5ms/step - loss: 0.0066 - val_loss: 0.0235\n",
      "Epoch 164/200\n",
      "20/20 [==============================] - 0s 5ms/step - loss: 0.0064 - val_loss: 0.0225\n",
      "Epoch 165/200\n",
      "20/20 [==============================] - 0s 5ms/step - loss: 0.0067 - val_loss: 0.0229\n",
      "Epoch 166/200\n",
      "20/20 [==============================] - 0s 5ms/step - loss: 0.0059 - val_loss: 0.0236\n",
      "Epoch 167/200\n",
      "20/20 [==============================] - 0s 5ms/step - loss: 0.0064 - val_loss: 0.0190\n",
      "Epoch 168/200\n",
      "20/20 [==============================] - 0s 5ms/step - loss: 0.0071 - val_loss: 0.0237\n",
      "Epoch 169/200\n",
      "20/20 [==============================] - 0s 5ms/step - loss: 0.0059 - val_loss: 0.0270\n",
      "Epoch 170/200\n",
      "20/20 [==============================] - 0s 4ms/step - loss: 0.0065 - val_loss: 0.0218\n",
      "Epoch 171/200\n",
      "20/20 [==============================] - 0s 5ms/step - loss: 0.0069 - val_loss: 0.0208\n",
      "Epoch 172/200\n",
      "20/20 [==============================] - 0s 5ms/step - loss: 0.0062 - val_loss: 0.0240\n",
      "Epoch 173/200\n",
      "20/20 [==============================] - 0s 4ms/step - loss: 0.0065 - val_loss: 0.0236\n",
      "Epoch 174/200\n",
      "20/20 [==============================] - 0s 4ms/step - loss: 0.0068 - val_loss: 0.0232\n",
      "Epoch 175/200\n",
      "20/20 [==============================] - 0s 5ms/step - loss: 0.0051 - val_loss: 0.0156\n",
      "Epoch 176/200\n",
      "20/20 [==============================] - 0s 4ms/step - loss: 0.0074 - val_loss: 0.0275\n",
      "Epoch 177/200\n",
      "20/20 [==============================] - 0s 4ms/step - loss: 0.0060 - val_loss: 0.0213\n",
      "Epoch 178/200\n",
      "20/20 [==============================] - 0s 5ms/step - loss: 0.0069 - val_loss: 0.0200\n",
      "Epoch 179/200\n",
      "20/20 [==============================] - 0s 4ms/step - loss: 0.0059 - val_loss: 0.0243\n",
      "Epoch 180/200\n",
      "20/20 [==============================] - 0s 4ms/step - loss: 0.0073 - val_loss: 0.0245\n",
      "Epoch 181/200\n",
      "20/20 [==============================] - 0s 4ms/step - loss: 0.0060 - val_loss: 0.0260\n",
      "Epoch 182/200\n",
      "20/20 [==============================] - 0s 5ms/step - loss: 0.0064 - val_loss: 0.0206\n",
      "Epoch 183/200\n",
      "20/20 [==============================] - 0s 5ms/step - loss: 0.0070 - val_loss: 0.0295\n",
      "Epoch 184/200\n",
      "20/20 [==============================] - 0s 5ms/step - loss: 0.0060 - val_loss: 0.0238\n",
      "Epoch 185/200\n",
      "20/20 [==============================] - 0s 5ms/step - loss: 0.0070 - val_loss: 0.0221\n",
      "Epoch 186/200\n",
      "20/20 [==============================] - 0s 5ms/step - loss: 0.0056 - val_loss: 0.0222\n",
      "Epoch 187/200\n",
      "20/20 [==============================] - 0s 5ms/step - loss: 0.0066 - val_loss: 0.0273\n",
      "Epoch 188/200\n",
      "20/20 [==============================] - 0s 4ms/step - loss: 0.0056 - val_loss: 0.0226\n",
      "Epoch 189/200\n",
      "20/20 [==============================] - 0s 5ms/step - loss: 0.0065 - val_loss: 0.0249\n",
      "Epoch 190/200\n",
      "20/20 [==============================] - 0s 5ms/step - loss: 0.0061 - val_loss: 0.0212\n",
      "Epoch 191/200\n",
      "20/20 [==============================] - 0s 5ms/step - loss: 0.0067 - val_loss: 0.0233\n",
      "Epoch 192/200\n",
      "20/20 [==============================] - 0s 5ms/step - loss: 0.0060 - val_loss: 0.0212\n",
      "Epoch 193/200\n",
      "20/20 [==============================] - 0s 5ms/step - loss: 0.0064 - val_loss: 0.0241\n",
      "Epoch 194/200\n",
      "20/20 [==============================] - 0s 5ms/step - loss: 0.0063 - val_loss: 0.0233\n",
      "Epoch 195/200\n",
      "20/20 [==============================] - 0s 5ms/step - loss: 0.0052 - val_loss: 0.0242\n",
      "Epoch 196/200\n",
      "20/20 [==============================] - 0s 5ms/step - loss: 0.0063 - val_loss: 0.0257\n",
      "Epoch 197/200\n",
      "20/20 [==============================] - 0s 5ms/step - loss: 0.0058 - val_loss: 0.0200\n",
      "Epoch 198/200\n",
      "20/20 [==============================] - 0s 5ms/step - loss: 0.0068 - val_loss: 0.0253\n",
      "Epoch 199/200\n",
      "20/20 [==============================] - 0s 5ms/step - loss: 0.0064 - val_loss: 0.0241\n",
      "Epoch 200/200\n",
      "20/20 [==============================] - 0s 5ms/step - loss: 0.0060 - val_loss: 0.0210\n"
     ]
    }
   ],
   "source": [
    "# For your model to be able to predict something, your need to train your model using training data.\n",
    "history_d = model.fit(p_train, epochs = 200, steps_per_epoch=20, validation_data=p_test, validation_steps=50)"
   ]
  },
  {
   "cell_type": "code",
   "execution_count": 25,
   "metadata": {},
   "outputs": [
    {
     "data": {
      "text/html": [
       "<div>\n",
       "<style scoped>\n",
       "    .dataframe tbody tr th:only-of-type {\n",
       "        vertical-align: middle;\n",
       "    }\n",
       "\n",
       "    .dataframe tbody tr th {\n",
       "        vertical-align: top;\n",
       "    }\n",
       "\n",
       "    .dataframe thead th {\n",
       "        text-align: right;\n",
       "    }\n",
       "</style>\n",
       "<table border=\"1\" class=\"dataframe\">\n",
       "  <thead>\n",
       "    <tr style=\"text-align: right;\">\n",
       "      <th></th>\n",
       "      <th>loss</th>\n",
       "      <th>val_loss</th>\n",
       "    </tr>\n",
       "  </thead>\n",
       "  <tbody>\n",
       "    <tr>\n",
       "      <th>0</th>\n",
       "      <td>0.008698</td>\n",
       "      <td>0.036660</td>\n",
       "    </tr>\n",
       "    <tr>\n",
       "      <th>1</th>\n",
       "      <td>0.009222</td>\n",
       "      <td>0.033434</td>\n",
       "    </tr>\n",
       "    <tr>\n",
       "      <th>2</th>\n",
       "      <td>0.009278</td>\n",
       "      <td>0.039348</td>\n",
       "    </tr>\n",
       "    <tr>\n",
       "      <th>3</th>\n",
       "      <td>0.008880</td>\n",
       "      <td>0.030964</td>\n",
       "    </tr>\n",
       "    <tr>\n",
       "      <th>4</th>\n",
       "      <td>0.010026</td>\n",
       "      <td>0.033035</td>\n",
       "    </tr>\n",
       "  </tbody>\n",
       "</table>\n",
       "</div>"
      ],
      "text/plain": [
       "       loss  val_loss\n",
       "0  0.008698  0.036660\n",
       "1  0.009222  0.033434\n",
       "2  0.009278  0.039348\n",
       "3  0.008880  0.030964\n",
       "4  0.010026  0.033035"
      ]
     },
     "execution_count": 25,
     "metadata": {},
     "output_type": "execute_result"
    }
   ],
   "source": [
    "# Convert training history to datafram for viewing and graphing.\n",
    "hist_d = pd.DataFrame(history_d.history)\n",
    "hist_d.head()"
   ]
  },
  {
   "cell_type": "code",
   "execution_count": 26,
   "metadata": {},
   "outputs": [
    {
     "data": {
      "text/plain": [
       "<AxesSubplot:>"
      ]
     },
     "execution_count": 26,
     "metadata": {},
     "output_type": "execute_result"
    },
    {
     "data": {
      "image/png": "[encoded data removed]",
      "text/plain": [
       "<Figure size 432x288 with 1 Axes>"
      ]
     },
     "metadata": {
      "needs_background": "light"
     },
     "output_type": "display_data"
    }
   ],
   "source": [
    "hist_d.plot()"
   ]
  },
  {
   "cell_type": "code",
   "execution_count": 27,
   "metadata": {},
   "outputs": [],
   "source": [
    "# For train\n",
    "# Now, we can predict stock values after model is trained. \n",
    "# We keep the predicted values and target vlaues for graphics later.\n",
    "# You may run on p_train or p_test to check the preformance.\n",
    "predicted_value_train_d = []\n",
    "y_orig = []\n",
    "count =0;\n",
    "for x, y in p_train.take(20):\n",
    "    y_orig.append(y[0].numpy())\n",
    "    t_pred= model.predict(x)\n",
    "    predicted_value_train_d.append(t_pred[0])"
   ]
  },
  {
   "cell_type": "code",
   "execution_count": 28,
   "metadata": {},
   "outputs": [
    {
     "data": {
      "text/plain": [
       "<AxesSubplot:>"
      ]
     },
     "execution_count": 28,
     "metadata": {},
     "output_type": "execute_result"
    },
    {
     "data": {
      "image/png": "[encoded data removed]",
      "text/plain": [
       "<Figure size 432x288 with 1 Axes>"
      ]
     },
     "metadata": {
      "needs_background": "light"
     },
     "output_type": "display_data"
    }
   ],
   "source": [
    "# Plot the predicted value and the target values together.\n",
    "y_pred_train_d = [predicted_value_train_d[i][0] for i in range(len(predicted_value_train_d))]\n",
    "result = pd.DataFrame({'predicted':y_pred_train_d, 'target':y_orig})\n",
    "result.plot()"
   ]
  },
  {
   "cell_type": "code",
   "execution_count": 29,
   "metadata": {},
   "outputs": [
    {
     "data": {
      "text/plain": [
       "0.01647603063814166"
      ]
     },
     "execution_count": 29,
     "metadata": {},
     "output_type": "execute_result"
    }
   ],
   "source": [
    "# Get the root mean squared error(RMSE)\n",
    "rmse_train_d = np.sqrt(np.mean(predicted_value_train_d - ytrain) ** 2)\n",
    "rmse_train_d"
   ]
  },
  {
   "cell_type": "code",
   "execution_count": 30,
   "metadata": {},
   "outputs": [],
   "source": [
    "# For Test\n",
    "# Now, we can predict stock values after model is trained. \n",
    "# We keep the predicted values and target vlaues for graphics later.\n",
    "# You may run on p_train or p_test to check the preformance.\n",
    "predicted_value_test_d = []\n",
    "y_orig = []\n",
    "count =0;\n",
    "for x, y in p_test.take(20):\n",
    "    y_orig.append(y[0].numpy())\n",
    "    t_pred= model.predict(x)\n",
    "    predicted_value_test_d.append(t_pred[0])"
   ]
  },
  {
   "cell_type": "code",
   "execution_count": 31,
   "metadata": {},
   "outputs": [
    {
     "data": {
      "text/plain": [
       "0.16493221009569653"
      ]
     },
     "execution_count": 31,
     "metadata": {},
     "output_type": "execute_result"
    }
   ],
   "source": [
    "# Get the root mean squared error(RMSE)\n",
    "rmse_test_d = np.sqrt(np.mean(predicted_value_test_d - ytest) ** 2)\n",
    "rmse_test_d"
   ]
  },
  {
   "cell_type": "markdown",
   "metadata": {},
   "source": [
    "## e)"
   ]
  },
  {
   "cell_type": "code",
   "execution_count": null,
   "metadata": {},
   "outputs": [],
   "source": []
  },
  {
   "cell_type": "code",
   "execution_count": null,
   "metadata": {},
   "outputs": [],
   "source": []
  },
  {
   "cell_type": "code",
   "execution_count": null,
   "metadata": {},
   "outputs": [],
   "source": []
  }
 ],
 "metadata": {
  "kernelspec": {
   "display_name": "Python 3",
   "language": "python",
   "name": "python3"
  },
  "language_info": {
   "codemirror_mode": {
    "name": "ipython",
    "version": 3
   },
   "file_extension": ".py",
   "mimetype": "text/x-python",
   "name": "python",
   "nbconvert_exporter": "python",
   "pygments_lexer": "ipython3",
   "version": "3.8.5"
  }
 },
 "nbformat": 4,
 "nbformat_minor": 4
}
