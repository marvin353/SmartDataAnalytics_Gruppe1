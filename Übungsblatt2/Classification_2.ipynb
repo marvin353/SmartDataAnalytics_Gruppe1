{
 "cells": [
  {
   "cell_type": "markdown",
   "metadata": {
    "collapsed": false
   },
   "source": [
    "# Classification: Klassische Methoden\n",
    "In diesem Notebook versuchen wir die Klassifizierung in \"Failure\"/\"No Failure \" mit klassischen machine learning Methoden durchzuführen."
   ]
  },
  {
   "cell_type": "code",
   "execution_count": 1,
   "metadata": {
    "collapsed": false,
    "pycharm": {
     "is_executing": true,
     "name": "#%%\n"
    }
   },
   "outputs": [],
   "source": [
    "import pandas as pd\r\n",
    "import glob\r\n",
    "import numpy as np\r\n",
    "from sklearn.model_selection import train_test_split\r\n",
    "from sklearn.svm import SVC\r\n",
    "from sklearn.ensemble import BaggingClassifier\r\n",
    "from sklearn import metrics\r\n",
    "#import Preprocessing as pp\r\n",
    "#import Helpers\r\n",
    "#from keras.models import Sequential\r\n",
    "#from keras.layers import Dense\r\n",
    "\r\n",
    "rootdir_train = 'data/train/'\r\n",
    "rootdir_test = 'data/test/'\r\n",
    "\r\n",
    "train_labels_path = 'data/train_label.csv'\r\n",
    "test_labels_path = 'data/test_label.csv'\r\n",
    "\r\n",
    "feature_path = 'data/features/'\r\n",
    "feature_path_test = 'data/features_test/'\r\n",
    "\r\n",
    "feature_path_red = 'data/features_reduced/'\r\n",
    "feature_path_test_red = 'data/features_reduced_test/'\r\n",
    "\r\n",
    "# Merge labels and data\r\n",
    "train_labels = pd.read_csv(train_labels_path, index_col=0) #Don't use index numbers per row but CSV file name as index"
   ]
  },
  {
   "cell_type": "code",
   "execution_count": 2,
   "metadata": {},
   "outputs": [
    {
     "name": "stdout",
     "output_type": "stream",
     "text": [
      "22\n"
     ]
    }
   ],
   "source": [
    "drift = ['pitch motor 1 current', 'pitch motor 2 current', 'Pitch motor 3 current', 'x direction vibration value', 'y direction vibration value', 'hydraulic brake pressure', 'generator current', 'Inverter inlet temperature', 'inverter outlet temperature', 'inverter inlet pressure', 'inverter outlet pressure', 'wind tower ambient temperature', 'Wheel temperature', 'Wheel control cabinet temperature', 'Cabin temperature', 'Cabin control cabinet temperature', 'vane 1 pitch motor temperature', 'blade 2 pitch motor temperature', 'blade 3 pitch motor temperature', 'blade 1 inverter box temperature', 'blade 2 inverter box temperature', 'blade 3 inverter box temperature','inverter grid side current', 'Inverter grid side active power', 'inverter generator side power', 'generator operating frequency','generator stator temperature 1', 'generator stator temperature 2',  'generator stator temperature 3', 'generator stator temperature 4', 'Generator stator temperature 5', 'generator stator temperature 6', 'generator air temperature 1', 'generator air temperature 2','main bearing temperature 1', 'main bearing temperature 2', 'Pitch motor 1 power estimation', 'Pitch motor 2 power estimation', 'Pitch motor 3 power estimation', 'blade 1 battery box temperature', 'blade 2 battery box temperature', 'blade 3 battery box temperature','Inverter INU temperature', 'Inverter ISU temperature','atmospheric pressure', 'reactive power control status', 'reactive power set value', 'Inverter INU RMIO temperature','blade 1 angle','blade 2 angle','blade 3 angle','inverter grid side voltage','inverter grid side reactive power']\r\n",
    "strong_drift = ['pitch motor 1 current', 'pitch motor 2 current', 'Pitch motor 3 current', 'x direction vibration value', 'y direction vibration value', 'hydraulic brake pressure', 'generator current', 'Inverter inlet temperature', 'inverter outlet temperature', 'inverter inlet pressure', 'inverter outlet pressure', 'wind tower ambient temperature', 'Wheel temperature', 'Wheel control cabinet temperature', 'Cabin temperature', 'Cabin control cabinet temperature', 'vane 1 pitch motor temperature', 'blade 2 pitch motor temperature', 'blade 3 pitch motor temperature', 'blade 1 inverter box temperature', 'blade 2 inverter box temperature', 'blade 3 inverter box temperature']\r\n",
    "print(75-len(drift))"
   ]
  },
  {
   "cell_type": "code",
   "execution_count": 3,
   "metadata": {},
   "outputs": [],
   "source": [
    "def prepare_ml(estimator, x, y):\r\n",
    "    clf = BaggingClassifier(base_estimator=estimator, n_estimators=10, random_state=0, n_jobs=-1)\r\n",
    "    clf.fit(x,y)\r\n",
    "    return clf\r\n",
    "    "
   ]
  },
  {
   "cell_type": "code",
   "execution_count": 4,
   "metadata": {},
   "outputs": [],
   "source": [
    "def prepare_data(path, file_name = 'mean.csv', red_drift = True):\r\n",
    "    data = pd.read_csv(path + file_name, index_col=0)\r\n",
    "    data.dropna(inplace=True)\r\n",
    "    if red_drift:\r\n",
    "        drl = list(set(data.columns.values).intersection(drift))\r\n",
    "        data.drop(drl, axis = 1, inplace=True)\r\n",
    "    label = data['label']\r\n",
    "    data.drop(['area','label'], axis = 1, inplace=True)\r\n",
    "    return data, label"
   ]
  },
  {
   "cell_type": "code",
   "execution_count": 5,
   "metadata": {},
   "outputs": [],
   "source": [
    "def score_predict(test_label, prediction):\r\n",
    "    print(\"Accuracy:\",metrics.accuracy_score(test_label, prediction))\r\n",
    "    print(\"F1:\",metrics.f1_score(test_label, prediction))"
   ]
  },
  {
   "cell_type": "code",
   "execution_count": 6,
   "metadata": {},
   "outputs": [],
   "source": [
    "features = [\"mean.csv\", \"median.csv\", \"min.csv\", \"max.csv\", \"std.csv\", \"var.csv\"]"
   ]
  },
  {
   "cell_type": "code",
   "execution_count": 7,
   "metadata": {},
   "outputs": [],
   "source": [
    "def calculateImportance(bm):\r\n",
    "    importance = [model.coef_ for model in bm.estimators_]\r\n",
    "    # print(importance)\r\n",
    "    m_importance = np.mean(importance,axis=0)\r\n",
    "    # print(m_importance)\r\n",
    "    return np.squeeze(m_importance)\r\n",
    "\r\n",
    "def calculateMagnitude(bm, x):\r\n",
    "    coeff = calculateImportance(bm)\r\n",
    "    return np.std(x, 0) * coeff"
   ]
  },
  {
   "cell_type": "code",
   "execution_count": 8,
   "metadata": {},
   "outputs": [
    {
     "name": "stdout",
     "output_type": "stream",
     "text": [
      "mean.csv\n",
      "linear SVM\n",
      "Wheel speed                               -5.782369\n",
      "hub angle                                  0.090721\n",
      "blade 1 angle                            -83.392571\n",
      "blade 2 angle                             63.425730\n",
      "blade 3 angle                             -6.181856\n",
      "overspeed sensor speed detection value    -0.029833\n",
      "5 second yaw against wind average         -0.456976\n",
      "Aircraft weather station wind speed        0.386188\n",
      "wind direction absolute value             -0.049832\n",
      "atmospheric pressure                       0.007330\n",
      "reactive power control status              1.451670\n",
      "inverter grid side current                -1.164783\n",
      "inverter grid side voltage                -1.144953\n",
      "Inverter grid side active power            8.473936\n",
      "inverter grid side reactive power        -12.571269\n",
      "inverter generator side power             -3.264201\n",
      "generator operating frequency              3.777639\n",
      "generator torque                          -2.976309\n",
      "generator power limit value               -1.396053\n",
      "reactive power set value                   0.875266\n",
      "Rated hub speed                            1.673837\n",
      "generator stator temperature 1             6.098371\n",
      "generator stator temperature 2            -3.902128\n",
      "generator stator temperature 3            -0.526024\n",
      "generator stator temperature 4             0.713188\n",
      "Generator stator temperature 5             2.335952\n",
      "generator stator temperature 6             2.114366\n",
      "generator air temperature 1                1.445720\n",
      "generator air temperature 2               -7.229207\n",
      "main bearing temperature 1               -10.690064\n",
      "main bearing temperature 2                10.861457\n",
      "Inverter INU temperature                   2.431315\n",
      "Inverter ISU temperature                  -3.991871\n",
      "Inverter INU RMIO temperature             -2.235102\n",
      "Pitch motor 1 power estimation            -0.485590\n",
      "Pitch motor 2 power estimation             0.829263\n",
      "Pitch motor 3 power estimation            -0.381290\n",
      "Fan current status value                   3.445472\n",
      "hub current status value                   1.396942\n",
      "yaw state value                            0.823122\n",
      "yaw request value                          0.062754\n",
      "blade 1 battery box temperature            0.313919\n",
      "blade 2 battery box temperature           -0.701570\n",
      "blade 3 battery box temperature            0.556387\n",
      "blade 1 super capacitor voltage          -10.757127\n",
      "blade 2 super capacitor voltage            6.763853\n",
      "blade 3 super capacitor voltage            7.712578\n",
      "drive 1 thyristor temperature             -5.949995\n",
      "Drive 2 thyristor temperature             23.497864\n",
      "Drive 3 thyristor temperature              1.750546\n",
      "dtype: float64\n",
      "\n",
      "TRAIN\n",
      "Accuracy: 0.704\n",
      "F1: 0.6796536796536796\n",
      "TEST\n",
      "Accuracy: 0.5181599679529977\n",
      "F1: 0.4756230473007338\n",
      "*****\n",
      "rbf SVM\n",
      "\n",
      "TRAIN\n",
      "Accuracy: 0.556\n",
      "F1: 0.2838709677419355\n",
      "TEST\n",
      "Accuracy: 0.52009614100681\n",
      "F1: 0.25404732254047324\n",
      "-------------------------\n",
      "median.csv\n",
      "linear SVM\n",
      "Wheel speed                              -1.995304e+00\n",
      "hub angle                                 1.085648e-02\n",
      "blade 1 angle                            -9.726982e+01\n",
      "blade 2 angle                             7.367343e+01\n",
      "blade 3 angle                            -7.319849e+00\n",
      "overspeed sensor speed detection value    5.178701e-01\n",
      "5 second yaw against wind average        -4.275388e-01\n",
      "Aircraft weather station wind speed       4.807795e-01\n",
      "wind direction absolute value            -1.750645e-02\n",
      "atmospheric pressure                     -1.170758e-14\n",
      "reactive power control status             1.635872e+00\n",
      "inverter grid side current               -4.106988e+00\n",
      "inverter grid side voltage                6.843374e-01\n",
      "Inverter grid side active power           1.902016e+01\n",
      "inverter grid side reactive power        -6.050565e-01\n",
      "inverter generator side power             5.500528e-02\n",
      "generator operating frequency             4.015716e+00\n",
      "generator torque                         -1.671502e+01\n",
      "generator power limit value              -1.339266e+00\n",
      "reactive power set value                  2.203258e-01\n",
      "Rated hub speed                           1.621397e+00\n",
      "generator stator temperature 1            4.531408e+00\n",
      "generator stator temperature 2           -2.413110e+00\n",
      "generator stator temperature 3           -2.382508e-01\n",
      "generator stator temperature 4           -3.476651e+00\n",
      "Generator stator temperature 5            7.223460e+00\n",
      "generator stator temperature 6           -3.269848e+00\n",
      "generator air temperature 1               3.986584e+00\n",
      "generator air temperature 2              -5.818973e+00\n",
      "main bearing temperature 1               -2.154217e+01\n",
      "main bearing temperature 2                2.328809e+01\n",
      "Inverter INU temperature                  4.236953e+00\n",
      "Inverter ISU temperature                 -7.229036e+00\n",
      "Inverter INU RMIO temperature            -2.686659e+00\n",
      "Pitch motor 1 power estimation           -1.532597e-01\n",
      "Pitch motor 2 power estimation            6.737713e-01\n",
      "Pitch motor 3 power estimation           -2.768690e-01\n",
      "Fan current status value                  1.546185e+00\n",
      "hub current status value                  1.225808e+00\n",
      "yaw state value                           9.796267e-01\n",
      "yaw request value                         5.379180e-02\n",
      "blade 1 battery box temperature           6.687711e-01\n",
      "blade 2 battery box temperature          -8.015016e-01\n",
      "blade 3 battery box temperature           3.732235e-01\n",
      "blade 1 super capacitor voltage           2.685049e+00\n",
      "blade 2 super capacitor voltage          -1.374187e+00\n",
      "blade 3 super capacitor voltage           2.022172e+00\n",
      "drive 1 thyristor temperature            -6.021679e+00\n",
      "Drive 2 thyristor temperature             5.031575e+01\n",
      "Drive 3 thyristor temperature             1.112116e+00\n",
      "dtype: float64\n",
      "\n",
      "TRAIN\n",
      "Accuracy: 0.702\n",
      "F1: 0.6809421841541756\n",
      "TEST\n",
      "Accuracy: 0.5178929096007477\n",
      "F1: 0.5063239215150065\n",
      "*****\n",
      "rbf SVM\n",
      "\n",
      "TRAIN\n",
      "Accuracy: 0.554\n",
      "F1: 0.2736156351791531\n",
      "TEST\n",
      "Accuracy: 0.5189611430097476\n",
      "F1: 0.2448380672885442\n",
      "-------------------------\n",
      "min.csv\n",
      "linear SVM\n",
      "Wheel speed                               -0.066360\n",
      "hub angle                                  0.139598\n",
      "blade 1 angle                            -82.269649\n",
      "blade 2 angle                             66.979474\n",
      "blade 3 angle                            -12.674334\n",
      "overspeed sensor speed detection value    -0.230826\n",
      "5 second yaw against wind average         -0.212032\n",
      "Aircraft weather station wind speed        0.180725\n",
      "wind direction absolute value              0.088675\n",
      "atmospheric pressure                      -1.450665\n",
      "reactive power control status              0.721352\n",
      "inverter grid side current                 0.315729\n",
      "inverter grid side voltage                -0.496913\n",
      "Inverter grid side active power            0.375172\n",
      "inverter grid side reactive power         -0.022285\n",
      "inverter generator side power             -0.862791\n",
      "generator operating frequency              0.653457\n",
      "generator torque                           1.529732\n",
      "generator power limit value               -0.727220\n",
      "reactive power set value                  -0.115874\n",
      "Rated hub speed                            1.034532\n",
      "generator stator temperature 1            -1.396542\n",
      "generator stator temperature 2            -2.223417\n",
      "generator stator temperature 3             2.470935\n",
      "generator stator temperature 4             0.001856\n",
      "Generator stator temperature 5             3.986739\n",
      "generator stator temperature 6             1.257934\n",
      "generator air temperature 1                2.069280\n",
      "generator air temperature 2               -4.480055\n",
      "main bearing temperature 1                -6.448699\n",
      "main bearing temperature 2                 5.878757\n",
      "Inverter INU temperature                  -0.614505\n",
      "Inverter ISU temperature                  -0.093324\n",
      "Inverter INU RMIO temperature             -0.045811\n",
      "Pitch motor 1 power estimation            -0.263882\n",
      "Pitch motor 2 power estimation             0.390927\n",
      "Pitch motor 3 power estimation            -0.140000\n",
      "Fan current status value                  -0.027935\n",
      "hub current status value                   0.142767\n",
      "yaw state value                           -0.486889\n",
      "yaw request value                          0.000000\n",
      "blade 1 battery box temperature            0.764737\n",
      "blade 2 battery box temperature           -0.522495\n",
      "blade 3 battery box temperature            0.712172\n",
      "blade 1 super capacitor voltage            0.852108\n",
      "blade 2 super capacitor voltage            2.782194\n",
      "blade 3 super capacitor voltage           -1.548100\n",
      "drive 1 thyristor temperature              0.516129\n",
      "Drive 2 thyristor temperature              6.448542\n",
      "Drive 3 thyristor temperature             -2.773979\n",
      "dtype: float64\n",
      "\n",
      "TRAIN\n",
      "Accuracy: 0.67\n",
      "F1: 0.5965770171149144\n",
      "TEST\n",
      "Accuracy: 0.5219655494725598\n",
      "F1: 0.21353251318101935\n",
      "*****\n",
      "rbf SVM\n",
      "\n",
      "TRAIN\n",
      "Accuracy: 0.526\n",
      "F1: 0.3323943661971831\n",
      "TEST\n",
      "Accuracy: 0.5016691147015623\n",
      "F1: 0.37737737737737737\n",
      "-------------------------\n",
      "max.csv\n",
      "linear SVM\n",
      "Wheel speed                               2.976636e+00\n",
      "hub angle                                 3.992351e-02\n",
      "blade 1 angle                            -1.306751e+02\n",
      "blade 2 angle                             1.025533e+02\n",
      "blade 3 angle                            -9.722903e+00\n",
      "overspeed sensor speed detection value    8.228569e-01\n",
      "5 second yaw against wind average        -2.704704e-01\n",
      "Aircraft weather station wind speed       2.862196e-01\n",
      "wind direction absolute value            -5.822254e-01\n",
      "atmospheric pressure                     -3.143002e-14\n",
      "reactive power control status             1.638467e+00\n",
      "inverter grid side current               -7.955012e+00\n",
      "inverter grid side voltage                8.134024e-01\n",
      "Inverter grid side active power           3.015683e+01\n",
      "inverter grid side reactive power        -3.996462e+01\n",
      "inverter generator side power            -6.105867e+00\n",
      "generator operating frequency            -7.159880e-01\n",
      "generator torque                         -6.632328e+01\n",
      "generator power limit value              -1.146212e+00\n",
      "reactive power set value                  7.133753e-02\n",
      "Rated hub speed                           1.079472e+00\n",
      "generator stator temperature 1            4.287108e+00\n",
      "generator stator temperature 2           -3.889665e+00\n",
      "generator stator temperature 3           -1.117587e+00\n",
      "generator stator temperature 4           -5.589396e+00\n",
      "Generator stator temperature 5            1.464846e+01\n",
      "generator stator temperature 6           -4.434704e+00\n",
      "generator air temperature 1               9.469582e+00\n",
      "generator air temperature 2              -1.126428e+01\n",
      "main bearing temperature 1               -3.271402e+01\n",
      "main bearing temperature 2                3.369649e+01\n",
      "Inverter INU temperature                  7.795148e+00\n",
      "Inverter ISU temperature                 -1.002824e+01\n",
      "Inverter INU RMIO temperature            -3.614690e+00\n",
      "Pitch motor 1 power estimation            1.730065e+00\n",
      "Pitch motor 2 power estimation           -2.728189e+00\n",
      "Pitch motor 3 power estimation            7.299061e-01\n",
      "Fan current status value                  1.808983e+00\n",
      "hub current status value                  1.042871e+00\n",
      "yaw state value                           7.611476e-01\n",
      "yaw request value                        -2.326369e-01\n",
      "blade 1 battery box temperature           1.079024e+00\n",
      "blade 2 battery box temperature          -9.096169e-01\n",
      "blade 3 battery box temperature           2.534226e-01\n",
      "blade 1 super capacitor voltage          -3.872878e+00\n",
      "blade 2 super capacitor voltage           4.680288e+00\n",
      "blade 3 super capacitor voltage           4.428080e+00\n",
      "drive 1 thyristor temperature            -6.294321e+00\n",
      "Drive 2 thyristor temperature             3.631570e+01\n",
      "Drive 3 thyristor temperature             3.759870e-01\n",
      "dtype: float64\n",
      "\n",
      "TRAIN\n",
      "Accuracy: 0.69\n",
      "F1: 0.6695095948827292\n",
      "TEST\n",
      "Accuracy: 0.5012685271731874\n",
      "F1: 0.32532514450867056\n",
      "*****\n",
      "rbf SVM\n",
      "\n",
      "TRAIN\n",
      "Accuracy: 0.55\n",
      "F1: 0.27184466019417475\n",
      "TEST\n",
      "Accuracy: 0.5221658432367472\n",
      "F1: 0.2767054067710965\n",
      "-------------------------\n",
      "std.csv\n",
      "linear SVM\n",
      "Fehler in der Ausführung\n",
      "var.csv\n",
      "linear SVM\n",
      "Fehler in der Ausführung\n"
     ]
    }
   ],
   "source": [
    "sample_size = 2500\r\n",
    "\r\n",
    "for f in features:\r\n",
    "    try:\r\n",
    "        print(f)\r\n",
    "        data = pd.read_csv(feature_path + f, index_col=0)\r\n",
    "        data = data.sample(sample_size, random_state=0)\r\n",
    "        data.drop(strong_drift, axis = 1, inplace=True)\r\n",
    "        labels = data['label']\r\n",
    "        data.drop(['area','label'], axis = 1, inplace=True)\r\n",
    "        X_train, X_test, y_train, y_test = train_test_split(data, labels, test_size=0.2, random_state=123)\r\n",
    "        test_data, test_label = prepare_data(feature_path_test, file_name=f, red_drift=False)\r\n",
    "        test_data.drop(strong_drift, axis = 1, inplace=True)\r\n",
    "\r\n",
    "        print(\"linear SVM\")\r\n",
    "        svm_l = prepare_ml(SVC(kernel='linear'), X_train, y_train)\r\n",
    "        print(calculateMagnitude(svm_l,X_train))\r\n",
    "        print(\"\")\r\n",
    "        print(\"TRAIN\")\r\n",
    "        y_pred_l_tr = svm_l.predict(X_test)\r\n",
    "        score_predict(y_test, y_pred_l_tr)\r\n",
    "        print(\"TEST\")\r\n",
    "        y_pred_l_te = svm_l.predict(test_data)\r\n",
    "        score_predict(test_label, y_pred_l_te)\r\n",
    "        print(\"*****\")\r\n",
    "        print(\"rbf SVM\")\r\n",
    "        svm_r = prepare_ml(SVC(kernel='rbf'), X_train, y_train)\r\n",
    "        print(\"\")\r\n",
    "        print(\"TRAIN\")\r\n",
    "        y_pred_r_tr = svm_r.predict(X_test)\r\n",
    "        score_predict(y_test, y_pred_r_tr)\r\n",
    "        print(\"TEST\")\r\n",
    "        y_pred_r_te = svm_r.predict(test_data)\r\n",
    "        score_predict(test_label, y_pred_r_te)\r\n",
    "        print(\"-----\"*5)\r\n",
    "    except:\r\n",
    "        print(\"Fehler in der Ausführung\")"
   ]
  },
  {
   "cell_type": "code",
   "execution_count": 11,
   "metadata": {},
   "outputs": [],
   "source": [
    "def classifyAfterMagnitudeEvaluation(data, labels, mag):\r\n",
    "    thresh = 1\r\n",
    "    #imp_cut = np.abs(mag.to_numpy()) > thresh\r\n",
    "    ind = np.squeeze(np.argwhere(np.abs(mag.to_numpy()) > thresh))\r\n",
    "    print(ind + 1)\r\n",
    "    clf = BaggingClassifier(base_estimator=SVC(kernel='linear'), n_estimators=10, random_state=0, n_jobs=-1)\r\n",
    "\r\n",
    "    #Train the model using the training sets\r\n",
    "    clf.fit(data.iloc[:,ind], labels)\r\n",
    "\r\n",
    "    #Predict the response for test dataset (here still part of training dataset to avoid concept drift)\r\n",
    "    y_pred = clf.predict(test_data.iloc[:,ind])\r\n",
    "\r\n",
    "    # Model Accuracy: how often is the classifier correct?\r\n",
    "    print(\"Accuracy:\",metrics.accuracy_score(test_label, y_pred))\r\n",
    "    print(\"F1:\",metrics.f1_score(test_label, y_pred))"
   ]
  },
  {
   "cell_type": "code",
   "execution_count": 12,
   "metadata": {},
   "outputs": [],
   "source": [
    "#classifyAfterMagnitudeEvaluation()"
   ]
  },
  {
   "cell_type": "code",
   "execution_count": 15,
   "metadata": {},
   "outputs": [],
   "source": [
    "from joblib import dump, load\r\n",
    "import os.path\r\n",
    "\r\n",
    "def save_model(model, name):\r\n",
    "    path = os.path.join(\"models\", name + \".model\")\r\n",
    "    dump(model, path)\r\n",
    "\r\n",
    "def load_model(path):\r\n",
    "    return load(path)"
   ]
  },
  {
   "cell_type": "markdown",
   "metadata": {},
   "source": [
    "## Vollständiger Datensatz\r\n",
    "\r\n",
    "Reduzierte Daten nach Data_Exploration_Importance_of_Features.ipynb"
   ]
  },
  {
   "cell_type": "code",
   "execution_count": null,
   "metadata": {},
   "outputs": [],
   "source": [
    "def prepare_svm(rd = True, k='linear'):\r\n",
    "    svc = SVC(kernel=k)\r\n",
    "    x, y = prepare_data(feature_path_red, red_drift = rd)\r\n",
    "    svc = prepare_ml(svc, x, y)\r\n",
    "\r\n",
    "    return svc"
   ]
  },
  {
   "cell_type": "code",
   "execution_count": 13,
   "metadata": {},
   "outputs": [],
   "source": [
    "from sklearn.neighbors import KNeighborsClassifier\r\n",
    "\r\n",
    "def prepare_knn(rd = True):\r\n",
    "    knn = KNeighborsClassifier()\r\n",
    "    x, y = prepare_data(feature_path_red, red_drift = rd)\r\n",
    "    knn = prepare_ml(knn, x, y)\r\n",
    "\r\n",
    "    return knn"
   ]
  },
  {
   "cell_type": "markdown",
   "metadata": {},
   "source": [
    "### Ohne Drift"
   ]
  },
  {
   "cell_type": "code",
   "execution_count": null,
   "metadata": {},
   "outputs": [],
   "source": [
    "x_test, y_test = prepare_data(feature_path_test_red)"
   ]
  },
  {
   "cell_type": "markdown",
   "metadata": {},
   "source": [
    "#### SVC"
   ]
  },
  {
   "cell_type": "code",
   "execution_count": null,
   "metadata": {},
   "outputs": [],
   "source": [
    "single_svc = prepare_svm()\r\n",
    "save_model(single_svc,\"SVC_reducedData\")"
   ]
  },
  {
   "cell_type": "code",
   "execution_count": 65,
   "metadata": {},
   "outputs": [
    {
     "name": "stdout",
     "output_type": "stream",
     "text": [
      "Accuracy: 0.5084123380958739\n",
      "F1: 0.3411185682326621\n"
     ]
    }
   ],
   "source": [
    "y_predict_red = single_svc.predict(x_test)\r\n",
    "score_predict(y_test,y_predict_red)"
   ]
  },
  {
   "cell_type": "markdown",
   "metadata": {},
   "source": [
    "#### KNN"
   ]
  },
  {
   "cell_type": "code",
   "execution_count": 66,
   "metadata": {},
   "outputs": [],
   "source": [
    "single_knn = prepare_knn()\r\n",
    "save_model(single_knn,\"KNN_reducedData\")"
   ]
  },
  {
   "cell_type": "code",
   "execution_count": 67,
   "metadata": {},
   "outputs": [
    {
     "name": "stdout",
     "output_type": "stream",
     "text": [
      "Accuracy: 0.5084123380958739\n",
      "F1: 0.3411185682326621\n"
     ]
    }
   ],
   "source": [
    "y_predict_red = single_svc.predict(x_test)\r\n",
    "score_predict(y_test,y_predict_red)"
   ]
  },
  {
   "cell_type": "markdown",
   "metadata": {},
   "source": [
    "### Erkenntnis\r\n",
    "\r\n",
    "Sowohl die SVM als auch der KNN raten nur das Ergebnis.\r\n",
    "Anscheinend sind die Daten aus den unterschiedlichen Standorten untereinander zu unterschiedlich um gemeinsame Parameter zu finden."
   ]
  },
  {
   "cell_type": "markdown",
   "metadata": {},
   "source": [
    "### Mit Drift"
   ]
  },
  {
   "cell_type": "code",
   "execution_count": 9,
   "metadata": {},
   "outputs": [],
   "source": [
    "x_test, y_test = prepare_data(feature_path_test_red, red_drift= False)"
   ]
  },
  {
   "cell_type": "markdown",
   "metadata": {},
   "source": [
    "#### SVC"
   ]
  },
  {
   "cell_type": "code",
   "execution_count": null,
   "metadata": {},
   "outputs": [],
   "source": [
    "single_svc_wd = prepare_svm(False)\r\n",
    "save_model(single_svc_wd, \"SVC_reducedData_withDrift\")"
   ]
  },
  {
   "cell_type": "code",
   "execution_count": 68,
   "metadata": {},
   "outputs": [
    {
     "name": "stdout",
     "output_type": "stream",
     "text": [
      "Accuracy: 0.5075443984510616\n",
      "F1: 0.4366025053467767\n"
     ]
    }
   ],
   "source": [
    "y_predict_red = single_svc_wd.predict(x_test)\r\n",
    "score_predict(y_test,y_predict_red)"
   ]
  },
  {
   "cell_type": "markdown",
   "metadata": {},
   "source": [
    "#### KNN"
   ]
  },
  {
   "cell_type": "code",
   "execution_count": 16,
   "metadata": {},
   "outputs": [],
   "source": [
    "single_knn = prepare_knn(False)\r\n",
    "save_model(single_knn,\"KNN_reducedData_withDrift\")"
   ]
  },
  {
   "cell_type": "code",
   "execution_count": 17,
   "metadata": {},
   "outputs": [
    {
     "name": "stdout",
     "output_type": "stream",
     "text": [
      "Accuracy: 0.5004673521164374\n",
      "F1: 0.4504186866460996\n"
     ]
    }
   ],
   "source": [
    "y_predict_red = single_knn.predict(x_test)\r\n",
    "score_predict(y_test,y_predict_red)"
   ]
  },
  {
   "cell_type": "markdown",
   "metadata": {},
   "source": [
    "## Conclusion"
   ]
  },
  {
   "cell_type": "markdown",
   "metadata": {},
   "source": [
    "Ohne eine Verarbeitung der Daten bezüglich des Drifts, können keien verlässlichen Modelle trainiert werden."
   ]
  }
 ],
 "metadata": {
  "kernelspec": {
   "display_name": "Python 3.8.8 64-bit ('praktikum': conda)",
   "name": "python388jvsc74a57bd06c4bc1d378807417c9b63a056eaae59d915bab65703b0399b0b08eff1f44b459"
  },
  "language_info": {
   "codemirror_mode": {
    "name": "ipython",
    "version": 3
   },
   "file_extension": ".py",
   "mimetype": "text/x-python",
   "name": "python",
   "nbconvert_exporter": "python",
   "pygments_lexer": "ipython3",
   "version": "3.8.8"
  },
  "orig_nbformat": 3
 },
 "nbformat": 4,
 "nbformat_minor": 0
}