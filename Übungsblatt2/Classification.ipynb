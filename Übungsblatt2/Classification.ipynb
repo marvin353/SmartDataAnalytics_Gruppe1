{
 "cells": [
  {
   "cell_type": "markdown",
   "source": [
    "# Classification: Klassische Methoden\n",
    "In diesem Notebook versuchen wir die Klassifizierung in \"Failure\"/\"No Failure\" mit klassischen machine learning Methoden durchzuführen."
   ],
   "metadata": {
    "collapsed": false
   }
  },
  {
   "cell_type": "code",
   "execution_count": 1,
   "outputs": [],
   "source": [
    "import pandas as pd\n",
    "import glob\n",
    "import numpy as np\n",
    "from sklearn.model_selection import train_test_split\n",
    "from sklearn.svm import SVC\n",
    "from sklearn.ensemble import BaggingClassifier\n",
    "from sklearn.tree import DecisionTreeClassifier\n",
    "from sklearn.linear_model import LogisticRegression\n",
    "from sklearn.dummy import DummyClassifier\n",
    "from sklearn.ensemble import RandomForestClassifier, AdaBoostClassifier\n",
    "from sklearn.naive_bayes import ComplementNB\n",
    "from sklearn import svm\n",
    "from sklearn import metrics\n",
    "import Preprocessing as pp\n",
    "import Helpers\n",
    "\n",
    "path_data = '/Users/marvinwoller/Desktop/SmartDataAnalytics/Blatt2/data/'\n",
    "\n",
    "rootdir_train = path_data + 'train/'\n",
    "rootdir_test = path_data + 'test/'\n",
    "\n",
    "train_labels_path = path_data + 'train_label.csv'\n",
    "test_labels_path = path_data + 'test_label.csv'\n",
    "\n",
    "feature_path = path_data + 'features/'\n",
    "feature_path_test = path_data + 'features_test/'\n",
    "\n",
    "# Merge labels and data\n",
    "train_labels = pd.read_csv(train_labels_path, index_col=0) #Don't use index numbers per row but CSV file name as index"
   ],
   "metadata": {
    "collapsed": false,
    "pycharm": {
     "name": "#%%\n"
    }
   }
  },
  {
   "cell_type": "code",
   "execution_count": 11,
   "outputs": [],
   "source": [
    "# Read feature data (train)\n",
    "df = pd.read_csv(feature_path + 'median' + '.csv', index_col=0)"
   ],
   "metadata": {
    "collapsed": false,
    "pycharm": {
     "name": "#%%\n"
    }
   }
  },
  {
   "cell_type": "code",
   "execution_count": 3,
   "outputs": [
    {
     "name": "stdout",
     "output_type": "stream",
     "text": [
      "<class 'pandas.core.frame.DataFrame'>\n",
      "Int64Index: 33360 entries, 0 to 33359\n",
      "Data columns (total 22 columns):\n",
      "Wheel speed                               33360 non-null float64\n",
      "hub angle                                 33360 non-null float64\n",
      "blade 1 angle                             33360 non-null float64\n",
      "blade 2 angle                             33360 non-null float64\n",
      "blade 3 angle                             33360 non-null float64\n",
      "overspeed sensor speed detection value    33360 non-null float64\n",
      "5 second yaw against wind average         33360 non-null float64\n",
      "Aircraft weather station wind speed       33360 non-null float64\n",
      "wind direction absolute value             33360 non-null float64\n",
      "atmospheric pressure                      33360 non-null float64\n",
      "reactive power control status             33360 non-null float64\n",
      "inverter grid side voltage                33360 non-null float64\n",
      "inverter grid side reactive power         33360 non-null float64\n",
      "generator torque                          33360 non-null float64\n",
      "generator power limit value               33360 non-null float64\n",
      "reactive power set value                  33360 non-null float64\n",
      "Rated hub speed                           33360 non-null float64\n",
      "Inverter INU RMIO temperature             33360 non-null float64\n",
      "Fan current status value                  33360 non-null float64\n",
      "hub current status value                  33360 non-null float64\n",
      "yaw state value                           33360 non-null float64\n",
      "yaw request value                         33360 non-null float64\n",
      "dtypes: float64(22)\n",
      "memory usage: 5.9 MB\n"
     ]
    }
   ],
   "source": [
    "# Preprocessing (train)\n",
    "# Select Features\n",
    "df = pp.drop_columns_with_drift(df, intensity='light')\n",
    "df.info()\n",
    "\n",
    "# Remove Outliers\n",
    "df = pp.remove_outliers(df)\n",
    "\n",
    "df_random = df.sample(n=3000, random_state=123) # Select random sample because dataset is too large for some classifiers\n",
    "\n",
    "# Get lables from dataframe\n",
    "labels = df['label']\n",
    "labels_random = df_random['label']\n",
    "df.drop(['area','label'], axis = 1, inplace=True)\n",
    "df_random.drop(['area','label'], axis = 1, inplace=True)\n",
    "\n",
    "# Scaling\n",
    "df = pp. perform_scaling(df)\n",
    "df_random = pp.perform_scaling(df_random)"
   ],
   "metadata": {
    "collapsed": false,
    "pycharm": {
     "name": "#%%\n"
    }
   }
  },
  {
   "cell_type": "code",
   "execution_count": 16,
   "outputs": [
    {
     "name": "stdout",
     "output_type": "stream",
     "text": [
      "<class 'pandas.core.frame.DataFrame'>\n",
      "Int64Index: 16286 entries, 0 to 16285\n",
      "Data columns (total 74 columns):\n",
      "Wheel speed                               16286 non-null float64\n",
      "hub angle                                 16286 non-null float64\n",
      "blade 1 angle                             16286 non-null float64\n",
      "blade 2 angle                             16286 non-null float64\n",
      "blade 3 angle                             16286 non-null float64\n",
      "pitch motor 1 current                     16286 non-null float64\n",
      "pitch motor 2 current                     16286 non-null float64\n",
      "Pitch motor 3 current                     16286 non-null float64\n",
      "overspeed sensor speed detection value    16286 non-null float64\n",
      "5 second yaw against wind average         16286 non-null float64\n",
      "x direction vibration value               16286 non-null float64\n",
      "y direction vibration value               16286 non-null float64\n",
      "hydraulic brake pressure                  16286 non-null float64\n",
      "Aircraft weather station wind speed       16286 non-null float64\n",
      "wind direction absolute value             16286 non-null float64\n",
      "atmospheric pressure                      16286 non-null float64\n",
      "reactive power control status             16286 non-null float64\n",
      "inverter grid side current                16286 non-null float64\n",
      "inverter grid side voltage                16286 non-null float64\n",
      "Inverter grid side active power           16286 non-null float64\n",
      "inverter grid side reactive power         16286 non-null float64\n",
      "inverter generator side power             16286 non-null float64\n",
      "generator operating frequency             16286 non-null float64\n",
      "generator current                         16286 non-null float64\n",
      "generator torque                          16286 non-null float64\n",
      "Inverter inlet temperature                16286 non-null float64\n",
      "inverter outlet temperature               16286 non-null float64\n",
      "inverter inlet pressure                   16286 non-null float64\n",
      "inverter outlet pressure                  16286 non-null float64\n",
      "generator power limit value               16286 non-null float64\n",
      "reactive power set value                  16286 non-null float64\n",
      "Rated hub speed                           16286 non-null float64\n",
      "wind tower ambient temperature            16286 non-null float64\n",
      "generator stator temperature 1            16286 non-null float64\n",
      "generator stator temperature 2            16286 non-null float64\n",
      "generator stator temperature 3            16286 non-null float64\n",
      "generator stator temperature 4            16286 non-null float64\n",
      "Generator stator temperature 5            16286 non-null float64\n",
      "generator stator temperature 6            16286 non-null float64\n",
      "generator air temperature 1               16286 non-null float64\n",
      "generator air temperature 2               16286 non-null float64\n",
      "main bearing temperature 1                16286 non-null float64\n",
      "main bearing temperature 2                16286 non-null float64\n",
      "Wheel temperature                         16286 non-null float64\n",
      "Wheel control cabinet temperature         16286 non-null float64\n",
      "Cabin temperature                         16286 non-null float64\n",
      "Cabin control cabinet temperature         16286 non-null float64\n",
      "Inverter INU temperature                  16286 non-null float64\n",
      "Inverter ISU temperature                  16286 non-null float64\n",
      "Inverter INU RMIO temperature             16286 non-null float64\n",
      "Pitch motor 1 power estimation            16286 non-null float64\n",
      "Pitch motor 2 power estimation            16286 non-null float64\n",
      "Pitch motor 3 power estimation            16286 non-null float64\n",
      "Fan current status value                  16286 non-null float64\n",
      "hub current status value                  16286 non-null float64\n",
      "yaw state value                           16286 non-null float64\n",
      "yaw request value                         16286 non-null float64\n",
      "blade 1 battery box temperature           16286 non-null float64\n",
      "blade 2 battery box temperature           16286 non-null float64\n",
      "blade 3 battery box temperature           16286 non-null float64\n",
      "vane 1 pitch motor temperature            16286 non-null float64\n",
      "blade 2 pitch motor temperature           16286 non-null float64\n",
      "blade 3 pitch motor temperature           16286 non-null float64\n",
      "blade 1 inverter box temperature          16286 non-null float64\n",
      "blade 2 inverter box temperature          16286 non-null float64\n",
      "blade 3 inverter box temperature          16286 non-null float64\n",
      "blade 1 super capacitor voltage           16286 non-null float64\n",
      "blade 2 super capacitor voltage           16286 non-null float64\n",
      "blade 3 super capacitor voltage           16286 non-null float64\n",
      "drive 1 thyristor temperature             16286 non-null float64\n",
      "Drive 2 thyristor temperature             16286 non-null float64\n",
      "Drive 3 thyristor temperature             16286 non-null float64\n",
      "area                                      16286 non-null int64\n",
      "label                                     14978 non-null float64\n",
      "dtypes: float64(73), int64(1)\n",
      "memory usage: 9.3 MB\n",
      "None\n",
      "<class 'pandas.core.frame.DataFrame'>\n",
      "Int64Index: 16286 entries, 0 to 16285\n",
      "Data columns (total 24 columns):\n",
      "Wheel speed                               16286 non-null float64\n",
      "hub angle                                 16286 non-null float64\n",
      "blade 1 angle                             16286 non-null float64\n",
      "blade 2 angle                             16286 non-null float64\n",
      "blade 3 angle                             16286 non-null float64\n",
      "overspeed sensor speed detection value    16286 non-null float64\n",
      "5 second yaw against wind average         16286 non-null float64\n",
      "Aircraft weather station wind speed       16286 non-null float64\n",
      "wind direction absolute value             16286 non-null float64\n",
      "atmospheric pressure                      16286 non-null float64\n",
      "reactive power control status             16286 non-null float64\n",
      "inverter grid side voltage                16286 non-null float64\n",
      "inverter grid side reactive power         16286 non-null float64\n",
      "generator torque                          16286 non-null float64\n",
      "generator power limit value               16286 non-null float64\n",
      "reactive power set value                  16286 non-null float64\n",
      "Rated hub speed                           16286 non-null float64\n",
      "Inverter INU RMIO temperature             16286 non-null float64\n",
      "Fan current status value                  16286 non-null float64\n",
      "hub current status value                  16286 non-null float64\n",
      "yaw state value                           16286 non-null float64\n",
      "yaw request value                         16286 non-null float64\n",
      "area                                      16286 non-null int64\n",
      "label                                     14978 non-null float64\n",
      "dtypes: float64(23), int64(1)\n",
      "memory usage: 3.1 MB\n",
      "None\n",
      "<class 'pandas.core.frame.DataFrame'>\n",
      "Int64Index: 0 entries\n",
      "Data columns (total 24 columns):\n",
      "Wheel speed                               0 non-null float64\n",
      "hub angle                                 0 non-null float64\n",
      "blade 1 angle                             0 non-null float64\n",
      "blade 2 angle                             0 non-null float64\n",
      "blade 3 angle                             0 non-null float64\n",
      "overspeed sensor speed detection value    0 non-null float64\n",
      "5 second yaw against wind average         0 non-null float64\n",
      "Aircraft weather station wind speed       0 non-null float64\n",
      "wind direction absolute value             0 non-null float64\n",
      "atmospheric pressure                      0 non-null float64\n",
      "reactive power control status             0 non-null float64\n",
      "inverter grid side voltage                0 non-null float64\n",
      "inverter grid side reactive power         0 non-null float64\n",
      "generator torque                          0 non-null float64\n",
      "generator power limit value               0 non-null float64\n",
      "reactive power set value                  0 non-null float64\n",
      "Rated hub speed                           0 non-null float64\n",
      "Inverter INU RMIO temperature             0 non-null float64\n",
      "Fan current status value                  0 non-null float64\n",
      "hub current status value                  0 non-null float64\n",
      "yaw state value                           0 non-null float64\n",
      "yaw request value                         0 non-null float64\n",
      "area                                      0 non-null int64\n",
      "label                                     0 non-null float64\n",
      "dtypes: float64(23), int64(1)\n",
      "memory usage: 0.0 bytes\n",
      "None\n"
     ]
    },
    {
     "name": "stderr",
     "output_type": "stream",
     "text": [
      "/Users/marvinwoller/Desktop/SmartDataAnalytics_Gruppe1/Übungsblatt2/Preprocessing.py:27: RuntimeWarning: invalid value encountered in less\n",
      "  df_local = df_local[(z < 3).all(axis=1)]\n"
     ]
    },
    {
     "ename": "ValueError",
     "evalue": "Found array with 0 sample(s) (shape=(0, 22)) while a minimum of 1 is required by MinMaxScaler.",
     "output_type": "error",
     "traceback": [
      "\u001B[0;31m---------------------------------------------------------------------------\u001B[0m",
      "\u001B[0;31mValueError\u001B[0m                                Traceback (most recent call last)",
      "\u001B[0;32m<ipython-input-16-47a1c5c70a4c>\u001B[0m in \u001B[0;36m<module>\u001B[0;34m\u001B[0m\n\u001B[1;32m      8\u001B[0m \u001B[0mlabels\u001B[0m \u001B[0;34m=\u001B[0m \u001B[0mdf_test\u001B[0m\u001B[0;34m[\u001B[0m\u001B[0;34m'label'\u001B[0m\u001B[0;34m]\u001B[0m\u001B[0;34m\u001B[0m\u001B[0;34m\u001B[0m\u001B[0m\n\u001B[1;32m      9\u001B[0m \u001B[0mdf_test\u001B[0m\u001B[0;34m.\u001B[0m\u001B[0mdrop\u001B[0m\u001B[0;34m(\u001B[0m\u001B[0;34m[\u001B[0m\u001B[0;34m'area'\u001B[0m\u001B[0;34m,\u001B[0m\u001B[0;34m'label'\u001B[0m\u001B[0;34m]\u001B[0m\u001B[0;34m,\u001B[0m \u001B[0maxis\u001B[0m \u001B[0;34m=\u001B[0m \u001B[0;36m1\u001B[0m\u001B[0;34m,\u001B[0m \u001B[0minplace\u001B[0m\u001B[0;34m=\u001B[0m\u001B[0;32mTrue\u001B[0m\u001B[0;34m)\u001B[0m\u001B[0;34m\u001B[0m\u001B[0;34m\u001B[0m\u001B[0m\n\u001B[0;32m---> 10\u001B[0;31m \u001B[0mdf_test\u001B[0m \u001B[0;34m=\u001B[0m \u001B[0mpp\u001B[0m\u001B[0;34m.\u001B[0m\u001B[0mperform_scaling\u001B[0m\u001B[0;34m(\u001B[0m\u001B[0mdf_test\u001B[0m\u001B[0;34m)\u001B[0m\u001B[0;34m\u001B[0m\u001B[0;34m\u001B[0m\u001B[0m\n\u001B[0m\u001B[1;32m     11\u001B[0m \u001B[0;34m\u001B[0m\u001B[0m\n",
      "\u001B[0;32m~/Desktop/SmartDataAnalytics_Gruppe1/Übungsblatt2/Preprocessing.py\u001B[0m in \u001B[0;36mperform_scaling\u001B[0;34m(df_local)\u001B[0m\n\u001B[1;32m     31\u001B[0m \u001B[0mscaler\u001B[0m \u001B[0;34m=\u001B[0m \u001B[0mMinMaxScaler\u001B[0m\u001B[0;34m(\u001B[0m\u001B[0;34m)\u001B[0m\u001B[0;34m\u001B[0m\u001B[0;34m\u001B[0m\u001B[0m\n\u001B[1;32m     32\u001B[0m \u001B[0;32mdef\u001B[0m \u001B[0mperform_scaling\u001B[0m\u001B[0;34m(\u001B[0m\u001B[0mdf_local\u001B[0m\u001B[0;34m)\u001B[0m\u001B[0;34m:\u001B[0m\u001B[0;34m\u001B[0m\u001B[0;34m\u001B[0m\u001B[0m\n\u001B[0;32m---> 33\u001B[0;31m     \u001B[0mdf_local\u001B[0m\u001B[0;34m[\u001B[0m\u001B[0mdf_local\u001B[0m\u001B[0;34m.\u001B[0m\u001B[0mcolumns\u001B[0m\u001B[0;34m]\u001B[0m \u001B[0;34m=\u001B[0m \u001B[0mscaler\u001B[0m\u001B[0;34m.\u001B[0m\u001B[0mfit_transform\u001B[0m\u001B[0;34m(\u001B[0m\u001B[0mdf_local\u001B[0m\u001B[0;34m[\u001B[0m\u001B[0mdf_local\u001B[0m\u001B[0;34m.\u001B[0m\u001B[0mcolumns\u001B[0m\u001B[0;34m]\u001B[0m\u001B[0;34m)\u001B[0m\u001B[0;34m\u001B[0m\u001B[0;34m\u001B[0m\u001B[0m\n\u001B[0m\u001B[1;32m     34\u001B[0m     \u001B[0;32mreturn\u001B[0m \u001B[0mdf_local\u001B[0m\u001B[0;34m\u001B[0m\u001B[0;34m\u001B[0m\u001B[0m\n\u001B[1;32m     35\u001B[0m \u001B[0;34m\u001B[0m\u001B[0m\n",
      "\u001B[0;32m~/anaconda3/lib/python3.7/site-packages/sklearn/base.py\u001B[0m in \u001B[0;36mfit_transform\u001B[0;34m(self, X, y, **fit_params)\u001B[0m\n\u001B[1;32m    551\u001B[0m         \u001B[0;32mif\u001B[0m \u001B[0my\u001B[0m \u001B[0;32mis\u001B[0m \u001B[0;32mNone\u001B[0m\u001B[0;34m:\u001B[0m\u001B[0;34m\u001B[0m\u001B[0;34m\u001B[0m\u001B[0m\n\u001B[1;32m    552\u001B[0m             \u001B[0;31m# fit method of arity 1 (unsupervised transformation)\u001B[0m\u001B[0;34m\u001B[0m\u001B[0;34m\u001B[0m\u001B[0;34m\u001B[0m\u001B[0m\n\u001B[0;32m--> 553\u001B[0;31m             \u001B[0;32mreturn\u001B[0m \u001B[0mself\u001B[0m\u001B[0;34m.\u001B[0m\u001B[0mfit\u001B[0m\u001B[0;34m(\u001B[0m\u001B[0mX\u001B[0m\u001B[0;34m,\u001B[0m \u001B[0;34m**\u001B[0m\u001B[0mfit_params\u001B[0m\u001B[0;34m)\u001B[0m\u001B[0;34m.\u001B[0m\u001B[0mtransform\u001B[0m\u001B[0;34m(\u001B[0m\u001B[0mX\u001B[0m\u001B[0;34m)\u001B[0m\u001B[0;34m\u001B[0m\u001B[0;34m\u001B[0m\u001B[0m\n\u001B[0m\u001B[1;32m    554\u001B[0m         \u001B[0;32melse\u001B[0m\u001B[0;34m:\u001B[0m\u001B[0;34m\u001B[0m\u001B[0;34m\u001B[0m\u001B[0m\n\u001B[1;32m    555\u001B[0m             \u001B[0;31m# fit method of arity 2 (supervised transformation)\u001B[0m\u001B[0;34m\u001B[0m\u001B[0;34m\u001B[0m\u001B[0;34m\u001B[0m\u001B[0m\n",
      "\u001B[0;32m~/anaconda3/lib/python3.7/site-packages/sklearn/preprocessing/data.py\u001B[0m in \u001B[0;36mfit\u001B[0;34m(self, X, y)\u001B[0m\n\u001B[1;32m    323\u001B[0m         \u001B[0;31m# Reset internal state before fitting\u001B[0m\u001B[0;34m\u001B[0m\u001B[0;34m\u001B[0m\u001B[0;34m\u001B[0m\u001B[0m\n\u001B[1;32m    324\u001B[0m         \u001B[0mself\u001B[0m\u001B[0;34m.\u001B[0m\u001B[0m_reset\u001B[0m\u001B[0;34m(\u001B[0m\u001B[0;34m)\u001B[0m\u001B[0;34m\u001B[0m\u001B[0;34m\u001B[0m\u001B[0m\n\u001B[0;32m--> 325\u001B[0;31m         \u001B[0;32mreturn\u001B[0m \u001B[0mself\u001B[0m\u001B[0;34m.\u001B[0m\u001B[0mpartial_fit\u001B[0m\u001B[0;34m(\u001B[0m\u001B[0mX\u001B[0m\u001B[0;34m,\u001B[0m \u001B[0my\u001B[0m\u001B[0;34m)\u001B[0m\u001B[0;34m\u001B[0m\u001B[0;34m\u001B[0m\u001B[0m\n\u001B[0m\u001B[1;32m    326\u001B[0m \u001B[0;34m\u001B[0m\u001B[0m\n\u001B[1;32m    327\u001B[0m     \u001B[0;32mdef\u001B[0m \u001B[0mpartial_fit\u001B[0m\u001B[0;34m(\u001B[0m\u001B[0mself\u001B[0m\u001B[0;34m,\u001B[0m \u001B[0mX\u001B[0m\u001B[0;34m,\u001B[0m \u001B[0my\u001B[0m\u001B[0;34m=\u001B[0m\u001B[0;32mNone\u001B[0m\u001B[0;34m)\u001B[0m\u001B[0;34m:\u001B[0m\u001B[0;34m\u001B[0m\u001B[0;34m\u001B[0m\u001B[0m\n",
      "\u001B[0;32m~/anaconda3/lib/python3.7/site-packages/sklearn/preprocessing/data.py\u001B[0m in \u001B[0;36mpartial_fit\u001B[0;34m(self, X, y)\u001B[0m\n\u001B[1;32m    351\u001B[0m         X = check_array(X, copy=self.copy,\n\u001B[1;32m    352\u001B[0m                         \u001B[0mestimator\u001B[0m\u001B[0;34m=\u001B[0m\u001B[0mself\u001B[0m\u001B[0;34m,\u001B[0m \u001B[0mdtype\u001B[0m\u001B[0;34m=\u001B[0m\u001B[0mFLOAT_DTYPES\u001B[0m\u001B[0;34m,\u001B[0m\u001B[0;34m\u001B[0m\u001B[0;34m\u001B[0m\u001B[0m\n\u001B[0;32m--> 353\u001B[0;31m                         force_all_finite=\"allow-nan\")\n\u001B[0m\u001B[1;32m    354\u001B[0m \u001B[0;34m\u001B[0m\u001B[0m\n\u001B[1;32m    355\u001B[0m         \u001B[0mdata_min\u001B[0m \u001B[0;34m=\u001B[0m \u001B[0mnp\u001B[0m\u001B[0;34m.\u001B[0m\u001B[0mnanmin\u001B[0m\u001B[0;34m(\u001B[0m\u001B[0mX\u001B[0m\u001B[0;34m,\u001B[0m \u001B[0maxis\u001B[0m\u001B[0;34m=\u001B[0m\u001B[0;36m0\u001B[0m\u001B[0;34m)\u001B[0m\u001B[0;34m\u001B[0m\u001B[0;34m\u001B[0m\u001B[0m\n",
      "\u001B[0;32m~/anaconda3/lib/python3.7/site-packages/sklearn/utils/validation.py\u001B[0m in \u001B[0;36mcheck_array\u001B[0;34m(array, accept_sparse, accept_large_sparse, dtype, order, copy, force_all_finite, ensure_2d, allow_nd, ensure_min_samples, ensure_min_features, warn_on_dtype, estimator)\u001B[0m\n\u001B[1;32m    548\u001B[0m                              \u001B[0;34m\" minimum of %d is required%s.\"\u001B[0m\u001B[0;34m\u001B[0m\u001B[0;34m\u001B[0m\u001B[0m\n\u001B[1;32m    549\u001B[0m                              % (n_samples, array.shape, ensure_min_samples,\n\u001B[0;32m--> 550\u001B[0;31m                                 context))\n\u001B[0m\u001B[1;32m    551\u001B[0m \u001B[0;34m\u001B[0m\u001B[0m\n\u001B[1;32m    552\u001B[0m     \u001B[0;32mif\u001B[0m \u001B[0mensure_min_features\u001B[0m \u001B[0;34m>\u001B[0m \u001B[0;36m0\u001B[0m \u001B[0;32mand\u001B[0m \u001B[0marray\u001B[0m\u001B[0;34m.\u001B[0m\u001B[0mndim\u001B[0m \u001B[0;34m==\u001B[0m \u001B[0;36m2\u001B[0m\u001B[0;34m:\u001B[0m\u001B[0;34m\u001B[0m\u001B[0;34m\u001B[0m\u001B[0m\n",
      "\u001B[0;31mValueError\u001B[0m: Found array with 0 sample(s) (shape=(0, 22)) while a minimum of 1 is required by MinMaxScaler."
     ]
    }
   ],
   "source": [
    "# Read and preprocess test feature data\n",
    "df_test = pd.read_csv(feature_path_test + 'median' + '.csv', index_col=0)\n",
    "print(df_test.info())\n",
    "df_test = pp.drop_columns_with_drift(df_test, intensity='light')\n",
    "print(df_test.info())\n",
    "df_test = pp.remove_outliers(df_test)\n",
    "print(df_test.info())\n",
    "labels = df_test['label']\n",
    "df_test.drop(['area','label'], axis = 1, inplace=True)\n",
    "df_test = pp.perform_scaling(df_test)"
   ],
   "metadata": {
    "collapsed": false,
    "pycharm": {
     "name": "#%%\n"
    }
   }
  },
  {
   "cell_type": "code",
   "execution_count": 6,
   "metadata": {
    "collapsed": true
   },
   "outputs": [],
   "source": [
    "# ################################## Classificaton with basic methods ###############################\n",
    "# Classification: SVM \n",
    "X_train, X_test, y_train, y_test = train_test_split(df[0:5000], labels[0:5000], test_size=0.2, random_state=123)"
   ]
  },
  {
   "cell_type": "code",
   "execution_count": 7,
   "outputs": [
    {
     "ename": "KeyboardInterrupt",
     "evalue": "",
     "output_type": "error",
     "traceback": [
      "\u001B[0;31m---------------------------------------------------------------------------\u001B[0m",
      "\u001B[0;31mKeyboardInterrupt\u001B[0m                         Traceback (most recent call last)",
      "\u001B[0;32m<ipython-input-7-cbb43fa58681>\u001B[0m in \u001B[0;36m<module>\u001B[0;34m\u001B[0m\n\u001B[1;32m      4\u001B[0m \u001B[0;34m\u001B[0m\u001B[0m\n\u001B[1;32m      5\u001B[0m \u001B[0;31m#Train the model using the training sets\u001B[0m\u001B[0;34m\u001B[0m\u001B[0;34m\u001B[0m\u001B[0;34m\u001B[0m\u001B[0m\n\u001B[0;32m----> 6\u001B[0;31m \u001B[0mclf\u001B[0m\u001B[0;34m.\u001B[0m\u001B[0mfit\u001B[0m\u001B[0;34m(\u001B[0m\u001B[0mX_train\u001B[0m\u001B[0;34m,\u001B[0m \u001B[0my_train\u001B[0m\u001B[0;34m)\u001B[0m\u001B[0;34m\u001B[0m\u001B[0;34m\u001B[0m\u001B[0m\n\u001B[0m\u001B[1;32m      7\u001B[0m \u001B[0;34m\u001B[0m\u001B[0m\n\u001B[1;32m      8\u001B[0m \u001B[0;31m#Predict the response for test dataset (here still part of training dataset to avoid concept drift)\u001B[0m\u001B[0;34m\u001B[0m\u001B[0;34m\u001B[0m\u001B[0;34m\u001B[0m\u001B[0m\n",
      "\u001B[0;32m~/anaconda3/lib/python3.7/site-packages/sklearn/ensemble/bagging.py\u001B[0m in \u001B[0;36mfit\u001B[0;34m(self, X, y, sample_weight)\u001B[0m\n\u001B[1;32m    239\u001B[0m         \u001B[0mself\u001B[0m \u001B[0;34m:\u001B[0m \u001B[0mobject\u001B[0m\u001B[0;34m\u001B[0m\u001B[0;34m\u001B[0m\u001B[0m\n\u001B[1;32m    240\u001B[0m         \"\"\"\n\u001B[0;32m--> 241\u001B[0;31m         \u001B[0;32mreturn\u001B[0m \u001B[0mself\u001B[0m\u001B[0;34m.\u001B[0m\u001B[0m_fit\u001B[0m\u001B[0;34m(\u001B[0m\u001B[0mX\u001B[0m\u001B[0;34m,\u001B[0m \u001B[0my\u001B[0m\u001B[0;34m,\u001B[0m \u001B[0mself\u001B[0m\u001B[0;34m.\u001B[0m\u001B[0mmax_samples\u001B[0m\u001B[0;34m,\u001B[0m \u001B[0msample_weight\u001B[0m\u001B[0;34m=\u001B[0m\u001B[0msample_weight\u001B[0m\u001B[0;34m)\u001B[0m\u001B[0;34m\u001B[0m\u001B[0;34m\u001B[0m\u001B[0m\n\u001B[0m\u001B[1;32m    242\u001B[0m \u001B[0;34m\u001B[0m\u001B[0m\n\u001B[1;32m    243\u001B[0m     \u001B[0;32mdef\u001B[0m \u001B[0m_parallel_args\u001B[0m\u001B[0;34m(\u001B[0m\u001B[0mself\u001B[0m\u001B[0;34m)\u001B[0m\u001B[0;34m:\u001B[0m\u001B[0;34m\u001B[0m\u001B[0;34m\u001B[0m\u001B[0m\n",
      "\u001B[0;32m~/anaconda3/lib/python3.7/site-packages/sklearn/ensemble/bagging.py\u001B[0m in \u001B[0;36m_fit\u001B[0;34m(self, X, y, max_samples, max_depth, sample_weight)\u001B[0m\n\u001B[1;32m    377\u001B[0m                 \u001B[0mtotal_n_estimators\u001B[0m\u001B[0;34m,\u001B[0m\u001B[0;34m\u001B[0m\u001B[0;34m\u001B[0m\u001B[0m\n\u001B[1;32m    378\u001B[0m                 verbose=self.verbose)\n\u001B[0;32m--> 379\u001B[0;31m             for i in range(n_jobs))\n\u001B[0m\u001B[1;32m    380\u001B[0m \u001B[0;34m\u001B[0m\u001B[0m\n\u001B[1;32m    381\u001B[0m         \u001B[0;31m# Reduce\u001B[0m\u001B[0;34m\u001B[0m\u001B[0;34m\u001B[0m\u001B[0;34m\u001B[0m\u001B[0m\n",
      "\u001B[0;32m~/anaconda3/lib/python3.7/site-packages/joblib/parallel.py\u001B[0m in \u001B[0;36m__call__\u001B[0;34m(self, iterable)\u001B[0m\n\u001B[1;32m    932\u001B[0m \u001B[0;34m\u001B[0m\u001B[0m\n\u001B[1;32m    933\u001B[0m             \u001B[0;32mwith\u001B[0m \u001B[0mself\u001B[0m\u001B[0;34m.\u001B[0m\u001B[0m_backend\u001B[0m\u001B[0;34m.\u001B[0m\u001B[0mretrieval_context\u001B[0m\u001B[0;34m(\u001B[0m\u001B[0;34m)\u001B[0m\u001B[0;34m:\u001B[0m\u001B[0;34m\u001B[0m\u001B[0;34m\u001B[0m\u001B[0m\n\u001B[0;32m--> 934\u001B[0;31m                 \u001B[0mself\u001B[0m\u001B[0;34m.\u001B[0m\u001B[0mretrieve\u001B[0m\u001B[0;34m(\u001B[0m\u001B[0;34m)\u001B[0m\u001B[0;34m\u001B[0m\u001B[0;34m\u001B[0m\u001B[0m\n\u001B[0m\u001B[1;32m    935\u001B[0m             \u001B[0;31m# Make sure that we get a last message telling us we are done\u001B[0m\u001B[0;34m\u001B[0m\u001B[0;34m\u001B[0m\u001B[0;34m\u001B[0m\u001B[0m\n\u001B[1;32m    936\u001B[0m             \u001B[0melapsed_time\u001B[0m \u001B[0;34m=\u001B[0m \u001B[0mtime\u001B[0m\u001B[0;34m.\u001B[0m\u001B[0mtime\u001B[0m\u001B[0;34m(\u001B[0m\u001B[0;34m)\u001B[0m \u001B[0;34m-\u001B[0m \u001B[0mself\u001B[0m\u001B[0;34m.\u001B[0m\u001B[0m_start_time\u001B[0m\u001B[0;34m\u001B[0m\u001B[0;34m\u001B[0m\u001B[0m\n",
      "\u001B[0;32m~/anaconda3/lib/python3.7/site-packages/joblib/parallel.py\u001B[0m in \u001B[0;36mretrieve\u001B[0;34m(self)\u001B[0m\n\u001B[1;32m    831\u001B[0m             \u001B[0;32mtry\u001B[0m\u001B[0;34m:\u001B[0m\u001B[0;34m\u001B[0m\u001B[0;34m\u001B[0m\u001B[0m\n\u001B[1;32m    832\u001B[0m                 \u001B[0;32mif\u001B[0m \u001B[0mgetattr\u001B[0m\u001B[0;34m(\u001B[0m\u001B[0mself\u001B[0m\u001B[0;34m.\u001B[0m\u001B[0m_backend\u001B[0m\u001B[0;34m,\u001B[0m \u001B[0;34m'supports_timeout'\u001B[0m\u001B[0;34m,\u001B[0m \u001B[0;32mFalse\u001B[0m\u001B[0;34m)\u001B[0m\u001B[0;34m:\u001B[0m\u001B[0;34m\u001B[0m\u001B[0;34m\u001B[0m\u001B[0m\n\u001B[0;32m--> 833\u001B[0;31m                     \u001B[0mself\u001B[0m\u001B[0;34m.\u001B[0m\u001B[0m_output\u001B[0m\u001B[0;34m.\u001B[0m\u001B[0mextend\u001B[0m\u001B[0;34m(\u001B[0m\u001B[0mjob\u001B[0m\u001B[0;34m.\u001B[0m\u001B[0mget\u001B[0m\u001B[0;34m(\u001B[0m\u001B[0mtimeout\u001B[0m\u001B[0;34m=\u001B[0m\u001B[0mself\u001B[0m\u001B[0;34m.\u001B[0m\u001B[0mtimeout\u001B[0m\u001B[0;34m)\u001B[0m\u001B[0;34m)\u001B[0m\u001B[0;34m\u001B[0m\u001B[0;34m\u001B[0m\u001B[0m\n\u001B[0m\u001B[1;32m    834\u001B[0m                 \u001B[0;32melse\u001B[0m\u001B[0;34m:\u001B[0m\u001B[0;34m\u001B[0m\u001B[0;34m\u001B[0m\u001B[0m\n\u001B[1;32m    835\u001B[0m                     \u001B[0mself\u001B[0m\u001B[0;34m.\u001B[0m\u001B[0m_output\u001B[0m\u001B[0;34m.\u001B[0m\u001B[0mextend\u001B[0m\u001B[0;34m(\u001B[0m\u001B[0mjob\u001B[0m\u001B[0;34m.\u001B[0m\u001B[0mget\u001B[0m\u001B[0;34m(\u001B[0m\u001B[0;34m)\u001B[0m\u001B[0;34m)\u001B[0m\u001B[0;34m\u001B[0m\u001B[0;34m\u001B[0m\u001B[0m\n",
      "\u001B[0;32m~/anaconda3/lib/python3.7/site-packages/joblib/_parallel_backends.py\u001B[0m in \u001B[0;36mwrap_future_result\u001B[0;34m(future, timeout)\u001B[0m\n\u001B[1;32m    519\u001B[0m         AsyncResults.get from multiprocessing.\"\"\"\n\u001B[1;32m    520\u001B[0m         \u001B[0;32mtry\u001B[0m\u001B[0;34m:\u001B[0m\u001B[0;34m\u001B[0m\u001B[0;34m\u001B[0m\u001B[0m\n\u001B[0;32m--> 521\u001B[0;31m             \u001B[0;32mreturn\u001B[0m \u001B[0mfuture\u001B[0m\u001B[0;34m.\u001B[0m\u001B[0mresult\u001B[0m\u001B[0;34m(\u001B[0m\u001B[0mtimeout\u001B[0m\u001B[0;34m=\u001B[0m\u001B[0mtimeout\u001B[0m\u001B[0;34m)\u001B[0m\u001B[0;34m\u001B[0m\u001B[0;34m\u001B[0m\u001B[0m\n\u001B[0m\u001B[1;32m    522\u001B[0m         \u001B[0;32mexcept\u001B[0m \u001B[0mLokyTimeoutError\u001B[0m\u001B[0;34m:\u001B[0m\u001B[0;34m\u001B[0m\u001B[0;34m\u001B[0m\u001B[0m\n\u001B[1;32m    523\u001B[0m             \u001B[0;32mraise\u001B[0m \u001B[0mTimeoutError\u001B[0m\u001B[0;34m(\u001B[0m\u001B[0;34m)\u001B[0m\u001B[0;34m\u001B[0m\u001B[0;34m\u001B[0m\u001B[0m\n",
      "\u001B[0;32m~/anaconda3/lib/python3.7/concurrent/futures/_base.py\u001B[0m in \u001B[0;36mresult\u001B[0;34m(self, timeout)\u001B[0m\n\u001B[1;32m    425\u001B[0m                 \u001B[0;32mreturn\u001B[0m \u001B[0mself\u001B[0m\u001B[0;34m.\u001B[0m\u001B[0m__get_result\u001B[0m\u001B[0;34m(\u001B[0m\u001B[0;34m)\u001B[0m\u001B[0;34m\u001B[0m\u001B[0;34m\u001B[0m\u001B[0m\n\u001B[1;32m    426\u001B[0m \u001B[0;34m\u001B[0m\u001B[0m\n\u001B[0;32m--> 427\u001B[0;31m             \u001B[0mself\u001B[0m\u001B[0;34m.\u001B[0m\u001B[0m_condition\u001B[0m\u001B[0;34m.\u001B[0m\u001B[0mwait\u001B[0m\u001B[0;34m(\u001B[0m\u001B[0mtimeout\u001B[0m\u001B[0;34m)\u001B[0m\u001B[0;34m\u001B[0m\u001B[0;34m\u001B[0m\u001B[0m\n\u001B[0m\u001B[1;32m    428\u001B[0m \u001B[0;34m\u001B[0m\u001B[0m\n\u001B[1;32m    429\u001B[0m             \u001B[0;32mif\u001B[0m \u001B[0mself\u001B[0m\u001B[0;34m.\u001B[0m\u001B[0m_state\u001B[0m \u001B[0;32min\u001B[0m \u001B[0;34m[\u001B[0m\u001B[0mCANCELLED\u001B[0m\u001B[0;34m,\u001B[0m \u001B[0mCANCELLED_AND_NOTIFIED\u001B[0m\u001B[0;34m]\u001B[0m\u001B[0;34m:\u001B[0m\u001B[0;34m\u001B[0m\u001B[0;34m\u001B[0m\u001B[0m\n",
      "\u001B[0;32m~/anaconda3/lib/python3.7/threading.py\u001B[0m in \u001B[0;36mwait\u001B[0;34m(self, timeout)\u001B[0m\n\u001B[1;32m    294\u001B[0m         \u001B[0;32mtry\u001B[0m\u001B[0;34m:\u001B[0m    \u001B[0;31m# restore state no matter what (e.g., KeyboardInterrupt)\u001B[0m\u001B[0;34m\u001B[0m\u001B[0;34m\u001B[0m\u001B[0m\n\u001B[1;32m    295\u001B[0m             \u001B[0;32mif\u001B[0m \u001B[0mtimeout\u001B[0m \u001B[0;32mis\u001B[0m \u001B[0;32mNone\u001B[0m\u001B[0;34m:\u001B[0m\u001B[0;34m\u001B[0m\u001B[0;34m\u001B[0m\u001B[0m\n\u001B[0;32m--> 296\u001B[0;31m                 \u001B[0mwaiter\u001B[0m\u001B[0;34m.\u001B[0m\u001B[0macquire\u001B[0m\u001B[0;34m(\u001B[0m\u001B[0;34m)\u001B[0m\u001B[0;34m\u001B[0m\u001B[0;34m\u001B[0m\u001B[0m\n\u001B[0m\u001B[1;32m    297\u001B[0m                 \u001B[0mgotit\u001B[0m \u001B[0;34m=\u001B[0m \u001B[0;32mTrue\u001B[0m\u001B[0;34m\u001B[0m\u001B[0;34m\u001B[0m\u001B[0m\n\u001B[1;32m    298\u001B[0m             \u001B[0;32melse\u001B[0m\u001B[0;34m:\u001B[0m\u001B[0;34m\u001B[0m\u001B[0;34m\u001B[0m\u001B[0m\n",
      "\u001B[0;31mKeyboardInterrupt\u001B[0m: "
     ]
    }
   ],
   "source": [
    "#Create a svm Classifier\n",
    "#clf = svm.SVC(kernel='linear', gamma='auto', verbose=1) # Linear Kernel\n",
    "clf = BaggingClassifier(base_estimator=SVC(kernel='linear', gamma='auto'), n_estimators=10, random_state=0, n_jobs=-1)\n",
    "\n",
    "#Train the model using the training sets\n",
    "clf.fit(X_train, y_train)\n",
    "\n",
    "#Predict the response for test dataset (here still part of training dataset to avoid concept drift)\n",
    "y_pred = clf.predict(X_test)\n",
    "\n",
    "# Model Accuracy: how often is the classifier correct?\n",
    "print(\"Accuracy:\",metrics.accuracy_score(y_test, y_pred))\n",
    "\n",
    "\n",
    "\n",
    "# Classification: Lineares Modell"
   ],
   "metadata": {
    "collapsed": false,
    "pycharm": {
     "name": "#%%\n"
    }
   }
  },
  {
   "cell_type": "code",
   "execution_count": null,
   "outputs": [],
   "source": [
    "# Classification: Logitisches Modell\n",
    "#Logistic Regression with sklearn\n",
    "logreg = LogisticRegression()\n",
    "logreg.fit(X_train, y_train)\n",
    "\n",
    "pred = logreg.predict(X_test)\n",
    "print(logreg.score(X_test,y_test))\n",
    "\n",
    "# Classification: KNN\n",
    "\n",
    "# Classification: Xgboost\n",
    "\n",
    "# Classification: LightGBM\n",
    "\n",
    "# Others ?\n",
    "\n"
   ],
   "metadata": {
    "collapsed": false,
    "pycharm": {
     "name": "#%%\n"
    }
   }
  }
 ],
 "metadata": {
  "kernelspec": {
   "name": "python3",
   "language": "python",
   "display_name": "Python 3"
  },
  "language_info": {
   "codemirror_mode": {
    "name": "ipython",
    "version": 2
   },
   "file_extension": ".py",
   "mimetype": "text/x-python",
   "name": "python",
   "nbconvert_exporter": "python",
   "pygments_lexer": "ipython2",
   "version": "2.7.6"
  }
 },
 "nbformat": 4,
 "nbformat_minor": 0
}