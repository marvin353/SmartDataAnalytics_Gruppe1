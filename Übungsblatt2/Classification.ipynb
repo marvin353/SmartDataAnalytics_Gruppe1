{
 "cells": [
  {
   "cell_type": "markdown",
   "source": [
    "# Classification: Klassische Methoden\n",
    "In diesem Notebook versuchen wir die Klassifizierung in \"Failure\" / \"No Failure\" mit der klassischen machine learning Methode SVM durchzuführen."
   ],
   "metadata": {
    "collapsed": false
   }
  },
  {
   "cell_type": "code",
   "execution_count": 16,
   "outputs": [
    {
     "name": "stdout",
     "output_type": "stream",
     "text": [
      "Evaluator started\n"
     ]
    }
   ],
   "source": [
    "import pandas as pd\n",
    "import glob\n",
    "import numpy as np\n",
    "from sklearn.model_selection import train_test_split\n",
    "from sklearn.svm import SVC\n",
    "from sklearn.ensemble import BaggingClassifier\n",
    "from sklearn.tree import DecisionTreeClassifier\n",
    "from sklearn.linear_model import LogisticRegression\n",
    "from sklearn.dummy import DummyClassifier\n",
    "from sklearn.ensemble import RandomForestClassifier, AdaBoostClassifier\n",
    "from sklearn.naive_bayes import ComplementNB\n",
    "from sklearn import svm\n",
    "from sklearn import metrics\n",
    "import Preprocessing as pp\n",
    "import Helpers\n",
    "from Evaluator import Evaluator\n",
    "from sklearn.metrics import classification_report\n",
    "pd.options.mode.chained_assignment = None  # default='warn'\n",
    "\n",
    "\n",
    "path_data = '/Users/marvinwoller/Desktop/SmartDataAnalytics/Blatt2/data/'\n",
    "\n",
    "rootdir_train = path_data + 'train/'\n",
    "rootdir_test = path_data + 'test/'\n",
    "\n",
    "train_labels_path = path_data + 'train_label.csv'\n",
    "test_labels_path = path_data + 'test_label.csv'\n",
    "\n",
    "feature_path = path_data + 'features/'\n",
    "feature_path_test = path_data + 'features_test/'\n",
    "\n",
    "resampled_path = path_data + 'resampled/'\n",
    "resampled_path_test = path_data + 'resampled_test/'\n",
    "\n",
    "# Merge labels and data\n",
    "train_labels = pd.read_csv(train_labels_path, index_col=0) #Don't use index numbers per row but CSV file name as index\n",
    "\n",
    "\n"
   ],
   "metadata": {
    "collapsed": false,
    "pycharm": {
     "name": "#%%\n"
    }
   }
  },
  {
   "cell_type": "code",
   "execution_count": 3,
   "outputs": [],
   "source": [
    "def classification(X_train,y_train,X_test,y_test,name):\n",
    "    # Split train data to get a second test set without concept drift\n",
    "    X_train, X_test_trainset, y_train, y_test_trainset = train_test_split(X_train, y_train, test_size=0.2, random_state=123)\n",
    "    # Create the classifier\n",
    "    clf = BaggingClassifier(base_estimator=SVC(kernel='linear'), n_estimators=25, random_state=0, n_jobs=-1)\n",
    "    # Fit the classifier\n",
    "    clf.fit(X_train, y_train)\n",
    "    # Perform prediction on 20% train set data (no drift)\n",
    "    y_pred_trainset = clf.predict(X_test_trainset)\n",
    "    # Perform prediction on test data (with drift)\n",
    "    y_pred = clf.predict(X_test)\n",
    "    print(\"##################### \" + name + \" #####################\")\n",
    "    print(\"---------------- TRAIN ----------------\")\n",
    "    print(\"TRAIN Accuracy (\" + name + \"):\",metrics.accuracy_score(y_test_trainset, y_pred_trainset))\n",
    "    print(classification_report(y_test_trainset, y_pred_trainset))\n",
    "    print(\"---------------- TEST ----------------\")\n",
    "    print(\"TEST Accuracy (\" + name + \"):\",metrics.accuracy_score(y_test, y_pred))\n",
    "    print(classification_report(y_test, y_pred))\n"
   ],
   "metadata": {
    "collapsed": false,
    "pycharm": {
     "name": "#%%\n"
    }
   }
  },
  {
   "cell_type": "markdown",
   "source": [
    "## Input data: Features"
   ],
   "metadata": {
    "collapsed": false,
    "pycharm": {
     "name": "#%% md\n"
    }
   }
  },
  {
   "cell_type": "code",
   "execution_count": 4,
   "outputs": [],
   "source": [
    "# Use extracted Features for classification\n",
    "features = ['mean', 'median', 'min', 'max', 'std', 'var']\n",
    "features2 = ['std', 'var']"
   ],
   "metadata": {
    "collapsed": false,
    "pycharm": {
     "name": "#%%\n"
    }
   }
  },
  {
   "cell_type": "code",
   "execution_count": 18,
   "outputs": [
    {
     "name": "stdout",
     "output_type": "stream",
     "text": [
      "##################### mean #####################\n",
      "---------------- TRAIN ----------------\n",
      "TRAIN Accuracy (mean): 0.704\n",
      "              precision    recall  f1-score   support\n",
      "\n",
      "         0.0       0.69      0.79      0.73      1032\n",
      "         1.0       0.73      0.61      0.67       968\n",
      "\n",
      "    accuracy                           0.70      2000\n",
      "   macro avg       0.71      0.70      0.70      2000\n",
      "weighted avg       0.71      0.70      0.70      2000\n",
      "\n",
      "---------------- TEST ----------------\n",
      "TEST Accuracy (mean): 0.5247028975831219\n",
      "              precision    recall  f1-score   support\n",
      "\n",
      "         0.0       0.52      0.89      0.65      7582\n",
      "         1.0       0.57      0.15      0.24      7396\n",
      "\n",
      "    accuracy                           0.52     14978\n",
      "   macro avg       0.54      0.52      0.45     14978\n",
      "weighted avg       0.54      0.52      0.45     14978\n",
      "\n",
      "##################### median #####################\n",
      "---------------- TRAIN ----------------\n",
      "TRAIN Accuracy (median): 0.6755\n",
      "              precision    recall  f1-score   support\n",
      "\n",
      "         0.0       0.67      0.74      0.70      1038\n",
      "         1.0       0.68      0.61      0.64       962\n",
      "\n",
      "    accuracy                           0.68      2000\n",
      "   macro avg       0.68      0.67      0.67      2000\n",
      "weighted avg       0.68      0.68      0.67      2000\n",
      "\n",
      "---------------- TEST ----------------\n",
      "TEST Accuracy (median): 0.5080785151555615\n",
      "              precision    recall  f1-score   support\n",
      "\n",
      "         0.0       0.51      1.00      0.67      7582\n",
      "         1.0       0.66      0.01      0.02      7396\n",
      "\n",
      "    accuracy                           0.51     14978\n",
      "   macro avg       0.58      0.50      0.34     14978\n",
      "weighted avg       0.58      0.51      0.35     14978\n",
      "\n",
      "##################### min #####################\n",
      "---------------- TRAIN ----------------\n",
      "TRAIN Accuracy (min): 0.6275\n",
      "              precision    recall  f1-score   support\n",
      "\n",
      "           0       0.59      0.81      0.68       989\n",
      "           1       0.71      0.45      0.55      1011\n",
      "\n",
      "    accuracy                           0.63      2000\n",
      "   macro avg       0.65      0.63      0.62      2000\n",
      "weighted avg       0.65      0.63      0.62      2000\n",
      "\n",
      "---------------- TEST ----------------\n",
      "TEST Accuracy (min): 0.5118840966751235\n",
      "              precision    recall  f1-score   support\n",
      "\n",
      "         0.0       0.51      0.99      0.67      7582\n",
      "         1.0       0.71      0.02      0.04      7396\n",
      "\n",
      "    accuracy                           0.51     14978\n",
      "   macro avg       0.61      0.51      0.36     14978\n",
      "weighted avg       0.61      0.51      0.36     14978\n",
      "\n",
      "##################### max #####################\n",
      "---------------- TRAIN ----------------\n",
      "TRAIN Accuracy (max): 0.6795\n",
      "              precision    recall  f1-score   support\n",
      "\n",
      "           0       0.65      0.79      0.71       998\n",
      "           1       0.73      0.57      0.64      1002\n",
      "\n",
      "    accuracy                           0.68      2000\n",
      "   macro avg       0.69      0.68      0.68      2000\n",
      "weighted avg       0.69      0.68      0.68      2000\n",
      "\n",
      "---------------- TEST ----------------\n",
      "TEST Accuracy (max): 0.5103485111496862\n",
      "              precision    recall  f1-score   support\n",
      "\n",
      "         0.0       0.51      1.00      0.67      7582\n",
      "         1.0       0.87      0.01      0.02      7396\n",
      "\n",
      "    accuracy                           0.51     14978\n",
      "   macro avg       0.69      0.50      0.35     14978\n",
      "weighted avg       0.69      0.51      0.35     14978\n",
      "\n",
      "##################### std #####################\n",
      "---------------- TRAIN ----------------\n",
      "TRAIN Accuracy (std): 0.5785\n",
      "              precision    recall  f1-score   support\n",
      "\n",
      "           0       0.57      0.73      0.64      1031\n",
      "           1       0.59      0.42      0.49       969\n",
      "\n",
      "    accuracy                           0.58      2000\n",
      "   macro avg       0.58      0.57      0.57      2000\n",
      "weighted avg       0.58      0.58      0.57      2000\n",
      "\n",
      "---------------- TEST ----------------\n",
      "TEST Accuracy (std): 0.5153558552543731\n",
      "              precision    recall  f1-score   support\n",
      "\n",
      "         0.0       0.51      0.74      0.61      7582\n",
      "         1.0       0.52      0.29      0.37      7396\n",
      "\n",
      "    accuracy                           0.52     14978\n",
      "   macro avg       0.52      0.51      0.49     14978\n",
      "weighted avg       0.52      0.52      0.49     14978\n",
      "\n",
      "##################### var #####################\n",
      "---------------- TRAIN ----------------\n",
      "TRAIN Accuracy (var): 0.541\n",
      "              precision    recall  f1-score   support\n",
      "\n",
      "           0       0.53      0.87      0.66      1023\n",
      "           1       0.59      0.20      0.30       977\n",
      "\n",
      "    accuracy                           0.54      2000\n",
      "   macro avg       0.56      0.53      0.48      2000\n",
      "weighted avg       0.56      0.54      0.48      2000\n",
      "\n",
      "---------------- TEST ----------------\n",
      "TEST Accuracy (var): 0.5258378955801842\n",
      "              precision    recall  f1-score   support\n",
      "\n",
      "         0.0       0.52      0.89      0.66      7582\n",
      "         1.0       0.58      0.15      0.24      7396\n",
      "\n",
      "    accuracy                           0.53     14978\n",
      "   macro avg       0.55      0.52      0.45     14978\n",
      "weighted avg       0.55      0.53      0.45     14978\n",
      "\n"
     ]
    }
   ],
   "source": [
    "# Preprocessing: Remove strong drift + scaling\n",
    "for feature in features:\n",
    "    df = pd.read_csv(feature_path + feature + '.csv', index_col=0)\n",
    "    df_test = pd.read_csv(feature_path_test + feature + '.csv', index_col=0)\n",
    "    y_train, X_train = pp.preprocess(df, random_n=10000)\n",
    "    y_test, X_test = pp.preprocess_test(df_test)\n",
    "    classification(X_train,y_train,X_test,y_test,feature)"
   ],
   "metadata": {
    "collapsed": false,
    "pycharm": {
     "name": "#%%\n"
    }
   }
  },
  {
   "cell_type": "code",
   "execution_count": 7,
   "outputs": [
    {
     "name": "stderr",
     "output_type": "stream",
     "text": [
      "/Users/marvinwoller/anaconda3/lib/python3.7/site-packages/pandas/core/frame.py:3940: SettingWithCopyWarning: \n",
      "A value is trying to be set on a copy of a slice from a DataFrame\n",
      "\n",
      "See the caveats in the documentation: http://pandas.pydata.org/pandas-docs/stable/indexing.html#indexing-view-versus-copy\n",
      "  errors=errors)\n"
     ]
    },
    {
     "name": "stdout",
     "output_type": "stream",
     "text": [
      "##################### mean #####################\n",
      "---------------- TRAIN ----------------\n",
      "TRAIN Accuracy (mean): 0.6340625\n",
      "              precision    recall  f1-score   support\n",
      "\n",
      "         0.0       0.62      0.77      0.68      1647\n",
      "         1.0       0.67      0.49      0.56      1553\n",
      "\n",
      "    accuracy                           0.63      3200\n",
      "   macro avg       0.64      0.63      0.62      3200\n",
      "weighted avg       0.64      0.63      0.63      3200\n",
      "\n",
      "---------------- TEST ----------------\n",
      "TEST Accuracy (mean): 0.5116838029109361\n",
      "              precision    recall  f1-score   support\n",
      "\n",
      "         0.0       0.51      1.00      0.67      7582\n",
      "         1.0       0.90      0.01      0.02      7396\n",
      "\n",
      "    accuracy                           0.51     14978\n",
      "   macro avg       0.71      0.51      0.35     14978\n",
      "weighted avg       0.70      0.51      0.35     14978\n",
      "\n"
     ]
    },
    {
     "name": "stderr",
     "output_type": "stream",
     "text": [
      "/Users/marvinwoller/anaconda3/lib/python3.7/site-packages/pandas/core/frame.py:3940: SettingWithCopyWarning: \n",
      "A value is trying to be set on a copy of a slice from a DataFrame\n",
      "\n",
      "See the caveats in the documentation: http://pandas.pydata.org/pandas-docs/stable/indexing.html#indexing-view-versus-copy\n",
      "  errors=errors)\n"
     ]
    },
    {
     "name": "stdout",
     "output_type": "stream",
     "text": [
      "##################### median #####################\n",
      "---------------- TRAIN ----------------\n",
      "TRAIN Accuracy (median): 0.623125\n",
      "              precision    recall  f1-score   support\n",
      "\n",
      "         0.0       0.59      0.81      0.68      1607\n",
      "         1.0       0.69      0.44      0.54      1593\n",
      "\n",
      "    accuracy                           0.62      3200\n",
      "   macro avg       0.64      0.62      0.61      3200\n",
      "weighted avg       0.64      0.62      0.61      3200\n",
      "\n",
      "---------------- TEST ----------------\n",
      "TEST Accuracy (median): 0.512084390439311\n",
      "              precision    recall  f1-score   support\n",
      "\n",
      "         0.0       0.51      1.00      0.67      7582\n",
      "         1.0       0.89      0.01      0.03      7396\n",
      "\n",
      "    accuracy                           0.51     14978\n",
      "   macro avg       0.70      0.51      0.35     14978\n",
      "weighted avg       0.70      0.51      0.35     14978\n",
      "\n"
     ]
    },
    {
     "name": "stderr",
     "output_type": "stream",
     "text": [
      "/Users/marvinwoller/anaconda3/lib/python3.7/site-packages/pandas/core/frame.py:3940: SettingWithCopyWarning: \n",
      "A value is trying to be set on a copy of a slice from a DataFrame\n",
      "\n",
      "See the caveats in the documentation: http://pandas.pydata.org/pandas-docs/stable/indexing.html#indexing-view-versus-copy\n",
      "  errors=errors)\n"
     ]
    },
    {
     "name": "stdout",
     "output_type": "stream",
     "text": [
      "##################### min #####################\n",
      "---------------- TRAIN ----------------\n",
      "TRAIN Accuracy (min): 0.631875\n",
      "              precision    recall  f1-score   support\n",
      "\n",
      "           0       0.61      0.79      0.69      1670\n",
      "           1       0.67      0.46      0.54      1530\n",
      "\n",
      "    accuracy                           0.63      3200\n",
      "   macro avg       0.64      0.62      0.62      3200\n",
      "weighted avg       0.64      0.63      0.62      3200\n",
      "\n",
      "---------------- TEST ----------------\n",
      "TEST Accuracy (min): 0.5096808652690613\n",
      "              precision    recall  f1-score   support\n",
      "\n",
      "         0.0       0.51      0.99      0.67      7582\n",
      "         1.0       0.68      0.01      0.03      7396\n",
      "\n",
      "    accuracy                           0.51     14978\n",
      "   macro avg       0.59      0.50      0.35     14978\n",
      "weighted avg       0.59      0.51      0.35     14978\n",
      "\n"
     ]
    },
    {
     "name": "stderr",
     "output_type": "stream",
     "text": [
      "/Users/marvinwoller/anaconda3/lib/python3.7/site-packages/pandas/core/frame.py:3940: SettingWithCopyWarning: \n",
      "A value is trying to be set on a copy of a slice from a DataFrame\n",
      "\n",
      "See the caveats in the documentation: http://pandas.pydata.org/pandas-docs/stable/indexing.html#indexing-view-versus-copy\n",
      "  errors=errors)\n"
     ]
    },
    {
     "name": "stdout",
     "output_type": "stream",
     "text": [
      "##################### max #####################\n",
      "---------------- TRAIN ----------------\n",
      "TRAIN Accuracy (max): 0.645625\n",
      "              precision    recall  f1-score   support\n",
      "\n",
      "           0       0.63      0.76      0.69      1669\n",
      "           1       0.66      0.52      0.59      1531\n",
      "\n",
      "    accuracy                           0.65      3200\n",
      "   macro avg       0.65      0.64      0.64      3200\n",
      "weighted avg       0.65      0.65      0.64      3200\n",
      "\n",
      "---------------- TEST ----------------\n",
      "TEST Accuracy (max): 0.511817332087061\n",
      "              precision    recall  f1-score   support\n",
      "\n",
      "         0.0       0.51      1.00      0.67      7582\n",
      "         1.0       1.00      0.01      0.02      7396\n",
      "\n",
      "    accuracy                           0.51     14978\n",
      "   macro avg       0.75      0.51      0.35     14978\n",
      "weighted avg       0.75      0.51      0.35     14978\n",
      "\n"
     ]
    },
    {
     "name": "stderr",
     "output_type": "stream",
     "text": [
      "/Users/marvinwoller/anaconda3/lib/python3.7/site-packages/pandas/core/frame.py:3940: SettingWithCopyWarning: \n",
      "A value is trying to be set on a copy of a slice from a DataFrame\n",
      "\n",
      "See the caveats in the documentation: http://pandas.pydata.org/pandas-docs/stable/indexing.html#indexing-view-versus-copy\n",
      "  errors=errors)\n"
     ]
    },
    {
     "name": "stdout",
     "output_type": "stream",
     "text": [
      "##################### std #####################\n",
      "---------------- TRAIN ----------------\n",
      "TRAIN Accuracy (std): 0.5459375\n",
      "              precision    recall  f1-score   support\n",
      "\n",
      "           0       0.54      0.76      0.63      1643\n",
      "           1       0.56      0.32      0.41      1557\n",
      "\n",
      "    accuracy                           0.55      3200\n",
      "   macro avg       0.55      0.54      0.52      3200\n",
      "weighted avg       0.55      0.55      0.52      3200\n",
      "\n",
      "---------------- TEST ----------------\n",
      "TEST Accuracy (std): 0.5208305514754974\n",
      "              precision    recall  f1-score   support\n",
      "\n",
      "         0.0       0.52      0.88      0.65      7582\n",
      "         1.0       0.55      0.16      0.24      7396\n",
      "\n",
      "    accuracy                           0.52     14978\n",
      "   macro avg       0.53      0.52      0.45     14978\n",
      "weighted avg       0.53      0.52      0.45     14978\n",
      "\n"
     ]
    },
    {
     "name": "stderr",
     "output_type": "stream",
     "text": [
      "/Users/marvinwoller/anaconda3/lib/python3.7/site-packages/pandas/core/frame.py:3940: SettingWithCopyWarning: \n",
      "A value is trying to be set on a copy of a slice from a DataFrame\n",
      "\n",
      "See the caveats in the documentation: http://pandas.pydata.org/pandas-docs/stable/indexing.html#indexing-view-versus-copy\n",
      "  errors=errors)\n"
     ]
    },
    {
     "name": "stdout",
     "output_type": "stream",
     "text": [
      "##################### var #####################\n",
      "---------------- TRAIN ----------------\n",
      "TRAIN Accuracy (var): 0.51875\n",
      "              precision    recall  f1-score   support\n",
      "\n",
      "           0       0.50      0.93      0.65      1556\n",
      "           1       0.66      0.13      0.22      1644\n",
      "\n",
      "    accuracy                           0.52      3200\n",
      "   macro avg       0.58      0.53      0.44      3200\n",
      "weighted avg       0.58      0.52      0.43      3200\n",
      "\n",
      "---------------- TEST ----------------\n",
      "TEST Accuracy (var): 0.5210976098277473\n",
      "              precision    recall  f1-score   support\n",
      "\n",
      "         0.0       0.51      0.93      0.66      7582\n",
      "         1.0       0.59      0.10      0.17      7396\n",
      "\n",
      "    accuracy                           0.52     14978\n",
      "   macro avg       0.55      0.52      0.42     14978\n",
      "weighted avg       0.55      0.52      0.42     14978\n",
      "\n"
     ]
    }
   ],
   "source": [
    "# Try with different preprocessing (\"good_sensors\" + remove strong drift + scaling)\n",
    "for feature in features:\n",
    "    df = pd.read_csv(feature_path + feature + '.csv', index_col=0)\n",
    "    df_test = pd.read_csv(feature_path_test + feature + '.csv', index_col=0)\n",
    "    y_train, X_train = pp.preprocess(df, random_n=10000, get_good=True, )\n",
    "    y_test, X_test = pp.preprocess_test(df_test)\n",
    "    classification(X_train,y_train,X_test,y_test,feature)"
   ],
   "metadata": {
    "collapsed": false,
    "pycharm": {
     "name": "#%%\n"
    }
   }
  },
  {
   "cell_type": "code",
   "execution_count": 17,
   "outputs": [
    {
     "name": "stdout",
     "output_type": "stream",
     "text": [
      "KeyError skipping...\n",
      "KeyError skipping...\n",
      "KeyError skipping...\n",
      "KeyError skipping...\n",
      "KeyError skipping...\n",
      "KeyError skipping...\n",
      "KeyError skipping...\n",
      "KeyError skipping...\n",
      "KeyError skipping...\n",
      "KeyError skipping...\n",
      "##################### mean #####################\n",
      "---------------- TRAIN ----------------\n",
      "TRAIN Accuracy (mean): 0.6875\n",
      "              precision    recall  f1-score   support\n",
      "\n",
      "         0.0       0.69      0.73      0.71      1052\n",
      "         1.0       0.68      0.64      0.66       948\n",
      "\n",
      "    accuracy                           0.69      2000\n",
      "   macro avg       0.69      0.69      0.69      2000\n",
      "weighted avg       0.69      0.69      0.69      2000\n",
      "\n",
      "---------------- TEST ----------------\n",
      "TEST Accuracy (mean): 0.49799706235812524\n",
      "              precision    recall  f1-score   support\n",
      "\n",
      "         0.0       0.52      0.11      0.19      7582\n",
      "         1.0       0.50      0.89      0.64      7396\n",
      "\n",
      "    accuracy                           0.50     14978\n",
      "   macro avg       0.51      0.50      0.41     14978\n",
      "weighted avg       0.51      0.50      0.41     14978\n",
      "\n",
      "KeyError skipping...\n",
      "KeyError skipping...\n",
      "KeyError skipping...\n",
      "KeyError skipping...\n",
      "KeyError skipping...\n",
      "KeyError skipping...\n",
      "KeyError skipping...\n",
      "KeyError skipping...\n",
      "KeyError skipping...\n",
      "KeyError skipping...\n",
      "##################### median #####################\n",
      "---------------- TRAIN ----------------\n",
      "TRAIN Accuracy (median): 0.668\n",
      "              precision    recall  f1-score   support\n",
      "\n",
      "         0.0       0.65      0.74      0.69      1009\n",
      "         1.0       0.69      0.59      0.64       991\n",
      "\n",
      "    accuracy                           0.67      2000\n",
      "   macro avg       0.67      0.67      0.67      2000\n",
      "weighted avg       0.67      0.67      0.67      2000\n",
      "\n",
      "---------------- TEST ----------------\n",
      "TEST Accuracy (median): 0.5152223260782481\n",
      "              precision    recall  f1-score   support\n",
      "\n",
      "         0.0       0.53      0.37      0.43      7582\n",
      "         1.0       0.51      0.67      0.58      7396\n",
      "\n",
      "    accuracy                           0.52     14978\n",
      "   macro avg       0.52      0.52      0.50     14978\n",
      "weighted avg       0.52      0.52      0.50     14978\n",
      "\n",
      "KeyError skipping...\n",
      "KeyError skipping...\n",
      "KeyError skipping...\n",
      "KeyError skipping...\n",
      "KeyError skipping...\n",
      "KeyError skipping...\n",
      "KeyError skipping...\n",
      "KeyError skipping...\n",
      "KeyError skipping...\n",
      "KeyError skipping...\n",
      "##################### min #####################\n",
      "---------------- TRAIN ----------------\n",
      "TRAIN Accuracy (min): 0.6485\n",
      "              precision    recall  f1-score   support\n",
      "\n",
      "           0       0.63      0.81      0.71      1044\n",
      "           1       0.70      0.47      0.56       956\n",
      "\n",
      "    accuracy                           0.65      2000\n",
      "   macro avg       0.66      0.64      0.63      2000\n",
      "weighted avg       0.66      0.65      0.64      2000\n",
      "\n",
      "---------------- TEST ----------------\n",
      "TEST Accuracy (min): 0.5194952597142476\n",
      "              precision    recall  f1-score   support\n",
      "\n",
      "         0.0       0.51      0.95      0.67      7582\n",
      "         1.0       0.60      0.08      0.14      7396\n",
      "\n",
      "    accuracy                           0.52     14978\n",
      "   macro avg       0.56      0.51      0.40     14978\n",
      "weighted avg       0.56      0.52      0.41     14978\n",
      "\n",
      "KeyError skipping...\n",
      "KeyError skipping...\n",
      "KeyError skipping...\n",
      "KeyError skipping...\n",
      "KeyError skipping...\n",
      "KeyError skipping...\n",
      "KeyError skipping...\n",
      "KeyError skipping...\n",
      "KeyError skipping...\n",
      "KeyError skipping...\n"
     ]
    },
    {
     "name": "stderr",
     "output_type": "stream",
     "text": [
      "/Users/marvinwoller/anaconda3/lib/python3.7/site-packages/joblib/externals/loky/process_executor.py:706: UserWarning: A worker stopped while some jobs were given to the executor. This can be caused by a too short worker timeout or by a memory leak.\n",
      "  \"timeout or by a memory leak.\", UserWarning\n"
     ]
    },
    {
     "name": "stdout",
     "output_type": "stream",
     "text": [
      "##################### max #####################\n",
      "---------------- TRAIN ----------------\n",
      "TRAIN Accuracy (max): 0.663\n",
      "              precision    recall  f1-score   support\n",
      "\n",
      "           0       0.64      0.74      0.69       991\n",
      "           1       0.70      0.59      0.64      1009\n",
      "\n",
      "    accuracy                           0.66      2000\n",
      "   macro avg       0.67      0.66      0.66      2000\n",
      "weighted avg       0.67      0.66      0.66      2000\n",
      "\n",
      "---------------- TEST ----------------\n",
      "TEST Accuracy (max): 0.5084791026839365\n",
      "              precision    recall  f1-score   support\n",
      "\n",
      "         0.0       0.51      0.85      0.64      7582\n",
      "         1.0       0.51      0.16      0.24      7396\n",
      "\n",
      "    accuracy                           0.51     14978\n",
      "   macro avg       0.51      0.50      0.44     14978\n",
      "weighted avg       0.51      0.51      0.44     14978\n",
      "\n",
      "KeyError skipping...\n",
      "KeyError skipping...\n",
      "KeyError skipping...\n",
      "KeyError skipping...\n",
      "KeyError skipping...\n",
      "KeyError skipping...\n",
      "KeyError skipping...\n",
      "KeyError skipping...\n",
      "KeyError skipping...\n",
      "KeyError skipping...\n"
     ]
    },
    {
     "name": "stderr",
     "output_type": "stream",
     "text": [
      "/Users/marvinwoller/anaconda3/lib/python3.7/site-packages/joblib/externals/loky/process_executor.py:706: UserWarning: A worker stopped while some jobs were given to the executor. This can be caused by a too short worker timeout or by a memory leak.\n",
      "  \"timeout or by a memory leak.\", UserWarning\n"
     ]
    },
    {
     "name": "stdout",
     "output_type": "stream",
     "text": [
      "##################### std #####################\n",
      "---------------- TRAIN ----------------\n",
      "TRAIN Accuracy (std): 0.55\n",
      "              precision    recall  f1-score   support\n",
      "\n",
      "           0       0.57      0.67      0.61      1070\n",
      "           1       0.52      0.42      0.46       930\n",
      "\n",
      "    accuracy                           0.55      2000\n",
      "   macro avg       0.54      0.54      0.54      2000\n",
      "weighted avg       0.55      0.55      0.54      2000\n",
      "\n",
      "---------------- TEST ----------------\n",
      "TEST Accuracy (std): 0.5114835091467486\n",
      "              precision    recall  f1-score   support\n",
      "\n",
      "         0.0       0.51      0.69      0.59      7582\n",
      "         1.0       0.51      0.33      0.40      7396\n",
      "\n",
      "    accuracy                           0.51     14978\n",
      "   macro avg       0.51      0.51      0.49     14978\n",
      "weighted avg       0.51      0.51      0.49     14978\n",
      "\n",
      "KeyError skipping...\n",
      "KeyError skipping...\n",
      "KeyError skipping...\n",
      "KeyError skipping...\n",
      "KeyError skipping...\n",
      "KeyError skipping...\n",
      "KeyError skipping...\n",
      "KeyError skipping...\n",
      "KeyError skipping...\n",
      "KeyError skipping...\n",
      "##################### var #####################\n",
      "---------------- TRAIN ----------------\n",
      "TRAIN Accuracy (var): 0.554\n",
      "              precision    recall  f1-score   support\n",
      "\n",
      "           0       0.55      0.79      0.65      1058\n",
      "           1       0.55      0.29      0.38       942\n",
      "\n",
      "    accuracy                           0.55      2000\n",
      "   macro avg       0.55      0.54      0.51      2000\n",
      "weighted avg       0.55      0.55      0.52      2000\n",
      "\n",
      "---------------- TEST ----------------\n",
      "TEST Accuracy (var): 0.5171584991320604\n",
      "              precision    recall  f1-score   support\n",
      "\n",
      "         0.0       0.52      0.78      0.62      7582\n",
      "         1.0       0.52      0.25      0.34      7396\n",
      "\n",
      "    accuracy                           0.52     14978\n",
      "   macro avg       0.52      0.51      0.48     14978\n",
      "weighted avg       0.52      0.52      0.48     14978\n",
      "\n"
     ]
    }
   ],
   "source": [
    "# Try with different preprocessing (remove correlation + remove strong drift)\n",
    "for feature in features:\n",
    "    df = pd.read_csv(feature_path + feature + '.csv', index_col=0)\n",
    "    df_test = pd.read_csv(feature_path_test + feature + '.csv', index_col=0)\n",
    "    y_train, X_train = pp.preprocess(df, random_n=10000,rem_corr=True)\n",
    "    y_test, X_test = pp.preprocess_test(df_test, rem_corr=True)\n",
    "    classification(X_train,y_train,X_test,y_test,feature)"
   ],
   "metadata": {
    "collapsed": false,
    "pycharm": {
     "name": "#%%\n"
    }
   }
  },
  {
   "cell_type": "markdown",
   "source": [],
   "metadata": {
    "collapsed": false,
    "pycharm": {
     "name": "#%% md\n"
    }
   }
  },
  {
   "cell_type": "markdown",
   "source": [
    "## Input data: Gekürzte Zeitserien"
   ],
   "metadata": {
    "collapsed": false,
    "pycharm": {
     "name": "#%% md\n"
    }
   }
  },
  {
   "cell_type": "code",
   "execution_count": 44,
   "outputs": [
    {
     "name": "stdout",
     "output_type": "stream",
     "text": [
      "##################### resampled_12H_mean#####################\n",
      "---------------- TRAIN ----------------\n",
      "TRAIN Accuracy (resampled_12H_mean): 0.6743333333333333\n",
      "              precision    recall  f1-score   support\n",
      "\n",
      "           0       0.66      0.75      0.70      3032\n",
      "           1       0.70      0.60      0.65      2968\n",
      "\n",
      "    accuracy                           0.67      6000\n",
      "   macro avg       0.68      0.67      0.67      6000\n",
      "weighted avg       0.68      0.67      0.67      6000\n",
      "\n",
      "---------------- TEST ----------------\n",
      "TEST Accuracy (resampled_12H_mean): 0.5135184404516401\n",
      "              precision    recall  f1-score   support\n",
      "\n",
      "         0.0       0.51      0.96      0.67     44420\n",
      "         1.0       0.57      0.06      0.11     43349\n",
      "\n",
      "    accuracy                           0.51     87769\n",
      "   macro avg       0.54      0.51      0.39     87769\n",
      "weighted avg       0.54      0.51      0.39     87769\n",
      "\n"
     ]
    }
   ],
   "source": [
    "# Use preprocessed time series for classification\n",
    "features2 = ['resampled_12H_mean', 'resampled_12H_median', 'resampled_6H_mean', 'resampled_6H_median', 'resampled_3H_mean', 'resampled_3H_median']\n",
    "features = ['resampled_12H_mean']\n",
    "for feature in features:\n",
    "    df = pd.read_csv(resampled_path + feature + '.csv', index_col=0)\n",
    "    df_test = pd.read_csv(resampled_path_test + feature + '.csv', index_col=0)\n",
    "    y_train, X_train = pp.preprocess(df, random_n=10000)\n",
    "    y_test, X_test = pp.preprocess_test(df_test)\n",
    "    classification(X_train,y_train,X_test,y_test,feature)\n",
    "\n",
    "\n",
    "\n",
    "\n",
    "\n",
    "\n",
    "\n",
    "\n",
    "# Classification: Lineares Modell"
   ],
   "metadata": {
    "collapsed": false,
    "pycharm": {
     "name": "#%%\n"
    }
   }
  },
  {
   "cell_type": "code",
   "execution_count": null,
   "outputs": [],
   "source": [
    "# Classification: Logitisches Modell\n",
    "logreg = LogisticRegression()\n",
    "logreg.fit(X_train, y_train)\n",
    "\n",
    "pred = logreg.predict(X_test)\n",
    "print(logreg.score(X_test,y_test))\n",
    "\n",
    "# Classification: KNN\n",
    "\n",
    "# Classification: Xgboost\n",
    "\n",
    "# Classification: LightGBM\n",
    "\n",
    "# Others ?\n",
    "\n",
    "\n"
   ],
   "metadata": {
    "collapsed": false,
    "pycharm": {
     "name": "#%%\n"
    }
   }
  }
 ],
 "metadata": {
  "kernelspec": {
   "name": "python3",
   "language": "python",
   "display_name": "Python 3"
  },
  "language_info": {
   "codemirror_mode": {
    "name": "ipython",
    "version": 2
   },
   "file_extension": ".py",
   "mimetype": "text/x-python",
   "name": "python",
   "nbconvert_exporter": "python",
   "pygments_lexer": "ipython2",
   "version": "2.7.6"
  }
 },
 "nbformat": 4,
 "nbformat_minor": 0
}