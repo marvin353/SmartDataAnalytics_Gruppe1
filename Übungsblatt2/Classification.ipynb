{
 "cells": [
  {
   "cell_type": "markdown",
   "source": [
    "# Classification: Klassische Methoden\n",
    "In diesem Notebook versuchen wir die Klassifizierung in \"Failure\"/\"No Failure \" mit klassischen machine learning Methoden durchzuführen."
   ],
   "metadata": {
    "collapsed": false
   }
  },
  {
   "cell_type": "code",
   "execution_count": null,
   "outputs": [],
   "source": [
    "import pandas as pd\n",
    "import glob\n",
    "import numpy as np\n",
    "from sklearn.model_selection import train_test_split\n",
    "from sklearn.svm import SVC\n",
    "from sklearn.ensemble import BaggingClassifier\n",
    "from sklearn import metrics\n",
    "import Preprocessing as pp\n",
    "import Helpers\n",
    "from keras.models import Sequential\n",
    "from keras.layers import Dense\n",
    "\n",
    "rootdir_train = '/Users/marvinwoller/Desktop/SmartDataAnalytics/Blatt2/data/train/'\n",
    "rootdir_test = '/Users/marvinwoller/Desktop/SmartDataAnalytics/Blatt2/data/test/'\n",
    "\n",
    "train_labels_path = '/Users/marvinwoller/Desktop/SmartDataAnalytics/Blatt2/data/train_label.csv'\n",
    "test_labels_path = '/Users/marvinwoller/Desktop/SmartDataAnalytics/Blatt2/data/test_label.csv'\n",
    "\n",
    "feature_path = '/Users/marvinwoller/Desktop/SmartDataAnalytics/Blatt2/data/features/'\n",
    "feature_path_test = '/Users/marvinwoller/Desktop/SmartDataAnalytics/Blatt2/data/features_test/'\n",
    "\n",
    "# Merge labels and data\n",
    "train_labels = pd.read_csv(train_labels_path, index_col=0) #Don't use index numbers per row but CSV file name as index"
   ],
   "metadata": {
    "collapsed": false,
    "pycharm": {
     "name": "#%%\n",
     "is_executing": true
    }
   }
  },
  {
   "cell_type": "code",
   "execution_count": null,
   "outputs": [],
   "source": [
    "# Read feature data\n",
    "data = pd.read_csv(feature_path + 'mean' + '.csv', index_col=0)\n",
    "data.head()\n",
    "labels = data['label']\n",
    "data.drop(['area','label'], axis = 1, inplace=True)"
   ],
   "metadata": {
    "collapsed": false,
    "pycharm": {
     "name": "#%%\n"
    }
   }
  },
  {
   "cell_type": "code",
   "execution_count": 14,
   "metadata": {
    "collapsed": true
   },
   "outputs": [],
   "source": [
    "# ################################## Classificaton with basic methods ###############################\n",
    "# Classification: SVM \n",
    "X_train, X_test, y_train, y_test = train_test_split(data[0:300], labels[0:300], test_size=0.2, random_state=123)"
   ]
  },
  {
   "cell_type": "code",
   "execution_count": 16,
   "outputs": [
    {
     "name": "stdout",
     "text": [
      "Accuracy: 0.7333333333333333\n"
     ],
     "output_type": "stream"
    }
   ],
   "source": [
    "#Create a svm Classifier\n",
    "#clf = svm.SVC(kernel='linear', gamma='auto', verbose=1) # Linear Kernel\n",
    "clf = BaggingClassifier(base_estimator=SVC(kernel='linear', gamma='auto'), n_estimators=10, random_state=0, n_jobs=-1)\n",
    "\n",
    "#Train the model using the training sets\n",
    "clf.fit(X_train, y_train)\n",
    "\n",
    "#Predict the response for test dataset (here still part of training dataset to avoid concept drift)\n",
    "y_pred = clf.predict(X_test)\n",
    "\n",
    "# Model Accuracy: how often is the classifier correct?\n",
    "print(\"Accuracy:\",metrics.accuracy_score(y_test, y_pred))\n",
    "\n",
    "\n",
    "\n",
    "# Classification: Lineares Modell (meint der damit lineare regression?)\n",
    "\n",
    "# Classification: Logitisches Modell\n",
    "\n",
    "# Classification: KNN\n",
    "\n",
    "# Classification: Xgboost\n",
    "\n",
    "# Classification: LightGBM\n",
    "\n",
    "# Others ?"
   ],
   "metadata": {
    "collapsed": false,
    "pycharm": {
     "name": "#%%\n"
    }
   }
  },
  {
   "cell_type": "code",
   "execution_count": 2,
   "outputs": [
    {
     "name": "stdout",
     "output_type": "stream",
     "text": [
      "[[1.32000000e+00 1.70633472e+02 2.10000000e+01 ... 0.00000000e+00\n",
      "  0.00000000e+00 0.00000000e+00]\n",
      " [8.80000000e-01 1.65586111e+02 2.10000000e+01 ... 0.00000000e+00\n",
      "  0.00000000e+00 0.00000000e+00]\n",
      " [5.10000000e-01 1.50265833e+02 2.10000000e+01 ... 0.00000000e+00\n",
      "  0.00000000e+00 0.00000000e+00]\n",
      " ...\n",
      " [8.00000000e-02 6.80000000e+01 6.53465278e+01 ... 5.65555556e+01\n",
      "  5.44166667e+02 5.40555556e+00]\n",
      " [1.20000000e-01 6.80000000e+01 6.36488889e+01 ... 5.65000000e+01\n",
      "  5.44305556e+02 5.41527778e+00]\n",
      " [1.55000000e+00 6.80000000e+01 6.79583333e+01 ... 5.65694444e+01\n",
      "  5.44027778e+02 5.42916667e+00]]\n"
     ]
    }
   ],
   "source": [
    "# ################################## Classificaton with deep learning ###############################\n",
    "\n",
    "# Classification: Neural Network\n",
    "# (currently separate file 'deepNN.py' instead of jupyter notebook, but should be here before submission)"
   ],
   "metadata": {
    "collapsed": false,
    "pycharm": {
     "name": "#%%\n"
    }
   }
  }
 ],
 "metadata": {
  "kernelspec": {
   "name": "pycharm-f419e869",
   "language": "python",
   "display_name": "PyCharm (SmartDataAnalytics)"
  },
  "language_info": {
   "codemirror_mode": {
    "name": "ipython",
    "version": 2
   },
   "file_extension": ".py",
   "mimetype": "text/x-python",
   "name": "python",
   "nbconvert_exporter": "python",
   "pygments_lexer": "ipython2",
   "version": "2.7.6"
  }
 },
 "nbformat": 4,
 "nbformat_minor": 0
}