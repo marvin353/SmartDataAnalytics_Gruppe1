{
 "cells": [
  {
   "cell_type": "markdown",
   "metadata": {
    "collapsed": false
   },
   "source": [
    "# Classification: Klassische Methoden\n",
    "In diesem Notebook versuchen wir die Klassifizierung in \"Failure\"/\"No Failure \" mit klassischen machine learning Methoden durchzuführen."
   ]
  },
  {
   "cell_type": "code",
   "execution_count": 1,
   "metadata": {
    "collapsed": false,
    "pycharm": {
     "is_executing": true,
     "name": "#%%\n"
    }
   },
   "outputs": [],
   "source": [
    "import pandas as pd\r\n",
    "import glob\r\n",
    "import numpy as np\r\n",
    "from sklearn.model_selection import train_test_split\r\n",
    "from sklearn.svm import SVC\r\n",
    "from sklearn.ensemble import BaggingClassifier\r\n",
    "from sklearn import metrics\r\n",
    "import Preprocessing as pp\r\n",
    "import Helpers\r\n",
    "from keras.models import Sequential\r\n",
    "from keras.layers import Dense\r\n",
    "\r\n",
    "rootdir_train = 'data/train/'\r\n",
    "rootdir_test = 'data/test/'\r\n",
    "\r\n",
    "train_labels_path = 'data/train_label.csv'\r\n",
    "test_labels_path = 'data/test_label.csv'\r\n",
    "\r\n",
    "feature_path = 'data/features/'\r\n",
    "feature_path_test = 'data/features_test/'\r\n",
    "\r\n",
    "feature_path_red = 'data/features_reduced/'\r\n",
    "feature_path_test_red = 'data/features_reduced_test/'\r\n",
    "\r\n",
    "# Merge labels and data\r\n",
    "train_labels = pd.read_csv(train_labels_path, index_col=0) #Don't use index numbers per row but CSV file name as index"
   ]
  },
  {
   "cell_type": "code",
   "execution_count": 2,
   "metadata": {},
   "outputs": [
    {
     "name": "stdout",
     "output_type": "stream",
     "text": [
      "22\n"
     ]
    }
   ],
   "source": [
    "drift = ['pitch motor 1 current', 'pitch motor 2 current', 'Pitch motor 3 current', 'x direction vibration value', 'y direction vibration value', 'hydraulic brake pressure', 'generator current', 'Inverter inlet temperature', 'inverter outlet temperature', 'inverter inlet pressure', 'inverter outlet pressure', 'wind tower ambient temperature', 'Wheel temperature', 'Wheel control cabinet temperature', 'Cabin temperature', 'Cabin control cabinet temperature', 'vane 1 pitch motor temperature', 'blade 2 pitch motor temperature', 'blade 3 pitch motor temperature', 'blade 1 inverter box temperature', 'blade 2 inverter box temperature', 'blade 3 inverter box temperature','inverter grid side current', 'Inverter grid side active power', 'inverter generator side power', 'generator operating frequency','generator stator temperature 1', 'generator stator temperature 2',  'generator stator temperature 3', 'generator stator temperature 4', 'Generator stator temperature 5', 'generator stator temperature 6', 'generator air temperature 1', 'generator air temperature 2','main bearing temperature 1', 'main bearing temperature 2', 'Pitch motor 1 power estimation', 'Pitch motor 2 power estimation', 'Pitch motor 3 power estimation', 'blade 1 battery box temperature', 'blade 2 battery box temperature', 'blade 3 battery box temperature','Inverter INU temperature', 'Inverter ISU temperature','atmospheric pressure', 'reactive power control status', 'reactive power set value', 'Inverter INU RMIO temperature','blade 1 angle','blade 2 angle','blade 3 angle','inverter grid side voltage','inverter grid side reactive power']\r\n",
    "print(75-len(drift))"
   ]
  },
  {
   "cell_type": "code",
   "execution_count": 3,
   "metadata": {
    "collapsed": false,
    "pycharm": {
     "name": "#%%\n"
    }
   },
   "outputs": [],
   "source": [
    "# Read feature data\r\n",
    "data = pd.read_csv(feature_path + 'mean' + '.csv', index_col=0)\r\n",
    "data.head()\r\n",
    "data.drop(drift, axis = 1, inplace=True)\r\n",
    "sample_data = data.sample(2500, random_state=0)\r\n",
    "labels = data['label']\r\n",
    "sample_labels = sample_data['label']\r\n",
    "data.drop(['area','label'], axis = 1, inplace=True)\r\n",
    "sample_data.drop(['area','label'], axis = 1, inplace=True)"
   ]
  },
  {
   "cell_type": "code",
   "execution_count": 4,
   "metadata": {},
   "outputs": [],
   "source": [
    "# Test data\r\n",
    "test_data = pd.read_csv(feature_path_test + 'mean' + '.csv', index_col=0)\r\n",
    "test_label = test_data['label']\r\n",
    "test_data.drop(['area','label'], axis = 1, inplace=True)"
   ]
  },
  {
   "cell_type": "code",
   "execution_count": 5,
   "metadata": {
    "collapsed": true
   },
   "outputs": [],
   "source": [
    "# ################################## Classificaton with basic methods ###############################\r\n",
    "# Classification: SVM\r\n",
    "\r\n",
    "#X_train, X_test, y_train, y_test = train_test_split(data[0:300], labels[0:300], test_size=0.2, random_state=123)\r\n",
    "\r\n",
    "X_train, X_test, y_train, y_test = train_test_split(sample_data, sample_labels, test_size=0.2, random_state=123)"
   ]
  },
  {
   "cell_type": "code",
   "execution_count": 6,
   "metadata": {
    "collapsed": false,
    "pycharm": {
     "name": "#%%\n"
    }
   },
   "outputs": [],
   "source": [
    "#Create a svm Classifier\r\n",
    "#clf = svm.SVC(kernel='linear', gamma='auto', verbose=1) # Linear Kernel\r\n",
    "clf = BaggingClassifier(base_estimator=SVC(kernel='linear', gamma='auto'), n_estimators=10, random_state=0, n_jobs=-1)\r\n",
    "\r\n",
    "#Train the model using the training sets\r\n",
    "clf.fit(X_train, y_train)\r\n",
    "\r\n",
    "#Predict the response for test dataset (here still part of training dataset to avoid concept drift)\r\n",
    "y_pred = clf.predict(X_test)\r\n",
    "\r\n",
    "# Model Accuracy: how often is the classifier correct?\r\n",
    "print(\"Accuracy:\",metrics.accuracy_score(y_test, y_pred))\r\n",
    "print(\"F1:\",metrics.f1_score(y_test, y_pred))\r\n",
    "\r\n",
    "\r\n",
    "\r\n",
    "# Classification: Lineares Modell\r\n",
    "\r\n",
    "# Classification: Logitisches Modell\r\n",
    "\r\n",
    "# Classification: KNN\r\n",
    "\r\n",
    "# Classification: Xgboost\r\n",
    "\r\n",
    "# Classification: LightGBM\r\n",
    "\r\n",
    "# Others ?"
   ]
  },
  {
   "cell_type": "code",
   "execution_count": 7,
   "metadata": {},
   "outputs": [
    {
     "name": "stdout",
     "output_type": "stream",
     "text": [
      "Accuracy: 0.574\n",
      "F1: 0.5170068027210885\n",
      "Wheel speed                               -2.394063\n",
      "hub angle                                  0.419400\n",
      "overspeed sensor speed detection value     0.025051\n",
      "5 second yaw against wind average         -0.504094\n",
      "Aircraft weather station wind speed        0.788445\n",
      "wind direction absolute value             -0.158691\n",
      "generator torque                           1.241425\n",
      "generator power limit value               -1.004964\n",
      "Rated hub speed                            1.002310\n",
      "Fan current status value                   1.406525\n",
      "hub current status value                  -0.181384\n",
      "yaw state value                           -0.480667\n",
      "yaw request value                          0.037831\n",
      "blade 1 super capacitor voltage           -0.188724\n",
      "blade 2 super capacitor voltage            0.514198\n",
      "blade 3 super capacitor voltage            0.993728\n",
      "drive 1 thyristor temperature             -1.575836\n",
      "Drive 2 thyristor temperature             17.525093\n",
      "Drive 3 thyristor temperature             -0.578891\n",
      "dtype: float64\n"
     ]
    }
   ],
   "source": [
    "def calculateImportance(bm):\r\n",
    "    importance = [model.coef_ for model in bm.estimators_]\r\n",
    "    # print(importance)\r\n",
    "    m_importance = np.mean(importance,axis=0)\r\n",
    "    # print(m_importance)\r\n",
    "    return np.squeeze(m_importance)\r\n",
    "\r\n",
    "coeff = calculateImportance(clf)\r\n",
    "mag = np.std(X_train, 0) * coeff\r\n",
    "print(mag)"
   ]
  },
  {
   "cell_type": "code",
   "execution_count": 9,
   "metadata": {},
   "outputs": [
    {
     "name": "stdout",
     "output_type": "stream",
     "text": [
      "[ 1  7  8  9 10 17 18]\n"
     ]
    }
   ],
   "source": [
    "thresh = 1\r\n",
    "imp_cut = np.abs(mag.to_numpy()) > thresh\r\n",
    "ind = np.squeeze(np.argwhere(np.abs(mag.to_numpy()) > thresh))\r\n",
    "print(ind + 1)"
   ]
  },
  {
   "cell_type": "code",
   "execution_count": 10,
   "metadata": {},
   "outputs": [
    {
     "data": {
      "text/html": "<div>\n<style scoped>\n    .dataframe tbody tr th:only-of-type {\n        vertical-align: middle;\n    }\n\n    .dataframe tbody tr th {\n        vertical-align: top;\n    }\n\n    .dataframe thead th {\n        text-align: right;\n    }\n</style>\n<table border=\"1\" class=\"dataframe\">\n  <thead>\n    <tr style=\"text-align: right;\">\n      <th></th>\n      <th>Wheel speed</th>\n      <th>generator torque</th>\n      <th>generator power limit value</th>\n      <th>Rated hub speed</th>\n      <th>Fan current status value</th>\n      <th>drive 1 thyristor temperature</th>\n      <th>Drive 2 thyristor temperature</th>\n    </tr>\n  </thead>\n  <tbody>\n    <tr>\n      <th>0</th>\n      <td>0.736525</td>\n      <td>0.000000</td>\n      <td>2053.692377</td>\n      <td>16.716794</td>\n      <td>4.966368</td>\n      <td>0.000000</td>\n      <td>0.000000</td>\n    </tr>\n    <tr>\n      <th>1</th>\n      <td>10.632768</td>\n      <td>351.875000</td>\n      <td>2067.600000</td>\n      <td>16.830000</td>\n      <td>6.000000</td>\n      <td>0.000000</td>\n      <td>0.000000</td>\n    </tr>\n    <tr>\n      <th>2</th>\n      <td>7.365436</td>\n      <td>128.120805</td>\n      <td>2067.600000</td>\n      <td>16.830000</td>\n      <td>6.000000</td>\n      <td>0.000000</td>\n      <td>0.000000</td>\n    </tr>\n    <tr>\n      <th>3</th>\n      <td>0.000000</td>\n      <td>0.000000</td>\n      <td>2062.974497</td>\n      <td>16.792349</td>\n      <td>2.993289</td>\n      <td>0.000000</td>\n      <td>0.000000</td>\n    </tr>\n    <tr>\n      <th>4</th>\n      <td>-0.000068</td>\n      <td>0.000000</td>\n      <td>423.483784</td>\n      <td>10.900676</td>\n      <td>1.990991</td>\n      <td>0.000000</td>\n      <td>0.000000</td>\n    </tr>\n    <tr>\n      <th>...</th>\n      <td>...</td>\n      <td>...</td>\n      <td>...</td>\n      <td>...</td>\n      <td>...</td>\n      <td>...</td>\n      <td>...</td>\n    </tr>\n    <tr>\n      <th>33355</th>\n      <td>8.597455</td>\n      <td>217.553571</td>\n      <td>1786.484152</td>\n      <td>16.328393</td>\n      <td>5.986607</td>\n      <td>57.930804</td>\n      <td>571.116071</td>\n    </tr>\n    <tr>\n      <th>33356</th>\n      <td>8.587342</td>\n      <td>228.637975</td>\n      <td>2067.600000</td>\n      <td>16.830000</td>\n      <td>6.000000</td>\n      <td>55.860759</td>\n      <td>547.063291</td>\n    </tr>\n    <tr>\n      <th>33357</th>\n      <td>12.276050</td>\n      <td>477.803653</td>\n      <td>1730.937215</td>\n      <td>16.260982</td>\n      <td>5.972603</td>\n      <td>57.431507</td>\n      <td>567.511416</td>\n    </tr>\n    <tr>\n      <th>33358</th>\n      <td>6.767692</td>\n      <td>0.108173</td>\n      <td>755.036298</td>\n      <td>12.937043</td>\n      <td>5.971154</td>\n      <td>56.612981</td>\n      <td>559.038462</td>\n    </tr>\n    <tr>\n      <th>33359</th>\n      <td>0.654706</td>\n      <td>0.000000</td>\n      <td>425.400000</td>\n      <td>10.950000</td>\n      <td>3.687783</td>\n      <td>56.538462</td>\n      <td>544.230769</td>\n    </tr>\n  </tbody>\n</table>\n<p>33360 rows × 7 columns</p>\n</div>",
      "text/plain": "       Wheel speed  generator torque  generator power limit value  \\\n0         0.736525          0.000000                  2053.692377   \n1        10.632768        351.875000                  2067.600000   \n2         7.365436        128.120805                  2067.600000   \n3         0.000000          0.000000                  2062.974497   \n4        -0.000068          0.000000                   423.483784   \n...            ...               ...                          ...   \n33355     8.597455        217.553571                  1786.484152   \n33356     8.587342        228.637975                  2067.600000   \n33357    12.276050        477.803653                  1730.937215   \n33358     6.767692          0.108173                   755.036298   \n33359     0.654706          0.000000                   425.400000   \n\n       Rated hub speed  Fan current status value  \\\n0            16.716794                  4.966368   \n1            16.830000                  6.000000   \n2            16.830000                  6.000000   \n3            16.792349                  2.993289   \n4            10.900676                  1.990991   \n...                ...                       ...   \n33355        16.328393                  5.986607   \n33356        16.830000                  6.000000   \n33357        16.260982                  5.972603   \n33358        12.937043                  5.971154   \n33359        10.950000                  3.687783   \n\n       drive 1 thyristor temperature  Drive 2 thyristor temperature  \n0                           0.000000                       0.000000  \n1                           0.000000                       0.000000  \n2                           0.000000                       0.000000  \n3                           0.000000                       0.000000  \n4                           0.000000                       0.000000  \n...                              ...                            ...  \n33355                      57.930804                     571.116071  \n33356                      55.860759                     547.063291  \n33357                      57.431507                     567.511416  \n33358                      56.612981                     559.038462  \n33359                      56.538462                     544.230769  \n\n[33360 rows x 7 columns]"
     },
     "execution_count": 10,
     "metadata": {},
     "output_type": "execute_result"
    }
   ],
   "source": [
    "data.iloc[:,ind]"
   ]
  },
  {
   "cell_type": "code",
   "execution_count": 11,
   "metadata": {},
   "outputs": [],
   "source": [
    "def classifyAfterMagnitudeEvaluation():\r\n",
    "    clf = BaggingClassifier(base_estimator=SVC(kernel='linear', gamma='auto'), n_estimators=10, random_state=0, n_jobs=-1)\r\n",
    "\r\n",
    "    #Train the model using the training sets\r\n",
    "    clf.fit(data.iloc[:,ind], labels)\r\n",
    "\r\n",
    "    #Predict the response for test dataset (here still part of training dataset to avoid concept drift)\r\n",
    "    y_pred = clf.predict(test_data.iloc[:,ind])\r\n",
    "\r\n",
    "    # Model Accuracy: how often is the classifier correct?\r\n",
    "    print(\"Accuracy:\",metrics.accuracy_score(test_label, y_pred))\r\n",
    "    print(\"F1:\",metrics.f1_score(test_label, y_pred))"
   ]
  },
  {
   "cell_type": "code",
   "execution_count": 12,
   "metadata": {},
   "outputs": [],
   "source": [
    "classifyAfterMagnitudeEvaluation()"
   ]
  },
  {
   "cell_type": "code",
   "execution_count": 16,
   "metadata": {},
   "outputs": [],
   "source": [
    "from joblib import dump, load\r\n",
    "import os.path\r\n",
    "\r\n",
    "def save_model(model, name):\r\n",
    "    path = os.path.join(\"models\", name + \".model\")\r\n",
    "    dump(model, path)\r\n",
    "\r\n",
    "def load_model(path):\r\n",
    "    return load(path)"
   ]
  },
  {
   "cell_type": "markdown",
   "metadata": {},
   "source": [
    "## SVC\r\n",
    "\r\n",
    "Reduzierte Daten nach Data_Exploration_Importance_of_Features.ipynb"
   ]
  },
  {
   "cell_type": "code",
   "execution_count": 54,
   "metadata": {},
   "outputs": [],
   "source": [
    "def prepare_ml(estimator, x, y):\r\n",
    "    clf = BaggingClassifier(base_estimator=estimator, bootstrap=False, n_estimators=10, random_state=0, n_jobs=-1)\r\n",
    "    clf.fit(x,y)\r\n",
    "    return clf\r\n",
    "    "
   ]
  },
  {
   "cell_type": "code",
   "execution_count": null,
   "metadata": {},
   "outputs": [],
   "source": [
    "def prepare_svm(red_drift = True, k='linear'):\r\n",
    "    svc = SVC(kernel=k, gamma='auto')\r\n",
    "    x, y = prepare_data(feature_path_red, red_drift)\r\n",
    "    svc = prepare_ml(svc, x, y)\r\n",
    "\r\n",
    "    return svc"
   ]
  },
  {
   "cell_type": "code",
   "execution_count": 55,
   "metadata": {},
   "outputs": [],
   "source": [
    "from sklearn.neighbors import KNeighborsClassifier\r\n",
    "\r\n",
    "def prepare_knn(red_drift = True):\r\n",
    "    knn = KNeighborsClassifier()\r\n",
    "    x, y = prepare_data(feature_path_red, red_drift)\r\n",
    "    svc = prepare_ml(knn, x, y)\r\n",
    "\r\n",
    "    return knn"
   ]
  },
  {
   "cell_type": "code",
   "execution_count": 58,
   "metadata": {},
   "outputs": [],
   "source": [
    "def prepare_data(path, red_drift = True):\r\n",
    "    data = pd.read_csv(path + 'mean' + '.csv', index_col=0)\r\n",
    "    data.dropna(inplace=True)\r\n",
    "    if red_drift:\r\n",
    "        drl = list(set(data.columns.values).intersection(drift))\r\n",
    "        data.drop(drl, axis = 1, inplace=True)\r\n",
    "    label = data['label']\r\n",
    "    data.drop(['area','label'], axis = 1, inplace=True)\r\n",
    "    return data, label"
   ]
  },
  {
   "cell_type": "code",
   "execution_count": 21,
   "metadata": {},
   "outputs": [],
   "source": [
    "def score_predict(test_label, prediction):\r\n",
    "    print(\"Accuracy:\",metrics.accuracy_score(test_label, prediction))\r\n",
    "    print(\"F1:\",metrics.f1_score(test_label, prediction))"
   ]
  },
  {
   "cell_type": "markdown",
   "metadata": {},
   "source": [
    "### Mit Drift"
   ]
  },
  {
   "cell_type": "markdown",
   "metadata": {},
   "source": [
    "#### SVC"
   ]
  },
  {
   "cell_type": "code",
   "execution_count": null,
   "metadata": {},
   "outputs": [],
   "source": [
    "single_svc = prepare_svm()\r\n",
    "save_model(single_svc,\"SVC_reducedData\")"
   ]
  },
  {
   "cell_type": "code",
   "execution_count": 65,
   "metadata": {},
   "outputs": [
    {
     "name": "stdout",
     "output_type": "stream",
     "text": [
      "Accuracy: 0.5084123380958739\n",
      "F1: 0.3411185682326621\n"
     ]
    }
   ],
   "source": [
    "x_test, y_test = prepare_data(feature_path_test_red)\r\n",
    "y_predict_red = single_svc.predict(x_test)\r\n",
    "score_predict(y_test,y_predict_red)"
   ]
  },
  {
   "cell_type": "markdown",
   "metadata": {},
   "source": [
    "#### KNN"
   ]
  },
  {
   "cell_type": "code",
   "execution_count": 66,
   "metadata": {},
   "outputs": [],
   "source": [
    "single_knn = prepare_knn()\r\n",
    "save_model(single_knn,\"KNN_reducedData\")"
   ]
  },
  {
   "cell_type": "code",
   "execution_count": 67,
   "metadata": {},
   "outputs": [
    {
     "name": "stdout",
     "output_type": "stream",
     "text": [
      "Accuracy: 0.5084123380958739\n",
      "F1: 0.3411185682326621\n"
     ]
    }
   ],
   "source": [
    "y_predict_red = single_svc.predict(x_test)\r\n",
    "score_predict(y_test,y_predict_red)"
   ]
  },
  {
   "cell_type": "markdown",
   "metadata": {},
   "source": [
    "### Erkenntnis\r\n",
    "\r\n",
    "Sowohl die SVM als auch der KNN raten nur das Ergebnis.\r\n",
    "Anscheinend sind die Daten aus den unterschiedlichen Standorten untereinander zu unterschiedlich um gemeinsame Parameter zu finden."
   ]
  },
  {
   "cell_type": "markdown",
   "metadata": {},
   "source": [
    "### Ohne Drift"
   ]
  },
  {
   "cell_type": "markdown",
   "metadata": {},
   "source": [
    "#### SVC"
   ]
  },
  {
   "cell_type": "code",
   "execution_count": null,
   "metadata": {},
   "outputs": [],
   "source": [
    "single_svc_wd = prepare_svm(False)\r\n",
    "save_model(single_svc_wd, \"SVC_reducedData_withDrift\")"
   ]
  },
  {
   "cell_type": "code",
   "execution_count": 68,
   "metadata": {},
   "outputs": [
    {
     "name": "stdout",
     "output_type": "stream",
     "text": [
      "Accuracy: 0.5075443984510616\n",
      "F1: 0.4366025053467767\n"
     ]
    }
   ],
   "source": [
    "x_test, y_test = prepare_test_data(False)\r\n",
    "y_predict_red = single_svc_wd.predict(x_test)\r\n",
    "score_predict(y_test,y_predict_red)"
   ]
  },
  {
   "cell_type": "markdown",
   "metadata": {},
   "source": [
    "#### KNN"
   ]
  },
  {
   "cell_type": "code",
   "execution_count": 69,
   "metadata": {},
   "outputs": [],
   "source": [
    "single_knn = prepare_knn(False)\r\n",
    "save_model(single_knn,\"KNN_reducedData_withDrift\")"
   ]
  },
  {
   "cell_type": "code",
   "execution_count": 70,
   "metadata": {},
   "outputs": [
    {
     "ename": "ValueError",
     "evalue": "Number of features of the model must match the input. Model n_features is 15 and input n_features is 54.",
     "output_type": "error",
     "traceback": [
      "\u001B[1;31m---------------------------------------------------------------------------\u001B[0m",
      "\u001B[1;31mValueError\u001B[0m                                Traceback (most recent call last)",
      "\u001B[1;32m<ipython-input-70-ee9cdbde946c>\u001B[0m in \u001B[0;36m<module>\u001B[1;34m\u001B[0m\n\u001B[1;32m----> 1\u001B[1;33m \u001B[0my_predict_red\u001B[0m \u001B[1;33m=\u001B[0m \u001B[0msingle_svc\u001B[0m\u001B[1;33m.\u001B[0m\u001B[0mpredict\u001B[0m\u001B[1;33m(\u001B[0m\u001B[0mx_test\u001B[0m\u001B[1;33m)\u001B[0m\u001B[1;33m\u001B[0m\u001B[1;33m\u001B[0m\u001B[0m\n\u001B[0m\u001B[0;32m      2\u001B[0m \u001B[0mscore_predict\u001B[0m\u001B[1;33m(\u001B[0m\u001B[0my_test\u001B[0m\u001B[1;33m,\u001B[0m\u001B[0my_predict_red\u001B[0m\u001B[1;33m)\u001B[0m\u001B[1;33m\u001B[0m\u001B[1;33m\u001B[0m\u001B[0m\n",
      "\u001B[1;32m~\\anaconda3\\envs\\praktikum\\lib\\site-packages\\sklearn\\ensemble\\_bagging.py\u001B[0m in \u001B[0;36mpredict\u001B[1;34m(self, X)\u001B[0m\n\u001B[0;32m    675\u001B[0m             \u001B[0mThe\u001B[0m \u001B[0mpredicted\u001B[0m \u001B[0mclasses\u001B[0m\u001B[1;33m.\u001B[0m\u001B[1;33m\u001B[0m\u001B[1;33m\u001B[0m\u001B[0m\n\u001B[0;32m    676\u001B[0m         \"\"\"\n\u001B[1;32m--> 677\u001B[1;33m         \u001B[0mpredicted_probabilitiy\u001B[0m \u001B[1;33m=\u001B[0m \u001B[0mself\u001B[0m\u001B[1;33m.\u001B[0m\u001B[0mpredict_proba\u001B[0m\u001B[1;33m(\u001B[0m\u001B[0mX\u001B[0m\u001B[1;33m)\u001B[0m\u001B[1;33m\u001B[0m\u001B[1;33m\u001B[0m\u001B[0m\n\u001B[0m\u001B[0;32m    678\u001B[0m         return self.classes_.take((np.argmax(predicted_probabilitiy, axis=1)),\n\u001B[0;32m    679\u001B[0m                                   axis=0)\n",
      "\u001B[1;32m~\\anaconda3\\envs\\praktikum\\lib\\site-packages\\sklearn\\ensemble\\_bagging.py\u001B[0m in \u001B[0;36mpredict_proba\u001B[1;34m(self, X)\u001B[0m\n\u001B[0;32m    709\u001B[0m \u001B[1;33m\u001B[0m\u001B[0m\n\u001B[0;32m    710\u001B[0m         \u001B[1;32mif\u001B[0m \u001B[0mself\u001B[0m\u001B[1;33m.\u001B[0m\u001B[0mn_features_\u001B[0m \u001B[1;33m!=\u001B[0m \u001B[0mX\u001B[0m\u001B[1;33m.\u001B[0m\u001B[0mshape\u001B[0m\u001B[1;33m[\u001B[0m\u001B[1;36m1\u001B[0m\u001B[1;33m]\u001B[0m\u001B[1;33m:\u001B[0m\u001B[1;33m\u001B[0m\u001B[1;33m\u001B[0m\u001B[0m\n\u001B[1;32m--> 711\u001B[1;33m             raise ValueError(\"Number of features of the model must \"\n\u001B[0m\u001B[0;32m    712\u001B[0m                              \u001B[1;34m\"match the input. Model n_features is {0} and \"\u001B[0m\u001B[1;33m\u001B[0m\u001B[1;33m\u001B[0m\u001B[0m\n\u001B[0;32m    713\u001B[0m                              \u001B[1;34m\"input n_features is {1}.\"\u001B[0m\u001B[1;33m\u001B[0m\u001B[1;33m\u001B[0m\u001B[0m\n",
      "\u001B[1;31mValueError\u001B[0m: Number of features of the model must match the input. Model n_features is 15 and input n_features is 54."
     ]
    }
   ],
   "source": [
    "y_predict_red = single_svc.predict(x_test)\r\n",
    "score_predict(y_test,y_predict_red)"
   ]
  },
  {
   "cell_type": "code",
   "execution_count": null,
   "metadata": {
    "collapsed": false,
    "pycharm": {
     "name": "#%%\n"
    }
   },
   "outputs": [],
   "source": [
    "# ################################## Classificaton with deep learning ###############################\n",
    "\n",
    "# Classification: Neural Network\n",
    "# (currently separate file 'deepNN.py' instead of jupyter notebook, but should be here before submission)"
   ]
  }
 ],
 "metadata": {
  "kernelspec": {
   "name": "python3",
   "language": "python",
   "display_name": "Python 3"
  },
  "language_info": {
   "codemirror_mode": {
    "name": "ipython",
    "version": 3
   },
   "file_extension": ".py",
   "mimetype": "text/x-python",
   "name": "python",
   "nbconvert_exporter": "python",
   "pygments_lexer": "ipython3",
   "version": "3.8.8"
  },
  "orig_nbformat": 3
 },
 "nbformat": 4,
 "nbformat_minor": 0
}