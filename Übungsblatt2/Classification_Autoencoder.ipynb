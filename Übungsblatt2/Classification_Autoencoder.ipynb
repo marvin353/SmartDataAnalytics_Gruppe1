{
  "nbformat": 4,
  "nbformat_minor": 0,
  "metadata": {
    "kernelspec": {
      "display_name": "Python 3",
      "language": "python",
      "name": "python3"
    },
    "language_info": {
      "codemirror_mode": {
        "name": "ipython",
        "version": 2
      },
      "file_extension": ".py",
      "mimetype": "text/x-python",
      "name": "python",
      "nbconvert_exporter": "python",
      "pygments_lexer": "ipython2",
      "version": "2.7.6"
    },
    "colab": {
      "name": "Classification_Autoencoder.ipynb",
      "provenance": [],
      "collapsed_sections": []
    }
  },
  "cells": [
    {
      "cell_type": "markdown",
      "metadata": {
        "collapsed": false,
        "pycharm": {
          "name": "#%% md\n"
        },
        "id": "Uvs7Qwa8-bVi"
      },
      "source": [
        "# Classification: Autoencoder (also Deep Learning)\n",
        "\n",
        "In diesem Notebook verwenden wir Neuronale Netze um die Klassifizierung in \"Failure\"/\"No Failure \" durchzuführen."
      ]
    },
    {
      "cell_type": "code",
      "metadata": {
        "colab": {
          "base_uri": "https://localhost:8080/"
        },
        "id": "MAyr9cIZ-hTE",
        "outputId": "b6097d46-7885-46d7-d5cf-29ea2b779636"
      },
      "source": [
        "#mount data\n",
        "from google.colab import drive\n",
        "drive.mount('/content/drive')\n",
        "datapath = \"/content/drive/My Drive/smartdata/2/\""
      ],
      "execution_count": 1,
      "outputs": [
        {
          "output_type": "stream",
          "text": [
            "Drive already mounted at /content/drive; to attempt to forcibly remount, call drive.mount(\"/content/drive\", force_remount=True).\n"
          ],
          "name": "stdout"
        }
      ]
    },
    {
      "cell_type": "code",
      "metadata": {
        "id": "7zRsJdLnAqU5"
      },
      "source": [
        "import sys\n",
        "sys.path.append(datapath)"
      ],
      "execution_count": 4,
      "outputs": []
    },
    {
      "cell_type": "code",
      "metadata": {
        "collapsed": true,
        "id": "GGt9HaD1-bVn"
      },
      "source": [
        "import pandas as pd\n",
        "from keras.models import Sequential\n",
        "from keras.layers import Dense, Activation, Dropout\n",
        "from sklearn.model_selection import train_test_split\n",
        "from keras.callbacks import EarlyStopping, ReduceLROnPlateau\n",
        "\n",
        "epochs = 150\n",
        "\n",
        "# Load data\n",
        "train, test = pd.read_csv(datapath+\"resampled/resampled_3H_mean.csv\"), pd.read_csv(datapath+\"resampled_test/resampled_3H_mean.csv\")\n",
        "drift = ['pitch motor 1 current', 'pitch motor 2 current', 'Pitch motor 3 current', 'x direction vibration value', 'y direction vibration value', 'hydraulic brake pressure', 'generator current', 'Inverter inlet temperature', 'inverter outlet temperature', 'inverter inlet pressure', 'inverter outlet pressure', 'wind tower ambient temperature', 'Wheel temperature', 'Wheel control cabinet temperature', 'Cabin temperature', 'Cabin control cabinet temperature', 'vane 1 pitch motor temperature', 'blade 2 pitch motor temperature', 'blade 3 pitch motor temperature', 'blade 1 inverter box temperature', 'blade 2 inverter box temperature', 'blade 3 inverter box temperature','inverter grid side current', 'Inverter grid side active power', 'inverter generator side power', 'generator operating frequency','generator stator temperature 1', 'generator stator temperature 2',  'generator stator temperature 3', 'generator stator temperature 4', 'Generator stator temperature 5', 'generator stator temperature 6', 'generator air temperature 1', 'generator air temperature 2','main bearing temperature 1', 'main bearing temperature 2', 'Pitch motor 1 power estimation', 'Pitch motor 2 power estimation', 'Pitch motor 3 power estimation', 'blade 1 battery box temperature', 'blade 2 battery box temperature', 'blade 3 battery box temperature','Inverter INU temperature', 'Inverter ISU temperature','atmospheric pressure', 'reactive power control status', 'reactive power set value', 'Inverter INU RMIO temperature','blade 1 angle','blade 2 angle','blade 3 angle','inverter grid side voltage','inverter grid side reactive power']\n",
        "\n",
        "train.drop(drift, axis = 1, inplace=True)\n",
        "train.drop(\"Unnamed: 0\", axis = 1, inplace=True)\n",
        "train.drop(\"area\", axis = 1, inplace=True)\n",
        "\n",
        "test.drop(drift, axis = 1, inplace=True)\n",
        "test.drop(\"Unnamed: 0\", axis = 1, inplace=True)\n",
        "test.drop(\"area\", axis = 1, inplace=True)"
      ],
      "execution_count": 5,
      "outputs": []
    },
    {
      "cell_type": "code",
      "metadata": {
        "id": "BLpZVBMFEPvN"
      },
      "source": [
        "from sklearn import preprocessing\n",
        "#scale between 0 and 1\n",
        "min_max_scaler = preprocessing.MinMaxScaler()\n",
        "\n",
        "train[train.columns] = min_max_scaler.fit_transform(train[train.columns])\n",
        "test[test.columns]  = min_max_scaler.fit_transform(test[test.columns])"
      ],
      "execution_count": 6,
      "outputs": []
    },
    {
      "cell_type": "code",
      "metadata": {
        "id": "Q28TmqNWO_4L"
      },
      "source": [
        "#normal data (OK)\n",
        "normal_data_train = train[train[\"label\"] == 0].drop(\"label\", axis = 1).reset_index(drop=True)\n",
        "normal_data_test = test[test[\"label\"] == 0].drop(\"label\", axis = 1).reset_index(drop=True)\n",
        "#anomaly data (not OK)\n",
        "anomaly_data = train[train[\"label\"] == 1]\n",
        "anomaly_data = pd.concat([anomaly_data, test[test[\"label\"] == 1]]).drop(\"label\", axis = 1).reset_index(drop=True)"
      ],
      "execution_count": 54,
      "outputs": []
    },
    {
      "cell_type": "code",
      "metadata": {
        "pycharm": {
          "name": "#%%\n"
        },
        "colab": {
          "base_uri": "https://localhost:8080/"
        },
        "id": "UHyFDgiM-bVp",
        "outputId": "5633c0b2-78f7-4786-c7c5-652f47564092"
      },
      "source": [
        "# define the keras autoencoder model\n",
        "from keras.optimizers import Adam\n",
        "model = Sequential()\n",
        "\n",
        "model.add(Dense(11, input_dim = 22, activation='tanh'))\n",
        "model.add(Dropout(0.2))\n",
        "model.add(Dense(6, activation='tanh'))\n",
        "model.add(Dropout(0.2))\n",
        "model.add(Dense(3, activation='tanh'))\n",
        "model.add(Dense(6, activation='tanh'))\n",
        "model.add(Dense(11, activation='tanh'))\n",
        "# sigmoid to get output data in [0,1]\n",
        "model.add(Dense(22, activation='sigmoid'))\n",
        "\n",
        "# compile the keras model\n",
        "model.compile(loss='mse', optimizer=Adam(), metrics=['accuracy','mse'])\n",
        "\n",
        "# fit the keras model on the dataset\n",
        "history = model.fit(normal_data_train, normal_data_train, epochs=epochs, batch_size=1024, verbose=1, validation_data=(normal_data_test, normal_data_test))"
      ],
      "execution_count": 31,
      "outputs": [
        {
          "output_type": "stream",
          "text": [
            "Epoch 1/150\n",
            "397/397 [==============================] - 3s 5ms/step - loss: 0.0983 - accuracy: 0.1679 - mse: 0.0983 - val_loss: 0.0470 - val_accuracy: 0.5102 - val_mse: 0.0470\n",
            "Epoch 2/150\n",
            "397/397 [==============================] - 1s 4ms/step - loss: 0.0287 - accuracy: 0.3495 - mse: 0.0287 - val_loss: 0.0419 - val_accuracy: 0.5102 - val_mse: 0.0419\n",
            "Epoch 3/150\n",
            "397/397 [==============================] - 1s 4ms/step - loss: 0.0208 - accuracy: 0.3521 - mse: 0.0208 - val_loss: 0.0422 - val_accuracy: 0.5102 - val_mse: 0.0422\n",
            "Epoch 4/150\n",
            "397/397 [==============================] - 2s 4ms/step - loss: 0.0183 - accuracy: 0.3516 - mse: 0.0183 - val_loss: 0.0416 - val_accuracy: 0.5102 - val_mse: 0.0416\n",
            "Epoch 5/150\n",
            "397/397 [==============================] - 1s 4ms/step - loss: 0.0160 - accuracy: 0.3470 - mse: 0.0160 - val_loss: 0.0423 - val_accuracy: 0.5087 - val_mse: 0.0423\n",
            "Epoch 6/150\n",
            "397/397 [==============================] - 2s 4ms/step - loss: 0.0145 - accuracy: 0.3508 - mse: 0.0145 - val_loss: 0.0453 - val_accuracy: 0.4736 - val_mse: 0.0453\n",
            "Epoch 7/150\n",
            "397/397 [==============================] - 2s 4ms/step - loss: 0.0135 - accuracy: 0.3523 - mse: 0.0135 - val_loss: 0.0473 - val_accuracy: 0.4264 - val_mse: 0.0473\n",
            "Epoch 8/150\n",
            "397/397 [==============================] - 1s 4ms/step - loss: 0.0130 - accuracy: 0.3539 - mse: 0.0130 - val_loss: 0.0470 - val_accuracy: 0.4093 - val_mse: 0.0470\n",
            "Epoch 9/150\n",
            "397/397 [==============================] - 2s 4ms/step - loss: 0.0127 - accuracy: 0.3545 - mse: 0.0127 - val_loss: 0.0474 - val_accuracy: 0.4018 - val_mse: 0.0474\n",
            "Epoch 10/150\n",
            "397/397 [==============================] - 1s 4ms/step - loss: 0.0125 - accuracy: 0.3541 - mse: 0.0125 - val_loss: 0.0474 - val_accuracy: 0.3991 - val_mse: 0.0474\n",
            "Epoch 11/150\n",
            "397/397 [==============================] - 1s 4ms/step - loss: 0.0124 - accuracy: 0.3547 - mse: 0.0124 - val_loss: 0.0480 - val_accuracy: 0.3976 - val_mse: 0.0480\n",
            "Epoch 12/150\n",
            "397/397 [==============================] - 1s 4ms/step - loss: 0.0122 - accuracy: 0.3546 - mse: 0.0122 - val_loss: 0.0488 - val_accuracy: 0.3958 - val_mse: 0.0488\n",
            "Epoch 13/150\n",
            "397/397 [==============================] - 1s 4ms/step - loss: 0.0121 - accuracy: 0.3537 - mse: 0.0121 - val_loss: 0.0488 - val_accuracy: 0.3897 - val_mse: 0.0488\n",
            "Epoch 14/150\n",
            "397/397 [==============================] - 1s 4ms/step - loss: 0.0119 - accuracy: 0.3567 - mse: 0.0119 - val_loss: 0.0490 - val_accuracy: 0.3932 - val_mse: 0.0490\n",
            "Epoch 15/150\n",
            "397/397 [==============================] - 2s 4ms/step - loss: 0.0118 - accuracy: 0.3562 - mse: 0.0118 - val_loss: 0.0495 - val_accuracy: 0.3944 - val_mse: 0.0495\n",
            "Epoch 16/150\n",
            "397/397 [==============================] - 2s 4ms/step - loss: 0.0117 - accuracy: 0.3570 - mse: 0.0117 - val_loss: 0.0500 - val_accuracy: 0.3965 - val_mse: 0.0500\n",
            "Epoch 17/150\n",
            "397/397 [==============================] - 1s 4ms/step - loss: 0.0117 - accuracy: 0.3580 - mse: 0.0117 - val_loss: 0.0498 - val_accuracy: 0.4020 - val_mse: 0.0498\n",
            "Epoch 18/150\n",
            "397/397 [==============================] - 1s 4ms/step - loss: 0.0117 - accuracy: 0.3578 - mse: 0.0117 - val_loss: 0.0498 - val_accuracy: 0.4116 - val_mse: 0.0498\n",
            "Epoch 19/150\n",
            "397/397 [==============================] - 2s 4ms/step - loss: 0.0116 - accuracy: 0.3592 - mse: 0.0116 - val_loss: 0.0501 - val_accuracy: 0.4371 - val_mse: 0.0501\n",
            "Epoch 20/150\n",
            "397/397 [==============================] - 2s 4ms/step - loss: 0.0116 - accuracy: 0.3622 - mse: 0.0116 - val_loss: 0.0498 - val_accuracy: 0.5102 - val_mse: 0.0498\n",
            "Epoch 21/150\n",
            "397/397 [==============================] - 1s 4ms/step - loss: 0.0115 - accuracy: 0.3802 - mse: 0.0115 - val_loss: 0.0501 - val_accuracy: 0.5069 - val_mse: 0.0501\n",
            "Epoch 22/150\n",
            "397/397 [==============================] - 2s 4ms/step - loss: 0.0115 - accuracy: 0.4268 - mse: 0.0115 - val_loss: 0.0506 - val_accuracy: 0.5023 - val_mse: 0.0506\n",
            "Epoch 23/150\n",
            "397/397 [==============================] - 2s 4ms/step - loss: 0.0115 - accuracy: 0.4480 - mse: 0.0115 - val_loss: 0.0504 - val_accuracy: 0.5023 - val_mse: 0.0504\n",
            "Epoch 24/150\n",
            "397/397 [==============================] - 2s 4ms/step - loss: 0.0114 - accuracy: 0.4568 - mse: 0.0114 - val_loss: 0.0505 - val_accuracy: 0.5010 - val_mse: 0.0505\n",
            "Epoch 25/150\n",
            "397/397 [==============================] - 2s 4ms/step - loss: 0.0114 - accuracy: 0.4675 - mse: 0.0114 - val_loss: 0.0509 - val_accuracy: 0.5010 - val_mse: 0.0509\n",
            "Epoch 26/150\n",
            "397/397 [==============================] - 2s 4ms/step - loss: 0.0114 - accuracy: 0.4753 - mse: 0.0114 - val_loss: 0.0517 - val_accuracy: 0.5009 - val_mse: 0.0517\n",
            "Epoch 27/150\n",
            "397/397 [==============================] - 2s 4ms/step - loss: 0.0113 - accuracy: 0.4754 - mse: 0.0113 - val_loss: 0.0510 - val_accuracy: 0.4984 - val_mse: 0.0510\n",
            "Epoch 28/150\n",
            "397/397 [==============================] - 2s 4ms/step - loss: 0.0113 - accuracy: 0.4963 - mse: 0.0113 - val_loss: 0.0516 - val_accuracy: 0.5013 - val_mse: 0.0516\n",
            "Epoch 29/150\n",
            "397/397 [==============================] - 2s 4ms/step - loss: 0.0113 - accuracy: 0.4938 - mse: 0.0113 - val_loss: 0.0530 - val_accuracy: 0.5026 - val_mse: 0.0530\n",
            "Epoch 30/150\n",
            "397/397 [==============================] - 2s 4ms/step - loss: 0.0112 - accuracy: 0.4958 - mse: 0.0112 - val_loss: 0.0538 - val_accuracy: 0.4998 - val_mse: 0.0538\n",
            "Epoch 31/150\n",
            "397/397 [==============================] - 2s 4ms/step - loss: 0.0112 - accuracy: 0.5105 - mse: 0.0112 - val_loss: 0.0545 - val_accuracy: 0.4957 - val_mse: 0.0545\n",
            "Epoch 32/150\n",
            "397/397 [==============================] - 2s 4ms/step - loss: 0.0112 - accuracy: 0.5151 - mse: 0.0112 - val_loss: 0.0542 - val_accuracy: 0.4948 - val_mse: 0.0542\n",
            "Epoch 33/150\n",
            "397/397 [==============================] - 2s 4ms/step - loss: 0.0112 - accuracy: 0.5185 - mse: 0.0112 - val_loss: 0.0543 - val_accuracy: 0.4762 - val_mse: 0.0543\n",
            "Epoch 34/150\n",
            "397/397 [==============================] - 2s 4ms/step - loss: 0.0112 - accuracy: 0.5246 - mse: 0.0112 - val_loss: 0.0547 - val_accuracy: 0.4697 - val_mse: 0.0547\n",
            "Epoch 35/150\n",
            "397/397 [==============================] - 2s 4ms/step - loss: 0.0112 - accuracy: 0.5293 - mse: 0.0112 - val_loss: 0.0541 - val_accuracy: 0.3455 - val_mse: 0.0541\n",
            "Epoch 36/150\n",
            "397/397 [==============================] - 2s 4ms/step - loss: 0.0111 - accuracy: 0.5301 - mse: 0.0111 - val_loss: 0.0545 - val_accuracy: 0.3455 - val_mse: 0.0545\n",
            "Epoch 37/150\n",
            "397/397 [==============================] - 2s 4ms/step - loss: 0.0111 - accuracy: 0.5321 - mse: 0.0111 - val_loss: 0.0538 - val_accuracy: 0.3455 - val_mse: 0.0538\n",
            "Epoch 38/150\n",
            "397/397 [==============================] - 1s 4ms/step - loss: 0.0111 - accuracy: 0.5324 - mse: 0.0111 - val_loss: 0.0557 - val_accuracy: 0.3455 - val_mse: 0.0557\n",
            "Epoch 39/150\n",
            "397/397 [==============================] - 1s 4ms/step - loss: 0.0110 - accuracy: 0.5324 - mse: 0.0110 - val_loss: 0.0559 - val_accuracy: 0.3454 - val_mse: 0.0559\n",
            "Epoch 40/150\n",
            "397/397 [==============================] - 2s 4ms/step - loss: 0.0110 - accuracy: 0.5313 - mse: 0.0110 - val_loss: 0.0559 - val_accuracy: 0.3450 - val_mse: 0.0559\n",
            "Epoch 41/150\n",
            "397/397 [==============================] - 1s 4ms/step - loss: 0.0110 - accuracy: 0.5320 - mse: 0.0110 - val_loss: 0.0553 - val_accuracy: 0.3454 - val_mse: 0.0553\n",
            "Epoch 42/150\n",
            "397/397 [==============================] - 1s 4ms/step - loss: 0.0110 - accuracy: 0.5332 - mse: 0.0110 - val_loss: 0.0553 - val_accuracy: 0.3453 - val_mse: 0.0553\n",
            "Epoch 43/150\n",
            "397/397 [==============================] - 2s 4ms/step - loss: 0.0110 - accuracy: 0.5337 - mse: 0.0110 - val_loss: 0.0564 - val_accuracy: 0.3438 - val_mse: 0.0564\n",
            "Epoch 44/150\n",
            "397/397 [==============================] - 1s 4ms/step - loss: 0.0109 - accuracy: 0.5331 - mse: 0.0109 - val_loss: 0.0555 - val_accuracy: 0.3437 - val_mse: 0.0555\n",
            "Epoch 45/150\n",
            "397/397 [==============================] - 2s 4ms/step - loss: 0.0109 - accuracy: 0.5355 - mse: 0.0109 - val_loss: 0.0556 - val_accuracy: 0.3434 - val_mse: 0.0556\n",
            "Epoch 46/150\n",
            "397/397 [==============================] - 2s 4ms/step - loss: 0.0109 - accuracy: 0.5356 - mse: 0.0109 - val_loss: 0.0562 - val_accuracy: 0.3406 - val_mse: 0.0562\n",
            "Epoch 47/150\n",
            "397/397 [==============================] - 2s 4ms/step - loss: 0.0109 - accuracy: 0.5365 - mse: 0.0109 - val_loss: 0.0563 - val_accuracy: 0.3406 - val_mse: 0.0563\n",
            "Epoch 48/150\n",
            "397/397 [==============================] - 2s 4ms/step - loss: 0.0108 - accuracy: 0.5363 - mse: 0.0108 - val_loss: 0.0565 - val_accuracy: 0.3389 - val_mse: 0.0565\n",
            "Epoch 49/150\n",
            "397/397 [==============================] - 2s 4ms/step - loss: 0.0108 - accuracy: 0.5367 - mse: 0.0108 - val_loss: 0.0558 - val_accuracy: 0.3386 - val_mse: 0.0558\n",
            "Epoch 50/150\n",
            "397/397 [==============================] - 2s 4ms/step - loss: 0.0108 - accuracy: 0.5371 - mse: 0.0108 - val_loss: 0.0573 - val_accuracy: 0.3343 - val_mse: 0.0573\n",
            "Epoch 51/150\n",
            "397/397 [==============================] - 2s 4ms/step - loss: 0.0108 - accuracy: 0.5360 - mse: 0.0108 - val_loss: 0.0574 - val_accuracy: 0.3354 - val_mse: 0.0574\n",
            "Epoch 52/150\n",
            "397/397 [==============================] - 2s 4ms/step - loss: 0.0107 - accuracy: 0.5318 - mse: 0.0107 - val_loss: 0.0574 - val_accuracy: 0.3343 - val_mse: 0.0574\n",
            "Epoch 53/150\n",
            "397/397 [==============================] - 2s 4ms/step - loss: 0.0107 - accuracy: 0.5251 - mse: 0.0107 - val_loss: 0.0559 - val_accuracy: 0.3388 - val_mse: 0.0559\n",
            "Epoch 54/150\n",
            "397/397 [==============================] - 2s 4ms/step - loss: 0.0107 - accuracy: 0.5215 - mse: 0.0107 - val_loss: 0.0573 - val_accuracy: 0.3365 - val_mse: 0.0573\n",
            "Epoch 55/150\n",
            "397/397 [==============================] - 2s 4ms/step - loss: 0.0107 - accuracy: 0.5183 - mse: 0.0107 - val_loss: 0.0569 - val_accuracy: 0.3372 - val_mse: 0.0569\n",
            "Epoch 56/150\n",
            "397/397 [==============================] - 1s 4ms/step - loss: 0.0107 - accuracy: 0.5189 - mse: 0.0107 - val_loss: 0.0565 - val_accuracy: 0.3386 - val_mse: 0.0565\n",
            "Epoch 57/150\n",
            "397/397 [==============================] - 2s 4ms/step - loss: 0.0107 - accuracy: 0.5152 - mse: 0.0107 - val_loss: 0.0569 - val_accuracy: 0.3380 - val_mse: 0.0569\n",
            "Epoch 58/150\n",
            "397/397 [==============================] - 2s 4ms/step - loss: 0.0107 - accuracy: 0.5141 - mse: 0.0107 - val_loss: 0.0566 - val_accuracy: 0.3376 - val_mse: 0.0566\n",
            "Epoch 59/150\n",
            "397/397 [==============================] - 2s 4ms/step - loss: 0.0106 - accuracy: 0.5126 - mse: 0.0106 - val_loss: 0.0562 - val_accuracy: 0.3396 - val_mse: 0.0562\n",
            "Epoch 60/150\n",
            "397/397 [==============================] - 2s 4ms/step - loss: 0.0106 - accuracy: 0.5117 - mse: 0.0106 - val_loss: 0.0564 - val_accuracy: 0.3404 - val_mse: 0.0564\n",
            "Epoch 61/150\n",
            "397/397 [==============================] - 2s 4ms/step - loss: 0.0106 - accuracy: 0.5109 - mse: 0.0106 - val_loss: 0.0559 - val_accuracy: 0.3400 - val_mse: 0.0559\n",
            "Epoch 62/150\n",
            "397/397 [==============================] - 2s 4ms/step - loss: 0.0106 - accuracy: 0.5127 - mse: 0.0106 - val_loss: 0.0557 - val_accuracy: 0.3412 - val_mse: 0.0557\n",
            "Epoch 63/150\n",
            "397/397 [==============================] - 2s 4ms/step - loss: 0.0105 - accuracy: 0.5134 - mse: 0.0105 - val_loss: 0.0558 - val_accuracy: 0.3409 - val_mse: 0.0558\n",
            "Epoch 64/150\n",
            "397/397 [==============================] - 2s 4ms/step - loss: 0.0105 - accuracy: 0.5111 - mse: 0.0105 - val_loss: 0.0554 - val_accuracy: 0.3415 - val_mse: 0.0554\n",
            "Epoch 65/150\n",
            "397/397 [==============================] - 2s 4ms/step - loss: 0.0105 - accuracy: 0.5118 - mse: 0.0105 - val_loss: 0.0555 - val_accuracy: 0.3425 - val_mse: 0.0555\n",
            "Epoch 66/150\n",
            "397/397 [==============================] - 2s 4ms/step - loss: 0.0105 - accuracy: 0.5111 - mse: 0.0105 - val_loss: 0.0554 - val_accuracy: 0.3415 - val_mse: 0.0554\n",
            "Epoch 67/150\n",
            "397/397 [==============================] - 2s 4ms/step - loss: 0.0105 - accuracy: 0.5109 - mse: 0.0105 - val_loss: 0.0552 - val_accuracy: 0.3436 - val_mse: 0.0552\n",
            "Epoch 68/150\n",
            "397/397 [==============================] - 2s 4ms/step - loss: 0.0105 - accuracy: 0.5109 - mse: 0.0105 - val_loss: 0.0547 - val_accuracy: 0.3441 - val_mse: 0.0547\n",
            "Epoch 69/150\n",
            "397/397 [==============================] - 2s 4ms/step - loss: 0.0104 - accuracy: 0.5100 - mse: 0.0104 - val_loss: 0.0550 - val_accuracy: 0.3433 - val_mse: 0.0550\n",
            "Epoch 70/150\n",
            "397/397 [==============================] - 2s 4ms/step - loss: 0.0104 - accuracy: 0.5096 - mse: 0.0104 - val_loss: 0.0553 - val_accuracy: 0.3420 - val_mse: 0.0553\n",
            "Epoch 71/150\n",
            "397/397 [==============================] - 2s 4ms/step - loss: 0.0104 - accuracy: 0.5109 - mse: 0.0104 - val_loss: 0.0555 - val_accuracy: 0.3412 - val_mse: 0.0555\n",
            "Epoch 72/150\n",
            "397/397 [==============================] - 2s 4ms/step - loss: 0.0104 - accuracy: 0.5097 - mse: 0.0104 - val_loss: 0.0553 - val_accuracy: 0.3431 - val_mse: 0.0553\n",
            "Epoch 73/150\n",
            "397/397 [==============================] - 2s 4ms/step - loss: 0.0104 - accuracy: 0.5110 - mse: 0.0104 - val_loss: 0.0549 - val_accuracy: 0.3442 - val_mse: 0.0549\n",
            "Epoch 74/150\n",
            "397/397 [==============================] - 2s 4ms/step - loss: 0.0104 - accuracy: 0.5110 - mse: 0.0104 - val_loss: 0.0552 - val_accuracy: 0.3440 - val_mse: 0.0552\n",
            "Epoch 75/150\n",
            "397/397 [==============================] - 2s 4ms/step - loss: 0.0103 - accuracy: 0.5094 - mse: 0.0103 - val_loss: 0.0545 - val_accuracy: 0.3444 - val_mse: 0.0545\n",
            "Epoch 76/150\n",
            "397/397 [==============================] - 2s 4ms/step - loss: 0.0103 - accuracy: 0.5106 - mse: 0.0103 - val_loss: 0.0552 - val_accuracy: 0.3437 - val_mse: 0.0552\n",
            "Epoch 77/150\n",
            "397/397 [==============================] - 2s 4ms/step - loss: 0.0103 - accuracy: 0.5089 - mse: 0.0103 - val_loss: 0.0555 - val_accuracy: 0.3429 - val_mse: 0.0555\n",
            "Epoch 78/150\n",
            "397/397 [==============================] - 2s 5ms/step - loss: 0.0103 - accuracy: 0.5108 - mse: 0.0103 - val_loss: 0.0546 - val_accuracy: 0.3439 - val_mse: 0.0546\n",
            "Epoch 79/150\n",
            "397/397 [==============================] - 2s 5ms/step - loss: 0.0103 - accuracy: 0.5095 - mse: 0.0103 - val_loss: 0.0546 - val_accuracy: 0.3448 - val_mse: 0.0546\n",
            "Epoch 80/150\n",
            "397/397 [==============================] - 2s 6ms/step - loss: 0.0103 - accuracy: 0.5099 - mse: 0.0103 - val_loss: 0.0547 - val_accuracy: 0.3443 - val_mse: 0.0547\n",
            "Epoch 81/150\n",
            "397/397 [==============================] - 2s 6ms/step - loss: 0.0103 - accuracy: 0.5117 - mse: 0.0103 - val_loss: 0.0548 - val_accuracy: 0.3449 - val_mse: 0.0548\n",
            "Epoch 82/150\n",
            "397/397 [==============================] - 2s 6ms/step - loss: 0.0103 - accuracy: 0.5121 - mse: 0.0103 - val_loss: 0.0539 - val_accuracy: 0.3455 - val_mse: 0.0539\n",
            "Epoch 83/150\n",
            "397/397 [==============================] - 2s 6ms/step - loss: 0.0103 - accuracy: 0.5120 - mse: 0.0103 - val_loss: 0.0541 - val_accuracy: 0.3451 - val_mse: 0.0541\n",
            "Epoch 84/150\n",
            "397/397 [==============================] - 2s 6ms/step - loss: 0.0102 - accuracy: 0.5128 - mse: 0.0102 - val_loss: 0.0546 - val_accuracy: 0.3449 - val_mse: 0.0546\n",
            "Epoch 85/150\n",
            "397/397 [==============================] - 2s 6ms/step - loss: 0.0103 - accuracy: 0.5127 - mse: 0.0103 - val_loss: 0.0544 - val_accuracy: 0.3449 - val_mse: 0.0544\n",
            "Epoch 86/150\n",
            "397/397 [==============================] - 2s 6ms/step - loss: 0.0102 - accuracy: 0.5129 - mse: 0.0102 - val_loss: 0.0537 - val_accuracy: 0.3454 - val_mse: 0.0537\n",
            "Epoch 87/150\n",
            "397/397 [==============================] - 2s 5ms/step - loss: 0.0103 - accuracy: 0.5119 - mse: 0.0103 - val_loss: 0.0540 - val_accuracy: 0.3454 - val_mse: 0.0540\n",
            "Epoch 88/150\n",
            "397/397 [==============================] - 2s 5ms/step - loss: 0.0103 - accuracy: 0.5116 - mse: 0.0103 - val_loss: 0.0542 - val_accuracy: 0.3454 - val_mse: 0.0542\n",
            "Epoch 89/150\n",
            "397/397 [==============================] - 2s 5ms/step - loss: 0.0103 - accuracy: 0.5120 - mse: 0.0103 - val_loss: 0.0546 - val_accuracy: 0.3454 - val_mse: 0.0546\n",
            "Epoch 90/150\n",
            "397/397 [==============================] - 2s 6ms/step - loss: 0.0102 - accuracy: 0.5127 - mse: 0.0102 - val_loss: 0.0536 - val_accuracy: 0.3454 - val_mse: 0.0536\n",
            "Epoch 91/150\n",
            "397/397 [==============================] - 2s 6ms/step - loss: 0.0103 - accuracy: 0.5140 - mse: 0.0103 - val_loss: 0.0540 - val_accuracy: 0.3454 - val_mse: 0.0540\n",
            "Epoch 92/150\n",
            "397/397 [==============================] - 2s 5ms/step - loss: 0.0102 - accuracy: 0.5144 - mse: 0.0102 - val_loss: 0.0536 - val_accuracy: 0.3455 - val_mse: 0.0536\n",
            "Epoch 93/150\n",
            "397/397 [==============================] - 2s 5ms/step - loss: 0.0103 - accuracy: 0.5149 - mse: 0.0103 - val_loss: 0.0539 - val_accuracy: 0.3455 - val_mse: 0.0539\n",
            "Epoch 94/150\n",
            "397/397 [==============================] - 2s 6ms/step - loss: 0.0102 - accuracy: 0.5134 - mse: 0.0102 - val_loss: 0.0531 - val_accuracy: 0.3455 - val_mse: 0.0531\n",
            "Epoch 95/150\n",
            "397/397 [==============================] - 2s 6ms/step - loss: 0.0102 - accuracy: 0.5143 - mse: 0.0102 - val_loss: 0.0536 - val_accuracy: 0.3455 - val_mse: 0.0536\n",
            "Epoch 96/150\n",
            "397/397 [==============================] - 2s 5ms/step - loss: 0.0102 - accuracy: 0.5150 - mse: 0.0102 - val_loss: 0.0535 - val_accuracy: 0.3455 - val_mse: 0.0535\n",
            "Epoch 97/150\n",
            "397/397 [==============================] - 2s 6ms/step - loss: 0.0103 - accuracy: 0.5133 - mse: 0.0103 - val_loss: 0.0532 - val_accuracy: 0.3455 - val_mse: 0.0532\n",
            "Epoch 98/150\n",
            "397/397 [==============================] - 2s 6ms/step - loss: 0.0102 - accuracy: 0.5144 - mse: 0.0102 - val_loss: 0.0534 - val_accuracy: 0.3455 - val_mse: 0.0534\n",
            "Epoch 99/150\n",
            "397/397 [==============================] - 2s 4ms/step - loss: 0.0102 - accuracy: 0.5126 - mse: 0.0102 - val_loss: 0.0534 - val_accuracy: 0.3455 - val_mse: 0.0534\n",
            "Epoch 100/150\n",
            "397/397 [==============================] - 2s 5ms/step - loss: 0.0103 - accuracy: 0.5142 - mse: 0.0103 - val_loss: 0.0528 - val_accuracy: 0.3455 - val_mse: 0.0528\n",
            "Epoch 101/150\n",
            "397/397 [==============================] - 3s 6ms/step - loss: 0.0102 - accuracy: 0.5135 - mse: 0.0102 - val_loss: 0.0539 - val_accuracy: 0.3455 - val_mse: 0.0539\n",
            "Epoch 102/150\n",
            "397/397 [==============================] - 3s 6ms/step - loss: 0.0103 - accuracy: 0.5131 - mse: 0.0103 - val_loss: 0.0535 - val_accuracy: 0.3455 - val_mse: 0.0535\n",
            "Epoch 103/150\n",
            "397/397 [==============================] - 2s 6ms/step - loss: 0.0102 - accuracy: 0.5139 - mse: 0.0102 - val_loss: 0.0532 - val_accuracy: 0.3455 - val_mse: 0.0532\n",
            "Epoch 104/150\n",
            "397/397 [==============================] - 2s 5ms/step - loss: 0.0102 - accuracy: 0.5121 - mse: 0.0102 - val_loss: 0.0537 - val_accuracy: 0.3455 - val_mse: 0.0537\n",
            "Epoch 105/150\n",
            "397/397 [==============================] - 2s 6ms/step - loss: 0.0102 - accuracy: 0.5137 - mse: 0.0102 - val_loss: 0.0530 - val_accuracy: 0.3455 - val_mse: 0.0530\n",
            "Epoch 106/150\n",
            "397/397 [==============================] - 2s 6ms/step - loss: 0.0102 - accuracy: 0.5131 - mse: 0.0102 - val_loss: 0.0531 - val_accuracy: 0.3455 - val_mse: 0.0531\n",
            "Epoch 107/150\n",
            "397/397 [==============================] - 3s 6ms/step - loss: 0.0102 - accuracy: 0.5143 - mse: 0.0102 - val_loss: 0.0536 - val_accuracy: 0.3455 - val_mse: 0.0536\n",
            "Epoch 108/150\n",
            "397/397 [==============================] - 2s 6ms/step - loss: 0.0102 - accuracy: 0.5141 - mse: 0.0102 - val_loss: 0.0531 - val_accuracy: 0.3455 - val_mse: 0.0531\n",
            "Epoch 109/150\n",
            "397/397 [==============================] - 2s 6ms/step - loss: 0.0102 - accuracy: 0.5146 - mse: 0.0102 - val_loss: 0.0533 - val_accuracy: 0.3455 - val_mse: 0.0533\n",
            "Epoch 110/150\n",
            "397/397 [==============================] - 2s 6ms/step - loss: 0.0102 - accuracy: 0.5140 - mse: 0.0102 - val_loss: 0.0532 - val_accuracy: 0.3455 - val_mse: 0.0532\n",
            "Epoch 111/150\n",
            "397/397 [==============================] - 2s 5ms/step - loss: 0.0102 - accuracy: 0.5145 - mse: 0.0102 - val_loss: 0.0531 - val_accuracy: 0.3455 - val_mse: 0.0531\n",
            "Epoch 112/150\n",
            "397/397 [==============================] - 2s 5ms/step - loss: 0.0102 - accuracy: 0.5134 - mse: 0.0102 - val_loss: 0.0537 - val_accuracy: 0.3455 - val_mse: 0.0537\n",
            "Epoch 113/150\n",
            "397/397 [==============================] - 2s 6ms/step - loss: 0.0102 - accuracy: 0.5142 - mse: 0.0102 - val_loss: 0.0531 - val_accuracy: 0.3455 - val_mse: 0.0531\n",
            "Epoch 114/150\n",
            "397/397 [==============================] - 2s 5ms/step - loss: 0.0102 - accuracy: 0.5152 - mse: 0.0102 - val_loss: 0.0525 - val_accuracy: 0.3455 - val_mse: 0.0525\n",
            "Epoch 115/150\n",
            "397/397 [==============================] - 2s 6ms/step - loss: 0.0102 - accuracy: 0.5130 - mse: 0.0102 - val_loss: 0.0529 - val_accuracy: 0.3455 - val_mse: 0.0529\n",
            "Epoch 116/150\n",
            "397/397 [==============================] - 2s 5ms/step - loss: 0.0102 - accuracy: 0.5136 - mse: 0.0102 - val_loss: 0.0529 - val_accuracy: 0.3455 - val_mse: 0.0529\n",
            "Epoch 117/150\n",
            "397/397 [==============================] - 2s 6ms/step - loss: 0.0102 - accuracy: 0.5122 - mse: 0.0102 - val_loss: 0.0532 - val_accuracy: 0.3455 - val_mse: 0.0532\n",
            "Epoch 118/150\n",
            "397/397 [==============================] - 2s 5ms/step - loss: 0.0102 - accuracy: 0.5151 - mse: 0.0102 - val_loss: 0.0529 - val_accuracy: 0.3455 - val_mse: 0.0529\n",
            "Epoch 119/150\n",
            "397/397 [==============================] - 2s 5ms/step - loss: 0.0102 - accuracy: 0.5136 - mse: 0.0102 - val_loss: 0.0527 - val_accuracy: 0.3455 - val_mse: 0.0527\n",
            "Epoch 120/150\n",
            "397/397 [==============================] - 2s 5ms/step - loss: 0.0102 - accuracy: 0.5141 - mse: 0.0102 - val_loss: 0.0529 - val_accuracy: 0.3455 - val_mse: 0.0529\n",
            "Epoch 121/150\n",
            "397/397 [==============================] - 2s 5ms/step - loss: 0.0102 - accuracy: 0.5146 - mse: 0.0102 - val_loss: 0.0525 - val_accuracy: 0.3455 - val_mse: 0.0525\n",
            "Epoch 122/150\n",
            "397/397 [==============================] - 2s 6ms/step - loss: 0.0102 - accuracy: 0.5155 - mse: 0.0102 - val_loss: 0.0525 - val_accuracy: 0.3455 - val_mse: 0.0525\n",
            "Epoch 123/150\n",
            "397/397 [==============================] - 2s 5ms/step - loss: 0.0101 - accuracy: 0.5136 - mse: 0.0101 - val_loss: 0.0533 - val_accuracy: 0.3455 - val_mse: 0.0533\n",
            "Epoch 124/150\n",
            "397/397 [==============================] - 2s 5ms/step - loss: 0.0102 - accuracy: 0.5140 - mse: 0.0102 - val_loss: 0.0529 - val_accuracy: 0.3455 - val_mse: 0.0529\n",
            "Epoch 125/150\n",
            "397/397 [==============================] - 3s 6ms/step - loss: 0.0101 - accuracy: 0.5139 - mse: 0.0101 - val_loss: 0.0523 - val_accuracy: 0.3455 - val_mse: 0.0523\n",
            "Epoch 126/150\n",
            "397/397 [==============================] - 2s 6ms/step - loss: 0.0102 - accuracy: 0.5143 - mse: 0.0102 - val_loss: 0.0523 - val_accuracy: 0.3456 - val_mse: 0.0523\n",
            "Epoch 127/150\n",
            "397/397 [==============================] - 2s 6ms/step - loss: 0.0101 - accuracy: 0.5149 - mse: 0.0101 - val_loss: 0.0524 - val_accuracy: 0.3455 - val_mse: 0.0524\n",
            "Epoch 128/150\n",
            "397/397 [==============================] - 2s 6ms/step - loss: 0.0102 - accuracy: 0.5145 - mse: 0.0102 - val_loss: 0.0527 - val_accuracy: 0.3455 - val_mse: 0.0527\n",
            "Epoch 129/150\n",
            "397/397 [==============================] - 2s 5ms/step - loss: 0.0101 - accuracy: 0.5137 - mse: 0.0101 - val_loss: 0.0528 - val_accuracy: 0.3455 - val_mse: 0.0528\n",
            "Epoch 130/150\n",
            "397/397 [==============================] - 2s 6ms/step - loss: 0.0102 - accuracy: 0.5143 - mse: 0.0102 - val_loss: 0.0525 - val_accuracy: 0.3456 - val_mse: 0.0525\n",
            "Epoch 131/150\n",
            "397/397 [==============================] - 2s 5ms/step - loss: 0.0102 - accuracy: 0.5135 - mse: 0.0102 - val_loss: 0.0523 - val_accuracy: 0.3455 - val_mse: 0.0523\n",
            "Epoch 132/150\n",
            "397/397 [==============================] - 2s 5ms/step - loss: 0.0102 - accuracy: 0.5148 - mse: 0.0102 - val_loss: 0.0520 - val_accuracy: 0.3455 - val_mse: 0.0520\n",
            "Epoch 133/150\n",
            "397/397 [==============================] - 2s 5ms/step - loss: 0.0102 - accuracy: 0.5140 - mse: 0.0102 - val_loss: 0.0525 - val_accuracy: 0.3455 - val_mse: 0.0525\n",
            "Epoch 134/150\n",
            "397/397 [==============================] - 3s 6ms/step - loss: 0.0102 - accuracy: 0.5143 - mse: 0.0102 - val_loss: 0.0516 - val_accuracy: 0.3455 - val_mse: 0.0516\n",
            "Epoch 135/150\n",
            "397/397 [==============================] - 2s 6ms/step - loss: 0.0101 - accuracy: 0.5137 - mse: 0.0101 - val_loss: 0.0519 - val_accuracy: 0.3455 - val_mse: 0.0519\n",
            "Epoch 136/150\n",
            "397/397 [==============================] - 2s 5ms/step - loss: 0.0102 - accuracy: 0.5150 - mse: 0.0102 - val_loss: 0.0524 - val_accuracy: 0.3456 - val_mse: 0.0524\n",
            "Epoch 137/150\n",
            "397/397 [==============================] - 2s 6ms/step - loss: 0.0102 - accuracy: 0.5136 - mse: 0.0102 - val_loss: 0.0524 - val_accuracy: 0.3456 - val_mse: 0.0524\n",
            "Epoch 138/150\n",
            "397/397 [==============================] - 2s 5ms/step - loss: 0.0101 - accuracy: 0.5147 - mse: 0.0101 - val_loss: 0.0527 - val_accuracy: 0.3455 - val_mse: 0.0527\n",
            "Epoch 139/150\n",
            "397/397 [==============================] - 2s 6ms/step - loss: 0.0101 - accuracy: 0.5168 - mse: 0.0101 - val_loss: 0.0527 - val_accuracy: 0.3455 - val_mse: 0.0527\n",
            "Epoch 140/150\n",
            "397/397 [==============================] - 2s 6ms/step - loss: 0.0101 - accuracy: 0.5144 - mse: 0.0101 - val_loss: 0.0524 - val_accuracy: 0.3455 - val_mse: 0.0524\n",
            "Epoch 141/150\n",
            "397/397 [==============================] - 2s 6ms/step - loss: 0.0102 - accuracy: 0.5124 - mse: 0.0102 - val_loss: 0.0528 - val_accuracy: 0.3455 - val_mse: 0.0528\n",
            "Epoch 142/150\n",
            "397/397 [==============================] - 2s 6ms/step - loss: 0.0102 - accuracy: 0.5137 - mse: 0.0102 - val_loss: 0.0526 - val_accuracy: 0.3456 - val_mse: 0.0526\n",
            "Epoch 143/150\n",
            "397/397 [==============================] - 2s 5ms/step - loss: 0.0102 - accuracy: 0.5133 - mse: 0.0102 - val_loss: 0.0525 - val_accuracy: 0.3455 - val_mse: 0.0525\n",
            "Epoch 144/150\n",
            "397/397 [==============================] - 2s 6ms/step - loss: 0.0101 - accuracy: 0.5136 - mse: 0.0101 - val_loss: 0.0529 - val_accuracy: 0.3456 - val_mse: 0.0529\n",
            "Epoch 145/150\n",
            "397/397 [==============================] - 2s 5ms/step - loss: 0.0101 - accuracy: 0.5149 - mse: 0.0101 - val_loss: 0.0527 - val_accuracy: 0.3455 - val_mse: 0.0527\n",
            "Epoch 146/150\n",
            "397/397 [==============================] - 2s 6ms/step - loss: 0.0102 - accuracy: 0.5146 - mse: 0.0102 - val_loss: 0.0527 - val_accuracy: 0.3456 - val_mse: 0.0527\n",
            "Epoch 147/150\n",
            "397/397 [==============================] - 2s 5ms/step - loss: 0.0101 - accuracy: 0.5148 - mse: 0.0101 - val_loss: 0.0523 - val_accuracy: 0.3455 - val_mse: 0.0523\n",
            "Epoch 148/150\n",
            "397/397 [==============================] - 2s 5ms/step - loss: 0.0101 - accuracy: 0.5145 - mse: 0.0101 - val_loss: 0.0528 - val_accuracy: 0.3455 - val_mse: 0.0528\n",
            "Epoch 149/150\n",
            "397/397 [==============================] - 2s 6ms/step - loss: 0.0101 - accuracy: 0.5154 - mse: 0.0101 - val_loss: 0.0525 - val_accuracy: 0.3455 - val_mse: 0.0525\n",
            "Epoch 150/150\n",
            "397/397 [==============================] - 2s 6ms/step - loss: 0.0101 - accuracy: 0.5137 - mse: 0.0101 - val_loss: 0.0531 - val_accuracy: 0.3456 - val_mse: 0.0531\n"
          ],
          "name": "stdout"
        }
      ]
    },
    {
      "cell_type": "code",
      "metadata": {
        "id": "8-mpOJB2cKYy",
        "colab": {
          "base_uri": "https://localhost:8080/",
          "height": 820
        },
        "outputId": "588b5ea3-96d3-48f4-dd9d-bcbacc76fc20"
      },
      "source": [
        "from IPython.display import SVG\n",
        "from keras.utils.vis_utils import model_to_dot\n",
        "SVG(model_to_dot(model,show_shapes=True, show_layer_names=False, dpi=60).create(prog='dot', format='svg'))"
      ],
      "execution_count": 32,
      "outputs": [
        {
          "output_type": "execute_result",
          "data": {
            "text/plain": [
              "<IPython.core.display.SVG object>"
            ],
            "image/svg+xml": "<svg height=\"599pt\" viewBox=\"0.00 0.00 235.00 719.00\" width=\"196pt\" xmlns=\"http://www.w3.org/2000/svg\" xmlns:xlink=\"http://www.w3.org/1999/xlink\">\n<g class=\"graph\" id=\"graph0\" transform=\"scale(.8333 .8333) rotate(0) translate(4 715)\">\n<title>G</title>\n<polygon fill=\"#ffffff\" points=\"-4,4 -4,-715 231,-715 231,4 -4,4\" stroke=\"transparent\"/>\n<!-- 140304258371280 -->\n<g class=\"node\" id=\"node1\">\n<title>140304258371280</title>\n<polygon fill=\"none\" points=\"0,-664.5 0,-710.5 227,-710.5 227,-664.5 0,-664.5\" stroke=\"#000000\"/>\n<text fill=\"#000000\" font-family=\"Times,serif\" font-size=\"14.00\" text-anchor=\"middle\" x=\"40\" y=\"-683.8\">InputLayer</text>\n<polyline fill=\"none\" points=\"80,-664.5 80,-710.5 \" stroke=\"#000000\"/>\n<text fill=\"#000000\" font-family=\"Times,serif\" font-size=\"14.00\" text-anchor=\"middle\" x=\"109\" y=\"-695.3\">input:</text>\n<polyline fill=\"none\" points=\"80,-687.5 138,-687.5 \" stroke=\"#000000\"/>\n<text fill=\"#000000\" font-family=\"Times,serif\" font-size=\"14.00\" text-anchor=\"middle\" x=\"109\" y=\"-672.3\">output:</text>\n<polyline fill=\"none\" points=\"138,-664.5 138,-710.5 \" stroke=\"#000000\"/>\n<text fill=\"#000000\" font-family=\"Times,serif\" font-size=\"14.00\" text-anchor=\"middle\" x=\"182.5\" y=\"-695.3\">[(None, 22)]</text>\n<polyline fill=\"none\" points=\"138,-687.5 227,-687.5 \" stroke=\"#000000\"/>\n<text fill=\"#000000\" font-family=\"Times,serif\" font-size=\"14.00\" text-anchor=\"middle\" x=\"182.5\" y=\"-672.3\">[(None, 22)]</text>\n</g>\n<!-- 140304258368976 -->\n<g class=\"node\" id=\"node2\">\n<title>140304258368976</title>\n<polygon fill=\"none\" points=\"18.5,-581.5 18.5,-627.5 208.5,-627.5 208.5,-581.5 18.5,-581.5\" stroke=\"#000000\"/>\n<text fill=\"#000000\" font-family=\"Times,serif\" font-size=\"14.00\" text-anchor=\"middle\" x=\"44.5\" y=\"-600.8\">Dense</text>\n<polyline fill=\"none\" points=\"70.5,-581.5 70.5,-627.5 \" stroke=\"#000000\"/>\n<text fill=\"#000000\" font-family=\"Times,serif\" font-size=\"14.00\" text-anchor=\"middle\" x=\"99.5\" y=\"-612.3\">input:</text>\n<polyline fill=\"none\" points=\"70.5,-604.5 128.5,-604.5 \" stroke=\"#000000\"/>\n<text fill=\"#000000\" font-family=\"Times,serif\" font-size=\"14.00\" text-anchor=\"middle\" x=\"99.5\" y=\"-589.3\">output:</text>\n<polyline fill=\"none\" points=\"128.5,-581.5 128.5,-627.5 \" stroke=\"#000000\"/>\n<text fill=\"#000000\" font-family=\"Times,serif\" font-size=\"14.00\" text-anchor=\"middle\" x=\"168.5\" y=\"-612.3\">(None, 22)</text>\n<polyline fill=\"none\" points=\"128.5,-604.5 208.5,-604.5 \" stroke=\"#000000\"/>\n<text fill=\"#000000\" font-family=\"Times,serif\" font-size=\"14.00\" text-anchor=\"middle\" x=\"168.5\" y=\"-589.3\">(None, 11)</text>\n</g>\n<!-- 140304258371280&#45;&gt;140304258368976 -->\n<g class=\"edge\" id=\"edge1\">\n<title>140304258371280-&gt;140304258368976</title>\n<path d=\"M113.5,-664.3799C113.5,-656.1745 113.5,-646.7679 113.5,-637.8786\" fill=\"none\" stroke=\"#000000\"/>\n<polygon fill=\"#000000\" points=\"117.0001,-637.784 113.5,-627.784 110.0001,-637.784 117.0001,-637.784\" stroke=\"#000000\"/>\n</g>\n<!-- 140304258368912 -->\n<g class=\"node\" id=\"node3\">\n<title>140304258368912</title>\n<polygon fill=\"none\" points=\"12.5,-498.5 12.5,-544.5 214.5,-544.5 214.5,-498.5 12.5,-498.5\" stroke=\"#000000\"/>\n<text fill=\"#000000\" font-family=\"Times,serif\" font-size=\"14.00\" text-anchor=\"middle\" x=\"45\" y=\"-517.8\">Dropout</text>\n<polyline fill=\"none\" points=\"77.5,-498.5 77.5,-544.5 \" stroke=\"#000000\"/>\n<text fill=\"#000000\" font-family=\"Times,serif\" font-size=\"14.00\" text-anchor=\"middle\" x=\"106.5\" y=\"-529.3\">input:</text>\n<polyline fill=\"none\" points=\"77.5,-521.5 135.5,-521.5 \" stroke=\"#000000\"/>\n<text fill=\"#000000\" font-family=\"Times,serif\" font-size=\"14.00\" text-anchor=\"middle\" x=\"106.5\" y=\"-506.3\">output:</text>\n<polyline fill=\"none\" points=\"135.5,-498.5 135.5,-544.5 \" stroke=\"#000000\"/>\n<text fill=\"#000000\" font-family=\"Times,serif\" font-size=\"14.00\" text-anchor=\"middle\" x=\"175\" y=\"-529.3\">(None, 11)</text>\n<polyline fill=\"none\" points=\"135.5,-521.5 214.5,-521.5 \" stroke=\"#000000\"/>\n<text fill=\"#000000\" font-family=\"Times,serif\" font-size=\"14.00\" text-anchor=\"middle\" x=\"175\" y=\"-506.3\">(None, 11)</text>\n</g>\n<!-- 140304258368976&#45;&gt;140304258368912 -->\n<g class=\"edge\" id=\"edge2\">\n<title>140304258368976-&gt;140304258368912</title>\n<path d=\"M113.5,-581.3799C113.5,-573.1745 113.5,-563.7679 113.5,-554.8786\" fill=\"none\" stroke=\"#000000\"/>\n<polygon fill=\"#000000\" points=\"117.0001,-554.784 113.5,-544.784 110.0001,-554.784 117.0001,-554.784\" stroke=\"#000000\"/>\n</g>\n<!-- 140304258415824 -->\n<g class=\"node\" id=\"node4\">\n<title>140304258415824</title>\n<polygon fill=\"none\" points=\"19,-415.5 19,-461.5 208,-461.5 208,-415.5 19,-415.5\" stroke=\"#000000\"/>\n<text fill=\"#000000\" font-family=\"Times,serif\" font-size=\"14.00\" text-anchor=\"middle\" x=\"45\" y=\"-434.8\">Dense</text>\n<polyline fill=\"none\" points=\"71,-415.5 71,-461.5 \" stroke=\"#000000\"/>\n<text fill=\"#000000\" font-family=\"Times,serif\" font-size=\"14.00\" text-anchor=\"middle\" x=\"100\" y=\"-446.3\">input:</text>\n<polyline fill=\"none\" points=\"71,-438.5 129,-438.5 \" stroke=\"#000000\"/>\n<text fill=\"#000000\" font-family=\"Times,serif\" font-size=\"14.00\" text-anchor=\"middle\" x=\"100\" y=\"-423.3\">output:</text>\n<polyline fill=\"none\" points=\"129,-415.5 129,-461.5 \" stroke=\"#000000\"/>\n<text fill=\"#000000\" font-family=\"Times,serif\" font-size=\"14.00\" text-anchor=\"middle\" x=\"168.5\" y=\"-446.3\">(None, 11)</text>\n<polyline fill=\"none\" points=\"129,-438.5 208,-438.5 \" stroke=\"#000000\"/>\n<text fill=\"#000000\" font-family=\"Times,serif\" font-size=\"14.00\" text-anchor=\"middle\" x=\"168.5\" y=\"-423.3\">(None, 6)</text>\n</g>\n<!-- 140304258368912&#45;&gt;140304258415824 -->\n<g class=\"edge\" id=\"edge3\">\n<title>140304258368912-&gt;140304258415824</title>\n<path d=\"M113.5,-498.3799C113.5,-490.1745 113.5,-480.7679 113.5,-471.8786\" fill=\"none\" stroke=\"#000000\"/>\n<polygon fill=\"#000000\" points=\"117.0001,-471.784 113.5,-461.784 110.0001,-471.784 117.0001,-471.784\" stroke=\"#000000\"/>\n</g>\n<!-- 140304258965456 -->\n<g class=\"node\" id=\"node5\">\n<title>140304258965456</title>\n<polygon fill=\"none\" points=\"16,-332.5 16,-378.5 211,-378.5 211,-332.5 16,-332.5\" stroke=\"#000000\"/>\n<text fill=\"#000000\" font-family=\"Times,serif\" font-size=\"14.00\" text-anchor=\"middle\" x=\"48.5\" y=\"-351.8\">Dropout</text>\n<polyline fill=\"none\" points=\"81,-332.5 81,-378.5 \" stroke=\"#000000\"/>\n<text fill=\"#000000\" font-family=\"Times,serif\" font-size=\"14.00\" text-anchor=\"middle\" x=\"110\" y=\"-363.3\">input:</text>\n<polyline fill=\"none\" points=\"81,-355.5 139,-355.5 \" stroke=\"#000000\"/>\n<text fill=\"#000000\" font-family=\"Times,serif\" font-size=\"14.00\" text-anchor=\"middle\" x=\"110\" y=\"-340.3\">output:</text>\n<polyline fill=\"none\" points=\"139,-332.5 139,-378.5 \" stroke=\"#000000\"/>\n<text fill=\"#000000\" font-family=\"Times,serif\" font-size=\"14.00\" text-anchor=\"middle\" x=\"175\" y=\"-363.3\">(None, 6)</text>\n<polyline fill=\"none\" points=\"139,-355.5 211,-355.5 \" stroke=\"#000000\"/>\n<text fill=\"#000000\" font-family=\"Times,serif\" font-size=\"14.00\" text-anchor=\"middle\" x=\"175\" y=\"-340.3\">(None, 6)</text>\n</g>\n<!-- 140304258415824&#45;&gt;140304258965456 -->\n<g class=\"edge\" id=\"edge4\">\n<title>140304258415824-&gt;140304258965456</title>\n<path d=\"M113.5,-415.3799C113.5,-407.1745 113.5,-397.7679 113.5,-388.8786\" fill=\"none\" stroke=\"#000000\"/>\n<polygon fill=\"#000000\" points=\"117.0001,-388.784 113.5,-378.784 110.0001,-388.784 117.0001,-388.784\" stroke=\"#000000\"/>\n</g>\n<!-- 140304258817872 -->\n<g class=\"node\" id=\"node6\">\n<title>140304258817872</title>\n<polygon fill=\"none\" points=\"22.5,-249.5 22.5,-295.5 204.5,-295.5 204.5,-249.5 22.5,-249.5\" stroke=\"#000000\"/>\n<text fill=\"#000000\" font-family=\"Times,serif\" font-size=\"14.00\" text-anchor=\"middle\" x=\"48.5\" y=\"-268.8\">Dense</text>\n<polyline fill=\"none\" points=\"74.5,-249.5 74.5,-295.5 \" stroke=\"#000000\"/>\n<text fill=\"#000000\" font-family=\"Times,serif\" font-size=\"14.00\" text-anchor=\"middle\" x=\"103.5\" y=\"-280.3\">input:</text>\n<polyline fill=\"none\" points=\"74.5,-272.5 132.5,-272.5 \" stroke=\"#000000\"/>\n<text fill=\"#000000\" font-family=\"Times,serif\" font-size=\"14.00\" text-anchor=\"middle\" x=\"103.5\" y=\"-257.3\">output:</text>\n<polyline fill=\"none\" points=\"132.5,-249.5 132.5,-295.5 \" stroke=\"#000000\"/>\n<text fill=\"#000000\" font-family=\"Times,serif\" font-size=\"14.00\" text-anchor=\"middle\" x=\"168.5\" y=\"-280.3\">(None, 6)</text>\n<polyline fill=\"none\" points=\"132.5,-272.5 204.5,-272.5 \" stroke=\"#000000\"/>\n<text fill=\"#000000\" font-family=\"Times,serif\" font-size=\"14.00\" text-anchor=\"middle\" x=\"168.5\" y=\"-257.3\">(None, 3)</text>\n</g>\n<!-- 140304258965456&#45;&gt;140304258817872 -->\n<g class=\"edge\" id=\"edge5\">\n<title>140304258965456-&gt;140304258817872</title>\n<path d=\"M113.5,-332.3799C113.5,-324.1745 113.5,-314.7679 113.5,-305.8786\" fill=\"none\" stroke=\"#000000\"/>\n<polygon fill=\"#000000\" points=\"117.0001,-305.784 113.5,-295.784 110.0001,-305.784 117.0001,-305.784\" stroke=\"#000000\"/>\n</g>\n<!-- 140304258403088 -->\n<g class=\"node\" id=\"node7\">\n<title>140304258403088</title>\n<polygon fill=\"none\" points=\"22.5,-166.5 22.5,-212.5 204.5,-212.5 204.5,-166.5 22.5,-166.5\" stroke=\"#000000\"/>\n<text fill=\"#000000\" font-family=\"Times,serif\" font-size=\"14.00\" text-anchor=\"middle\" x=\"48.5\" y=\"-185.8\">Dense</text>\n<polyline fill=\"none\" points=\"74.5,-166.5 74.5,-212.5 \" stroke=\"#000000\"/>\n<text fill=\"#000000\" font-family=\"Times,serif\" font-size=\"14.00\" text-anchor=\"middle\" x=\"103.5\" y=\"-197.3\">input:</text>\n<polyline fill=\"none\" points=\"74.5,-189.5 132.5,-189.5 \" stroke=\"#000000\"/>\n<text fill=\"#000000\" font-family=\"Times,serif\" font-size=\"14.00\" text-anchor=\"middle\" x=\"103.5\" y=\"-174.3\">output:</text>\n<polyline fill=\"none\" points=\"132.5,-166.5 132.5,-212.5 \" stroke=\"#000000\"/>\n<text fill=\"#000000\" font-family=\"Times,serif\" font-size=\"14.00\" text-anchor=\"middle\" x=\"168.5\" y=\"-197.3\">(None, 3)</text>\n<polyline fill=\"none\" points=\"132.5,-189.5 204.5,-189.5 \" stroke=\"#000000\"/>\n<text fill=\"#000000\" font-family=\"Times,serif\" font-size=\"14.00\" text-anchor=\"middle\" x=\"168.5\" y=\"-174.3\">(None, 6)</text>\n</g>\n<!-- 140304258817872&#45;&gt;140304258403088 -->\n<g class=\"edge\" id=\"edge6\">\n<title>140304258817872-&gt;140304258403088</title>\n<path d=\"M113.5,-249.3799C113.5,-241.1745 113.5,-231.7679 113.5,-222.8786\" fill=\"none\" stroke=\"#000000\"/>\n<polygon fill=\"#000000\" points=\"117.0001,-222.784 113.5,-212.784 110.0001,-222.784 117.0001,-222.784\" stroke=\"#000000\"/>\n</g>\n<!-- 140304258403536 -->\n<g class=\"node\" id=\"node8\">\n<title>140304258403536</title>\n<polygon fill=\"none\" points=\"19,-83.5 19,-129.5 208,-129.5 208,-83.5 19,-83.5\" stroke=\"#000000\"/>\n<text fill=\"#000000\" font-family=\"Times,serif\" font-size=\"14.00\" text-anchor=\"middle\" x=\"45\" y=\"-102.8\">Dense</text>\n<polyline fill=\"none\" points=\"71,-83.5 71,-129.5 \" stroke=\"#000000\"/>\n<text fill=\"#000000\" font-family=\"Times,serif\" font-size=\"14.00\" text-anchor=\"middle\" x=\"100\" y=\"-114.3\">input:</text>\n<polyline fill=\"none\" points=\"71,-106.5 129,-106.5 \" stroke=\"#000000\"/>\n<text fill=\"#000000\" font-family=\"Times,serif\" font-size=\"14.00\" text-anchor=\"middle\" x=\"100\" y=\"-91.3\">output:</text>\n<polyline fill=\"none\" points=\"129,-83.5 129,-129.5 \" stroke=\"#000000\"/>\n<text fill=\"#000000\" font-family=\"Times,serif\" font-size=\"14.00\" text-anchor=\"middle\" x=\"168.5\" y=\"-114.3\">(None, 6)</text>\n<polyline fill=\"none\" points=\"129,-106.5 208,-106.5 \" stroke=\"#000000\"/>\n<text fill=\"#000000\" font-family=\"Times,serif\" font-size=\"14.00\" text-anchor=\"middle\" x=\"168.5\" y=\"-91.3\">(None, 11)</text>\n</g>\n<!-- 140304258403088&#45;&gt;140304258403536 -->\n<g class=\"edge\" id=\"edge7\">\n<title>140304258403088-&gt;140304258403536</title>\n<path d=\"M113.5,-166.3799C113.5,-158.1745 113.5,-148.7679 113.5,-139.8786\" fill=\"none\" stroke=\"#000000\"/>\n<polygon fill=\"#000000\" points=\"117.0001,-139.784 113.5,-129.784 110.0001,-139.784 117.0001,-139.784\" stroke=\"#000000\"/>\n</g>\n<!-- 140304132676688 -->\n<g class=\"node\" id=\"node9\">\n<title>140304132676688</title>\n<polygon fill=\"none\" points=\"18.5,-.5 18.5,-46.5 208.5,-46.5 208.5,-.5 18.5,-.5\" stroke=\"#000000\"/>\n<text fill=\"#000000\" font-family=\"Times,serif\" font-size=\"14.00\" text-anchor=\"middle\" x=\"44.5\" y=\"-19.8\">Dense</text>\n<polyline fill=\"none\" points=\"70.5,-.5 70.5,-46.5 \" stroke=\"#000000\"/>\n<text fill=\"#000000\" font-family=\"Times,serif\" font-size=\"14.00\" text-anchor=\"middle\" x=\"99.5\" y=\"-31.3\">input:</text>\n<polyline fill=\"none\" points=\"70.5,-23.5 128.5,-23.5 \" stroke=\"#000000\"/>\n<text fill=\"#000000\" font-family=\"Times,serif\" font-size=\"14.00\" text-anchor=\"middle\" x=\"99.5\" y=\"-8.3\">output:</text>\n<polyline fill=\"none\" points=\"128.5,-.5 128.5,-46.5 \" stroke=\"#000000\"/>\n<text fill=\"#000000\" font-family=\"Times,serif\" font-size=\"14.00\" text-anchor=\"middle\" x=\"168.5\" y=\"-31.3\">(None, 11)</text>\n<polyline fill=\"none\" points=\"128.5,-23.5 208.5,-23.5 \" stroke=\"#000000\"/>\n<text fill=\"#000000\" font-family=\"Times,serif\" font-size=\"14.00\" text-anchor=\"middle\" x=\"168.5\" y=\"-8.3\">(None, 22)</text>\n</g>\n<!-- 140304258403536&#45;&gt;140304132676688 -->\n<g class=\"edge\" id=\"edge8\">\n<title>140304258403536-&gt;140304132676688</title>\n<path d=\"M113.5,-83.3799C113.5,-75.1745 113.5,-65.7679 113.5,-56.8786\" fill=\"none\" stroke=\"#000000\"/>\n<polygon fill=\"#000000\" points=\"117.0001,-56.784 113.5,-46.784 110.0001,-56.784 117.0001,-56.784\" stroke=\"#000000\"/>\n</g>\n</g>\n</svg>"
          },
          "metadata": {
            "tags": []
          },
          "execution_count": 32
        }
      ]
    },
    {
      "cell_type": "code",
      "metadata": {
        "colab": {
          "base_uri": "https://localhost:8080/",
          "height": 295
        },
        "id": "WGSvnssnZMEP",
        "outputId": "a7351c3b-52c9-427e-8880-ea1ace32184d"
      },
      "source": [
        "import matplotlib.pyplot as plt\n",
        "plt.plot(history.history['mse'])\n",
        "plt.plot(history.history['val_mse'])\n",
        "plt.title('Model mean squared error')\n",
        "plt.ylabel('MSE')\n",
        "plt.xlabel('Epoch')\n",
        "plt.legend(['Train','Test'], loc='upper left')\n",
        "plt.show()"
      ],
      "execution_count": 35,
      "outputs": [
        {
          "output_type": "display_data",
          "data": {
            "image/png": "[encoded data removed]",
            "text/plain": [
              "<Figure size 432x288 with 1 Axes>"
            ]
          },
          "metadata": {
            "tags": [],
            "needs_background": "light"
          }
        }
      ]
    },
    {
      "cell_type": "code",
      "metadata": {
        "id": "YkIHpn-RR9Ri"
      },
      "source": [
        "# predict normal data (test data) and anomalies (failure data)\n",
        "predicted_normal = model.predict(normal_data_test)\n",
        "predicted_anomaly = model.predict(anomaly_data)"
      ],
      "execution_count": 37,
      "outputs": []
    },
    {
      "cell_type": "code",
      "metadata": {
        "id": "4hmHo2r4Rr89"
      },
      "source": [
        "import math\n",
        "import statistics\n",
        "def error(input,output):\n",
        "    return np.mean(np.square(input-output))"
      ],
      "execution_count": 38,
      "outputs": []
    },
    {
      "cell_type": "code",
      "metadata": {
        "id": "bCfYsw4eSrzH"
      },
      "source": [
        "import numpy as np\n",
        "\n",
        "# calculate error and plot errors based on samples\n",
        "error_normal = np.array([error(normal_data_test.iloc[i],predicted_normal[i]) for i in range(0,len(normal_data_test))])\n",
        "error_anomaly = np.array([error(anomaly_data.iloc[i],predicted_anomaly[i]) for i in range(0,len(anomaly_data))])\n",
        "error_all = np.concatenate((error_normal,error_anomaly))"
      ],
      "execution_count": null,
      "outputs": []
    },
    {
      "cell_type": "code",
      "metadata": {
        "colab": {
          "base_uri": "https://localhost:8080/",
          "height": 279
        },
        "id": "enBVDmYoc3Hs",
        "outputId": "318e63a7-1cda-4f6d-d4d9-3878a114dd05"
      },
      "source": [
        "plt.plot(error_normal)\n",
        "plt.plot(range(len(error_normal),len(error_normal)+len(error_anomaly)), error_anomaly)\n",
        "plt.ylabel('Mean Squared Error')\n",
        "plt.xlabel('Sample')\n",
        "plt.legend([\"OK\",\"defective\"], loc='upper right')\n",
        "plt.show()"
      ],
      "execution_count": 78,
      "outputs": [
        {
          "output_type": "display_data",
          "data": {
            "image/png": "[encoded data removed]",
            "text/plain": [
              "<Figure size 432x288 with 1 Axes>"
            ]
          },
          "metadata": {
            "tags": [],
            "needs_background": "light"
          }
        }
      ]
    }
  ]
}