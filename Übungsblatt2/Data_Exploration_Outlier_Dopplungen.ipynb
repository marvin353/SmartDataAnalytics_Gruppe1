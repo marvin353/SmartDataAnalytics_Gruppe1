{
 "cells": [
  {
   "cell_type": "markdown",
   "metadata": {},
   "source": [
    "# Vorhersagen mechanischer Fehlfunktion\r\n",
    "## Einleitung\r\n",
    "Die vorausschauende Wartung konzentriert sich auf die Vorhersage des Zeitpunkts eines\r\n",
    "Gerätefehlers und die Verhinderung dieses Fehlers mithilfe der Wartungsüberwachung. So kann die\r\n",
    "Wartung geplant werden, bevor sich ein Problem manifestiert. Eines der besonderen Merkmale der\r\n",
    "vorausschauenden Wartung ist, dass die Wartungshäufigkeit ein absolutes Minimum darstellt und\r\n",
    "dazu beiträgt, ungeplante reaktive Wartungsarbeiten und die mit der vorbeugenden Wartung\r\n",
    "verbundenen Kosten zu vermeiden.\r\n",
    "\r\n",
    "## Problemstellung\r\n",
    "In diesem Beispeil, werden Sie anhand der gemessenen Daten der Windrädern vorhersagen, ob das Gerät\r\n",
    "in der nächsten Woche ausfallen wird (wie unteres Bild gezeigt). Die Daten wurden durch ein Supervisory\r\n",
    "Control And Data Acquisition (SCADA) System gesammelt. Um vielfältige Informationen zu sammeln, z.B.\r\n",
    "Umgebungsinformationen (Temperatur, Feuchtigkeit), Gerätestatusinformationen (Strom,\r\n",
    "Spannung, Vibration) und Parameterinformationen, wurden 75 Sensoren an den Geräten montiert.\r\n",
    "\r\n",
    "\r\n",
    "Alle gesammelten Informationen sind in der folgenden Tabelle aufgeführt.\r\n",
    "\r\n",
    "| Sensor Nr | Information | Sensor Nr | Information   | Sensor Nr | Information      |\r\n",
    "|----------|:-----------------:|------------------:|------------------:|-----------------|------------------------------------|\r\n",
    "| 1  |  Wheel speed   |               26 | Inverter inlet temperature |      51       |  Pitch motor 1 power estimation          |\r\n",
    "| 2  |  hub angle     |               27 | inverter outlet temperature             |       52       |  Pitch motor 2 power estimation         |\r\n",
    "| 3  |  blade 1 angle  |               28 | inverter inlet pressure |       53       |  Pitch motor 3 power estimation          |\r\n",
    "| 4  |  blade 2 angle        |               29 | inverter outlet pressure             |    54          |   Fan current status value         |\r\n",
    "| 5  |  blade 3 angle        |               30 | generator power limit value |     55        |     hub current status value       |\r\n",
    "| 6  |  pitch motor 1 current        |               31 | reactive power set value             |     56         |   yaw state value         |\r\n",
    "| 7  |  pitch motor 2 current        |               32 | Rated hub speed |      57        |    yaw request value        |\r\n",
    "| 8  |  Pitch motor 3 current        |               33 | wind tower ambient temperature       |        58      |   blade 1 battery box temperature         |\r\n",
    "| 9  |  overspeed sensor speed detection value |               34 | generator stator temperature 1 |        59      |  blade 2 battery box temperature          |\r\n",
    "| 10 |  5 second yaw against wind average      |               35 | generator stator temperature 2             |      60        |   blade 3 battery box temperature         |\r\n",
    "| 11 |  x direction vibration value   |               36 | generator stator temperature 3 |      61       |   vane 1 pitch motor temperature         |\r\n",
    "| 12 |  y direction vibration value   |               37 | generator stator temperature 4             |      62        |  blade 2 pitch motor temperature          |\r\n",
    "| 13 |  hydraulic brake pressure      |               38 | generator stator temperature 5 |      63        |     blade 3 pitch motor temperature       |\r\n",
    "| 14 |  Aircraft weather station wind speed      |               39 | generator stator temperature 6             |      64        |    blade 1 inverter box temperature        |\r\n",
    "| 15 |  wind direction absolute value        |               40 | generator air temperature 1 |      65        |    blade 2 inverter box temperature        |\r\n",
    "| 16 |  atmospheric pressure        |               41 | generator air temperature 2             |      66        |    blade 3 inverter box temperature        |\r\n",
    "| 17 |  reactive power control status        |               42 | main bearing temperature 1 |       67       |   blade 1 super capacitor voltage         |\r\n",
    "| 18 |  inverter grid side current        |               43 | main bearing temperature 2             |      68        |    blade 2 super capacitor voltage        |\r\n",
    "| 19 |  inverter grid side voltage        |               44 | Wheel temperature |      69        |    blade 3 super capacitor voltage        |\r\n",
    "| 20 |  Inverter grid side active power        |               45 | Wheel control cabinet temperature             |      70       |   drive 1 thyristor temperature         |\r\n",
    "| 21 |  inverter grid side reactive power        |               46 | Cabin temperature |      71       |   Drive 2 thyristor temperature         |\r\n",
    "| 22 |  inverter generator side power        |               47 | Cabin control cabinet temperature             |      72        |            | Drive 3 thyristor temperature\r\n",
    "| 23 |  generator operating frequency        |               48 | Inverter INU temperature|      73        |  Drive 1 output torque          |\r\n",
    "| 24 |  generator current'        |               49 | Inverter ISU temperature             |      74        |    Drive 2 output torque        |\r\n",
    "| 25 |  generator torque        |               50 | Inverter INU RMIO temperature             |      75        |     Drive 3 output torque       |\r\n",
    "\r\n",
    "## Datenbeschreibung\r\n",
    "Die Trainingsdatensätze werden in jeweils einer CSV-Datei gespeichert. Jede CSV-Datei enthält innerhalb von 4500 Minuten abgetastete Informationen. Das Label jeder CSV gibt an, ob der windrad innerhalb der nächsten Woche eine Fehlfunktion aufweist. Entsprechende Labelsinformationen finden Sie in Datei train_label.csv. Das Inhaltsformat von train_label.csv ist wie folgt:\r\n",
    "\r\n",
    "| ID                                         | Label | \r\n",
    "|----------|:-----------------|\r\n",
    "| 01725e06-98ea-3447-83c0-b3aa70feff62.csv   |       0        |   \r\n",
    "| 02c2cada-dbbe-304b-95b2-076ddba766c9.csv   |        1       |     \r\n",
    "\r\n",
    "**0**: Das entsprechende Gerät ist innerhalb der nächsten Woche nicht ausgefallen\r\n",
    "\r\n",
    "**1**: Das entsprechende Gerät ist innerhalb der nächsten Woche ausgefallen"
   ]
  },
  {
   "cell_type": "markdown",
   "metadata": {},
   "source": [
    "# Import"
   ]
  },
  {
   "cell_type": "code",
   "execution_count": 1,
   "metadata": {},
   "outputs": [],
   "source": [
    "import warnings\r\n",
    "warnings.filterwarnings(\"ignore\")\r\n",
    "import os\r\n",
    "import pandas as pd\r\n",
    "\r\n",
    "from tqdm import tqdm\r\n",
    "import numpy as np\r\n",
    "from sklearn.metrics import f1_score\r\n",
    "from sklearn.neighbors import LocalOutlierFactor\r\n",
    "\r\n",
    "# Parameter optimization\r\n",
    "from skopt.space import Integer, Real, Categorical, Identity\r\n",
    "from skopt.utils import use_named_args\r\n",
    "from skopt import gp_minimize\r\n",
    "from skopt.plots import plot_convergence\r\n",
    "\r\n",
    "# Model\r\n",
    "from sklearn import svm\r\n",
    "from sklearn.model_selection import cross_val_score\r\n",
    "\r\n",
    "import matplotlib.pyplot as plt\r\n",
    "\r\n",
    "import seaborn as sns\r\n",
    "\r\n",
    "from operator import itemgetter\r\n",
    "import itertools\r\n",
    "import multiprocessing\r\n",
    "from joblib import Parallel, delayed\r\n",
    "\r\n",
    "from collections import Counter"
   ]
  },
  {
   "cell_type": "markdown",
   "metadata": {},
   "source": [
    "# Globale Variabeln"
   ]
  },
  {
   "cell_type": "code",
   "execution_count": 2,
   "metadata": {},
   "outputs": [],
   "source": [
    "TRAIN_LABEL_PATH = os.path.abspath(\"data/train_label.csv\")\r\n",
    "TEST_LABEL_PATH = os.path.abspath(\"data/test_label.csv\")\r\n",
    "TRAIN_PATH = os.path.abspath(\"data/train/\")\r\n",
    "TEST_PATH = os.path.abspath(\"data/test/\")"
   ]
  },
  {
   "cell_type": "code",
   "execution_count": 3,
   "metadata": {},
   "outputs": [],
   "source": [
    "train_label = pd.read_csv(TRAIN_LABEL_PATH)\r\n",
    "\r\n",
    "folder_list = os.listdir(TRAIN_PATH)"
   ]
  },
  {
   "cell_type": "code",
   "execution_count": 4,
   "metadata": {},
   "outputs": [],
   "source": [
    "def test_duplicate(df: pd.DataFrame):\r\n",
    "    sensors = df.columns\r\n",
    "    dup_sensors = []\r\n",
    "    dup_sensors_names = []\r\n",
    "    zero_value_sensors = []\r\n",
    "    for i in range(sensors.size):\r\n",
    "        if np.sum(df[sensors[i]]) == 0:\r\n",
    "            zero_value_sensors.append(str(i + 1).zfill(2))\r\n",
    "        for j in range(i + 1, sensors.size):\r\n",
    "            res = df[sensors[i]] - df[sensors[j]]\r\n",
    "            u = np.unique(res)\r\n",
    "            if (len(u) == 1) and (u[0] == 0):\r\n",
    "                dup_sensors.append(str(i + 1).zfill(2) + \"_\" + str(j + 1).zfill(2))\r\n",
    "                dup_sensors_names.append((sensors[i], sensors[j]))\r\n",
    "    return dup_sensors, dup_sensors_names, zero_value_sensors\r\n"
   ]
  },
  {
   "cell_type": "code",
   "execution_count": 5,
   "metadata": {},
   "outputs": [],
   "source": [
    "def search_outlier(df: pd.DataFrame, dev_factor: float = 3.):\r\n",
    "    sensors = df.columns\r\n",
    "    ol_list = []\r\n",
    "    for i in range(sensors.size):\r\n",
    "        data = df[sensors[i]]\r\n",
    "        boolL = [np.abs(data - data.mean()) > (dev_factor * data.std())]\r\n",
    "        ol = np.where(boolL)[1].tolist()\r\n",
    "        ol_list.append(ol)\r\n",
    "    return ol_list"
   ]
  },
  {
   "cell_type": "markdown",
   "metadata": {},
   "source": [
    "## Testen mit einer Datei"
   ]
  },
  {
   "cell_type": "code",
   "execution_count": 6,
   "metadata": {},
   "outputs": [
    {
     "data": {
      "text/html": "<div>\n<style scoped>\n    .dataframe tbody tr th:only-of-type {\n        vertical-align: middle;\n    }\n\n    .dataframe tbody tr th {\n        vertical-align: top;\n    }\n\n    .dataframe thead th {\n        text-align: right;\n    }\n</style>\n<table border=\"1\" class=\"dataframe\">\n  <thead>\n    <tr style=\"text-align: right;\">\n      <th></th>\n      <th>Wheel speed</th>\n      <th>hub angle</th>\n      <th>blade 1 angle</th>\n      <th>blade 2 angle</th>\n      <th>blade 3 angle</th>\n      <th>pitch motor 1 current</th>\n      <th>pitch motor 2 current</th>\n      <th>Pitch motor 3 current</th>\n      <th>overspeed sensor speed detection value</th>\n      <th>5 second yaw against wind average</th>\n      <th>...</th>\n      <th>blade 3 inverter box temperature</th>\n      <th>blade 1 super capacitor voltage</th>\n      <th>blade 2 super capacitor voltage</th>\n      <th>blade 3 super capacitor voltage</th>\n      <th>drive 1 thyristor temperature</th>\n      <th>Drive 2 thyristor temperature</th>\n      <th>Drive 3 thyristor temperature</th>\n      <th>Drive 1 output torque</th>\n      <th>Drive 2 output torque</th>\n      <th>Drive 3 output torque</th>\n    </tr>\n  </thead>\n  <tbody>\n    <tr>\n      <th>0</th>\n      <td>0.14</td>\n      <td>47.74</td>\n      <td>21.0</td>\n      <td>21.0</td>\n      <td>21.0</td>\n      <td>2.12</td>\n      <td>2.16</td>\n      <td>3.08</td>\n      <td>0.16</td>\n      <td>-59.4</td>\n      <td>...</td>\n      <td>300.0</td>\n      <td>0.0</td>\n      <td>0.0</td>\n      <td>0.0</td>\n      <td>0.0</td>\n      <td>0.0</td>\n      <td>0.0</td>\n      <td>0.0</td>\n      <td>0.0</td>\n      <td>0.0</td>\n    </tr>\n    <tr>\n      <th>1</th>\n      <td>1.08</td>\n      <td>159.52</td>\n      <td>21.0</td>\n      <td>21.0</td>\n      <td>21.0</td>\n      <td>2.62</td>\n      <td>1.70</td>\n      <td>3.14</td>\n      <td>1.12</td>\n      <td>-69.8</td>\n      <td>...</td>\n      <td>300.0</td>\n      <td>0.0</td>\n      <td>0.0</td>\n      <td>0.0</td>\n      <td>0.0</td>\n      <td>0.0</td>\n      <td>0.0</td>\n      <td>0.0</td>\n      <td>0.0</td>\n      <td>0.0</td>\n    </tr>\n    <tr>\n      <th>2</th>\n      <td>1.30</td>\n      <td>241.24</td>\n      <td>21.0</td>\n      <td>21.0</td>\n      <td>21.0</td>\n      <td>2.26</td>\n      <td>1.50</td>\n      <td>3.02</td>\n      <td>1.35</td>\n      <td>31.4</td>\n      <td>...</td>\n      <td>300.0</td>\n      <td>0.0</td>\n      <td>0.0</td>\n      <td>0.0</td>\n      <td>0.0</td>\n      <td>0.0</td>\n      <td>0.0</td>\n      <td>0.0</td>\n      <td>0.0</td>\n      <td>0.0</td>\n    </tr>\n    <tr>\n      <th>3</th>\n      <td>0.68</td>\n      <td>355.50</td>\n      <td>21.0</td>\n      <td>21.0</td>\n      <td>21.0</td>\n      <td>2.54</td>\n      <td>2.42</td>\n      <td>3.22</td>\n      <td>0.74</td>\n      <td>-1.8</td>\n      <td>...</td>\n      <td>300.0</td>\n      <td>0.0</td>\n      <td>0.0</td>\n      <td>0.0</td>\n      <td>0.0</td>\n      <td>0.0</td>\n      <td>0.0</td>\n      <td>0.0</td>\n      <td>0.0</td>\n      <td>0.0</td>\n    </tr>\n    <tr>\n      <th>4</th>\n      <td>0.51</td>\n      <td>155.02</td>\n      <td>21.0</td>\n      <td>21.0</td>\n      <td>21.0</td>\n      <td>2.44</td>\n      <td>1.58</td>\n      <td>2.92</td>\n      <td>0.52</td>\n      <td>-41.2</td>\n      <td>...</td>\n      <td>300.0</td>\n      <td>0.0</td>\n      <td>0.0</td>\n      <td>0.0</td>\n      <td>0.0</td>\n      <td>0.0</td>\n      <td>0.0</td>\n      <td>0.0</td>\n      <td>0.0</td>\n      <td>0.0</td>\n    </tr>\n  </tbody>\n</table>\n<p>5 rows × 75 columns</p>\n</div>",
      "text/plain": "   Wheel speed  hub angle  blade 1 angle  blade 2 angle  blade 3 angle  \\\n0         0.14      47.74           21.0           21.0           21.0   \n1         1.08     159.52           21.0           21.0           21.0   \n2         1.30     241.24           21.0           21.0           21.0   \n3         0.68     355.50           21.0           21.0           21.0   \n4         0.51     155.02           21.0           21.0           21.0   \n\n   pitch motor 1 current  pitch motor 2 current  Pitch motor 3 current  \\\n0                   2.12                   2.16                   3.08   \n1                   2.62                   1.70                   3.14   \n2                   2.26                   1.50                   3.02   \n3                   2.54                   2.42                   3.22   \n4                   2.44                   1.58                   2.92   \n\n   overspeed sensor speed detection value  5 second yaw against wind average  \\\n0                                    0.16                              -59.4   \n1                                    1.12                              -69.8   \n2                                    1.35                               31.4   \n3                                    0.74                               -1.8   \n4                                    0.52                              -41.2   \n\n   ...  blade 3 inverter box temperature  blade 1 super capacitor voltage  \\\n0  ...                             300.0                              0.0   \n1  ...                             300.0                              0.0   \n2  ...                             300.0                              0.0   \n3  ...                             300.0                              0.0   \n4  ...                             300.0                              0.0   \n\n   blade 2 super capacitor voltage  blade 3 super capacitor voltage  \\\n0                              0.0                              0.0   \n1                              0.0                              0.0   \n2                              0.0                              0.0   \n3                              0.0                              0.0   \n4                              0.0                              0.0   \n\n   drive 1 thyristor temperature  Drive 2 thyristor temperature  \\\n0                            0.0                            0.0   \n1                            0.0                            0.0   \n2                            0.0                            0.0   \n3                            0.0                            0.0   \n4                            0.0                            0.0   \n\n   Drive 3 thyristor temperature  Drive 1 output torque  \\\n0                            0.0                    0.0   \n1                            0.0                    0.0   \n2                            0.0                    0.0   \n3                            0.0                    0.0   \n4                            0.0                    0.0   \n\n   Drive 2 output torque  Drive 3 output torque  \n0                    0.0                    0.0  \n1                    0.0                    0.0  \n2                    0.0                    0.0  \n3                    0.0                    0.0  \n4                    0.0                    0.0  \n\n[5 rows x 75 columns]"
     },
     "execution_count": 6,
     "metadata": {},
     "output_type": "execute_result"
    }
   ],
   "source": [
    "Data_frame = pd.read_csv(\"data/train/004/0000f25f-4d58-3eee-bbc3-5c7b7759ee66.csv\")\r\n",
    "sensors = Data_frame.columns\r\n",
    "Data_frame.head()"
   ]
  },
  {
   "cell_type": "code",
   "execution_count": 7,
   "metadata": {},
   "outputs": [
    {
     "ename": "TypeError",
     "evalue": "'NoneType' object is not callable",
     "output_type": "error",
     "traceback": [
      "\u001b[1;31m---------------------------------------------------------------------------\u001b[0m",
      "\u001b[1;31mTypeError\u001b[0m                                 Traceback (most recent call last)",
      "\u001b[1;32m<ipython-input-7-f3be59ef590d>\u001b[0m in \u001b[0;36m<module>\u001b[1;34m\u001b[0m\n\u001b[0;32m      4\u001b[0m \u001b[0mcounts\u001b[0m \u001b[1;33m=\u001b[0m \u001b[0mCounter\u001b[0m\u001b[1;33m(\u001b[0m\u001b[0moutlier\u001b[0m\u001b[1;33m)\u001b[0m\u001b[1;33m\u001b[0m\u001b[1;33m\u001b[0m\u001b[0m\n\u001b[0;32m      5\u001b[0m \u001b[0mdf\u001b[0m \u001b[1;33m=\u001b[0m \u001b[0mpd\u001b[0m\u001b[1;33m.\u001b[0m\u001b[0mDataFrame\u001b[0m\u001b[1;33m.\u001b[0m\u001b[0mfrom_dict\u001b[0m\u001b[1;33m(\u001b[0m\u001b[0mcounts\u001b[0m\u001b[1;33m,\u001b[0m \u001b[0morient\u001b[0m\u001b[1;33m=\u001b[0m\u001b[1;34m\"index\"\u001b[0m\u001b[1;33m,\u001b[0m\u001b[0mcolumns\u001b[0m\u001b[1;33m=\u001b[0m\u001b[1;33m[\u001b[0m\u001b[1;34m\"Anzahl\"\u001b[0m\u001b[1;33m]\u001b[0m\u001b[1;33m)\u001b[0m\u001b[1;33m\u001b[0m\u001b[1;33m\u001b[0m\u001b[0m\n\u001b[1;32m----> 6\u001b[1;33m \u001b[0mdf\u001b[0m\u001b[1;33m.\u001b[0m\u001b[0mindex\u001b[0m\u001b[1;33m.\u001b[0m\u001b[0mname\u001b[0m\u001b[1;33m(\u001b[0m\u001b[1;34m\"Zeitpunkt\"\u001b[0m\u001b[1;33m)\u001b[0m\u001b[1;33m\u001b[0m\u001b[1;33m\u001b[0m\u001b[0m\n\u001b[0m\u001b[0;32m      7\u001b[0m \u001b[0mdf\u001b[0m\u001b[1;33m.\u001b[0m\u001b[0mplot\u001b[0m\u001b[1;33m(\u001b[0m\u001b[0mkind\u001b[0m\u001b[1;33m=\u001b[0m\u001b[1;34m'bar'\u001b[0m\u001b[1;33m,\u001b[0m\u001b[0mfigsize\u001b[0m\u001b[1;33m=\u001b[0m\u001b[1;33m(\u001b[0m\u001b[1;36m25\u001b[0m\u001b[1;33m,\u001b[0m\u001b[1;36m10\u001b[0m\u001b[1;33m)\u001b[0m\u001b[1;33m,\u001b[0m\u001b[0mfontsize\u001b[0m\u001b[1;33m=\u001b[0m\u001b[1;36m35\u001b[0m\u001b[1;33m)\u001b[0m\u001b[1;33m\u001b[0m\u001b[1;33m\u001b[0m\u001b[0m\n\u001b[0;32m      8\u001b[0m \u001b[0mplt\u001b[0m\u001b[1;33m.\u001b[0m\u001b[0mshow\u001b[0m\u001b[1;33m(\u001b[0m\u001b[1;33m)\u001b[0m\u001b[1;33m\u001b[0m\u001b[1;33m\u001b[0m\u001b[0m\n",
      "\u001b[1;31mTypeError\u001b[0m: 'NoneType' object is not callable"
     ]
    }
   ],
   "source": [
    "ol = search_outlier(Data_frame)\r\n",
    "\r\n",
    "outlier = list(itertools.chain.from_iterable(ol))\r\n",
    "counts = Counter(outlier)\r\n",
    "df = pd.DataFrame.from_dict(counts, orient=\"index\",columns=[\"Anzahl\"])\r\n",
    "df.index.name(\"Zeitpunkt\")\r\n",
    "df.plot(kind='bar',figsize=(25,10),fontsize=35)\r\n",
    "plt.show()"
   ]
  },
  {
   "cell_type": "code",
   "execution_count": null,
   "metadata": {},
   "outputs": [
    {
     "name": "stdout",
     "output_type": "stream",
     "text": [
      "Dopplungen: \n",
      "['03_04', '03_05', '04_05', '16_17', '18_20', '18_21', '18_22', '18_25', '18_31', '18_51', '18_52', '18_53', '18_67', '18_68', '18_69', '18_70', '18_71', '18_72', '18_73', '18_74', '18_75', '20_21', '20_22', '20_25', '20_31', '20_51', '20_52', '20_53', '20_67', '20_68', '20_69', '20_70', '20_71', '20_72', '20_73', '20_74', '20_75', '21_22', '21_25', '21_31', '21_51', '21_52', '21_53', '21_67', '21_68', '21_69', '21_70', '21_71', '21_72', '21_73', '21_74', '21_75', '22_25', '22_31', '22_51', '22_52', '22_53', '22_67', '22_68', '22_69', '22_70', '22_71', '22_72', '22_73', '22_74', '22_75', '25_31', '25_51', '25_52', '25_53', '25_67', '25_68', '25_69', '25_70', '25_71', '25_72', '25_73', '25_74', '25_75', '31_51', '31_52', '31_53', '31_67', '31_68', '31_69', '31_70', '31_71', '31_72', '31_73', '31_74', '31_75', '51_52', '51_53', '51_67', '51_68', '51_69', '51_70', '51_71', '51_72', '51_73', '51_74', '51_75', '52_53', '52_67', '52_68', '52_69', '52_70', '52_71', '52_72', '52_73', '52_74', '52_75', '53_67', '53_68', '53_69', '53_70', '53_71', '53_72', '53_73', '53_74', '53_75', '54_55', '58_59', '58_60', '59_60', '64_65', '67_68', '67_69', '67_70', '67_71', '67_72', '67_73', '67_74', '67_75', '68_69', '68_70', '68_71', '68_72', '68_73', '68_74', '68_75', '69_70', '69_71', '69_72', '69_73', '69_74', '69_75', '70_71', '70_72', '70_73', '70_74', '70_75', '71_72', '71_73', '71_74', '71_75', '72_73', '72_74', '72_75', '73_74', '73_75', '74_75']\n",
      "Sensoren mit nur 0 als Wert: \n",
      "['18', '20', '21', '22', '25', '31', '51', '52', '53', '67', '68', '69', '70', '71', '72', '73', '74', '75']\n"
     ]
    }
   ],
   "source": [
    "ds, dn, zs = test_duplicate(Data_frame)\r\n",
    "print(\"Dopplungen: \")\r\n",
    "print(ds)\r\n",
    "print(\"Sensoren mit nur 0 als Wert: \")\r\n",
    "print(zs)"
   ]
  },
  {
   "cell_type": "markdown",
   "metadata": {},
   "source": [
    "## Kompletter Trainingsdatensatz"
   ]
  },
  {
   "cell_type": "code",
   "execution_count": null,
   "metadata": {},
   "outputs": [
    {
     "name": "stderr",
     "output_type": "stream",
     "text": [
      "data: 100%|██████████| 17/17 [20:12<00:00, 71.34s/it]\n"
     ]
    }
   ],
   "source": [
    "analyse_list = []\r\n",
    "num_cores = multiprocessing.cpu_count()\r\n",
    "\r\n",
    "def analyse_file(folder_path, file_name):\r\n",
    "    df = pd.read_csv(os.path.join(folder_path,file_name))\r\n",
    "    ol = search_outlier(df)\r\n",
    "    dup, dup_n, zvs = test_duplicate(df)\r\n",
    "    label = train_label.loc[train_label[\"file_name\"]==file_name][\"ret\"].values[0]\r\n",
    "    return file_name, ol, dup, dup_n, zvs, label\r\n",
    "\r\n",
    "def analyse_folder(folder_path):\r\n",
    "    files = os.listdir(folder_path)\r\n",
    "    processed_list = Parallel(n_jobs=num_cores)(delayed(analyse_file)(folder_path,f) for f in files)\r\n",
    "    dup_list = [ele[2] for ele in processed_list]\r\n",
    "    return set(itertools.chain.from_iterable(dup_list)), dup_list, processed_list\r\n",
    "\r\n",
    "for folder in tqdm(folder_list,desc=\"data\"):\r\n",
    "    folder_path = os.path.join(TRAIN_PATH, folder)\r\n",
    "    dup_set, dup_list, file_list = analyse_folder(folder_path)\r\n",
    "    for d in range(len(dup_list)):\r\n",
    "        dup_set = dup_set.intersection(dup_list[d])\r\n",
    "    dup_filtered = list(dup_set)\r\n",
    "    dup_filtered.sort(key=itemgetter(0))\r\n",
    "    analyse_list.append((folder,file_list, dup_filtered))"
   ]
  },
  {
   "cell_type": "markdown",
   "metadata": {},
   "source": [
    "# Auswertung"
   ]
  },
  {
   "cell_type": "markdown",
   "metadata": {},
   "source": [
    "## Sensoren mit nur 0 als Wert"
   ]
  },
  {
   "cell_type": "code",
   "execution_count": null,
   "metadata": {},
   "outputs": [
    {
     "ename": "NameError",
     "evalue": "name 'analyse_list' is not defined",
     "output_type": "error",
     "traceback": [
      "\u001b[1;31m---------------------------------------------------------------------------\u001b[0m",
      "\u001b[1;31mNameError\u001b[0m                                 Traceback (most recent call last)",
      "\u001b[1;32m<ipython-input-4-4d7b33bd6c5e>\u001b[0m in \u001b[0;36m<module>\u001b[1;34m\u001b[0m\n\u001b[0;32m      1\u001b[0m \u001b[0mget_ipython\u001b[0m\u001b[1;33m(\u001b[0m\u001b[1;33m)\u001b[0m\u001b[1;33m.\u001b[0m\u001b[0mrun_line_magic\u001b[0m\u001b[1;33m(\u001b[0m\u001b[1;34m'matplotlib'\u001b[0m\u001b[1;33m,\u001b[0m \u001b[1;34m'inline'\u001b[0m\u001b[1;33m)\u001b[0m\u001b[1;33m\u001b[0m\u001b[1;33m\u001b[0m\u001b[0m\n\u001b[0;32m      2\u001b[0m \u001b[1;33m\u001b[0m\u001b[0m\n\u001b[1;32m----> 3\u001b[1;33m \u001b[1;32mfor\u001b[0m \u001b[0mitem\u001b[0m \u001b[1;32min\u001b[0m \u001b[0manalyse_list\u001b[0m\u001b[1;33m:\u001b[0m\u001b[1;33m\u001b[0m\u001b[1;33m\u001b[0m\u001b[0m\n\u001b[0m\u001b[0;32m      4\u001b[0m     \u001b[0mprint\u001b[0m\u001b[1;33m(\u001b[0m\u001b[0mitem\u001b[0m\u001b[1;33m[\u001b[0m\u001b[1;36m0\u001b[0m\u001b[1;33m]\u001b[0m\u001b[1;33m)\u001b[0m\u001b[1;33m\u001b[0m\u001b[1;33m\u001b[0m\u001b[0m\n\u001b[0;32m      5\u001b[0m     \u001b[0mzl0\u001b[0m \u001b[1;33m=\u001b[0m \u001b[1;33m[\u001b[0m\u001b[1;33m]\u001b[0m\u001b[1;33m\u001b[0m\u001b[1;33m\u001b[0m\u001b[0m\n",
      "\u001b[1;31mNameError\u001b[0m: name 'analyse_list' is not defined"
     ]
    }
   ],
   "source": [
    "%matplotlib inline\r\n",
    "\r\n",
    "for item in analyse_list:  \r\n",
    "    print(item[0])\r\n",
    "    zl0 = []\r\n",
    "    zl1 = []\r\n",
    "    for fl in item[1]:\r\n",
    "        #print(fl[4])\r\n",
    "        if fl[5] == 0:\r\n",
    "            zl0.extend(fl[4])\r\n",
    "        else:\r\n",
    "            zl1.extend(fl[4])\r\n",
    "    zl0.sort()\r\n",
    "    zl1.sort()\r\n",
    "    counts0 = Counter(zl0)\r\n",
    "    df0 = pd.DataFrame.from_dict(counts0, orient=\"index\",columns=[\"Label_0\"])\r\n",
    "    counts1 = Counter(zl1)\r\n",
    "    df1 = pd.DataFrame.from_dict(counts1, orient=\"index\",columns=[\"Label_1\"])\r\n",
    "    df = pd.merge(df0, df1, how=\"outer\", left_index=True, right_index=True)\r\n",
    "    df.index.name = \"Sensor Nummer\"\r\n",
    "    #cutoff = len(item[1]) * 0.75\r\n",
    "    #df = df[df[\"Anzahl\"] > cutoff]\r\n",
    "    #print(df.index.values)\r\n",
    "    #print(df.head())\r\n",
    "    df.plot(kind='bar',figsize=(50,15),fontsize=35)\r\n",
    "    plt.show()"
   ]
  },
  {
   "cell_type": "markdown",
   "metadata": {},
   "source": [
    "## Identische Werte zwischen Sensoren"
   ]
  },
  {
   "cell_type": "code",
   "execution_count": null,
   "metadata": {},
   "outputs": [],
   "source": [
    "%matplotlib inline\r\n",
    "\r\n",
    "for item in analyse_list:  \r\n",
    "    print(item[0])\r\n",
    "    dl0 = []\r\n",
    "    dl1 = []\r\n",
    "    c0 = 0\r\n",
    "    c1 = 0\r\n",
    "    for fl in item[1]:\r\n",
    "        #print(fl[4])\r\n",
    "        if fl[5] == 0:\r\n",
    "            dl0.extend(fl[2])\r\n",
    "            c0 += 1\r\n",
    "        else:\r\n",
    "            dl1.extend(fl[2])\r\n",
    "            c1 += 1\r\n",
    "    #dl = [fl[2] for fl in item[1]]\r\n",
    "    #dl0 = list(itertools.chain.from_iterable(dl0))   \r\n",
    "    counts0 = Counter(dl0)\r\n",
    "    df0 = pd.DataFrame.from_dict(counts0, orient=\"index\",columns=[\"Label_0\"])\r\n",
    "    #dl1 = list(itertools.chain.from_iterable(dl1))\r\n",
    "    counts1 = Counter(dl1)\r\n",
    "    df1 = pd.DataFrame.from_dict(counts1, orient=\"index\",columns=[\"Label_1\"])\r\n",
    "    df = pd.merge(df0, df1, how=\"outer\", left_index=True, right_index=True)\r\n",
    "    df.index.name = \"Sensor Nummer-Kombination\"\r\n",
    "    cutoff0 = c0 * 0.75\r\n",
    "    cutoff1 = c1 * 0.75\r\n",
    "    con0 = df[\"Label_0\"] > cutoff0\r\n",
    "    con1 = df[\"Label_1\"] > cutoff1\r\n",
    "    df = df[con0 | con1]\r\n",
    "    print(df.index.values)\r\n",
    "    #print(df.head())\r\n",
    "    df.plot(kind='bar',figsize=(150,30),fontsize=35)\r\n",
    "    save_path = os.path.join(\"data\", \"plots\", item[0])\r\n",
    "    plt.title(item[0])\r\n",
    "    plt.savefig(save_path)\r\n",
    "    plt.show()"
   ]
  },
  {
   "cell_type": "markdown",
   "metadata": {},
   "source": [
    "# Diagramme der Auswertung ohne Aufteilung"
   ]
  },
  {
   "cell_type": "code",
   "execution_count": null,
   "metadata": {},
   "outputs": [],
   "source": [
    "%matplotlib inline\r\n",
    "\r\n",
    "for item in analyse_list:  \r\n",
    "    print(item[0])\r\n",
    "    zl = [fl[4] for fl in item[1]]\r\n",
    "    zl = list(itertools.chain.from_iterable(zl))\r\n",
    "    zl.sort()\r\n",
    "    counts = Counter(zl)\r\n",
    "    df = pd.DataFrame.from_dict(counts, orient=\"index\",columns=[\"Anzahl\"])\r\n",
    "    df.index.name = \"Sensor Nummer\"\r\n",
    "    #cutoff = len(item[1]) * 0.75\r\n",
    "    #df = df[df[\"Anzahl\"] > cutoff]\r\n",
    "    #print(df.index.values)\r\n",
    "    #print(df.head())\r\n",
    "    df.plot(kind='bar',figsize=(50,15),fontsize=35)\r\n",
    "    plt.show()"
   ]
  },
  {
   "cell_type": "code",
   "execution_count": null,
   "metadata": {},
   "outputs": [],
   "source": [
    "%matplotlib inline\r\n",
    "\r\n",
    "for item in analyse_list:  \r\n",
    "    print(item[0])\r\n",
    "    dl = [fl[2] for fl in item[1]]\r\n",
    "    dl = list(itertools.chain.from_iterable(dl))\r\n",
    "    counts = Counter(dl)\r\n",
    "    df = pd.DataFrame.from_dict(counts, orient=\"index\",columns=[\"Anzahl\"])\r\n",
    "    df.index.name = \"Sensor Nummer-Kombination\"\r\n",
    "    cutoff = len(item[1]) * 0.75\r\n",
    "    df = df[df[\"Anzahl\"] > cutoff]\r\n",
    "    print(df.index.values)\r\n",
    "    #print(df.head())\r\n",
    "    df.plot(kind='bar',figsize=(50,15),fontsize=35)\r\n",
    "    plt.show()\r\n",
    "\r\n",
    "    "
   ]
  }
 ],
 "metadata": {
  "kernelspec": {
   "display_name": "Python 3.8.8 64-bit ('praktikum': conda)",
   "name": "python388jvsc74a57bd06c4bc1d378807417c9b63a056eaae59d915bab65703b0399b0b08eff1f44b459"
  },
  "language_info": {
   "codemirror_mode": {
    "name": "ipython",
    "version": 3
   },
   "file_extension": ".py",
   "mimetype": "text/x-python",
   "name": "python",
   "nbconvert_exporter": "python",
   "pygments_lexer": "ipython3",
   "version": "3.8.8"
  },
  "orig_nbformat": 3
 },
 "nbformat": 4,
 "nbformat_minor": 2
}