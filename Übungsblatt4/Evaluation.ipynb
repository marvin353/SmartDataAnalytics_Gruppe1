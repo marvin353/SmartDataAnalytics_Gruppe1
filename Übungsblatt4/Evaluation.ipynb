{
 "cells": [
  {
   "cell_type": "markdown",
   "source": [
    "# Evaluation\n",
    "\n",
    "Nachdem ein voraussichtlich geeignetes Konzept zur Optimierung der Spiralsuche entwickelt wurde, bedarf es anschließend einer ausgiebigen Evaluation um die tatsächliche Funktionsfähigkeit dieses Konzepts zu validieren. Im Folgenden beschreiben wir daher mögliche Ansätze, wie solch eine Evaluation erfolgen und aussehen könnte.\n",
    "\n",
    "## Mathematischer Ansatz\n",
    "Als ersten Evaluationsansatz wollen wir nun auf einen mathematischen Eingehen. Wir werden dazu sowohl die vorhandenen Daten, als auch die Spirale als Matrix betrachten und mithilfe einer stellenweisen Multiplikation und anschlißender Summierung einen Wert für die Dauer der Durchläufe erhalten.\n",
    "\n",
    "### Darstellung der Daten\n",
    "Wir betrachten hier die 2-dimensionalen Daten der relativen Endpunkte der Spiralsuche. Die z-Achse wird vernachlässigt. Die Daten wurden vorab mithilfe eines Rasters in eine Matrix gewandelt. Ein Matrixeintrag entspricht dabei der Summe aller Endpunkte in dem entsprechenden Rasterfeld.\n",
    "\n",
    "![Relative Endpunkte als Matrixdarstellung](Bilder/Raster_Matrix.png)\n",
    "\n",
    "### Darstellung der Spiralesuche\n",
    "Wir stellen die Spiralsuche hier als quadratische Matrix dar, wobei die Werte, bei 1 beginnend, sich vom Mittelpunkt aus Schritt für Schritt erhöhen. Diese Werte repräsentieren die benötigte Zeit um den jeweiligen Punkt zu erreichen, wenn man dem Verlauf der Spirale folgt.\n",
    "\n",
    "![Relative Endpunkte als Matrixdarstellung](Bilder/Matrix_Spirale.png)"
   ],
   "metadata": {
    "collapsed": true,
    "pycharm": {
     "name": "#%% md\n"
    }
   }
  },
  {
   "cell_type": "markdown",
   "source": [
    "## Weitere Anätze\n",
    "\n",
    "Wir gehen nun auf weitere Evaluationsansätze ein, führen diese jedoch nicht explizit durch, da uns dafür sowohl die technischen Mittel fehlen (Test mit echtem Roboter), als auch der zeitliche Aufwand den Rahmen dieses Praktikums überschreiten würde (Simulation).\n",
    "\n",
    "### Praktischer Test\n",
    "\n",
    "Die effektivste Methode zur Evaluation etwaiger Ergebnisse dürfte ein realer Testlauf mit einem echten Robot sein. Dieser wird entsprechend der Ergebnisse aus der Datenanalyse eingestellt und anschließend in mehreren Testläufen beobachtet, ob durch die veränderten Einstellungen die Spiralsuche beschleunigt und dadurch eine Optimierung erreicht werden kann.\n",
    "Ein Nachteil dieser Methode ist, dass eben ein voll funktionsfähiger Roboter in voll funktionsfähigem Setup benötigt wird. Um zudem die Reproduzierbarkeit zu gewährleisten, ist es notwendig, dass sowohl der Roboter als auch das Setup, welche für die Evaluation verwendet werden gleich sind wie diejenigen mit denen die Daten anfänglich erhoben wurden. Das schließt auch ein, dass insbesondere die gleichen Bauteile an den gleichen Bohrlöchern platziert werden und die Erhebung der Evaluationsdaten auf die selbe Weise erfolgt wie es schon bei den vorherigen Daten.\n",
    "\n",
    "### Simulation\n",
    "Eine weitere Möglichkeit wie die Erkenntnisse überprüft werden können ist das Verhalten eines Roboters mit geeigneter Software zu Simulieren. Je nach Güte der Simulationssoftware können die Ergebnisse nahe an denen eines praktischen Tests liegen. Der Vorteil hier wäre, dass keine teure Hardware und kein aufwendiges Setup benötigt wird."
   ],
   "metadata": {
    "collapsed": false,
    "pycharm": {
     "name": "#%% md\n"
    }
   }
  }
 ],
 "metadata": {
  "kernelspec": {
   "display_name": "Python 3",
   "language": "python",
   "name": "python3"
  },
  "language_info": {
   "codemirror_mode": {
    "name": "ipython",
    "version": 2
   },
   "file_extension": ".py",
   "mimetype": "text/x-python",
   "name": "python",
   "nbconvert_exporter": "python",
   "pygments_lexer": "ipython2",
   "version": "2.7.6"
  }
 },
 "nbformat": 4,
 "nbformat_minor": 2
}