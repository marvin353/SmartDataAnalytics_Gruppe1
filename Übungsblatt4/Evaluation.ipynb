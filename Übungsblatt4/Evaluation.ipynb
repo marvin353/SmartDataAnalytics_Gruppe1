{
 "cells": [
  {
   "cell_type": "markdown",
   "metadata": {
    "collapsed": true,
    "pycharm": {
     "name": "#%% md\n"
    }
   },
   "source": [
    "# Evaluation\n",
    "\n",
    "Nachdem ein voraussichtlich geeignetes Konzept zur Optimierung der Spiralsuche entwickelt wurde, bedarf es anschließend einer ausgiebigen Evaluation um die tatsächliche Funktionsfähigkeit dieses Konzepts zu validieren. Im Folgenden beschreiben wir daher mögliche Ansätze, wie solch eine Evaluation erfolgen und aussehen könnte.\n",
    "\n",
    "## Mathematischer Ansatz\n",
    "Als ersten Evaluationsansatz wollen wir nun auf einen mathematischen Eingehen. Wir werden dazu sowohl die vorhandenen Daten, als auch die Spirale als Matrix betrachten und mithilfe einer stellenweisen Multiplikation und anschlißender Summierung einen Wert für die Dauer der Durchläufe erhalten.\n",
    "\n",
    "### Darstellung der Daten\n",
    "Wir betrachten hier die 2-dimensionalen Daten der relativen Endpunkte der Spiralsuche. Die z-Achse wird vernachlässigt. Die Daten wurden vorab mithilfe eines Rasters in eine Matrix gewandelt. Ein Matrixeintrag entspricht dabei der Summe aller Endpunkte in dem entsprechenden Rasterfeld.\n",
    "\n",
    "![Relative Endpunkte als Matrixdarstellung](Bilder/Raster_Matrix.png)\n",
    "\n",
    "### Darstellung der Spiralesuche\n",
    "Wir stellen die Spiralsuche hier als quadratische Matrix dar, wobei die Werte, bei 1 beginnend, sich vom Mittelpunkt aus Schritt für Schritt erhöhen. Diese Werte repräsentieren die benötigte Zeit um den jeweiligen Punkt zu erreichen, wenn man dem Verlauf der Spirale folgt.\n",
    "\n",
    "![Relative Endpunkte als Matrixdarstellung](Bilder/Matrix_Spirale.png)"
   ]
  },
  {
   "cell_type": "code",
   "execution_count": 1,
   "outputs": [
    {
     "name": "stdout",
     "output_type": "stream",
     "text": [
      "073 074 075 076 077 078 079 080 081 082\n",
      "072 043 044 045 046 047 048 049 050 083\n",
      "071 042 021 022 023 024 025 026 051 084\n",
      "070 041 020 007 008 009 010 027 052 085\n",
      "069 040 019 006 001 002 011 028 053 086\n",
      "068 039 018 005 004 003 012 029 054 087\n",
      "067 038 017 016 015 014 013 030 055 088\n",
      "066 037 036 035 034 033 032 031 056 089\n",
      "065 064 063 062 061 060 059 058 057 090\n",
      "100 099 098 097 096 095 094 093 092 091\n"
     ]
    }
   ],
   "source": [
    "NORTH, S, W, E = (0, -1), (0, 1), (-1, 0), (1, 0) # directions\n",
    "turn_right = {NORTH: E, E: S, S: W, W: NORTH} # old -> new direction\n",
    "\n",
    "def spiral(width):\n",
    "\n",
    "    height = width\n",
    "\n",
    "    if width < 1 or height < 1:\n",
    "        raise ValueError\n",
    "    x, y = width // 2, height // 2 # start near the center\n",
    "\n",
    "    if width%2 == 0:\n",
    "        x = x-1\n",
    "        y = y-1\n",
    "\n",
    "    dx, dy = NORTH # initial direction\n",
    "    matrix = [[None] * width for _ in range(height)]\n",
    "    count = 0\n",
    "    while True:\n",
    "        count += 1\n",
    "        matrix[y][x] = count # visit\n",
    "        # try to turn right\n",
    "        new_dx, new_dy = turn_right[dx,dy]\n",
    "        new_x, new_y = x + new_dx, y + new_dy\n",
    "        if (0 <= new_x < width and 0 <= new_y < height and\n",
    "            matrix[new_y][new_x] is None): # can turn right\n",
    "            x, y = new_x, new_y\n",
    "            dx, dy = new_dx, new_dy\n",
    "        else: # try to move straight\n",
    "            x, y = x + dx, y + dy\n",
    "            if not (0 <= x < width and 0 <= y < height):\n",
    "                return matrix # nowhere to go\n",
    "\n",
    "def print_matrix(matrix):\n",
    "    width = len(str(max(el for row in matrix for el in row if el is not None)))\n",
    "    fmt = \"{:0%dd}\" % width\n",
    "    for row in matrix:\n",
    "        print(\" \".join(\"_\"*width if el is None else fmt.format(el) for el in row))\n",
    "\n",
    "\n",
    "print_matrix(spiral(10))\n",
    "\n",
    "\n",
    "# Punkte:\n",
    "# Euklidische Distanz : x = 0,02561\n",
    "#                       y = -0,05685\n",
    "# Euklidische Distanz ohne Outlier: x = 0.00206\n",
    "#                                   y = -0.056852\n",
    "#\n"
   ],
   "metadata": {
    "collapsed": false,
    "pycharm": {
     "name": "#%%\n"
    }
   }
  },
  {
   "cell_type": "markdown",
   "source": [
    "## Weitere Anätze\n",
    "\n",
    "Wir gehen nun auf weitere Evaluationsansätze ein, führen diese jedoch nicht explizit durch, da uns dafür sowohl die technischen Mittel fehlen (Test mit echtem Roboter), als auch der zeitliche Aufwand den Rahmen dieses Praktikums überschreiten würde (Simulation).\n",
    "\n",
    "### Praktischer Test\n",
    "\n",
    "Die effektivste Methode zur Evaluation etwaiger Ergebnisse dürfte ein realer Testlauf mit einem echten Robot sein. Dieser wird entsprechend der Ergebnisse aus der Datenanalyse eingestellt und anschließend in mehreren Testläufen beobachtet, ob durch die veränderten Einstellungen die Spiralsuche beschleunigt und dadurch eine Optimierung erreicht werden kann.\n",
    "Ein Nachteil dieser Methode ist, dass eben ein voll funktionsfähiger Roboter in voll funktionsfähigem Setup benötigt wird. Um zudem die Reproduzierbarkeit zu gewährleisten, ist es notwendig, dass sowohl der Roboter als auch das Setup, welche für die Evaluation verwendet werden gleich sind wie diejenigen mit denen die Daten anfänglich erhoben wurden. Das schließt auch ein, dass insbesondere die gleichen Bauteile an den gleichen Bohrlöchern platziert werden und die Erhebung der Evaluationsdaten auf die selbe Weise erfolgt wie es schon bei den vorherigen Daten.\n",
    "\n",
    "### Simulation\n",
    "Eine weitere Möglichkeit wie die Erkenntnisse überprüft werden können ist das Verhalten eines Roboters mit geeigneter Software zu Simulieren. Je nach Güte der Simulationssoftware können die Ergebnisse nahe an denen eines praktischen Tests liegen. Der Vorteil hier wäre, dass keine teure Hardware und kein aufwendiges Setup benötigt wird."
   ],
   "metadata": {
    "collapsed": false,
    "pycharm": {
     "name": "#%% md\n"
    }
   }
  }
 ],
 "metadata": {
  "kernelspec": {
   "display_name": "Python 3",
   "language": "python",
   "name": "python3"
  },
  "language_info": {
   "codemirror_mode": {
    "name": "ipython",
    "version": 2
   },
   "file_extension": ".py",
   "mimetype": "text/x-python",
   "name": "python",
   "nbconvert_exporter": "python",
   "pygments_lexer": "ipython2",
   "version": "2.7.6"
  }
 },
 "nbformat": 4,
 "nbformat_minor": 0
}