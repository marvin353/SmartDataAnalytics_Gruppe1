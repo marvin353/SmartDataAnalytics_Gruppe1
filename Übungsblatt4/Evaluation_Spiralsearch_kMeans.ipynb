{
 "cells": [
  {
   "cell_type": "markdown",
   "source": [
    "# Imports"
   ],
   "metadata": {}
  },
  {
   "cell_type": "code",
   "execution_count": 1,
   "source": [
    "## Suppress warnings\r\n",
    "import warnings\r\n",
    "warnings.filterwarnings(\"ignore\")\r\n",
    "import pandas as pd\r\n",
    "import numpy as np\r\n",
    "import seaborn as sns\r\n",
    "import pickle\r\n",
    "\r\n",
    "## Notebook display settings\r\n",
    "from IPython.display import display\r\n",
    "pd.options.display.max_columns = None\r\n",
    "pd.options.display.max_rows = None\r\n",
    "pd.options.display.max_seq_items = None\r\n",
    "\r\n",
    "# Own scripts\r\n",
    "from functions import get_start_end_points, generate_histogram2d, gen_spirals, analyse_spiral\r\n",
    "## Plot style\r\n",
    "%matplotlib inline"
   ],
   "outputs": [],
   "metadata": {}
  },
  {
   "cell_type": "markdown",
   "source": [
    "# Daten"
   ],
   "metadata": {}
  },
  {
   "cell_type": "code",
   "execution_count": 2,
   "source": [
    "with open('data.pickle', 'rb') as handle:\r\n",
    "    data = pickle.load(handle)\r\n",
    "data.head()"
   ],
   "outputs": [
    {
     "output_type": "execute_result",
     "data": {
      "text/plain": [
       "      id  run               timestamp  segment          start_time  \\\n",
       "0  163.0  0.0 2017-05-30 09:21:13.150     11.0 2017-05-30 09:21:05   \n",
       "1  164.0  0.0 2017-05-30 09:21:13.200     11.0 2017-05-30 09:21:05   \n",
       "2  165.0  0.0 2017-05-30 09:21:13.250     11.0 2017-05-30 09:21:05   \n",
       "3  166.0  0.0 2017-05-30 09:21:13.300     11.0 2017-05-30 09:21:05   \n",
       "4  167.0  0.0 2017-05-30 09:21:13.350     11.0 2017-05-30 09:21:05   \n",
       "\n",
       "                 end_time   force_x   force_y   force_z       pos_x  \\\n",
       "0 2017-05-30 09:22:41.607 -0.543045 -2.924596 -7.257000 -257.695704   \n",
       "1 2017-05-30 09:22:41.607 -0.465969 -3.278856 -7.522000 -257.617629   \n",
       "2 2017-05-30 09:22:41.607 -0.317475 -3.435834 -7.705999 -256.626803   \n",
       "3 2017-05-30 09:22:41.607 -0.298383 -3.457754 -7.580999 -254.594017   \n",
       "4 2017-05-30 09:22:41.607 -0.289898 -3.447854 -7.539000 -251.411919   \n",
       "\n",
       "        pos_y       pos_z       rot_x       rot_y       rot_z result_robot  \n",
       "0 -265.980105  240.007357   -0.008832    0.034723  179.958414      Success  \n",
       "1 -265.999590  240.004745   -0.000171    0.019928  179.968161      Success  \n",
       "2 -266.602650  239.791224 -179.993978  179.989304    0.164766      Success  \n",
       "3 -267.926090  239.323013 -179.992478  179.999036    0.577883      Success  \n",
       "4 -269.894497  238.550625 -179.996649  179.988091    1.210269      Success  "
      ],
      "text/html": [
       "<div>\n",
       "<style scoped>\n",
       "    .dataframe tbody tr th:only-of-type {\n",
       "        vertical-align: middle;\n",
       "    }\n",
       "\n",
       "    .dataframe tbody tr th {\n",
       "        vertical-align: top;\n",
       "    }\n",
       "\n",
       "    .dataframe thead th {\n",
       "        text-align: right;\n",
       "    }\n",
       "</style>\n",
       "<table border=\"1\" class=\"dataframe\">\n",
       "  <thead>\n",
       "    <tr style=\"text-align: right;\">\n",
       "      <th></th>\n",
       "      <th>id</th>\n",
       "      <th>run</th>\n",
       "      <th>timestamp</th>\n",
       "      <th>segment</th>\n",
       "      <th>start_time</th>\n",
       "      <th>end_time</th>\n",
       "      <th>force_x</th>\n",
       "      <th>force_y</th>\n",
       "      <th>force_z</th>\n",
       "      <th>pos_x</th>\n",
       "      <th>pos_y</th>\n",
       "      <th>pos_z</th>\n",
       "      <th>rot_x</th>\n",
       "      <th>rot_y</th>\n",
       "      <th>rot_z</th>\n",
       "      <th>result_robot</th>\n",
       "    </tr>\n",
       "  </thead>\n",
       "  <tbody>\n",
       "    <tr>\n",
       "      <th>0</th>\n",
       "      <td>163.0</td>\n",
       "      <td>0.0</td>\n",
       "      <td>2017-05-30 09:21:13.150</td>\n",
       "      <td>11.0</td>\n",
       "      <td>2017-05-30 09:21:05</td>\n",
       "      <td>2017-05-30 09:22:41.607</td>\n",
       "      <td>-0.543045</td>\n",
       "      <td>-2.924596</td>\n",
       "      <td>-7.257000</td>\n",
       "      <td>-257.695704</td>\n",
       "      <td>-265.980105</td>\n",
       "      <td>240.007357</td>\n",
       "      <td>-0.008832</td>\n",
       "      <td>0.034723</td>\n",
       "      <td>179.958414</td>\n",
       "      <td>Success</td>\n",
       "    </tr>\n",
       "    <tr>\n",
       "      <th>1</th>\n",
       "      <td>164.0</td>\n",
       "      <td>0.0</td>\n",
       "      <td>2017-05-30 09:21:13.200</td>\n",
       "      <td>11.0</td>\n",
       "      <td>2017-05-30 09:21:05</td>\n",
       "      <td>2017-05-30 09:22:41.607</td>\n",
       "      <td>-0.465969</td>\n",
       "      <td>-3.278856</td>\n",
       "      <td>-7.522000</td>\n",
       "      <td>-257.617629</td>\n",
       "      <td>-265.999590</td>\n",
       "      <td>240.004745</td>\n",
       "      <td>-0.000171</td>\n",
       "      <td>0.019928</td>\n",
       "      <td>179.968161</td>\n",
       "      <td>Success</td>\n",
       "    </tr>\n",
       "    <tr>\n",
       "      <th>2</th>\n",
       "      <td>165.0</td>\n",
       "      <td>0.0</td>\n",
       "      <td>2017-05-30 09:21:13.250</td>\n",
       "      <td>11.0</td>\n",
       "      <td>2017-05-30 09:21:05</td>\n",
       "      <td>2017-05-30 09:22:41.607</td>\n",
       "      <td>-0.317475</td>\n",
       "      <td>-3.435834</td>\n",
       "      <td>-7.705999</td>\n",
       "      <td>-256.626803</td>\n",
       "      <td>-266.602650</td>\n",
       "      <td>239.791224</td>\n",
       "      <td>-179.993978</td>\n",
       "      <td>179.989304</td>\n",
       "      <td>0.164766</td>\n",
       "      <td>Success</td>\n",
       "    </tr>\n",
       "    <tr>\n",
       "      <th>3</th>\n",
       "      <td>166.0</td>\n",
       "      <td>0.0</td>\n",
       "      <td>2017-05-30 09:21:13.300</td>\n",
       "      <td>11.0</td>\n",
       "      <td>2017-05-30 09:21:05</td>\n",
       "      <td>2017-05-30 09:22:41.607</td>\n",
       "      <td>-0.298383</td>\n",
       "      <td>-3.457754</td>\n",
       "      <td>-7.580999</td>\n",
       "      <td>-254.594017</td>\n",
       "      <td>-267.926090</td>\n",
       "      <td>239.323013</td>\n",
       "      <td>-179.992478</td>\n",
       "      <td>179.999036</td>\n",
       "      <td>0.577883</td>\n",
       "      <td>Success</td>\n",
       "    </tr>\n",
       "    <tr>\n",
       "      <th>4</th>\n",
       "      <td>167.0</td>\n",
       "      <td>0.0</td>\n",
       "      <td>2017-05-30 09:21:13.350</td>\n",
       "      <td>11.0</td>\n",
       "      <td>2017-05-30 09:21:05</td>\n",
       "      <td>2017-05-30 09:22:41.607</td>\n",
       "      <td>-0.289898</td>\n",
       "      <td>-3.447854</td>\n",
       "      <td>-7.539000</td>\n",
       "      <td>-251.411919</td>\n",
       "      <td>-269.894497</td>\n",
       "      <td>238.550625</td>\n",
       "      <td>-179.996649</td>\n",
       "      <td>179.988091</td>\n",
       "      <td>1.210269</td>\n",
       "      <td>Success</td>\n",
       "    </tr>\n",
       "  </tbody>\n",
       "</table>\n",
       "</div>"
      ]
     },
     "metadata": {},
     "execution_count": 2
    }
   ],
   "metadata": {}
  },
  {
   "cell_type": "markdown",
   "source": [
    "# Code"
   ],
   "metadata": {}
  },
  {
   "cell_type": "markdown",
   "source": [
    "## Listen\r\n",
    "\r\n",
    "Start und Endpunkte der Such-Segmente finden"
   ],
   "metadata": {}
  },
  {
   "cell_type": "code",
   "execution_count": 3,
   "source": [
    "start_points, end_points, rel_end_points = get_start_end_points(data)"
   ],
   "outputs": [],
   "metadata": {}
  },
  {
   "cell_type": "code",
   "execution_count": 4,
   "source": [
    "hist, xedge, yedge = generate_histogram2d(rel_end_points)"
   ],
   "outputs": [],
   "metadata": {}
  },
  {
   "cell_type": "markdown",
   "source": [
    "# Spiralen"
   ],
   "metadata": {}
  },
  {
   "cell_type": "code",
   "execution_count": 5,
   "source": [
    "# 1 cluster\r\n",
    "spirals_k1 = gen_spirals(hist, xedge, yedge, 0.028, -0.042)\r\n",
    "\r\n",
    "# 2 cluster\r\n",
    "spirals_k2_c1 = gen_spirals(hist, xedge, yedge, 0.020, -0.066)\r\n",
    "spirals_k2_c2 = gen_spirals(hist, xedge, yedge, 0.092, 0.139)\r\n"
   ],
   "outputs": [],
   "metadata": {}
  },
  {
   "cell_type": "markdown",
   "source": [
    "## Definitionen\r\n",
    "\r\n",
    "Zur besseren Verständlichkeit soll folgendes gelten:\r\n",
    "\r\n",
    "- Norden (N) und Osten (E) sind die jeweiligen positiven Richtungen der x oder y Achse\r\n",
    "- Süden (S) und Westen (W) sind die jeweiligen negativen Richtungen der x oder y Achse\r\n",
    "- Die x Achse wird horizontal dargestellt, die Werte werden von niedrig/negativ (links) nach hoch/positiv (rechts) aufgetragen\r\n",
    "- Die y Achse wird vertikal dargestellt, die Werte werden von niedrig/negativ (unten) nach hoch/positiv (oben) aufgetragen"
   ],
   "metadata": {}
  },
  {
   "cell_type": "markdown",
   "source": [
    "## Analyse"
   ],
   "metadata": {}
  },
  {
   "cell_type": "markdown",
   "source": [
    "### Ein Cluster"
   ],
   "metadata": {}
  },
  {
   "cell_type": "code",
   "execution_count": 6,
   "source": [
    "_ = analyse_spiral(spirals_k1, hist)"
   ],
   "outputs": [
    {
     "output_type": "stream",
     "name": "stdout",
     "text": [
      "direction.S turn.turn_left: 60864.0\n",
      "\n",
      "direction.S turn.turn_right: 59888.0\n",
      "\n",
      "direction.N turn.turn_left: 60536.0\n",
      "\n",
      "direction.N turn.turn_right: 61432.0\n",
      "\n",
      "direction.W turn.turn_left: 60168.0\n",
      "\n",
      "direction.W turn.turn_right: 61112.0\n",
      "\n",
      "direction.E turn.turn_left: 61248.0\n",
      "\n",
      "direction.E turn.turn_right: 60928.0\n",
      "\n",
      "Best result: \n",
      "direction.S turn.turn_right\n",
      "59888.0\n",
      "[[24  9 10 11 12]\n",
      " [23  8  1  2 13]\n",
      " [22  7  0  3 14]\n",
      " [21  6  5  4 15]\n",
      " [20 19 18 17 16]]\n"
     ]
    }
   ],
   "metadata": {}
  },
  {
   "cell_type": "markdown",
   "source": [
    "Mit der relativen Verschiebung des Startpunktes um ~(0.028, -0.042) erhalten wir eine Verbesserung des Scores zwischen den besten Spiralsuchen auf 59888 von 67376 und somit eine prozentuale Verbesserung von ~11%"
   ],
   "metadata": {}
  },
  {
   "cell_type": "markdown",
   "source": [
    "### Zwei Cluster"
   ],
   "metadata": {}
  },
  {
   "cell_type": "code",
   "execution_count": 7,
   "source": [
    "_ = analyse_spiral(spirals_k2_c1, hist)"
   ],
   "outputs": [
    {
     "output_type": "stream",
     "name": "stdout",
     "text": [
      "direction.S turn.turn_left: 65450.0\n",
      "\n",
      "direction.S turn.turn_right: 62728.0\n",
      "\n",
      "direction.N turn.turn_left: 63078.0\n",
      "\n",
      "direction.N turn.turn_right: 65852.0\n",
      "\n",
      "direction.W turn.turn_left: 62564.0\n",
      "\n",
      "direction.W turn.turn_right: 63102.0\n",
      "\n",
      "direction.E turn.turn_left: 65512.0\n",
      "\n",
      "direction.E turn.turn_right: 65546.0\n",
      "\n",
      "Best result: \n",
      "direction.W turn.turn_left\n",
      "62564.0\n",
      "[[16 15 14 13 12]\n",
      " [17  4  3  2 11]\n",
      " [18  5  0  1 10]\n",
      " [19  6  7  8  9]\n",
      " [20 21 22 23 24]]\n"
     ]
    }
   ],
   "metadata": {}
  },
  {
   "cell_type": "code",
   "execution_count": 8,
   "source": [
    "_ = analyse_spiral(spirals_k2_c2, hist)"
   ],
   "outputs": [
    {
     "output_type": "stream",
     "name": "stdout",
     "text": [
      "direction.S turn.turn_left: 239642.0\n",
      "\n",
      "direction.S turn.turn_right: 266074.0\n",
      "\n",
      "direction.N turn.turn_left: 261506.0\n",
      "\n",
      "direction.N turn.turn_right: 243154.0\n",
      "\n",
      "direction.W turn.turn_left: 273326.0\n",
      "\n",
      "direction.W turn.turn_right: 277294.0\n",
      "\n",
      "direction.E turn.turn_left: 250310.0\n",
      "\n",
      "direction.E turn.turn_right: 254966.0\n",
      "\n",
      "Best result: \n",
      "direction.S turn.turn_left\n",
      "239642.0\n",
      "[[20 19 18 17 16]\n",
      " [21  6  5  4 15]\n",
      " [22  7  0  3 14]\n",
      " [23  8  1  2 13]\n",
      " [24  9 10 11 12]]\n"
     ]
    }
   ],
   "metadata": {}
  },
  {
   "cell_type": "markdown",
   "source": [
    "Das Ergebnis des zweiten Zentrums (0.092, 0.139) ergibt einen zu Erwartenden deutlich schlechteren Wert.  \r\n",
    "  \r\n",
    "Mit der relativen Verschiebung des Startpunktes um ~(0.020, -0.066) erhalten wir eine Verbesserung des Scores zwischen den besten Spiralsuchen auf 62564 von 67376 und somit eine prozentuale Verbesserung von ~7%. Dieser Wert ist identisch zum besten Wert der euklidischen Distanz, nutzt aber eine andere Spiralsuche."
   ],
   "metadata": {}
  }
 ],
 "metadata": {
  "orig_nbformat": 4,
  "language_info": {
   "name": "python",
   "version": "3.8.10",
   "mimetype": "text/x-python",
   "codemirror_mode": {
    "name": "ipython",
    "version": 3
   },
   "pygments_lexer": "ipython3",
   "nbconvert_exporter": "python",
   "file_extension": ".py"
  },
  "kernelspec": {
   "name": "python3",
   "display_name": "Python 3.8.10 64-bit ('Praktikum': conda)"
  },
  "interpreter": {
   "hash": "3df6b5a08ce6680954afb1111b7e07bc3d9ae6a026331e3a3ca6f42e242ec9ad"
  }
 },
 "nbformat": 4,
 "nbformat_minor": 2
}