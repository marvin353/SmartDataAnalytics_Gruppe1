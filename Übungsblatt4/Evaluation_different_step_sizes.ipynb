{
 "cells": [
  {
   "cell_type": "markdown",
   "source": [
    "# Importe"
   ],
   "metadata": {}
  },
  {
   "cell_type": "code",
   "execution_count": 1,
   "source": [
    "import pickle\n",
    "import pandas as pd\n",
    "import numpy as np\n",
    "from tqdm import tqdm\n",
    "from joblib import Parallel, delayed\n",
    "\n",
    "# Own scripts\n",
    "from functions import get_start_end_points, generate_histogram2d, gen_spirals, analyse_spiral"
   ],
   "outputs": [],
   "metadata": {}
  },
  {
   "cell_type": "markdown",
   "source": [
    "# Daten"
   ],
   "metadata": {}
  },
  {
   "cell_type": "code",
   "execution_count": 2,
   "source": [
    "with open('data.pickle', 'rb') as handle:\n",
    "    data = pickle.load(handle)\n",
    "data.head()"
   ],
   "outputs": [
    {
     "data": {
      "text/plain": "      id  run               timestamp  segment          start_time  \\\n0  163.0  0.0 2017-05-30 09:21:13.150     11.0 2017-05-30 09:21:05   \n1  164.0  0.0 2017-05-30 09:21:13.200     11.0 2017-05-30 09:21:05   \n2  165.0  0.0 2017-05-30 09:21:13.250     11.0 2017-05-30 09:21:05   \n3  166.0  0.0 2017-05-30 09:21:13.300     11.0 2017-05-30 09:21:05   \n4  167.0  0.0 2017-05-30 09:21:13.350     11.0 2017-05-30 09:21:05   \n\n                 end_time   force_x   force_y   force_z       pos_x  \\\n0 2017-05-30 09:22:41.607 -0.543045 -2.924596 -7.257000 -257.695704   \n1 2017-05-30 09:22:41.607 -0.465969 -3.278856 -7.522000 -257.617629   \n2 2017-05-30 09:22:41.607 -0.317475 -3.435834 -7.705999 -256.626803   \n3 2017-05-30 09:22:41.607 -0.298383 -3.457754 -7.580999 -254.594017   \n4 2017-05-30 09:22:41.607 -0.289898 -3.447854 -7.539000 -251.411919   \n\n        pos_y       pos_z       rot_x       rot_y       rot_z result_robot  \n0 -265.980105  240.007357   -0.008832    0.034723  179.958414      Success  \n1 -265.999590  240.004745   -0.000171    0.019928  179.968161      Success  \n2 -266.602650  239.791224 -179.993978  179.989304    0.164766      Success  \n3 -267.926090  239.323013 -179.992478  179.999036    0.577883      Success  \n4 -269.894497  238.550625 -179.996649  179.988091    1.210269      Success  ",
      "text/html": "<div>\n<style scoped>\n    .dataframe tbody tr th:only-of-type {\n        vertical-align: middle;\n    }\n\n    .dataframe tbody tr th {\n        vertical-align: top;\n    }\n\n    .dataframe thead th {\n        text-align: right;\n    }\n</style>\n<table border=\"1\" class=\"dataframe\">\n  <thead>\n    <tr style=\"text-align: right;\">\n      <th></th>\n      <th>id</th>\n      <th>run</th>\n      <th>timestamp</th>\n      <th>segment</th>\n      <th>start_time</th>\n      <th>end_time</th>\n      <th>force_x</th>\n      <th>force_y</th>\n      <th>force_z</th>\n      <th>pos_x</th>\n      <th>pos_y</th>\n      <th>pos_z</th>\n      <th>rot_x</th>\n      <th>rot_y</th>\n      <th>rot_z</th>\n      <th>result_robot</th>\n    </tr>\n  </thead>\n  <tbody>\n    <tr>\n      <th>0</th>\n      <td>163.0</td>\n      <td>0.0</td>\n      <td>2017-05-30 09:21:13.150</td>\n      <td>11.0</td>\n      <td>2017-05-30 09:21:05</td>\n      <td>2017-05-30 09:22:41.607</td>\n      <td>-0.543045</td>\n      <td>-2.924596</td>\n      <td>-7.257000</td>\n      <td>-257.695704</td>\n      <td>-265.980105</td>\n      <td>240.007357</td>\n      <td>-0.008832</td>\n      <td>0.034723</td>\n      <td>179.958414</td>\n      <td>Success</td>\n    </tr>\n    <tr>\n      <th>1</th>\n      <td>164.0</td>\n      <td>0.0</td>\n      <td>2017-05-30 09:21:13.200</td>\n      <td>11.0</td>\n      <td>2017-05-30 09:21:05</td>\n      <td>2017-05-30 09:22:41.607</td>\n      <td>-0.465969</td>\n      <td>-3.278856</td>\n      <td>-7.522000</td>\n      <td>-257.617629</td>\n      <td>-265.999590</td>\n      <td>240.004745</td>\n      <td>-0.000171</td>\n      <td>0.019928</td>\n      <td>179.968161</td>\n      <td>Success</td>\n    </tr>\n    <tr>\n      <th>2</th>\n      <td>165.0</td>\n      <td>0.0</td>\n      <td>2017-05-30 09:21:13.250</td>\n      <td>11.0</td>\n      <td>2017-05-30 09:21:05</td>\n      <td>2017-05-30 09:22:41.607</td>\n      <td>-0.317475</td>\n      <td>-3.435834</td>\n      <td>-7.705999</td>\n      <td>-256.626803</td>\n      <td>-266.602650</td>\n      <td>239.791224</td>\n      <td>-179.993978</td>\n      <td>179.989304</td>\n      <td>0.164766</td>\n      <td>Success</td>\n    </tr>\n    <tr>\n      <th>3</th>\n      <td>166.0</td>\n      <td>0.0</td>\n      <td>2017-05-30 09:21:13.300</td>\n      <td>11.0</td>\n      <td>2017-05-30 09:21:05</td>\n      <td>2017-05-30 09:22:41.607</td>\n      <td>-0.298383</td>\n      <td>-3.457754</td>\n      <td>-7.580999</td>\n      <td>-254.594017</td>\n      <td>-267.926090</td>\n      <td>239.323013</td>\n      <td>-179.992478</td>\n      <td>179.999036</td>\n      <td>0.577883</td>\n      <td>Success</td>\n    </tr>\n    <tr>\n      <th>4</th>\n      <td>167.0</td>\n      <td>0.0</td>\n      <td>2017-05-30 09:21:13.350</td>\n      <td>11.0</td>\n      <td>2017-05-30 09:21:05</td>\n      <td>2017-05-30 09:22:41.607</td>\n      <td>-0.289898</td>\n      <td>-3.447854</td>\n      <td>-7.539000</td>\n      <td>-251.411919</td>\n      <td>-269.894497</td>\n      <td>238.550625</td>\n      <td>-179.996649</td>\n      <td>179.988091</td>\n      <td>1.210269</td>\n      <td>Success</td>\n    </tr>\n  </tbody>\n</table>\n</div>"
     },
     "execution_count": 29,
     "metadata": {},
     "output_type": "execute_result"
    }
   ],
   "metadata": {}
  },
  {
   "cell_type": "code",
   "execution_count": 3,
   "source": [
    "start_points, end_points, rel_end_points = get_start_end_points(data)"
   ],
   "outputs": [],
   "metadata": {}
  },
  {
   "cell_type": "markdown",
   "source": [
    "## Relative Startpunkt-Verschiebungen"
   ],
   "metadata": {}
  },
  {
   "cell_type": "code",
   "execution_count": 4,
   "source": [
    "start_original = (0.,0.)\n",
    "\n",
    "start_euclidean = (0.025611000000001185, -0.05685299999999903)\n",
    "start_euclidean_no = (0.020611000000001184, -0.05685299999999903)\n",
    "\n",
    "start_raster5 = (-0.01861169999999923, -0.1066871999999762)\n",
    "start_raster10 = (0.006517850000000713, -0.07558529999997746)\n",
    "start_raster15 = (0.014894366666667352, -0.06521799999997788)\n",
    "start_raster20 = (0.019082625000000686, -0.028932449999979327)\n",
    "\n",
    "start_kMeans_c1 = (0.02842986, -0.0424123)\n",
    "start_kMeans_c2_s1 = (0.01997886, -0.0663818)\n",
    "start_kMeans_c2_s2 = (0.09221749,  0.13850815)\n",
    "\n",
    "\n",
    "starts = [start_original, start_euclidean, start_euclidean_no, start_raster5, start_raster10, start_raster15, start_raster20, start_kMeans_c1, start_kMeans_c2_s1, start_kMeans_c2_s2]\n",
    "names = [\"Original\", \"Euclidean\", \"Euclidean - no outlier\", \"Raster 5\", \"Raster 10\", \"Raster 15\", \"Raster 20\", \"1 Cluster\", \"2 Cluster Centrum 1\", \"2 Cluster Centrum 1\"]\n",
    "names_dict = dict(zip(range(len(names)), names))\n",
    "print(names_dict)"
   ],
   "outputs": [
    {
     "name": "stdout",
     "output_type": "stream",
     "text": [
      "{0: 'Original', 1: 'Euclidean', 2: 'Euclidean - no outlier', 3: 'Raster 5', 4: 'Raster 10', 5: 'Raster 15', 6: 'Raster 20', 7: '1 Cluster', 8: '2 Cluster Centrum 1', 9: '2 Cluster Centrum 1'}\n"
     ]
    }
   ],
   "metadata": {}
  },
  {
   "cell_type": "markdown",
   "source": [
    "## Schrittgrößen"
   ],
   "metadata": {}
  },
  {
   "cell_type": "code",
   "execution_count": 5,
   "source": [
    "step_sizes = [0.5, 0.2, 0.1, 0.05, 0.02, 0.01, 0.005, 0.002, 0.001] #, 0.0005, 0.0002, 0.0001\r\n",
    "step_sizes.reverse()"
   ],
   "outputs": [],
   "metadata": {}
  },
  {
   "cell_type": "markdown",
   "source": [
    "## Funktionen"
   ],
   "metadata": {}
  },
  {
   "cell_type": "code",
   "execution_count": 6,
   "source": [
    "def spiral_eval(hist, xedge, yedge, i):\r\n",
    "    spirals = gen_spirals(hist, xedge, yedge, starts[i][0], starts[i][1])\r\n",
    "    return (analyse_spiral(spirals, hist, silent = True)[0], int(i))"
   ],
   "outputs": [],
   "metadata": {}
  },
  {
   "cell_type": "code",
   "execution_count": 7,
   "source": [
    "def calculate_scores_for_step_size(step_size:float):\r\n",
    "    hist, xedge, yedge = generate_histogram2d(rel_end_points, step_size = step_size)\r\n",
    "\r\n",
    "    evaluation = Parallel(n_jobs=-1)(delayed(spiral_eval)(hist, xedge, yedge, i) for i in range(len(starts)))\r\n",
    "    #for i in reversed(range(len(starts))):\r\n",
    "    #    evaluation.append(spiral_eval(hist, xedge, yedge, i))\r\n",
    "    df = pd.DataFrame(evaluation, columns=[step_size, \"index\"])\r\n",
    "    df.set_index(\"index\", inplace=True)\r\n",
    "    df.sort_index(inplace=True)\r\n",
    "    df.rename(index=names_dict, inplace=True)\r\n",
    "    return df"
   ],
   "outputs": [],
   "metadata": {}
  },
  {
   "cell_type": "code",
   "execution_count": 8,
   "source": [
    "def calculate_scores():\r\n",
    "    df = pd.DataFrame(index=names)\r\n",
    "    for s in tqdm(step_sizes):\r\n",
    "        df = pd.concat([df, calculate_scores_for_step_size(s)], axis=1)\r\n",
    "    return df\r\n"
   ],
   "outputs": [],
   "metadata": {}
  },
  {
   "cell_type": "code",
   "execution_count": 9,
   "source": [
    "calculate_scores()"
   ],
   "outputs": [
    {
     "output_type": "stream",
     "name": "stderr",
     "text": [
      "100%|██████████| 9/9 [00:40<00:00,  4.46s/it]\n"
     ]
    },
    {
     "output_type": "execute_result",
     "data": {
      "text/plain": [
       "                              0.001       0.002      0.005     0.010  \\\n",
       "Original                 28513240.0   7106937.0  1123784.0  277321.0   \n",
       "Euclidean                25208758.0   6270515.0   994188.0  253615.0   \n",
       "Euclidean - no outlier   25186242.0   6267313.0   994076.0  252845.0   \n",
       "Raster 5                 37178860.0   9167165.0  1454364.0  371825.0   \n",
       "Raster 10                28102766.0   7024427.0  1111228.0  281835.0   \n",
       "Raster 15                26186054.0   6573711.0  1038832.0  266637.0   \n",
       "Raster 20                24153976.0   6031807.0   959182.0  240423.0   \n",
       "1 Cluster                24186720.0   6043373.0   961866.0  241023.0   \n",
       "2 Cluster Centrum 1      26226962.0   6546555.0  1036064.0  264907.0   \n",
       "2 Cluster Centrum 1     101624478.0  25107235.0  4037914.0  992397.0   \n",
       "\n",
       "                           0.020    0.050   0.100   0.200  0.500  \n",
       "Original                 67376.0  10054.0  2532.0   657.0   25.0  \n",
       "Euclidean                62564.0   9974.0  2862.0   657.0   25.0  \n",
       "Euclidean - no outlier   62564.0   9938.0  2862.0   657.0   25.0  \n",
       "Raster 5                 84796.0  12174.0  2862.0  1199.0   25.0  \n",
       "Raster 10                70308.0  12174.0  2862.0   657.0   25.0  \n",
       "Raster 15                62564.0   9938.0  2862.0   657.0   25.0  \n",
       "Raster 20                60008.0   9938.0  2532.0   657.0   25.0  \n",
       "1 Cluster                59888.0   9974.0  2532.0   657.0   25.0  \n",
       "2 Cluster Centrum 1      62564.0   9938.0  2862.0   657.0   25.0  \n",
       "2 Cluster Centrum 1     239642.0  37552.0  5146.0  1771.0   25.0  "
      ],
      "text/html": [
       "<div>\n",
       "<style scoped>\n",
       "    .dataframe tbody tr th:only-of-type {\n",
       "        vertical-align: middle;\n",
       "    }\n",
       "\n",
       "    .dataframe tbody tr th {\n",
       "        vertical-align: top;\n",
       "    }\n",
       "\n",
       "    .dataframe thead th {\n",
       "        text-align: right;\n",
       "    }\n",
       "</style>\n",
       "<table border=\"1\" class=\"dataframe\">\n",
       "  <thead>\n",
       "    <tr style=\"text-align: right;\">\n",
       "      <th></th>\n",
       "      <th>0.001</th>\n",
       "      <th>0.002</th>\n",
       "      <th>0.005</th>\n",
       "      <th>0.010</th>\n",
       "      <th>0.020</th>\n",
       "      <th>0.050</th>\n",
       "      <th>0.100</th>\n",
       "      <th>0.200</th>\n",
       "      <th>0.500</th>\n",
       "    </tr>\n",
       "  </thead>\n",
       "  <tbody>\n",
       "    <tr>\n",
       "      <th>Original</th>\n",
       "      <td>28513240.0</td>\n",
       "      <td>7106937.0</td>\n",
       "      <td>1123784.0</td>\n",
       "      <td>277321.0</td>\n",
       "      <td>67376.0</td>\n",
       "      <td>10054.0</td>\n",
       "      <td>2532.0</td>\n",
       "      <td>657.0</td>\n",
       "      <td>25.0</td>\n",
       "    </tr>\n",
       "    <tr>\n",
       "      <th>Euclidean</th>\n",
       "      <td>25208758.0</td>\n",
       "      <td>6270515.0</td>\n",
       "      <td>994188.0</td>\n",
       "      <td>253615.0</td>\n",
       "      <td>62564.0</td>\n",
       "      <td>9974.0</td>\n",
       "      <td>2862.0</td>\n",
       "      <td>657.0</td>\n",
       "      <td>25.0</td>\n",
       "    </tr>\n",
       "    <tr>\n",
       "      <th>Euclidean - no outlier</th>\n",
       "      <td>25186242.0</td>\n",
       "      <td>6267313.0</td>\n",
       "      <td>994076.0</td>\n",
       "      <td>252845.0</td>\n",
       "      <td>62564.0</td>\n",
       "      <td>9938.0</td>\n",
       "      <td>2862.0</td>\n",
       "      <td>657.0</td>\n",
       "      <td>25.0</td>\n",
       "    </tr>\n",
       "    <tr>\n",
       "      <th>Raster 5</th>\n",
       "      <td>37178860.0</td>\n",
       "      <td>9167165.0</td>\n",
       "      <td>1454364.0</td>\n",
       "      <td>371825.0</td>\n",
       "      <td>84796.0</td>\n",
       "      <td>12174.0</td>\n",
       "      <td>2862.0</td>\n",
       "      <td>1199.0</td>\n",
       "      <td>25.0</td>\n",
       "    </tr>\n",
       "    <tr>\n",
       "      <th>Raster 10</th>\n",
       "      <td>28102766.0</td>\n",
       "      <td>7024427.0</td>\n",
       "      <td>1111228.0</td>\n",
       "      <td>281835.0</td>\n",
       "      <td>70308.0</td>\n",
       "      <td>12174.0</td>\n",
       "      <td>2862.0</td>\n",
       "      <td>657.0</td>\n",
       "      <td>25.0</td>\n",
       "    </tr>\n",
       "    <tr>\n",
       "      <th>Raster 15</th>\n",
       "      <td>26186054.0</td>\n",
       "      <td>6573711.0</td>\n",
       "      <td>1038832.0</td>\n",
       "      <td>266637.0</td>\n",
       "      <td>62564.0</td>\n",
       "      <td>9938.0</td>\n",
       "      <td>2862.0</td>\n",
       "      <td>657.0</td>\n",
       "      <td>25.0</td>\n",
       "    </tr>\n",
       "    <tr>\n",
       "      <th>Raster 20</th>\n",
       "      <td>24153976.0</td>\n",
       "      <td>6031807.0</td>\n",
       "      <td>959182.0</td>\n",
       "      <td>240423.0</td>\n",
       "      <td>60008.0</td>\n",
       "      <td>9938.0</td>\n",
       "      <td>2532.0</td>\n",
       "      <td>657.0</td>\n",
       "      <td>25.0</td>\n",
       "    </tr>\n",
       "    <tr>\n",
       "      <th>1 Cluster</th>\n",
       "      <td>24186720.0</td>\n",
       "      <td>6043373.0</td>\n",
       "      <td>961866.0</td>\n",
       "      <td>241023.0</td>\n",
       "      <td>59888.0</td>\n",
       "      <td>9974.0</td>\n",
       "      <td>2532.0</td>\n",
       "      <td>657.0</td>\n",
       "      <td>25.0</td>\n",
       "    </tr>\n",
       "    <tr>\n",
       "      <th>2 Cluster Centrum 1</th>\n",
       "      <td>26226962.0</td>\n",
       "      <td>6546555.0</td>\n",
       "      <td>1036064.0</td>\n",
       "      <td>264907.0</td>\n",
       "      <td>62564.0</td>\n",
       "      <td>9938.0</td>\n",
       "      <td>2862.0</td>\n",
       "      <td>657.0</td>\n",
       "      <td>25.0</td>\n",
       "    </tr>\n",
       "    <tr>\n",
       "      <th>2 Cluster Centrum 1</th>\n",
       "      <td>101624478.0</td>\n",
       "      <td>25107235.0</td>\n",
       "      <td>4037914.0</td>\n",
       "      <td>992397.0</td>\n",
       "      <td>239642.0</td>\n",
       "      <td>37552.0</td>\n",
       "      <td>5146.0</td>\n",
       "      <td>1771.0</td>\n",
       "      <td>25.0</td>\n",
       "    </tr>\n",
       "  </tbody>\n",
       "</table>\n",
       "</div>"
      ]
     },
     "metadata": {},
     "execution_count": 9
    }
   ],
   "metadata": {}
  }
 ],
 "metadata": {
  "orig_nbformat": 4,
  "language_info": {
   "name": "python",
   "version": "3.8.10",
   "mimetype": "text/x-python",
   "codemirror_mode": {
    "name": "ipython",
    "version": 3
   },
   "pygments_lexer": "ipython3",
   "nbconvert_exporter": "python",
   "file_extension": ".py"
  },
  "kernelspec": {
   "name": "python3",
   "display_name": "Python 3.8.10 64-bit ('Praktikum': conda)"
  },
  "interpreter": {
   "hash": "3df6b5a08ce6680954afb1111b7e07bc3d9ae6a026331e3a3ca6f42e242ec9ad"
  }
 },
 "nbformat": 4,
 "nbformat_minor": 2
}