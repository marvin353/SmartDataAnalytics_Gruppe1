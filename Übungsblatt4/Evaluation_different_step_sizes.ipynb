{
 "cells": [
  {
   "cell_type": "markdown",
   "source": [
    "# Importe"
   ],
   "metadata": {}
  },
  {
   "cell_type": "code",
   "execution_count": 5,
   "source": [
    "import pickle\r\n",
    "import pandas as pd\r\n",
    "import numpy as np\r\n",
    "from tqdm import tqdm\r\n",
    "from joblib import Parallel, delayed\r\n",
    "\r\n",
    "# Own scripts\r\n",
    "from functions import get_start_end_points, generate_histogram2d, gen_spirals, analyse_spiral"
   ],
   "outputs": [],
   "metadata": {}
  },
  {
   "cell_type": "markdown",
   "source": [
    "# Daten"
   ],
   "metadata": {}
  },
  {
   "cell_type": "code",
   "execution_count": 6,
   "source": [
    "with open('data.pickle', 'rb') as handle:\r\n",
    "    data = pickle.load(handle)\r\n",
    "data.head()"
   ],
   "outputs": [
    {
     "output_type": "execute_result",
     "data": {
      "text/plain": [
       "      id  run               timestamp  segment          start_time  \\\n",
       "0  163.0  0.0 2017-05-30 09:21:13.150     11.0 2017-05-30 09:21:05   \n",
       "1  164.0  0.0 2017-05-30 09:21:13.200     11.0 2017-05-30 09:21:05   \n",
       "2  165.0  0.0 2017-05-30 09:21:13.250     11.0 2017-05-30 09:21:05   \n",
       "3  166.0  0.0 2017-05-30 09:21:13.300     11.0 2017-05-30 09:21:05   \n",
       "4  167.0  0.0 2017-05-30 09:21:13.350     11.0 2017-05-30 09:21:05   \n",
       "\n",
       "                 end_time   force_x   force_y   force_z       pos_x  \\\n",
       "0 2017-05-30 09:22:41.607 -0.543045 -2.924596 -7.257000 -257.695704   \n",
       "1 2017-05-30 09:22:41.607 -0.465969 -3.278856 -7.522000 -257.617629   \n",
       "2 2017-05-30 09:22:41.607 -0.317475 -3.435834 -7.705999 -256.626803   \n",
       "3 2017-05-30 09:22:41.607 -0.298383 -3.457754 -7.580999 -254.594017   \n",
       "4 2017-05-30 09:22:41.607 -0.289898 -3.447854 -7.539000 -251.411919   \n",
       "\n",
       "        pos_y       pos_z       rot_x       rot_y       rot_z result_robot  \n",
       "0 -265.980105  240.007357   -0.008832    0.034723  179.958414      Success  \n",
       "1 -265.999590  240.004745   -0.000171    0.019928  179.968161      Success  \n",
       "2 -266.602650  239.791224 -179.993978  179.989304    0.164766      Success  \n",
       "3 -267.926090  239.323013 -179.992478  179.999036    0.577883      Success  \n",
       "4 -269.894497  238.550625 -179.996649  179.988091    1.210269      Success  "
      ],
      "text/html": [
       "<div>\n",
       "<style scoped>\n",
       "    .dataframe tbody tr th:only-of-type {\n",
       "        vertical-align: middle;\n",
       "    }\n",
       "\n",
       "    .dataframe tbody tr th {\n",
       "        vertical-align: top;\n",
       "    }\n",
       "\n",
       "    .dataframe thead th {\n",
       "        text-align: right;\n",
       "    }\n",
       "</style>\n",
       "<table border=\"1\" class=\"dataframe\">\n",
       "  <thead>\n",
       "    <tr style=\"text-align: right;\">\n",
       "      <th></th>\n",
       "      <th>id</th>\n",
       "      <th>run</th>\n",
       "      <th>timestamp</th>\n",
       "      <th>segment</th>\n",
       "      <th>start_time</th>\n",
       "      <th>end_time</th>\n",
       "      <th>force_x</th>\n",
       "      <th>force_y</th>\n",
       "      <th>force_z</th>\n",
       "      <th>pos_x</th>\n",
       "      <th>pos_y</th>\n",
       "      <th>pos_z</th>\n",
       "      <th>rot_x</th>\n",
       "      <th>rot_y</th>\n",
       "      <th>rot_z</th>\n",
       "      <th>result_robot</th>\n",
       "    </tr>\n",
       "  </thead>\n",
       "  <tbody>\n",
       "    <tr>\n",
       "      <th>0</th>\n",
       "      <td>163.0</td>\n",
       "      <td>0.0</td>\n",
       "      <td>2017-05-30 09:21:13.150</td>\n",
       "      <td>11.0</td>\n",
       "      <td>2017-05-30 09:21:05</td>\n",
       "      <td>2017-05-30 09:22:41.607</td>\n",
       "      <td>-0.543045</td>\n",
       "      <td>-2.924596</td>\n",
       "      <td>-7.257000</td>\n",
       "      <td>-257.695704</td>\n",
       "      <td>-265.980105</td>\n",
       "      <td>240.007357</td>\n",
       "      <td>-0.008832</td>\n",
       "      <td>0.034723</td>\n",
       "      <td>179.958414</td>\n",
       "      <td>Success</td>\n",
       "    </tr>\n",
       "    <tr>\n",
       "      <th>1</th>\n",
       "      <td>164.0</td>\n",
       "      <td>0.0</td>\n",
       "      <td>2017-05-30 09:21:13.200</td>\n",
       "      <td>11.0</td>\n",
       "      <td>2017-05-30 09:21:05</td>\n",
       "      <td>2017-05-30 09:22:41.607</td>\n",
       "      <td>-0.465969</td>\n",
       "      <td>-3.278856</td>\n",
       "      <td>-7.522000</td>\n",
       "      <td>-257.617629</td>\n",
       "      <td>-265.999590</td>\n",
       "      <td>240.004745</td>\n",
       "      <td>-0.000171</td>\n",
       "      <td>0.019928</td>\n",
       "      <td>179.968161</td>\n",
       "      <td>Success</td>\n",
       "    </tr>\n",
       "    <tr>\n",
       "      <th>2</th>\n",
       "      <td>165.0</td>\n",
       "      <td>0.0</td>\n",
       "      <td>2017-05-30 09:21:13.250</td>\n",
       "      <td>11.0</td>\n",
       "      <td>2017-05-30 09:21:05</td>\n",
       "      <td>2017-05-30 09:22:41.607</td>\n",
       "      <td>-0.317475</td>\n",
       "      <td>-3.435834</td>\n",
       "      <td>-7.705999</td>\n",
       "      <td>-256.626803</td>\n",
       "      <td>-266.602650</td>\n",
       "      <td>239.791224</td>\n",
       "      <td>-179.993978</td>\n",
       "      <td>179.989304</td>\n",
       "      <td>0.164766</td>\n",
       "      <td>Success</td>\n",
       "    </tr>\n",
       "    <tr>\n",
       "      <th>3</th>\n",
       "      <td>166.0</td>\n",
       "      <td>0.0</td>\n",
       "      <td>2017-05-30 09:21:13.300</td>\n",
       "      <td>11.0</td>\n",
       "      <td>2017-05-30 09:21:05</td>\n",
       "      <td>2017-05-30 09:22:41.607</td>\n",
       "      <td>-0.298383</td>\n",
       "      <td>-3.457754</td>\n",
       "      <td>-7.580999</td>\n",
       "      <td>-254.594017</td>\n",
       "      <td>-267.926090</td>\n",
       "      <td>239.323013</td>\n",
       "      <td>-179.992478</td>\n",
       "      <td>179.999036</td>\n",
       "      <td>0.577883</td>\n",
       "      <td>Success</td>\n",
       "    </tr>\n",
       "    <tr>\n",
       "      <th>4</th>\n",
       "      <td>167.0</td>\n",
       "      <td>0.0</td>\n",
       "      <td>2017-05-30 09:21:13.350</td>\n",
       "      <td>11.0</td>\n",
       "      <td>2017-05-30 09:21:05</td>\n",
       "      <td>2017-05-30 09:22:41.607</td>\n",
       "      <td>-0.289898</td>\n",
       "      <td>-3.447854</td>\n",
       "      <td>-7.539000</td>\n",
       "      <td>-251.411919</td>\n",
       "      <td>-269.894497</td>\n",
       "      <td>238.550625</td>\n",
       "      <td>-179.996649</td>\n",
       "      <td>179.988091</td>\n",
       "      <td>1.210269</td>\n",
       "      <td>Success</td>\n",
       "    </tr>\n",
       "  </tbody>\n",
       "</table>\n",
       "</div>"
      ]
     },
     "metadata": {},
     "execution_count": 6
    }
   ],
   "metadata": {}
  },
  {
   "cell_type": "code",
   "execution_count": 7,
   "source": [
    "start_points, end_points, rel_end_points = get_start_end_points(data)"
   ],
   "outputs": [],
   "metadata": {}
  },
  {
   "cell_type": "markdown",
   "source": [
    "## Relative Startpunkt-Verschiebungen"
   ],
   "metadata": {}
  },
  {
   "cell_type": "code",
   "execution_count": 38,
   "source": [
    "start_original = (0.,0.)\r\n",
    "\r\n",
    "start_euclidean = (0.025611000000001185, -0.05685299999999903)\r\n",
    "start_euclidean_no = (0.020611000000001184, -0.05685299999999903)\r\n",
    "\r\n",
    "start_raster5 = (-0.01861169999999923, -0.1066871999999762)\r\n",
    "start_raster10 = (0.006517850000000713, -0.07558529999997746)\r\n",
    "start_raster15 = (0.014894366666667352, -0.06521799999997788)\r\n",
    "start_raster20 = (0.019082625000000686, -0.028932449999979327)\r\n",
    "\r\n",
    "start_kMeans_c1 = (0.02842986, -0.0424123)\r\n",
    "start_kMeans_c2_s1 = (0.01997886, -0.0663818)\r\n",
    "start_kMeans_c2_s2 = (0.09221749,  0.13850815)\r\n",
    "\r\n",
    "\r\n",
    "starts = [start_original, start_euclidean, start_euclidean_no, start_raster5, start_raster10, start_raster15, start_raster20, start_kMeans_c1, start_kMeans_c2_s1, start_kMeans_c2_s2]\r\n",
    "names = [\"Original\", \"Euclidean\", \"Euclidean - no outlier\", \"Raster 5\", \"Raster 10\", \"Raster 15\", \"Raster 20\", \"1 Cluster\", \"2 Cluster Centrum 1\", \"2 Cluster Centrum 1\"]\r\n",
    "names_dict = dict(zip(range(len(names)), names))\r\n",
    "print(names_dict)"
   ],
   "outputs": [
    {
     "output_type": "stream",
     "name": "stdout",
     "text": [
      "{0: 'Original', 1: 'Euclidean', 2: 'Euclidean - no outlier', 3: 'Raster 5', 4: 'Raster 10', 5: 'Raster 15', 6: 'Raster 20', 7: '1 Cluster', 8: '2 Cluster Centrum 1', 9: '2 Cluster Centrum 1'}\n"
     ]
    }
   ],
   "metadata": {}
  },
  {
   "cell_type": "markdown",
   "source": [
    "## Schrittgrößen"
   ],
   "metadata": {}
  },
  {
   "cell_type": "code",
   "execution_count": 9,
   "source": [
    "step_sizes = [0.5, 0.2, 0.1, 0.05, 0.02, 0.01, 0.005, 0.002, 0.001, 0.0005, 0.0002, 0.0001]\r\n",
    "step_sizes.reverse()"
   ],
   "outputs": [],
   "metadata": {}
  },
  {
   "cell_type": "markdown",
   "source": [
    "## Funktionen"
   ],
   "metadata": {}
  },
  {
   "cell_type": "code",
   "execution_count": 27,
   "source": [
    "def spiral_eval(hist, xedge, yedge, i):\r\n",
    "    spirals = gen_spirals(hist, xedge, yedge, starts[i][0], starts[i][1])\r\n",
    "    return (analyse_spiral(spirals, hist, silent = True)[0], int(i))"
   ],
   "outputs": [],
   "metadata": {}
  },
  {
   "cell_type": "code",
   "execution_count": 44,
   "source": [
    "def calculate_scores_for_step_size(step_size:float):\r\n",
    "    hist, xedge, yedge = generate_histogram2d(rel_end_points, step_size = step_size)\r\n",
    "\r\n",
    "    evaluation = Parallel(n_jobs=-1)(delayed(spiral_eval)(hist, xedge, yedge, i) for i in range(len(starts)))\r\n",
    "    #for i in reversed(range(len(starts))):\r\n",
    "    #    evaluation.append(spiral_eval(hist, xedge, yedge, i))\r\n",
    "    df = pd.DataFrame(evaluation, columns=[step_size, \"index\"])\r\n",
    "    df.set_index(\"index\", inplace=True)\r\n",
    "    df.sort_index(inplace=True)\r\n",
    "    df.rename(index=names_dict, inplace=True)\r\n",
    "    return df"
   ],
   "outputs": [],
   "metadata": {}
  },
  {
   "cell_type": "code",
   "execution_count": 7,
   "source": [
    "def calculate_scores():\r\n",
    "    df = pd.DataFrame(index=names)\r\n",
    "    for s in tqdm(step_sizes):\r\n",
    "        df = pd.concat([df, calculate_scores_for_step_size(s)], axis=1)\r\n",
    "    return df\r\n"
   ],
   "outputs": [],
   "metadata": {}
  },
  {
   "cell_type": "code",
   "execution_count": 8,
   "source": [
    "calculate_scores()"
   ],
   "outputs": [],
   "metadata": {}
  }
 ],
 "metadata": {
  "orig_nbformat": 4,
  "language_info": {
   "name": "python",
   "version": "3.8.10",
   "mimetype": "text/x-python",
   "codemirror_mode": {
    "name": "ipython",
    "version": 3
   },
   "pygments_lexer": "ipython3",
   "nbconvert_exporter": "python",
   "file_extension": ".py"
  },
  "kernelspec": {
   "name": "python3",
   "display_name": "Python 3.8.10 64-bit ('Praktikum': conda)"
  },
  "interpreter": {
   "hash": "3df6b5a08ce6680954afb1111b7e07bc3d9ae6a026331e3a3ca6f42e242ec9ad"
  }
 },
 "nbformat": 4,
 "nbformat_minor": 2
}